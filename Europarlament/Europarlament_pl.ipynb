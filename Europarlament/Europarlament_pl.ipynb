{
 "cells": [
  {
   "cell_type": "markdown",
   "metadata": {
    "editable": true,
    "slideshow": {
     "slide_type": "slide"
    },
    "tags": []
   },
   "source": [
    "## O Danych\n",
    "\n",
    "Zbiór danych zawiera informacje o polskich wyborach do Europarlamentu.\n",
    "\n",
    "Każdy wiersz w zbiorze danych reprezentuje daną partię polityczną\n",
    "\n",
    "\n",
    "Kolumny:\n",
    "* **ROK** - Rok wyborów\n",
    "* **PARTIA** - Partia\n",
    "* **SKROT** - Skrót partii w/w\n",
    "* **POGLAGY** - Poglądy partii według kategorii: Prawica, Centroprawica, Centrum, Centrolewica, Lewica\n",
    "* **GLOSY** - Ile procent głosów otrzymała dana partia\n",
    "* **MANDATY** - Ilość mandatów w Europarlamencie "
   ]
  },
  {
   "cell_type": "code",
   "execution_count": 85,
   "metadata": {
    "editable": true,
    "jupyter": {
     "source_hidden": true
    },
    "slideshow": {
     "slide_type": "skip"
    },
    "tags": []
   },
   "outputs": [],
   "source": [
    "import pandas as pd\n",
    "import matplotlib.pyplot as plt\n",
    "import seaborn as sns\n",
    "import numpy as np\n",
    "import plotly.graph_objects as go\n",
    "from sklearn.preprocessing import LabelEncoder\n",
    "from sklearn.tree import DecisionTreeClassifier\n",
    "from sklearn.model_selection import train_test_split"
   ]
  },
  {
   "cell_type": "markdown",
   "metadata": {
    "editable": true,
    "slideshow": {
     "slide_type": "slide"
    },
    "tags": []
   },
   "source": [
    "# Ogólny przegląd danych"
   ]
  },
  {
   "cell_type": "code",
   "execution_count": 86,
   "metadata": {
    "editable": true,
    "jupyter": {
     "source_hidden": true
    },
    "slideshow": {
     "slide_type": "skip"
    },
    "tags": []
   },
   "outputs": [
    {
     "data": {
      "text/html": [
       "<div>\n",
       "<style scoped>\n",
       "    .dataframe tbody tr th:only-of-type {\n",
       "        vertical-align: middle;\n",
       "    }\n",
       "\n",
       "    .dataframe tbody tr th {\n",
       "        vertical-align: top;\n",
       "    }\n",
       "\n",
       "    .dataframe thead th {\n",
       "        text-align: right;\n",
       "    }\n",
       "</style>\n",
       "<table border=\"1\" class=\"dataframe\">\n",
       "  <thead>\n",
       "    <tr style=\"text-align: right;\">\n",
       "      <th></th>\n",
       "      <th>ROK</th>\n",
       "      <th>PARTIA</th>\n",
       "      <th>SKROT</th>\n",
       "      <th>POGLADY</th>\n",
       "      <th>GLOSY</th>\n",
       "      <th>MANDATY</th>\n",
       "    </tr>\n",
       "  </thead>\n",
       "  <tbody>\n",
       "    <tr>\n",
       "      <th>0</th>\n",
       "      <td>2004</td>\n",
       "      <td>Platforma Obywatelska</td>\n",
       "      <td>PO</td>\n",
       "      <td>Centroprawica</td>\n",
       "      <td>24,10%</td>\n",
       "      <td>15</td>\n",
       "    </tr>\n",
       "    <tr>\n",
       "      <th>1</th>\n",
       "      <td>2004</td>\n",
       "      <td>Liga Polskich Rodzin</td>\n",
       "      <td>LPR</td>\n",
       "      <td>Prawica</td>\n",
       "      <td>15,92%</td>\n",
       "      <td>10</td>\n",
       "    </tr>\n",
       "    <tr>\n",
       "      <th>2</th>\n",
       "      <td>2004</td>\n",
       "      <td>Prawo i Sprawiedliwość</td>\n",
       "      <td>PIS</td>\n",
       "      <td>Prawica</td>\n",
       "      <td>12,67%</td>\n",
       "      <td>7</td>\n",
       "    </tr>\n",
       "    <tr>\n",
       "      <th>3</th>\n",
       "      <td>2004</td>\n",
       "      <td>Samoobrona</td>\n",
       "      <td>NaN</td>\n",
       "      <td>Lewica</td>\n",
       "      <td>10,78%</td>\n",
       "      <td>6</td>\n",
       "    </tr>\n",
       "    <tr>\n",
       "      <th>4</th>\n",
       "      <td>2004</td>\n",
       "      <td>Sojusz Lewicy Demokratycznej - Unia Pracy</td>\n",
       "      <td>SLD-UP</td>\n",
       "      <td>Lewica</td>\n",
       "      <td>9,35%</td>\n",
       "      <td>5</td>\n",
       "    </tr>\n",
       "    <tr>\n",
       "      <th>...</th>\n",
       "      <td>...</td>\n",
       "      <td>...</td>\n",
       "      <td>...</td>\n",
       "      <td>...</td>\n",
       "      <td>...</td>\n",
       "      <td>...</td>\n",
       "    </tr>\n",
       "    <tr>\n",
       "      <th>60</th>\n",
       "      <td>2024</td>\n",
       "      <td>PolEXIT</td>\n",
       "      <td>PolEXIT</td>\n",
       "      <td>Prawica</td>\n",
       "      <td>0,25%</td>\n",
       "      <td>Nie</td>\n",
       "    </tr>\n",
       "    <tr>\n",
       "      <th>61</th>\n",
       "      <td>2024</td>\n",
       "      <td>Normalny Kraj</td>\n",
       "      <td>NaN</td>\n",
       "      <td>Prawica</td>\n",
       "      <td>0,17%</td>\n",
       "      <td>Nie</td>\n",
       "    </tr>\n",
       "    <tr>\n",
       "      <th>62</th>\n",
       "      <td>2024</td>\n",
       "      <td>Polska Liberalna Strajk Przedsiębiorców</td>\n",
       "      <td>NaN</td>\n",
       "      <td>Prawica</td>\n",
       "      <td>0,08%</td>\n",
       "      <td>Nie</td>\n",
       "    </tr>\n",
       "    <tr>\n",
       "      <th>63</th>\n",
       "      <td>2024</td>\n",
       "      <td>Ruch Naprawy Polski</td>\n",
       "      <td>RNP</td>\n",
       "      <td>Prawica</td>\n",
       "      <td>0,04%</td>\n",
       "      <td>Nie</td>\n",
       "    </tr>\n",
       "    <tr>\n",
       "      <th>64</th>\n",
       "      <td>2024</td>\n",
       "      <td>Głos Silnej Polski</td>\n",
       "      <td>NaN</td>\n",
       "      <td>Prawica</td>\n",
       "      <td>0,02%</td>\n",
       "      <td>Nie</td>\n",
       "    </tr>\n",
       "  </tbody>\n",
       "</table>\n",
       "<p>65 rows × 6 columns</p>\n",
       "</div>"
      ],
      "text/plain": [
       "     ROK                                     PARTIA    SKROT        POGLADY  \\\n",
       "0   2004                      Platforma Obywatelska       PO  Centroprawica   \n",
       "1   2004                       Liga Polskich Rodzin      LPR        Prawica   \n",
       "2   2004                     Prawo i Sprawiedliwość      PIS        Prawica   \n",
       "3   2004                                 Samoobrona      NaN         Lewica   \n",
       "4   2004  Sojusz Lewicy Demokratycznej - Unia Pracy   SLD-UP         Lewica   \n",
       "..   ...                                        ...      ...            ...   \n",
       "60  2024                                    PolEXIT  PolEXIT        Prawica   \n",
       "61  2024                              Normalny Kraj      NaN        Prawica   \n",
       "62  2024    Polska Liberalna Strajk Przedsiębiorców      NaN        Prawica   \n",
       "63  2024                        Ruch Naprawy Polski      RNP        Prawica   \n",
       "64  2024                         Głos Silnej Polski      NaN        Prawica   \n",
       "\n",
       "     GLOSY MANDATY  \n",
       "0   24,10%      15  \n",
       "1   15,92%      10  \n",
       "2   12,67%       7  \n",
       "3   10,78%       6  \n",
       "4    9,35%       5  \n",
       "..     ...     ...  \n",
       "60   0,25%     Nie  \n",
       "61   0,17%     Nie  \n",
       "62   0,08%     Nie  \n",
       "63   0,04%     Nie  \n",
       "64   0,02%     Nie  \n",
       "\n",
       "[65 rows x 6 columns]"
      ]
     },
     "execution_count": 86,
     "metadata": {},
     "output_type": "execute_result"
    }
   ],
   "source": [
    "df = pd.read_csv('Europarlament.csv', sep=';', encoding='iso-8859-2', engine='python')\n",
    "df = df.applymap(lambda x: x.replace('\\x9c', 'ś') if isinstance(x, str) else x)\n",
    "df"
   ]
  },
  {
   "cell_type": "markdown",
   "metadata": {
    "editable": true,
    "slideshow": {
     "slide_type": "skip"
    },
    "tags": []
   },
   "source": [
    "#### Widzimy że plik został wczytany, ale bez polskich znaków, zaraz to zmienię"
   ]
  },
  {
   "cell_type": "code",
   "execution_count": 87,
   "metadata": {
    "editable": true,
    "jupyter": {
     "source_hidden": true
    },
    "scrolled": true,
    "slideshow": {
     "slide_type": "skip"
    },
    "tags": []
   },
   "outputs": [
    {
     "data": {
      "text/html": [
       "<div>\n",
       "<style scoped>\n",
       "    .dataframe tbody tr th:only-of-type {\n",
       "        vertical-align: middle;\n",
       "    }\n",
       "\n",
       "    .dataframe tbody tr th {\n",
       "        vertical-align: top;\n",
       "    }\n",
       "\n",
       "    .dataframe thead th {\n",
       "        text-align: right;\n",
       "    }\n",
       "</style>\n",
       "<table border=\"1\" class=\"dataframe\">\n",
       "  <thead>\n",
       "    <tr style=\"text-align: right;\">\n",
       "      <th></th>\n",
       "      <th>ROK</th>\n",
       "      <th>PARTIA</th>\n",
       "      <th>SKROT</th>\n",
       "      <th>POGLADY</th>\n",
       "      <th>GLOSY</th>\n",
       "      <th>MANDATY</th>\n",
       "    </tr>\n",
       "  </thead>\n",
       "  <tbody>\n",
       "    <tr>\n",
       "      <th>0</th>\n",
       "      <td>2004</td>\n",
       "      <td>Platforma Obywatelska</td>\n",
       "      <td>PO</td>\n",
       "      <td>Centroprawica</td>\n",
       "      <td>24,10%</td>\n",
       "      <td>15</td>\n",
       "    </tr>\n",
       "    <tr>\n",
       "      <th>1</th>\n",
       "      <td>2004</td>\n",
       "      <td>Liga Polskich Rodzin</td>\n",
       "      <td>LPR</td>\n",
       "      <td>Prawica</td>\n",
       "      <td>15,92%</td>\n",
       "      <td>10</td>\n",
       "    </tr>\n",
       "    <tr>\n",
       "      <th>2</th>\n",
       "      <td>2004</td>\n",
       "      <td>Prawo i Sprawiedliwość</td>\n",
       "      <td>PIS</td>\n",
       "      <td>Prawica</td>\n",
       "      <td>12,67%</td>\n",
       "      <td>7</td>\n",
       "    </tr>\n",
       "    <tr>\n",
       "      <th>3</th>\n",
       "      <td>2004</td>\n",
       "      <td>Samoobrona</td>\n",
       "      <td>NaN</td>\n",
       "      <td>Lewica</td>\n",
       "      <td>10,78%</td>\n",
       "      <td>6</td>\n",
       "    </tr>\n",
       "    <tr>\n",
       "      <th>4</th>\n",
       "      <td>2004</td>\n",
       "      <td>Sojusz Lewicy Demokratycznej - Unia Pracy</td>\n",
       "      <td>SLD-UP</td>\n",
       "      <td>Lewica</td>\n",
       "      <td>9,35%</td>\n",
       "      <td>5</td>\n",
       "    </tr>\n",
       "    <tr>\n",
       "      <th>...</th>\n",
       "      <td>...</td>\n",
       "      <td>...</td>\n",
       "      <td>...</td>\n",
       "      <td>...</td>\n",
       "      <td>...</td>\n",
       "      <td>...</td>\n",
       "    </tr>\n",
       "    <tr>\n",
       "      <th>60</th>\n",
       "      <td>2024</td>\n",
       "      <td>PolEXIT</td>\n",
       "      <td>PolEXIT</td>\n",
       "      <td>Prawica</td>\n",
       "      <td>0,25%</td>\n",
       "      <td>Nie</td>\n",
       "    </tr>\n",
       "    <tr>\n",
       "      <th>61</th>\n",
       "      <td>2024</td>\n",
       "      <td>Normalny Kraj</td>\n",
       "      <td>NaN</td>\n",
       "      <td>Prawica</td>\n",
       "      <td>0,17%</td>\n",
       "      <td>Nie</td>\n",
       "    </tr>\n",
       "    <tr>\n",
       "      <th>62</th>\n",
       "      <td>2024</td>\n",
       "      <td>Polska Liberalna Strajk Przedsiębiorców</td>\n",
       "      <td>NaN</td>\n",
       "      <td>Prawica</td>\n",
       "      <td>0,08%</td>\n",
       "      <td>Nie</td>\n",
       "    </tr>\n",
       "    <tr>\n",
       "      <th>63</th>\n",
       "      <td>2024</td>\n",
       "      <td>Ruch Naprawy Polski</td>\n",
       "      <td>RNP</td>\n",
       "      <td>Prawica</td>\n",
       "      <td>0,04%</td>\n",
       "      <td>Nie</td>\n",
       "    </tr>\n",
       "    <tr>\n",
       "      <th>64</th>\n",
       "      <td>2024</td>\n",
       "      <td>Głos Silnej Polski</td>\n",
       "      <td>NaN</td>\n",
       "      <td>Prawica</td>\n",
       "      <td>0,02%</td>\n",
       "      <td>Nie</td>\n",
       "    </tr>\n",
       "  </tbody>\n",
       "</table>\n",
       "<p>65 rows × 6 columns</p>\n",
       "</div>"
      ],
      "text/plain": [
       "     ROK                                     PARTIA    SKROT        POGLADY  \\\n",
       "0   2004                      Platforma Obywatelska       PO  Centroprawica   \n",
       "1   2004                       Liga Polskich Rodzin      LPR        Prawica   \n",
       "2   2004                     Prawo i Sprawiedliwość      PIS        Prawica   \n",
       "3   2004                                 Samoobrona      NaN         Lewica   \n",
       "4   2004  Sojusz Lewicy Demokratycznej - Unia Pracy   SLD-UP         Lewica   \n",
       "..   ...                                        ...      ...            ...   \n",
       "60  2024                                    PolEXIT  PolEXIT        Prawica   \n",
       "61  2024                              Normalny Kraj      NaN        Prawica   \n",
       "62  2024    Polska Liberalna Strajk Przedsiębiorców      NaN        Prawica   \n",
       "63  2024                        Ruch Naprawy Polski      RNP        Prawica   \n",
       "64  2024                         Głos Silnej Polski      NaN        Prawica   \n",
       "\n",
       "     GLOSY MANDATY  \n",
       "0   24,10%      15  \n",
       "1   15,92%      10  \n",
       "2   12,67%       7  \n",
       "3   10,78%       6  \n",
       "4    9,35%       5  \n",
       "..     ...     ...  \n",
       "60   0,25%     Nie  \n",
       "61   0,17%     Nie  \n",
       "62   0,08%     Nie  \n",
       "63   0,04%     Nie  \n",
       "64   0,02%     Nie  \n",
       "\n",
       "[65 rows x 6 columns]"
      ]
     },
     "execution_count": 87,
     "metadata": {},
     "output_type": "execute_result"
    }
   ],
   "source": [
    "df = df.replace({\n",
    "    'ě': 'ż',\n",
    "    '÷': 'ł',\n",
    "    '': 'ś',\n",
    "    '': 'ę',\n",
    "    '': 'ś',\n",
    "    'Ž': 'ż',\n",
    "    '': 'ń',\n",
    "    'ô': 'ó',\n",
    "    '': 'ó',\n",
    "    'ô': 'ę',\n",
    "}, regex=True)\n",
    "df"
   ]
  },
  {
   "cell_type": "code",
   "execution_count": 88,
   "metadata": {
    "editable": true,
    "jupyter": {
     "source_hidden": true
    },
    "slideshow": {
     "slide_type": ""
    },
    "tags": []
   },
   "outputs": [],
   "source": [
    "df.loc[df['PARTIA'] == 'Prawo i Sprawiedliwo', 'PARTIA'] = 'Prawo i Sprawiedliwość'"
   ]
  },
  {
   "cell_type": "markdown",
   "metadata": {
    "editable": true,
    "slideshow": {
     "slide_type": "fragment"
    },
    "tags": []
   },
   "source": [
    "### 5 losowych wartości"
   ]
  },
  {
   "cell_type": "code",
   "execution_count": 89,
   "metadata": {
    "editable": true,
    "slideshow": {
     "slide_type": "fragment"
    },
    "tags": []
   },
   "outputs": [
    {
     "data": {
      "text/html": [
       "<div>\n",
       "<style scoped>\n",
       "    .dataframe tbody tr th:only-of-type {\n",
       "        vertical-align: middle;\n",
       "    }\n",
       "\n",
       "    .dataframe tbody tr th {\n",
       "        vertical-align: top;\n",
       "    }\n",
       "\n",
       "    .dataframe thead th {\n",
       "        text-align: right;\n",
       "    }\n",
       "</style>\n",
       "<table border=\"1\" class=\"dataframe\">\n",
       "  <thead>\n",
       "    <tr style=\"text-align: right;\">\n",
       "      <th></th>\n",
       "      <th>ROK</th>\n",
       "      <th>PARTIA</th>\n",
       "      <th>SKROT</th>\n",
       "      <th>POGLADY</th>\n",
       "      <th>GLOSY</th>\n",
       "      <th>MANDATY</th>\n",
       "    </tr>\n",
       "  </thead>\n",
       "  <tbody>\n",
       "    <tr>\n",
       "      <th>50</th>\n",
       "      <td>2019</td>\n",
       "      <td>Lewica Razem</td>\n",
       "      <td>NaN</td>\n",
       "      <td>Lewica</td>\n",
       "      <td>1,24%</td>\n",
       "      <td>Nie</td>\n",
       "    </tr>\n",
       "    <tr>\n",
       "      <th>5</th>\n",
       "      <td>2004</td>\n",
       "      <td>Unia Wolności</td>\n",
       "      <td>UW</td>\n",
       "      <td>Centrum</td>\n",
       "      <td>7,33%</td>\n",
       "      <td>4</td>\n",
       "    </tr>\n",
       "    <tr>\n",
       "      <th>53</th>\n",
       "      <td>2019</td>\n",
       "      <td>Jedność Narodu</td>\n",
       "      <td>NaN</td>\n",
       "      <td>Prawica</td>\n",
       "      <td>0,02%</td>\n",
       "      <td>Nie</td>\n",
       "    </tr>\n",
       "    <tr>\n",
       "      <th>36</th>\n",
       "      <td>2014</td>\n",
       "      <td>Nowa Prawica</td>\n",
       "      <td>NP.</td>\n",
       "      <td>Prawica</td>\n",
       "      <td>7,15%</td>\n",
       "      <td>4</td>\n",
       "    </tr>\n",
       "    <tr>\n",
       "      <th>40</th>\n",
       "      <td>2014</td>\n",
       "      <td>Polska Razem</td>\n",
       "      <td>NaN</td>\n",
       "      <td>Prawica</td>\n",
       "      <td>3,16%</td>\n",
       "      <td>Nie</td>\n",
       "    </tr>\n",
       "  </tbody>\n",
       "</table>\n",
       "</div>"
      ],
      "text/plain": [
       "     ROK          PARTIA SKROT  POGLADY  GLOSY MANDATY\n",
       "50  2019    Lewica Razem   NaN   Lewica  1,24%     Nie\n",
       "5   2004   Unia Wolności    UW  Centrum  7,33%       4\n",
       "53  2019  Jedność Narodu   NaN  Prawica  0,02%     Nie\n",
       "36  2014    Nowa Prawica   NP.  Prawica  7,15%       4\n",
       "40  2014    Polska Razem   NaN  Prawica  3,16%     Nie"
      ]
     },
     "execution_count": 89,
     "metadata": {},
     "output_type": "execute_result"
    }
   ],
   "source": [
    "df. sample (5)"
   ]
  },
  {
   "cell_type": "markdown",
   "metadata": {
    "editable": true,
    "slideshow": {
     "slide_type": "fragment"
    },
    "tags": []
   },
   "source": [
    "### 5 pierwszych wartości"
   ]
  },
  {
   "cell_type": "code",
   "execution_count": 90,
   "metadata": {
    "editable": true,
    "jupyter": {
     "source_hidden": true
    },
    "slideshow": {
     "slide_type": "fragment"
    },
    "tags": []
   },
   "outputs": [
    {
     "data": {
      "text/html": [
       "<div>\n",
       "<style scoped>\n",
       "    .dataframe tbody tr th:only-of-type {\n",
       "        vertical-align: middle;\n",
       "    }\n",
       "\n",
       "    .dataframe tbody tr th {\n",
       "        vertical-align: top;\n",
       "    }\n",
       "\n",
       "    .dataframe thead th {\n",
       "        text-align: right;\n",
       "    }\n",
       "</style>\n",
       "<table border=\"1\" class=\"dataframe\">\n",
       "  <thead>\n",
       "    <tr style=\"text-align: right;\">\n",
       "      <th></th>\n",
       "      <th>ROK</th>\n",
       "      <th>PARTIA</th>\n",
       "      <th>SKROT</th>\n",
       "      <th>POGLADY</th>\n",
       "      <th>GLOSY</th>\n",
       "      <th>MANDATY</th>\n",
       "    </tr>\n",
       "  </thead>\n",
       "  <tbody>\n",
       "    <tr>\n",
       "      <th>0</th>\n",
       "      <td>2004</td>\n",
       "      <td>Platforma Obywatelska</td>\n",
       "      <td>PO</td>\n",
       "      <td>Centroprawica</td>\n",
       "      <td>24,10%</td>\n",
       "      <td>15</td>\n",
       "    </tr>\n",
       "    <tr>\n",
       "      <th>1</th>\n",
       "      <td>2004</td>\n",
       "      <td>Liga Polskich Rodzin</td>\n",
       "      <td>LPR</td>\n",
       "      <td>Prawica</td>\n",
       "      <td>15,92%</td>\n",
       "      <td>10</td>\n",
       "    </tr>\n",
       "    <tr>\n",
       "      <th>2</th>\n",
       "      <td>2004</td>\n",
       "      <td>Prawo i Sprawiedliwość</td>\n",
       "      <td>PIS</td>\n",
       "      <td>Prawica</td>\n",
       "      <td>12,67%</td>\n",
       "      <td>7</td>\n",
       "    </tr>\n",
       "    <tr>\n",
       "      <th>3</th>\n",
       "      <td>2004</td>\n",
       "      <td>Samoobrona</td>\n",
       "      <td>NaN</td>\n",
       "      <td>Lewica</td>\n",
       "      <td>10,78%</td>\n",
       "      <td>6</td>\n",
       "    </tr>\n",
       "    <tr>\n",
       "      <th>4</th>\n",
       "      <td>2004</td>\n",
       "      <td>Sojusz Lewicy Demokratycznej - Unia Pracy</td>\n",
       "      <td>SLD-UP</td>\n",
       "      <td>Lewica</td>\n",
       "      <td>9,35%</td>\n",
       "      <td>5</td>\n",
       "    </tr>\n",
       "  </tbody>\n",
       "</table>\n",
       "</div>"
      ],
      "text/plain": [
       "    ROK                                     PARTIA   SKROT        POGLADY  \\\n",
       "0  2004                      Platforma Obywatelska      PO  Centroprawica   \n",
       "1  2004                       Liga Polskich Rodzin     LPR        Prawica   \n",
       "2  2004                     Prawo i Sprawiedliwość     PIS        Prawica   \n",
       "3  2004                                 Samoobrona     NaN         Lewica   \n",
       "4  2004  Sojusz Lewicy Demokratycznej - Unia Pracy  SLD-UP         Lewica   \n",
       "\n",
       "    GLOSY MANDATY  \n",
       "0  24,10%      15  \n",
       "1  15,92%      10  \n",
       "2  12,67%       7  \n",
       "3  10,78%       6  \n",
       "4   9,35%       5  "
      ]
     },
     "execution_count": 90,
     "metadata": {},
     "output_type": "execute_result"
    }
   ],
   "source": [
    "df. head (5)"
   ]
  },
  {
   "cell_type": "markdown",
   "metadata": {
    "editable": true,
    "slideshow": {
     "slide_type": "fragment"
    },
    "tags": []
   },
   "source": [
    "### 5 ostatnich wartości"
   ]
  },
  {
   "cell_type": "code",
   "execution_count": 91,
   "metadata": {
    "editable": true,
    "jupyter": {
     "source_hidden": true
    },
    "slideshow": {
     "slide_type": "fragment"
    },
    "tags": []
   },
   "outputs": [
    {
     "data": {
      "text/html": [
       "<div>\n",
       "<style scoped>\n",
       "    .dataframe tbody tr th:only-of-type {\n",
       "        vertical-align: middle;\n",
       "    }\n",
       "\n",
       "    .dataframe tbody tr th {\n",
       "        vertical-align: top;\n",
       "    }\n",
       "\n",
       "    .dataframe thead th {\n",
       "        text-align: right;\n",
       "    }\n",
       "</style>\n",
       "<table border=\"1\" class=\"dataframe\">\n",
       "  <thead>\n",
       "    <tr style=\"text-align: right;\">\n",
       "      <th></th>\n",
       "      <th>ROK</th>\n",
       "      <th>PARTIA</th>\n",
       "      <th>SKROT</th>\n",
       "      <th>POGLADY</th>\n",
       "      <th>GLOSY</th>\n",
       "      <th>MANDATY</th>\n",
       "    </tr>\n",
       "  </thead>\n",
       "  <tbody>\n",
       "    <tr>\n",
       "      <th>60</th>\n",
       "      <td>2024</td>\n",
       "      <td>PolEXIT</td>\n",
       "      <td>PolEXIT</td>\n",
       "      <td>Prawica</td>\n",
       "      <td>0,25%</td>\n",
       "      <td>Nie</td>\n",
       "    </tr>\n",
       "    <tr>\n",
       "      <th>61</th>\n",
       "      <td>2024</td>\n",
       "      <td>Normalny Kraj</td>\n",
       "      <td>NaN</td>\n",
       "      <td>Prawica</td>\n",
       "      <td>0,17%</td>\n",
       "      <td>Nie</td>\n",
       "    </tr>\n",
       "    <tr>\n",
       "      <th>62</th>\n",
       "      <td>2024</td>\n",
       "      <td>Polska Liberalna Strajk Przedsiębiorców</td>\n",
       "      <td>NaN</td>\n",
       "      <td>Prawica</td>\n",
       "      <td>0,08%</td>\n",
       "      <td>Nie</td>\n",
       "    </tr>\n",
       "    <tr>\n",
       "      <th>63</th>\n",
       "      <td>2024</td>\n",
       "      <td>Ruch Naprawy Polski</td>\n",
       "      <td>RNP</td>\n",
       "      <td>Prawica</td>\n",
       "      <td>0,04%</td>\n",
       "      <td>Nie</td>\n",
       "    </tr>\n",
       "    <tr>\n",
       "      <th>64</th>\n",
       "      <td>2024</td>\n",
       "      <td>Głos Silnej Polski</td>\n",
       "      <td>NaN</td>\n",
       "      <td>Prawica</td>\n",
       "      <td>0,02%</td>\n",
       "      <td>Nie</td>\n",
       "    </tr>\n",
       "  </tbody>\n",
       "</table>\n",
       "</div>"
      ],
      "text/plain": [
       "     ROK                                   PARTIA    SKROT  POGLADY  GLOSY  \\\n",
       "60  2024                                  PolEXIT  PolEXIT  Prawica  0,25%   \n",
       "61  2024                            Normalny Kraj      NaN  Prawica  0,17%   \n",
       "62  2024  Polska Liberalna Strajk Przedsiębiorców      NaN  Prawica  0,08%   \n",
       "63  2024                      Ruch Naprawy Polski      RNP  Prawica  0,04%   \n",
       "64  2024                       Głos Silnej Polski      NaN  Prawica  0,02%   \n",
       "\n",
       "   MANDATY  \n",
       "60     Nie  \n",
       "61     Nie  \n",
       "62     Nie  \n",
       "63     Nie  \n",
       "64     Nie  "
      ]
     },
     "execution_count": 91,
     "metadata": {},
     "output_type": "execute_result"
    }
   ],
   "source": [
    "df.tail(5)"
   ]
  },
  {
   "cell_type": "markdown",
   "metadata": {
    "editable": true,
    "slideshow": {
     "slide_type": "skip"
    },
    "tags": []
   },
   "source": [
    "### Aby potem było prościej w pokazywaniu wykresów, rozbiję kolumnę MANDATY na MANDATY TAK NIE i MANDATY ILOSC, a także GLOSY zamienię procenty na lczby i nazwę tę kolumnę GLOSY (%)."
   ]
  },
  {
   "cell_type": "code",
   "execution_count": 92,
   "metadata": {
    "editable": true,
    "jupyter": {
     "source_hidden": true
    },
    "slideshow": {
     "slide_type": ""
    },
    "tags": []
   },
   "outputs": [],
   "source": [
    "df['GLOSY (%)'] = df['GLOSY'].str.replace(',', '.').str.replace('%', '').astype(float)"
   ]
  },
  {
   "cell_type": "code",
   "execution_count": 93,
   "metadata": {
    "collapsed": true,
    "editable": true,
    "jupyter": {
     "outputs_hidden": true,
     "source_hidden": true
    },
    "scrolled": true,
    "slideshow": {
     "slide_type": "skip"
    },
    "tags": []
   },
   "outputs": [
    {
     "data": {
      "text/html": [
       "<div>\n",
       "<style scoped>\n",
       "    .dataframe tbody tr th:only-of-type {\n",
       "        vertical-align: middle;\n",
       "    }\n",
       "\n",
       "    .dataframe tbody tr th {\n",
       "        vertical-align: top;\n",
       "    }\n",
       "\n",
       "    .dataframe thead th {\n",
       "        text-align: right;\n",
       "    }\n",
       "</style>\n",
       "<table border=\"1\" class=\"dataframe\">\n",
       "  <thead>\n",
       "    <tr style=\"text-align: right;\">\n",
       "      <th></th>\n",
       "      <th>ROK</th>\n",
       "      <th>PARTIA</th>\n",
       "      <th>SKROT</th>\n",
       "      <th>POGLADY</th>\n",
       "      <th>GLOSY</th>\n",
       "      <th>MANDATY</th>\n",
       "      <th>GLOSY (%)</th>\n",
       "      <th>MANDATY ILOSC</th>\n",
       "      <th>MANDATY TAK NIE</th>\n",
       "    </tr>\n",
       "  </thead>\n",
       "  <tbody>\n",
       "    <tr>\n",
       "      <th>0</th>\n",
       "      <td>2004</td>\n",
       "      <td>Platforma Obywatelska</td>\n",
       "      <td>PO</td>\n",
       "      <td>Centroprawica</td>\n",
       "      <td>24,10%</td>\n",
       "      <td>15</td>\n",
       "      <td>24.10</td>\n",
       "      <td>15</td>\n",
       "      <td>True</td>\n",
       "    </tr>\n",
       "    <tr>\n",
       "      <th>1</th>\n",
       "      <td>2004</td>\n",
       "      <td>Liga Polskich Rodzin</td>\n",
       "      <td>LPR</td>\n",
       "      <td>Prawica</td>\n",
       "      <td>15,92%</td>\n",
       "      <td>10</td>\n",
       "      <td>15.92</td>\n",
       "      <td>10</td>\n",
       "      <td>True</td>\n",
       "    </tr>\n",
       "    <tr>\n",
       "      <th>2</th>\n",
       "      <td>2004</td>\n",
       "      <td>Prawo i Sprawiedliwość</td>\n",
       "      <td>PIS</td>\n",
       "      <td>Prawica</td>\n",
       "      <td>12,67%</td>\n",
       "      <td>7</td>\n",
       "      <td>12.67</td>\n",
       "      <td>7</td>\n",
       "      <td>True</td>\n",
       "    </tr>\n",
       "    <tr>\n",
       "      <th>3</th>\n",
       "      <td>2004</td>\n",
       "      <td>Samoobrona</td>\n",
       "      <td>NaN</td>\n",
       "      <td>Lewica</td>\n",
       "      <td>10,78%</td>\n",
       "      <td>6</td>\n",
       "      <td>10.78</td>\n",
       "      <td>6</td>\n",
       "      <td>True</td>\n",
       "    </tr>\n",
       "    <tr>\n",
       "      <th>4</th>\n",
       "      <td>2004</td>\n",
       "      <td>Sojusz Lewicy Demokratycznej - Unia Pracy</td>\n",
       "      <td>SLD-UP</td>\n",
       "      <td>Lewica</td>\n",
       "      <td>9,35%</td>\n",
       "      <td>5</td>\n",
       "      <td>9.35</td>\n",
       "      <td>5</td>\n",
       "      <td>True</td>\n",
       "    </tr>\n",
       "    <tr>\n",
       "      <th>...</th>\n",
       "      <td>...</td>\n",
       "      <td>...</td>\n",
       "      <td>...</td>\n",
       "      <td>...</td>\n",
       "      <td>...</td>\n",
       "      <td>...</td>\n",
       "      <td>...</td>\n",
       "      <td>...</td>\n",
       "      <td>...</td>\n",
       "    </tr>\n",
       "    <tr>\n",
       "      <th>60</th>\n",
       "      <td>2024</td>\n",
       "      <td>PolEXIT</td>\n",
       "      <td>PolEXIT</td>\n",
       "      <td>Prawica</td>\n",
       "      <td>0,25%</td>\n",
       "      <td>Nie</td>\n",
       "      <td>0.25</td>\n",
       "      <td>Nie</td>\n",
       "      <td>False</td>\n",
       "    </tr>\n",
       "    <tr>\n",
       "      <th>61</th>\n",
       "      <td>2024</td>\n",
       "      <td>Normalny Kraj</td>\n",
       "      <td>NaN</td>\n",
       "      <td>Prawica</td>\n",
       "      <td>0,17%</td>\n",
       "      <td>Nie</td>\n",
       "      <td>0.17</td>\n",
       "      <td>Nie</td>\n",
       "      <td>False</td>\n",
       "    </tr>\n",
       "    <tr>\n",
       "      <th>62</th>\n",
       "      <td>2024</td>\n",
       "      <td>Polska Liberalna Strajk Przedsiębiorców</td>\n",
       "      <td>NaN</td>\n",
       "      <td>Prawica</td>\n",
       "      <td>0,08%</td>\n",
       "      <td>Nie</td>\n",
       "      <td>0.08</td>\n",
       "      <td>Nie</td>\n",
       "      <td>False</td>\n",
       "    </tr>\n",
       "    <tr>\n",
       "      <th>63</th>\n",
       "      <td>2024</td>\n",
       "      <td>Ruch Naprawy Polski</td>\n",
       "      <td>RNP</td>\n",
       "      <td>Prawica</td>\n",
       "      <td>0,04%</td>\n",
       "      <td>Nie</td>\n",
       "      <td>0.04</td>\n",
       "      <td>Nie</td>\n",
       "      <td>False</td>\n",
       "    </tr>\n",
       "    <tr>\n",
       "      <th>64</th>\n",
       "      <td>2024</td>\n",
       "      <td>Głos Silnej Polski</td>\n",
       "      <td>NaN</td>\n",
       "      <td>Prawica</td>\n",
       "      <td>0,02%</td>\n",
       "      <td>Nie</td>\n",
       "      <td>0.02</td>\n",
       "      <td>Nie</td>\n",
       "      <td>False</td>\n",
       "    </tr>\n",
       "  </tbody>\n",
       "</table>\n",
       "<p>65 rows × 9 columns</p>\n",
       "</div>"
      ],
      "text/plain": [
       "     ROK                                     PARTIA    SKROT        POGLADY  \\\n",
       "0   2004                      Platforma Obywatelska       PO  Centroprawica   \n",
       "1   2004                       Liga Polskich Rodzin      LPR        Prawica   \n",
       "2   2004                     Prawo i Sprawiedliwość      PIS        Prawica   \n",
       "3   2004                                 Samoobrona      NaN         Lewica   \n",
       "4   2004  Sojusz Lewicy Demokratycznej - Unia Pracy   SLD-UP         Lewica   \n",
       "..   ...                                        ...      ...            ...   \n",
       "60  2024                                    PolEXIT  PolEXIT        Prawica   \n",
       "61  2024                              Normalny Kraj      NaN        Prawica   \n",
       "62  2024    Polska Liberalna Strajk Przedsiębiorców      NaN        Prawica   \n",
       "63  2024                        Ruch Naprawy Polski      RNP        Prawica   \n",
       "64  2024                         Głos Silnej Polski      NaN        Prawica   \n",
       "\n",
       "     GLOSY MANDATY  GLOSY (%) MANDATY ILOSC  MANDATY TAK NIE  \n",
       "0   24,10%      15      24.10            15             True  \n",
       "1   15,92%      10      15.92            10             True  \n",
       "2   12,67%       7      12.67             7             True  \n",
       "3   10,78%       6      10.78             6             True  \n",
       "4    9,35%       5       9.35             5             True  \n",
       "..     ...     ...        ...           ...              ...  \n",
       "60   0,25%     Nie       0.25           Nie            False  \n",
       "61   0,17%     Nie       0.17           Nie            False  \n",
       "62   0,08%     Nie       0.08           Nie            False  \n",
       "63   0,04%     Nie       0.04           Nie            False  \n",
       "64   0,02%     Nie       0.02           Nie            False  \n",
       "\n",
       "[65 rows x 9 columns]"
      ]
     },
     "execution_count": 93,
     "metadata": {},
     "output_type": "execute_result"
    }
   ],
   "source": [
    "# Kopia oryginalnej kolumny\n",
    "df['MANDATY ILOSC'] = df['MANDATY'].copy()\n",
    "\n",
    "# Dodaję kolumnę logiczną: Czy partia była w Sejmie?\n",
    "df['MANDATY TAK NIE'] = df['MANDATY'].apply(lambda x: x != 'Nie' and pd.notnull(x))\n",
    "df"
   ]
  },
  {
   "cell_type": "markdown",
   "metadata": {
    "editable": true,
    "slideshow": {
     "slide_type": "skip"
    },
    "tags": []
   },
   "source": [
    "### Kolumny GLOSY i MANDATY są nie potrzebne więc je usuwamy i zmienimy kolejność kolumn"
   ]
  },
  {
   "cell_type": "code",
   "execution_count": 94,
   "metadata": {
    "editable": true,
    "jupyter": {
     "source_hidden": true
    },
    "slideshow": {
     "slide_type": ""
    },
    "tags": []
   },
   "outputs": [],
   "source": [
    "df = df.drop(columns=['GLOSY', 'MANDATY'])"
   ]
  },
  {
   "cell_type": "code",
   "execution_count": 95,
   "metadata": {
    "editable": true,
    "jupyter": {
     "source_hidden": true
    },
    "scrolled": true,
    "slideshow": {
     "slide_type": "skip"
    },
    "tags": []
   },
   "outputs": [
    {
     "data": {
      "text/html": [
       "<div>\n",
       "<style scoped>\n",
       "    .dataframe tbody tr th:only-of-type {\n",
       "        vertical-align: middle;\n",
       "    }\n",
       "\n",
       "    .dataframe tbody tr th {\n",
       "        vertical-align: top;\n",
       "    }\n",
       "\n",
       "    .dataframe thead th {\n",
       "        text-align: right;\n",
       "    }\n",
       "</style>\n",
       "<table border=\"1\" class=\"dataframe\">\n",
       "  <thead>\n",
       "    <tr style=\"text-align: right;\">\n",
       "      <th></th>\n",
       "      <th>ROK</th>\n",
       "      <th>PARTIA</th>\n",
       "      <th>SKROT</th>\n",
       "      <th>POGLADY</th>\n",
       "      <th>GLOSY (%)</th>\n",
       "      <th>MANDATY TAK NIE</th>\n",
       "      <th>MANDATY ILOSC</th>\n",
       "    </tr>\n",
       "  </thead>\n",
       "  <tbody>\n",
       "    <tr>\n",
       "      <th>0</th>\n",
       "      <td>2004</td>\n",
       "      <td>Platforma Obywatelska</td>\n",
       "      <td>PO</td>\n",
       "      <td>Centroprawica</td>\n",
       "      <td>24.10</td>\n",
       "      <td>Tak</td>\n",
       "      <td>15</td>\n",
       "    </tr>\n",
       "    <tr>\n",
       "      <th>1</th>\n",
       "      <td>2004</td>\n",
       "      <td>Liga Polskich Rodzin</td>\n",
       "      <td>LPR</td>\n",
       "      <td>Prawica</td>\n",
       "      <td>15.92</td>\n",
       "      <td>Tak</td>\n",
       "      <td>10</td>\n",
       "    </tr>\n",
       "    <tr>\n",
       "      <th>2</th>\n",
       "      <td>2004</td>\n",
       "      <td>Prawo i Sprawiedliwość</td>\n",
       "      <td>PIS</td>\n",
       "      <td>Prawica</td>\n",
       "      <td>12.67</td>\n",
       "      <td>Tak</td>\n",
       "      <td>7</td>\n",
       "    </tr>\n",
       "    <tr>\n",
       "      <th>3</th>\n",
       "      <td>2004</td>\n",
       "      <td>Samoobrona</td>\n",
       "      <td>-</td>\n",
       "      <td>Lewica</td>\n",
       "      <td>10.78</td>\n",
       "      <td>Tak</td>\n",
       "      <td>6</td>\n",
       "    </tr>\n",
       "    <tr>\n",
       "      <th>4</th>\n",
       "      <td>2004</td>\n",
       "      <td>Sojusz Lewicy Demokratycznej - Unia Pracy</td>\n",
       "      <td>SLD-UP</td>\n",
       "      <td>Lewica</td>\n",
       "      <td>9.35</td>\n",
       "      <td>Tak</td>\n",
       "      <td>5</td>\n",
       "    </tr>\n",
       "    <tr>\n",
       "      <th>...</th>\n",
       "      <td>...</td>\n",
       "      <td>...</td>\n",
       "      <td>...</td>\n",
       "      <td>...</td>\n",
       "      <td>...</td>\n",
       "      <td>...</td>\n",
       "      <td>...</td>\n",
       "    </tr>\n",
       "    <tr>\n",
       "      <th>60</th>\n",
       "      <td>2024</td>\n",
       "      <td>PolEXIT</td>\n",
       "      <td>PolEXIT</td>\n",
       "      <td>Prawica</td>\n",
       "      <td>0.25</td>\n",
       "      <td>Nie</td>\n",
       "      <td>Nie</td>\n",
       "    </tr>\n",
       "    <tr>\n",
       "      <th>61</th>\n",
       "      <td>2024</td>\n",
       "      <td>Normalny Kraj</td>\n",
       "      <td>-</td>\n",
       "      <td>Prawica</td>\n",
       "      <td>0.17</td>\n",
       "      <td>Nie</td>\n",
       "      <td>Nie</td>\n",
       "    </tr>\n",
       "    <tr>\n",
       "      <th>62</th>\n",
       "      <td>2024</td>\n",
       "      <td>Polska Liberalna Strajk Przedsiębiorców</td>\n",
       "      <td>-</td>\n",
       "      <td>Prawica</td>\n",
       "      <td>0.08</td>\n",
       "      <td>Nie</td>\n",
       "      <td>Nie</td>\n",
       "    </tr>\n",
       "    <tr>\n",
       "      <th>63</th>\n",
       "      <td>2024</td>\n",
       "      <td>Ruch Naprawy Polski</td>\n",
       "      <td>RNP</td>\n",
       "      <td>Prawica</td>\n",
       "      <td>0.04</td>\n",
       "      <td>Nie</td>\n",
       "      <td>Nie</td>\n",
       "    </tr>\n",
       "    <tr>\n",
       "      <th>64</th>\n",
       "      <td>2024</td>\n",
       "      <td>Głos Silnej Polski</td>\n",
       "      <td>-</td>\n",
       "      <td>Prawica</td>\n",
       "      <td>0.02</td>\n",
       "      <td>Nie</td>\n",
       "      <td>Nie</td>\n",
       "    </tr>\n",
       "  </tbody>\n",
       "</table>\n",
       "<p>65 rows × 7 columns</p>\n",
       "</div>"
      ],
      "text/plain": [
       "     ROK                                     PARTIA    SKROT        POGLADY  \\\n",
       "0   2004                      Platforma Obywatelska       PO  Centroprawica   \n",
       "1   2004                       Liga Polskich Rodzin      LPR        Prawica   \n",
       "2   2004                     Prawo i Sprawiedliwość      PIS        Prawica   \n",
       "3   2004                                 Samoobrona        -         Lewica   \n",
       "4   2004  Sojusz Lewicy Demokratycznej - Unia Pracy   SLD-UP         Lewica   \n",
       "..   ...                                        ...      ...            ...   \n",
       "60  2024                                    PolEXIT  PolEXIT        Prawica   \n",
       "61  2024                              Normalny Kraj        -        Prawica   \n",
       "62  2024    Polska Liberalna Strajk Przedsiębiorców        -        Prawica   \n",
       "63  2024                        Ruch Naprawy Polski      RNP        Prawica   \n",
       "64  2024                         Głos Silnej Polski        -        Prawica   \n",
       "\n",
       "    GLOSY (%) MANDATY TAK NIE MANDATY ILOSC  \n",
       "0       24.10             Tak            15  \n",
       "1       15.92             Tak            10  \n",
       "2       12.67             Tak             7  \n",
       "3       10.78             Tak             6  \n",
       "4        9.35             Tak             5  \n",
       "..        ...             ...           ...  \n",
       "60       0.25             Nie           Nie  \n",
       "61       0.17             Nie           Nie  \n",
       "62       0.08             Nie           Nie  \n",
       "63       0.04             Nie           Nie  \n",
       "64       0.02             Nie           Nie  \n",
       "\n",
       "[65 rows x 7 columns]"
      ]
     },
     "execution_count": 95,
     "metadata": {},
     "output_type": "execute_result"
    }
   ],
   "source": [
    "# Zmieńmy kolejność kolumn\n",
    "df = df[['ROK','PARTIA','SKROT', 'POGLADY', 'GLOSY (%)', 'MANDATY TAK NIE', 'MANDATY ILOSC']]\n",
    "\n",
    "# Jeśłi kolumna SKROT jest pusta do zostawmy \"-\"\n",
    "df['SKROT'] = df['SKROT'].fillna('-')\n",
    "\n",
    "# Zamieńmy w kolumnie II_TURA_TAK_NIE True na Tak, a False na Nie\n",
    "df['MANDATY TAK NIE'] = df['MANDATY TAK NIE'].map({True: 'Tak', False: 'Nie'})\n",
    "df"
   ]
  },
  {
   "cell_type": "markdown",
   "metadata": {
    "editable": true,
    "slideshow": {
     "slide_type": "skip"
    },
    "tags": []
   },
   "source": [
    "### Przyjrzyjmy się ogólnym informacjom o Date Frame"
   ]
  },
  {
   "cell_type": "code",
   "execution_count": 96,
   "metadata": {
    "editable": true,
    "jupyter": {
     "source_hidden": true
    },
    "slideshow": {
     "slide_type": "skip"
    },
    "tags": []
   },
   "outputs": [
    {
     "name": "stdout",
     "output_type": "stream",
     "text": [
      "<class 'pandas.core.frame.DataFrame'>\n",
      "RangeIndex: 65 entries, 0 to 64\n",
      "Data columns (total 7 columns):\n",
      " #   Column           Non-Null Count  Dtype  \n",
      "---  ------           --------------  -----  \n",
      " 0   ROK              65 non-null     int64  \n",
      " 1   PARTIA           65 non-null     object \n",
      " 2   SKROT            65 non-null     object \n",
      " 3   POGLADY          65 non-null     object \n",
      " 4   GLOSY (%)        65 non-null     float64\n",
      " 5   MANDATY TAK NIE  65 non-null     object \n",
      " 6   MANDATY ILOSC    65 non-null     object \n",
      "dtypes: float64(1), int64(1), object(5)\n",
      "memory usage: 3.7+ KB\n"
     ]
    }
   ],
   "source": [
    "df.info()"
   ]
  },
  {
   "cell_type": "markdown",
   "metadata": {
    "editable": true,
    "slideshow": {
     "slide_type": "skip"
    },
    "tags": []
   },
   "source": [
    "# Analiza brakujących wartości"
   ]
  },
  {
   "cell_type": "code",
   "execution_count": 97,
   "metadata": {
    "editable": true,
    "jupyter": {
     "source_hidden": true
    },
    "slideshow": {
     "slide_type": "skip"
    },
    "tags": []
   },
   "outputs": [
    {
     "data": {
      "text/plain": [
       "ROK                0\n",
       "PARTIA             0\n",
       "SKROT              0\n",
       "POGLADY            0\n",
       "GLOSY (%)          0\n",
       "MANDATY TAK NIE    0\n",
       "MANDATY ILOSC      0\n",
       "dtype: int64"
      ]
     },
     "execution_count": 97,
     "metadata": {},
     "output_type": "execute_result"
    }
   ],
   "source": [
    "df.isnull().sum()"
   ]
  },
  {
   "cell_type": "markdown",
   "metadata": {
    "editable": true,
    "slideshow": {
     "slide_type": "skip"
    },
    "tags": []
   },
   "source": [
    "##### Nie ma brakujących wartości"
   ]
  },
  {
   "cell_type": "markdown",
   "metadata": {
    "editable": true,
    "slideshow": {
     "slide_type": "slide"
    },
    "tags": []
   },
   "source": [
    "# Analiza pojedynczych zmiennych"
   ]
  },
  {
   "cell_type": "code",
   "execution_count": 98,
   "metadata": {
    "editable": true,
    "jupyter": {
     "source_hidden": true
    },
    "slideshow": {
     "slide_type": "skip"
    },
    "tags": []
   },
   "outputs": [
    {
     "data": {
      "text/plain": [
       "(2004, 2024)"
      ]
     },
     "execution_count": 98,
     "metadata": {},
     "output_type": "execute_result"
    }
   ],
   "source": [
    "df['ROK'].min(), df['ROK'].max()"
   ]
  },
  {
   "cell_type": "markdown",
   "metadata": {
    "editable": true,
    "slideshow": {
     "slide_type": "fragment"
    },
    "tags": []
   },
   "source": [
    "##### Pierwszym rokiem badania jest 2004 czyli rok wstąpienia Polski  do Unii Europejskiej, a ostatnim 2024"
   ]
  },
  {
   "cell_type": "code",
   "execution_count": 99,
   "metadata": {
    "editable": true,
    "jupyter": {
     "source_hidden": true
    },
    "slideshow": {
     "slide_type": "fragment"
    },
    "tags": []
   },
   "outputs": [
    {
     "data": {
      "text/plain": [
       "Prawo i Sprawiedliwość                       5\n",
       "Platforma Obywatelska                        3\n",
       "Samoobrona                                   3\n",
       "Sojusz Lewicy Demokratycznej - Unia Pracy    3\n",
       "Polskie Stronnictwo Ludowe                   3\n",
       "Name: PARTIA, dtype: int64"
      ]
     },
     "execution_count": 99,
     "metadata": {},
     "output_type": "execute_result"
    }
   ],
   "source": [
    "df['PARTIA'].value_counts(dropna=False).head()"
   ]
  },
  {
   "cell_type": "markdown",
   "metadata": {
    "editable": true,
    "slideshow": {
     "slide_type": "fragment"
    },
    "tags": []
   },
   "source": [
    "##### Najwięcej bo 5 razy Prawo i Sprawiedliwość startowała do Europarlamentu"
   ]
  },
  {
   "cell_type": "code",
   "execution_count": 100,
   "metadata": {
    "editable": true,
    "jupyter": {
     "source_hidden": true
    },
    "slideshow": {
     "slide_type": "fragment"
    },
    "tags": []
   },
   "outputs": [
    {
     "data": {
      "text/plain": [
       "Prawica          24\n",
       "Lewica           19\n",
       "Centrum          14\n",
       "Centroprawica     6\n",
       "Centrolewica      2\n",
       "Name: POGLADY, dtype: int64"
      ]
     },
     "execution_count": 100,
     "metadata": {},
     "output_type": "execute_result"
    }
   ],
   "source": [
    "df['POGLADY'].value_counts(dropna=False)"
   ]
  },
  {
   "cell_type": "markdown",
   "metadata": {
    "editable": true,
    "slideshow": {
     "slide_type": "fragment"
    },
    "tags": []
   },
   "source": [
    "##### Najwięcej partii bo aż 24 miało poglądy prawicowe, na drugim miejscu są partie o poglądach lewicowch (19), podium zamykają partie o poglądach centrum (14)."
   ]
  },
  {
   "cell_type": "markdown",
   "metadata": {
    "editable": true,
    "slideshow": {
     "slide_type": "slide"
    },
    "tags": []
   },
   "source": [
    "### Przyjrzyjmy się partiom, które dostały się do Europarlamentu."
   ]
  },
  {
   "cell_type": "code",
   "execution_count": 101,
   "metadata": {
    "editable": true,
    "jupyter": {
     "source_hidden": true
    },
    "slideshow": {
     "slide_type": "fragment"
    },
    "tags": []
   },
   "outputs": [
    {
     "data": {
      "application/vnd.plotly.v1+json": {
       "config": {
        "plotlyServerURL": "https://plot.ly"
       },
       "data": [
        {
         "marker": {
          "color": [
           "hsl(0.0, 70%, 50%)",
           "hsl(25.714285714285715, 70%, 50%)",
           "hsl(51.42857142857143, 70%, 50%)",
           "hsl(77.14285714285714, 70%, 50%)",
           "hsl(102.85714285714286, 70%, 50%)",
           "hsl(128.57142857142858, 70%, 50%)",
           "hsl(154.28571428571428, 70%, 50%)",
           "hsl(180.0, 70%, 50%)"
          ]
         },
         "name": "2004",
         "text": [
          15,
          10,
          7,
          6,
          5,
          4,
          4,
          3
         ],
         "textposition": "outside",
         "type": "bar",
         "x": [
          "Platforma Obywatelska",
          "Liga Polskich Rodzin",
          "Prawo i Sprawiedliwość",
          "Samoobrona",
          "Sojusz Lewicy Demokratycznej - Unia Pracy",
          "Unia Wolności",
          "Polskie Stronnictwo Ludowe",
          "Socjaldemokracja Polska"
         ],
         "y": [
          15,
          10,
          7,
          6,
          5,
          4,
          4,
          3
         ]
        }
       ],
       "frames": [
        {
         "data": [
          {
           "marker": {
            "color": [
             "hsl(0.0, 70%, 50%)",
             "hsl(25.714285714285715, 70%, 50%)",
             "hsl(51.42857142857143, 70%, 50%)",
             "hsl(77.14285714285714, 70%, 50%)",
             "hsl(102.85714285714286, 70%, 50%)",
             "hsl(128.57142857142858, 70%, 50%)",
             "hsl(154.28571428571428, 70%, 50%)",
             "hsl(180.0, 70%, 50%)"
            ]
           },
           "text": [
            "15",
            "10",
            "7",
            "6",
            "5",
            "4",
            "4",
            "3"
           ],
           "textposition": "outside",
           "type": "bar",
           "x": [
            "Platforma Obywatelska",
            "Liga Polskich Rodzin",
            "Prawo i Sprawiedliwość",
            "Samoobrona",
            "Sojusz Lewicy Demokratycznej - Unia Pracy",
            "Unia Wolności",
            "Polskie Stronnictwo Ludowe",
            "Socjaldemokracja Polska"
           ],
           "y": [
            15,
            10,
            7,
            6,
            5,
            4,
            4,
            3
           ]
          }
         ],
         "name": "2004"
        },
        {
         "data": [
          {
           "marker": {
            "color": [
             "hsl(0.0, 70%, 50%)",
             "hsl(51.42857142857143, 70%, 50%)",
             "hsl(102.85714285714286, 70%, 50%)",
             "hsl(154.28571428571428, 70%, 50%)"
            ]
           },
           "text": [
            "25",
            "15",
            "7",
            "3"
           ],
           "textposition": "outside",
           "type": "bar",
           "x": [
            "Platforma Obywatelska",
            "Prawo i Sprawiedliwość",
            "Sojusz Lewicy Demokratycznej - Unia Pracy",
            "Polskie Stronnictwo Ludowe"
           ],
           "y": [
            25,
            15,
            7,
            3
           ]
          }
         ],
         "name": "2009"
        },
        {
         "data": [
          {
           "marker": {
            "color": [
             "hsl(0.0, 70%, 50%)",
             "hsl(51.42857142857143, 70%, 50%)",
             "hsl(102.85714285714286, 70%, 50%)",
             "hsl(205.71428571428572, 70%, 50%)",
             "hsl(154.28571428571428, 70%, 50%)"
            ]
           },
           "text": [
            "19",
            "19",
            "5",
            "4",
            "4"
           ],
           "textposition": "outside",
           "type": "bar",
           "x": [
            "Platforma Obywatelska",
            "Prawo i Sprawiedliwość",
            "Sojusz Lewicy Demokratycznej - Unia Pracy",
            "Nowa Prawica",
            "Polskie Stronnictwo Ludowe"
           ],
           "y": [
            19,
            19,
            5,
            4,
            4
           ]
          }
         ],
         "name": "2014"
        },
        {
         "data": [
          {
           "marker": {
            "color": [
             "hsl(51.42857142857143, 70%, 50%)",
             "hsl(231.42857142857142, 70%, 50%)",
             "hsl(257.14285714285717, 70%, 50%)"
            ]
           },
           "text": [
            "27",
            "22",
            "3"
           ],
           "textposition": "outside",
           "type": "bar",
           "x": [
            "Prawo i Sprawiedliwość",
            "Koalicja Obywatelska",
            "Wiosna"
           ],
           "y": [
            27,
            22,
            3
           ]
          }
         ],
         "name": "2019"
        },
        {
         "data": [
          {
           "marker": {
            "color": [
             "hsl(231.42857142857142, 70%, 50%)",
             "hsl(51.42857142857143, 70%, 50%)",
             "hsl(282.85714285714283, 70%, 50%)",
             "hsl(308.57142857142856, 70%, 50%)",
             "hsl(334.2857142857143, 70%, 50%)"
            ]
           },
           "text": [
            "21",
            "20",
            "6",
            "3",
            "3"
           ],
           "textposition": "outside",
           "type": "bar",
           "x": [
            "Koalicja Obywatelska",
            "Prawo i Sprawiedliwość",
            "Konfederacja",
            "Trzecia Droga",
            "Lewica"
           ],
           "y": [
            21,
            20,
            6,
            3,
            3
           ]
          }
         ],
         "name": "2024"
        }
       ],
       "layout": {
        "showlegend": false,
        "sliders": [
         {
          "active": 0,
          "pad": {
           "t": 50
          },
          "steps": [
           {
            "args": [
             [
              "2004"
             ],
             {
              "frame": {
               "duration": 600,
               "redraw": true
              },
              "mode": "immediate",
              "transition": {
               "duration": 300
              }
             }
            ],
            "label": "2004",
            "method": "animate"
           },
           {
            "args": [
             [
              "2009"
             ],
             {
              "frame": {
               "duration": 600,
               "redraw": true
              },
              "mode": "immediate",
              "transition": {
               "duration": 300
              }
             }
            ],
            "label": "2009",
            "method": "animate"
           },
           {
            "args": [
             [
              "2014"
             ],
             {
              "frame": {
               "duration": 600,
               "redraw": true
              },
              "mode": "immediate",
              "transition": {
               "duration": 300
              }
             }
            ],
            "label": "2014",
            "method": "animate"
           },
           {
            "args": [
             [
              "2019"
             ],
             {
              "frame": {
               "duration": 600,
               "redraw": true
              },
              "mode": "immediate",
              "transition": {
               "duration": 300
              }
             }
            ],
            "label": "2019",
            "method": "animate"
           },
           {
            "args": [
             [
              "2024"
             ],
             {
              "frame": {
               "duration": 600,
               "redraw": true
              },
              "mode": "immediate",
              "transition": {
               "duration": 300
              }
             }
            ],
            "label": "2024",
            "method": "animate"
           }
          ]
         }
        ],
        "template": {
         "data": {
          "bar": [
           {
            "error_x": {
             "color": "#2a3f5f"
            },
            "error_y": {
             "color": "#2a3f5f"
            },
            "marker": {
             "line": {
              "color": "#E5ECF6",
              "width": 0.5
             },
             "pattern": {
              "fillmode": "overlay",
              "size": 10,
              "solidity": 0.2
             }
            },
            "type": "bar"
           }
          ],
          "barpolar": [
           {
            "marker": {
             "line": {
              "color": "#E5ECF6",
              "width": 0.5
             },
             "pattern": {
              "fillmode": "overlay",
              "size": 10,
              "solidity": 0.2
             }
            },
            "type": "barpolar"
           }
          ],
          "carpet": [
           {
            "aaxis": {
             "endlinecolor": "#2a3f5f",
             "gridcolor": "white",
             "linecolor": "white",
             "minorgridcolor": "white",
             "startlinecolor": "#2a3f5f"
            },
            "baxis": {
             "endlinecolor": "#2a3f5f",
             "gridcolor": "white",
             "linecolor": "white",
             "minorgridcolor": "white",
             "startlinecolor": "#2a3f5f"
            },
            "type": "carpet"
           }
          ],
          "choropleth": [
           {
            "colorbar": {
             "outlinewidth": 0,
             "ticks": ""
            },
            "type": "choropleth"
           }
          ],
          "contour": [
           {
            "colorbar": {
             "outlinewidth": 0,
             "ticks": ""
            },
            "colorscale": [
             [
              0,
              "#0d0887"
             ],
             [
              0.1111111111111111,
              "#46039f"
             ],
             [
              0.2222222222222222,
              "#7201a8"
             ],
             [
              0.3333333333333333,
              "#9c179e"
             ],
             [
              0.4444444444444444,
              "#bd3786"
             ],
             [
              0.5555555555555556,
              "#d8576b"
             ],
             [
              0.6666666666666666,
              "#ed7953"
             ],
             [
              0.7777777777777778,
              "#fb9f3a"
             ],
             [
              0.8888888888888888,
              "#fdca26"
             ],
             [
              1,
              "#f0f921"
             ]
            ],
            "type": "contour"
           }
          ],
          "contourcarpet": [
           {
            "colorbar": {
             "outlinewidth": 0,
             "ticks": ""
            },
            "type": "contourcarpet"
           }
          ],
          "heatmap": [
           {
            "colorbar": {
             "outlinewidth": 0,
             "ticks": ""
            },
            "colorscale": [
             [
              0,
              "#0d0887"
             ],
             [
              0.1111111111111111,
              "#46039f"
             ],
             [
              0.2222222222222222,
              "#7201a8"
             ],
             [
              0.3333333333333333,
              "#9c179e"
             ],
             [
              0.4444444444444444,
              "#bd3786"
             ],
             [
              0.5555555555555556,
              "#d8576b"
             ],
             [
              0.6666666666666666,
              "#ed7953"
             ],
             [
              0.7777777777777778,
              "#fb9f3a"
             ],
             [
              0.8888888888888888,
              "#fdca26"
             ],
             [
              1,
              "#f0f921"
             ]
            ],
            "type": "heatmap"
           }
          ],
          "heatmapgl": [
           {
            "colorbar": {
             "outlinewidth": 0,
             "ticks": ""
            },
            "colorscale": [
             [
              0,
              "#0d0887"
             ],
             [
              0.1111111111111111,
              "#46039f"
             ],
             [
              0.2222222222222222,
              "#7201a8"
             ],
             [
              0.3333333333333333,
              "#9c179e"
             ],
             [
              0.4444444444444444,
              "#bd3786"
             ],
             [
              0.5555555555555556,
              "#d8576b"
             ],
             [
              0.6666666666666666,
              "#ed7953"
             ],
             [
              0.7777777777777778,
              "#fb9f3a"
             ],
             [
              0.8888888888888888,
              "#fdca26"
             ],
             [
              1,
              "#f0f921"
             ]
            ],
            "type": "heatmapgl"
           }
          ],
          "histogram": [
           {
            "marker": {
             "pattern": {
              "fillmode": "overlay",
              "size": 10,
              "solidity": 0.2
             }
            },
            "type": "histogram"
           }
          ],
          "histogram2d": [
           {
            "colorbar": {
             "outlinewidth": 0,
             "ticks": ""
            },
            "colorscale": [
             [
              0,
              "#0d0887"
             ],
             [
              0.1111111111111111,
              "#46039f"
             ],
             [
              0.2222222222222222,
              "#7201a8"
             ],
             [
              0.3333333333333333,
              "#9c179e"
             ],
             [
              0.4444444444444444,
              "#bd3786"
             ],
             [
              0.5555555555555556,
              "#d8576b"
             ],
             [
              0.6666666666666666,
              "#ed7953"
             ],
             [
              0.7777777777777778,
              "#fb9f3a"
             ],
             [
              0.8888888888888888,
              "#fdca26"
             ],
             [
              1,
              "#f0f921"
             ]
            ],
            "type": "histogram2d"
           }
          ],
          "histogram2dcontour": [
           {
            "colorbar": {
             "outlinewidth": 0,
             "ticks": ""
            },
            "colorscale": [
             [
              0,
              "#0d0887"
             ],
             [
              0.1111111111111111,
              "#46039f"
             ],
             [
              0.2222222222222222,
              "#7201a8"
             ],
             [
              0.3333333333333333,
              "#9c179e"
             ],
             [
              0.4444444444444444,
              "#bd3786"
             ],
             [
              0.5555555555555556,
              "#d8576b"
             ],
             [
              0.6666666666666666,
              "#ed7953"
             ],
             [
              0.7777777777777778,
              "#fb9f3a"
             ],
             [
              0.8888888888888888,
              "#fdca26"
             ],
             [
              1,
              "#f0f921"
             ]
            ],
            "type": "histogram2dcontour"
           }
          ],
          "mesh3d": [
           {
            "colorbar": {
             "outlinewidth": 0,
             "ticks": ""
            },
            "type": "mesh3d"
           }
          ],
          "parcoords": [
           {
            "line": {
             "colorbar": {
              "outlinewidth": 0,
              "ticks": ""
             }
            },
            "type": "parcoords"
           }
          ],
          "pie": [
           {
            "automargin": true,
            "type": "pie"
           }
          ],
          "scatter": [
           {
            "fillpattern": {
             "fillmode": "overlay",
             "size": 10,
             "solidity": 0.2
            },
            "type": "scatter"
           }
          ],
          "scatter3d": [
           {
            "line": {
             "colorbar": {
              "outlinewidth": 0,
              "ticks": ""
             }
            },
            "marker": {
             "colorbar": {
              "outlinewidth": 0,
              "ticks": ""
             }
            },
            "type": "scatter3d"
           }
          ],
          "scattercarpet": [
           {
            "marker": {
             "colorbar": {
              "outlinewidth": 0,
              "ticks": ""
             }
            },
            "type": "scattercarpet"
           }
          ],
          "scattergeo": [
           {
            "marker": {
             "colorbar": {
              "outlinewidth": 0,
              "ticks": ""
             }
            },
            "type": "scattergeo"
           }
          ],
          "scattergl": [
           {
            "marker": {
             "colorbar": {
              "outlinewidth": 0,
              "ticks": ""
             }
            },
            "type": "scattergl"
           }
          ],
          "scattermapbox": [
           {
            "marker": {
             "colorbar": {
              "outlinewidth": 0,
              "ticks": ""
             }
            },
            "type": "scattermapbox"
           }
          ],
          "scatterpolar": [
           {
            "marker": {
             "colorbar": {
              "outlinewidth": 0,
              "ticks": ""
             }
            },
            "type": "scatterpolar"
           }
          ],
          "scatterpolargl": [
           {
            "marker": {
             "colorbar": {
              "outlinewidth": 0,
              "ticks": ""
             }
            },
            "type": "scatterpolargl"
           }
          ],
          "scatterternary": [
           {
            "marker": {
             "colorbar": {
              "outlinewidth": 0,
              "ticks": ""
             }
            },
            "type": "scatterternary"
           }
          ],
          "surface": [
           {
            "colorbar": {
             "outlinewidth": 0,
             "ticks": ""
            },
            "colorscale": [
             [
              0,
              "#0d0887"
             ],
             [
              0.1111111111111111,
              "#46039f"
             ],
             [
              0.2222222222222222,
              "#7201a8"
             ],
             [
              0.3333333333333333,
              "#9c179e"
             ],
             [
              0.4444444444444444,
              "#bd3786"
             ],
             [
              0.5555555555555556,
              "#d8576b"
             ],
             [
              0.6666666666666666,
              "#ed7953"
             ],
             [
              0.7777777777777778,
              "#fb9f3a"
             ],
             [
              0.8888888888888888,
              "#fdca26"
             ],
             [
              1,
              "#f0f921"
             ]
            ],
            "type": "surface"
           }
          ],
          "table": [
           {
            "cells": {
             "fill": {
              "color": "#EBF0F8"
             },
             "line": {
              "color": "white"
             }
            },
            "header": {
             "fill": {
              "color": "#C8D4E3"
             },
             "line": {
              "color": "white"
             }
            },
            "type": "table"
           }
          ]
         },
         "layout": {
          "annotationdefaults": {
           "arrowcolor": "#2a3f5f",
           "arrowhead": 0,
           "arrowwidth": 1
          },
          "autotypenumbers": "strict",
          "coloraxis": {
           "colorbar": {
            "outlinewidth": 0,
            "ticks": ""
           }
          },
          "colorscale": {
           "diverging": [
            [
             0,
             "#8e0152"
            ],
            [
             0.1,
             "#c51b7d"
            ],
            [
             0.2,
             "#de77ae"
            ],
            [
             0.3,
             "#f1b6da"
            ],
            [
             0.4,
             "#fde0ef"
            ],
            [
             0.5,
             "#f7f7f7"
            ],
            [
             0.6,
             "#e6f5d0"
            ],
            [
             0.7,
             "#b8e186"
            ],
            [
             0.8,
             "#7fbc41"
            ],
            [
             0.9,
             "#4d9221"
            ],
            [
             1,
             "#276419"
            ]
           ],
           "sequential": [
            [
             0,
             "#0d0887"
            ],
            [
             0.1111111111111111,
             "#46039f"
            ],
            [
             0.2222222222222222,
             "#7201a8"
            ],
            [
             0.3333333333333333,
             "#9c179e"
            ],
            [
             0.4444444444444444,
             "#bd3786"
            ],
            [
             0.5555555555555556,
             "#d8576b"
            ],
            [
             0.6666666666666666,
             "#ed7953"
            ],
            [
             0.7777777777777778,
             "#fb9f3a"
            ],
            [
             0.8888888888888888,
             "#fdca26"
            ],
            [
             1,
             "#f0f921"
            ]
           ],
           "sequentialminus": [
            [
             0,
             "#0d0887"
            ],
            [
             0.1111111111111111,
             "#46039f"
            ],
            [
             0.2222222222222222,
             "#7201a8"
            ],
            [
             0.3333333333333333,
             "#9c179e"
            ],
            [
             0.4444444444444444,
             "#bd3786"
            ],
            [
             0.5555555555555556,
             "#d8576b"
            ],
            [
             0.6666666666666666,
             "#ed7953"
            ],
            [
             0.7777777777777778,
             "#fb9f3a"
            ],
            [
             0.8888888888888888,
             "#fdca26"
            ],
            [
             1,
             "#f0f921"
            ]
           ]
          },
          "colorway": [
           "#636efa",
           "#EF553B",
           "#00cc96",
           "#ab63fa",
           "#FFA15A",
           "#19d3f3",
           "#FF6692",
           "#B6E880",
           "#FF97FF",
           "#FECB52"
          ],
          "font": {
           "color": "#2a3f5f"
          },
          "geo": {
           "bgcolor": "white",
           "lakecolor": "white",
           "landcolor": "#E5ECF6",
           "showlakes": true,
           "showland": true,
           "subunitcolor": "white"
          },
          "hoverlabel": {
           "align": "left"
          },
          "hovermode": "closest",
          "mapbox": {
           "style": "light"
          },
          "paper_bgcolor": "white",
          "plot_bgcolor": "#E5ECF6",
          "polar": {
           "angularaxis": {
            "gridcolor": "white",
            "linecolor": "white",
            "ticks": ""
           },
           "bgcolor": "#E5ECF6",
           "radialaxis": {
            "gridcolor": "white",
            "linecolor": "white",
            "ticks": ""
           }
          },
          "scene": {
           "xaxis": {
            "backgroundcolor": "#E5ECF6",
            "gridcolor": "white",
            "gridwidth": 2,
            "linecolor": "white",
            "showbackground": true,
            "ticks": "",
            "zerolinecolor": "white"
           },
           "yaxis": {
            "backgroundcolor": "#E5ECF6",
            "gridcolor": "white",
            "gridwidth": 2,
            "linecolor": "white",
            "showbackground": true,
            "ticks": "",
            "zerolinecolor": "white"
           },
           "zaxis": {
            "backgroundcolor": "#E5ECF6",
            "gridcolor": "white",
            "gridwidth": 2,
            "linecolor": "white",
            "showbackground": true,
            "ticks": "",
            "zerolinecolor": "white"
           }
          },
          "shapedefaults": {
           "line": {
            "color": "#2a3f5f"
           }
          },
          "ternary": {
           "aaxis": {
            "gridcolor": "white",
            "linecolor": "white",
            "ticks": ""
           },
           "baxis": {
            "gridcolor": "white",
            "linecolor": "white",
            "ticks": ""
           },
           "bgcolor": "#E5ECF6",
           "caxis": {
            "gridcolor": "white",
            "linecolor": "white",
            "ticks": ""
           }
          },
          "title": {
           "x": 0.05
          },
          "xaxis": {
           "automargin": true,
           "gridcolor": "white",
           "linecolor": "white",
           "ticks": "",
           "title": {
            "standoff": 15
           },
           "zerolinecolor": "white",
           "zerolinewidth": 2
          },
          "yaxis": {
           "automargin": true,
           "gridcolor": "white",
           "linecolor": "white",
           "ticks": "",
           "title": {
            "standoff": 15
           },
           "zerolinecolor": "white",
           "zerolinewidth": 2
          }
         }
        },
        "title": {
         "text": "Polskie mandaty do Europarlamentu"
        },
        "updatemenus": [
         {
          "buttons": [
           {
            "args": [
             null,
             {
              "frame": {
               "duration": 1000,
               "redraw": true
              },
              "fromcurrent": true,
              "transition": {
               "duration": 300
              }
             }
            ],
            "label": "Start",
            "method": "animate"
           },
           {
            "args": [
             [
              null
             ],
             {
              "frame": {
               "duration": 0,
               "redraw": false
              },
              "mode": "immediate",
              "transition": {
               "duration": 0
              }
             }
            ],
            "label": "Stop",
            "method": "animate"
           }
          ],
          "type": "buttons"
         }
        ],
        "xaxis": {
         "tickangle": -45,
         "title": {
          "text": "Partia"
         }
        },
        "yaxis": {
         "range": [
          0,
          32
         ],
         "title": {
          "text": "Liczba mandatów"
         }
        }
       }
      },
      "image/png": "[encoded data removed]",
      "text/html": [
       "<div>                            <div id=\"210e1d91-3b78-4d72-a68f-fa41c03f0efb\" class=\"plotly-graph-div\" style=\"height:525px; width:100%;\"></div>            <script type=\"text/javascript\">                require([\"plotly\"], function(Plotly) {                    window.PLOTLYENV=window.PLOTLYENV || {};                                    if (document.getElementById(\"210e1d91-3b78-4d72-a68f-fa41c03f0efb\")) {                    Plotly.newPlot(                        \"210e1d91-3b78-4d72-a68f-fa41c03f0efb\",                        [{\"marker\":{\"color\":[\"hsl(0.0, 70%, 50%)\",\"hsl(25.714285714285715, 70%, 50%)\",\"hsl(51.42857142857143, 70%, 50%)\",\"hsl(77.14285714285714, 70%, 50%)\",\"hsl(102.85714285714286, 70%, 50%)\",\"hsl(128.57142857142858, 70%, 50%)\",\"hsl(154.28571428571428, 70%, 50%)\",\"hsl(180.0, 70%, 50%)\"]},\"name\":\"2004\",\"text\":[15.0,10.0,7.0,6.0,5.0,4.0,4.0,3.0],\"textposition\":\"outside\",\"x\":[\"Platforma Obywatelska\",\"Liga Polskich Rodzin\",\"Prawo i Sprawiedliwość\",\"Samoobrona\",\"Sojusz Lewicy Demokratycznej - Unia Pracy\",\"Unia Wolności\",\"Polskie Stronnictwo Ludowe\",\"Socjaldemokracja Polska\"],\"y\":[15,10,7,6,5,4,4,3],\"type\":\"bar\"}],                        {\"template\":{\"data\":{\"histogram2dcontour\":[{\"type\":\"histogram2dcontour\",\"colorbar\":{\"outlinewidth\":0,\"ticks\":\"\"},\"colorscale\":[[0.0,\"#0d0887\"],[0.1111111111111111,\"#46039f\"],[0.2222222222222222,\"#7201a8\"],[0.3333333333333333,\"#9c179e\"],[0.4444444444444444,\"#bd3786\"],[0.5555555555555556,\"#d8576b\"],[0.6666666666666666,\"#ed7953\"],[0.7777777777777778,\"#fb9f3a\"],[0.8888888888888888,\"#fdca26\"],[1.0,\"#f0f921\"]]}],\"choropleth\":[{\"type\":\"choropleth\",\"colorbar\":{\"outlinewidth\":0,\"ticks\":\"\"}}],\"histogram2d\":[{\"type\":\"histogram2d\",\"colorbar\":{\"outlinewidth\":0,\"ticks\":\"\"},\"colorscale\":[[0.0,\"#0d0887\"],[0.1111111111111111,\"#46039f\"],[0.2222222222222222,\"#7201a8\"],[0.3333333333333333,\"#9c179e\"],[0.4444444444444444,\"#bd3786\"],[0.5555555555555556,\"#d8576b\"],[0.6666666666666666,\"#ed7953\"],[0.7777777777777778,\"#fb9f3a\"],[0.8888888888888888,\"#fdca26\"],[1.0,\"#f0f921\"]]}],\"heatmap\":[{\"type\":\"heatmap\",\"colorbar\":{\"outlinewidth\":0,\"ticks\":\"\"},\"colorscale\":[[0.0,\"#0d0887\"],[0.1111111111111111,\"#46039f\"],[0.2222222222222222,\"#7201a8\"],[0.3333333333333333,\"#9c179e\"],[0.4444444444444444,\"#bd3786\"],[0.5555555555555556,\"#d8576b\"],[0.6666666666666666,\"#ed7953\"],[0.7777777777777778,\"#fb9f3a\"],[0.8888888888888888,\"#fdca26\"],[1.0,\"#f0f921\"]]}],\"heatmapgl\":[{\"type\":\"heatmapgl\",\"colorbar\":{\"outlinewidth\":0,\"ticks\":\"\"},\"colorscale\":[[0.0,\"#0d0887\"],[0.1111111111111111,\"#46039f\"],[0.2222222222222222,\"#7201a8\"],[0.3333333333333333,\"#9c179e\"],[0.4444444444444444,\"#bd3786\"],[0.5555555555555556,\"#d8576b\"],[0.6666666666666666,\"#ed7953\"],[0.7777777777777778,\"#fb9f3a\"],[0.8888888888888888,\"#fdca26\"],[1.0,\"#f0f921\"]]}],\"contourcarpet\":[{\"type\":\"contourcarpet\",\"colorbar\":{\"outlinewidth\":0,\"ticks\":\"\"}}],\"contour\":[{\"type\":\"contour\",\"colorbar\":{\"outlinewidth\":0,\"ticks\":\"\"},\"colorscale\":[[0.0,\"#0d0887\"],[0.1111111111111111,\"#46039f\"],[0.2222222222222222,\"#7201a8\"],[0.3333333333333333,\"#9c179e\"],[0.4444444444444444,\"#bd3786\"],[0.5555555555555556,\"#d8576b\"],[0.6666666666666666,\"#ed7953\"],[0.7777777777777778,\"#fb9f3a\"],[0.8888888888888888,\"#fdca26\"],[1.0,\"#f0f921\"]]}],\"surface\":[{\"type\":\"surface\",\"colorbar\":{\"outlinewidth\":0,\"ticks\":\"\"},\"colorscale\":[[0.0,\"#0d0887\"],[0.1111111111111111,\"#46039f\"],[0.2222222222222222,\"#7201a8\"],[0.3333333333333333,\"#9c179e\"],[0.4444444444444444,\"#bd3786\"],[0.5555555555555556,\"#d8576b\"],[0.6666666666666666,\"#ed7953\"],[0.7777777777777778,\"#fb9f3a\"],[0.8888888888888888,\"#fdca26\"],[1.0,\"#f0f921\"]]}],\"mesh3d\":[{\"type\":\"mesh3d\",\"colorbar\":{\"outlinewidth\":0,\"ticks\":\"\"}}],\"scatter\":[{\"fillpattern\":{\"fillmode\":\"overlay\",\"size\":10,\"solidity\":0.2},\"type\":\"scatter\"}],\"parcoords\":[{\"type\":\"parcoords\",\"line\":{\"colorbar\":{\"outlinewidth\":0,\"ticks\":\"\"}}}],\"scatterpolargl\":[{\"type\":\"scatterpolargl\",\"marker\":{\"colorbar\":{\"outlinewidth\":0,\"ticks\":\"\"}}}],\"bar\":[{\"error_x\":{\"color\":\"#2a3f5f\"},\"error_y\":{\"color\":\"#2a3f5f\"},\"marker\":{\"line\":{\"color\":\"#E5ECF6\",\"width\":0.5},\"pattern\":{\"fillmode\":\"overlay\",\"size\":10,\"solidity\":0.2}},\"type\":\"bar\"}],\"scattergeo\":[{\"type\":\"scattergeo\",\"marker\":{\"colorbar\":{\"outlinewidth\":0,\"ticks\":\"\"}}}],\"scatterpolar\":[{\"type\":\"scatterpolar\",\"marker\":{\"colorbar\":{\"outlinewidth\":0,\"ticks\":\"\"}}}],\"histogram\":[{\"marker\":{\"pattern\":{\"fillmode\":\"overlay\",\"size\":10,\"solidity\":0.2}},\"type\":\"histogram\"}],\"scattergl\":[{\"type\":\"scattergl\",\"marker\":{\"colorbar\":{\"outlinewidth\":0,\"ticks\":\"\"}}}],\"scatter3d\":[{\"type\":\"scatter3d\",\"line\":{\"colorbar\":{\"outlinewidth\":0,\"ticks\":\"\"}},\"marker\":{\"colorbar\":{\"outlinewidth\":0,\"ticks\":\"\"}}}],\"scattermapbox\":[{\"type\":\"scattermapbox\",\"marker\":{\"colorbar\":{\"outlinewidth\":0,\"ticks\":\"\"}}}],\"scatterternary\":[{\"type\":\"scatterternary\",\"marker\":{\"colorbar\":{\"outlinewidth\":0,\"ticks\":\"\"}}}],\"scattercarpet\":[{\"type\":\"scattercarpet\",\"marker\":{\"colorbar\":{\"outlinewidth\":0,\"ticks\":\"\"}}}],\"carpet\":[{\"aaxis\":{\"endlinecolor\":\"#2a3f5f\",\"gridcolor\":\"white\",\"linecolor\":\"white\",\"minorgridcolor\":\"white\",\"startlinecolor\":\"#2a3f5f\"},\"baxis\":{\"endlinecolor\":\"#2a3f5f\",\"gridcolor\":\"white\",\"linecolor\":\"white\",\"minorgridcolor\":\"white\",\"startlinecolor\":\"#2a3f5f\"},\"type\":\"carpet\"}],\"table\":[{\"cells\":{\"fill\":{\"color\":\"#EBF0F8\"},\"line\":{\"color\":\"white\"}},\"header\":{\"fill\":{\"color\":\"#C8D4E3\"},\"line\":{\"color\":\"white\"}},\"type\":\"table\"}],\"barpolar\":[{\"marker\":{\"line\":{\"color\":\"#E5ECF6\",\"width\":0.5},\"pattern\":{\"fillmode\":\"overlay\",\"size\":10,\"solidity\":0.2}},\"type\":\"barpolar\"}],\"pie\":[{\"automargin\":true,\"type\":\"pie\"}]},\"layout\":{\"autotypenumbers\":\"strict\",\"colorway\":[\"#636efa\",\"#EF553B\",\"#00cc96\",\"#ab63fa\",\"#FFA15A\",\"#19d3f3\",\"#FF6692\",\"#B6E880\",\"#FF97FF\",\"#FECB52\"],\"font\":{\"color\":\"#2a3f5f\"},\"hovermode\":\"closest\",\"hoverlabel\":{\"align\":\"left\"},\"paper_bgcolor\":\"white\",\"plot_bgcolor\":\"#E5ECF6\",\"polar\":{\"bgcolor\":\"#E5ECF6\",\"angularaxis\":{\"gridcolor\":\"white\",\"linecolor\":\"white\",\"ticks\":\"\"},\"radialaxis\":{\"gridcolor\":\"white\",\"linecolor\":\"white\",\"ticks\":\"\"}},\"ternary\":{\"bgcolor\":\"#E5ECF6\",\"aaxis\":{\"gridcolor\":\"white\",\"linecolor\":\"white\",\"ticks\":\"\"},\"baxis\":{\"gridcolor\":\"white\",\"linecolor\":\"white\",\"ticks\":\"\"},\"caxis\":{\"gridcolor\":\"white\",\"linecolor\":\"white\",\"ticks\":\"\"}},\"coloraxis\":{\"colorbar\":{\"outlinewidth\":0,\"ticks\":\"\"}},\"colorscale\":{\"sequential\":[[0.0,\"#0d0887\"],[0.1111111111111111,\"#46039f\"],[0.2222222222222222,\"#7201a8\"],[0.3333333333333333,\"#9c179e\"],[0.4444444444444444,\"#bd3786\"],[0.5555555555555556,\"#d8576b\"],[0.6666666666666666,\"#ed7953\"],[0.7777777777777778,\"#fb9f3a\"],[0.8888888888888888,\"#fdca26\"],[1.0,\"#f0f921\"]],\"sequentialminus\":[[0.0,\"#0d0887\"],[0.1111111111111111,\"#46039f\"],[0.2222222222222222,\"#7201a8\"],[0.3333333333333333,\"#9c179e\"],[0.4444444444444444,\"#bd3786\"],[0.5555555555555556,\"#d8576b\"],[0.6666666666666666,\"#ed7953\"],[0.7777777777777778,\"#fb9f3a\"],[0.8888888888888888,\"#fdca26\"],[1.0,\"#f0f921\"]],\"diverging\":[[0,\"#8e0152\"],[0.1,\"#c51b7d\"],[0.2,\"#de77ae\"],[0.3,\"#f1b6da\"],[0.4,\"#fde0ef\"],[0.5,\"#f7f7f7\"],[0.6,\"#e6f5d0\"],[0.7,\"#b8e186\"],[0.8,\"#7fbc41\"],[0.9,\"#4d9221\"],[1,\"#276419\"]]},\"xaxis\":{\"gridcolor\":\"white\",\"linecolor\":\"white\",\"ticks\":\"\",\"title\":{\"standoff\":15},\"zerolinecolor\":\"white\",\"automargin\":true,\"zerolinewidth\":2},\"yaxis\":{\"gridcolor\":\"white\",\"linecolor\":\"white\",\"ticks\":\"\",\"title\":{\"standoff\":15},\"zerolinecolor\":\"white\",\"automargin\":true,\"zerolinewidth\":2},\"scene\":{\"xaxis\":{\"backgroundcolor\":\"#E5ECF6\",\"gridcolor\":\"white\",\"linecolor\":\"white\",\"showbackground\":true,\"ticks\":\"\",\"zerolinecolor\":\"white\",\"gridwidth\":2},\"yaxis\":{\"backgroundcolor\":\"#E5ECF6\",\"gridcolor\":\"white\",\"linecolor\":\"white\",\"showbackground\":true,\"ticks\":\"\",\"zerolinecolor\":\"white\",\"gridwidth\":2},\"zaxis\":{\"backgroundcolor\":\"#E5ECF6\",\"gridcolor\":\"white\",\"linecolor\":\"white\",\"showbackground\":true,\"ticks\":\"\",\"zerolinecolor\":\"white\",\"gridwidth\":2}},\"shapedefaults\":{\"line\":{\"color\":\"#2a3f5f\"}},\"annotationdefaults\":{\"arrowcolor\":\"#2a3f5f\",\"arrowhead\":0,\"arrowwidth\":1},\"geo\":{\"bgcolor\":\"white\",\"landcolor\":\"#E5ECF6\",\"subunitcolor\":\"white\",\"showland\":true,\"showlakes\":true,\"lakecolor\":\"white\"},\"title\":{\"x\":0.05},\"mapbox\":{\"style\":\"light\"}}},\"xaxis\":{\"title\":{\"text\":\"Partia\"},\"tickangle\":-45},\"yaxis\":{\"title\":{\"text\":\"Liczba mandatów\"},\"range\":[0,32]},\"title\":{\"text\":\"Polskie mandaty do Europarlamentu\"},\"sliders\":[{\"active\":0,\"pad\":{\"t\":50},\"steps\":[{\"args\":[[\"2004\"],{\"mode\":\"immediate\",\"frame\":{\"duration\":600,\"redraw\":true},\"transition\":{\"duration\":300}}],\"label\":\"2004\",\"method\":\"animate\"},{\"args\":[[\"2009\"],{\"mode\":\"immediate\",\"frame\":{\"duration\":600,\"redraw\":true},\"transition\":{\"duration\":300}}],\"label\":\"2009\",\"method\":\"animate\"},{\"args\":[[\"2014\"],{\"mode\":\"immediate\",\"frame\":{\"duration\":600,\"redraw\":true},\"transition\":{\"duration\":300}}],\"label\":\"2014\",\"method\":\"animate\"},{\"args\":[[\"2019\"],{\"mode\":\"immediate\",\"frame\":{\"duration\":600,\"redraw\":true},\"transition\":{\"duration\":300}}],\"label\":\"2019\",\"method\":\"animate\"},{\"args\":[[\"2024\"],{\"mode\":\"immediate\",\"frame\":{\"duration\":600,\"redraw\":true},\"transition\":{\"duration\":300}}],\"label\":\"2024\",\"method\":\"animate\"}]}],\"updatemenus\":[{\"buttons\":[{\"args\":[null,{\"frame\":{\"duration\":1000,\"redraw\":true},\"fromcurrent\":true,\"transition\":{\"duration\":300}}],\"label\":\"Start\",\"method\":\"animate\"},{\"args\":[[null],{\"mode\":\"immediate\",\"frame\":{\"duration\":0,\"redraw\":false},\"transition\":{\"duration\":0}}],\"label\":\"Stop\",\"method\":\"animate\"}],\"type\":\"buttons\"}],\"showlegend\":false},                        {\"responsive\": true}                    ).then(function(){\n",
       "                            Plotly.addFrames('210e1d91-3b78-4d72-a68f-fa41c03f0efb', [{\"data\":[{\"marker\":{\"color\":[\"hsl(0.0, 70%, 50%)\",\"hsl(25.714285714285715, 70%, 50%)\",\"hsl(51.42857142857143, 70%, 50%)\",\"hsl(77.14285714285714, 70%, 50%)\",\"hsl(102.85714285714286, 70%, 50%)\",\"hsl(128.57142857142858, 70%, 50%)\",\"hsl(154.28571428571428, 70%, 50%)\",\"hsl(180.0, 70%, 50%)\"]},\"text\":[\"15\",\"10\",\"7\",\"6\",\"5\",\"4\",\"4\",\"3\"],\"textposition\":\"outside\",\"x\":[\"Platforma Obywatelska\",\"Liga Polskich Rodzin\",\"Prawo i Sprawiedliwość\",\"Samoobrona\",\"Sojusz Lewicy Demokratycznej - Unia Pracy\",\"Unia Wolności\",\"Polskie Stronnictwo Ludowe\",\"Socjaldemokracja Polska\"],\"y\":[15,10,7,6,5,4,4,3],\"type\":\"bar\"}],\"name\":\"2004\"},{\"data\":[{\"marker\":{\"color\":[\"hsl(0.0, 70%, 50%)\",\"hsl(51.42857142857143, 70%, 50%)\",\"hsl(102.85714285714286, 70%, 50%)\",\"hsl(154.28571428571428, 70%, 50%)\"]},\"text\":[\"25\",\"15\",\"7\",\"3\"],\"textposition\":\"outside\",\"x\":[\"Platforma Obywatelska\",\"Prawo i Sprawiedliwość\",\"Sojusz Lewicy Demokratycznej - Unia Pracy\",\"Polskie Stronnictwo Ludowe\"],\"y\":[25,15,7,3],\"type\":\"bar\"}],\"name\":\"2009\"},{\"data\":[{\"marker\":{\"color\":[\"hsl(0.0, 70%, 50%)\",\"hsl(51.42857142857143, 70%, 50%)\",\"hsl(102.85714285714286, 70%, 50%)\",\"hsl(205.71428571428572, 70%, 50%)\",\"hsl(154.28571428571428, 70%, 50%)\"]},\"text\":[\"19\",\"19\",\"5\",\"4\",\"4\"],\"textposition\":\"outside\",\"x\":[\"Platforma Obywatelska\",\"Prawo i Sprawiedliwość\",\"Sojusz Lewicy Demokratycznej - Unia Pracy\",\"Nowa Prawica\",\"Polskie Stronnictwo Ludowe\"],\"y\":[19,19,5,4,4],\"type\":\"bar\"}],\"name\":\"2014\"},{\"data\":[{\"marker\":{\"color\":[\"hsl(51.42857142857143, 70%, 50%)\",\"hsl(231.42857142857142, 70%, 50%)\",\"hsl(257.14285714285717, 70%, 50%)\"]},\"text\":[\"27\",\"22\",\"3\"],\"textposition\":\"outside\",\"x\":[\"Prawo i Sprawiedliwość\",\"Koalicja Obywatelska\",\"Wiosna\"],\"y\":[27,22,3],\"type\":\"bar\"}],\"name\":\"2019\"},{\"data\":[{\"marker\":{\"color\":[\"hsl(231.42857142857142, 70%, 50%)\",\"hsl(51.42857142857143, 70%, 50%)\",\"hsl(282.85714285714283, 70%, 50%)\",\"hsl(308.57142857142856, 70%, 50%)\",\"hsl(334.2857142857143, 70%, 50%)\"]},\"text\":[\"21\",\"20\",\"6\",\"3\",\"3\"],\"textposition\":\"outside\",\"x\":[\"Koalicja Obywatelska\",\"Prawo i Sprawiedliwość\",\"Konfederacja\",\"Trzecia Droga\",\"Lewica\"],\"y\":[21,20,6,3,3],\"type\":\"bar\"}],\"name\":\"2024\"}]);\n",
       "                        }).then(function(){\n",
       "                            \n",
       "var gd = document.getElementById('210e1d91-3b78-4d72-a68f-fa41c03f0efb');\n",
       "var x = new MutationObserver(function (mutations, observer) {{\n",
       "        var display = window.getComputedStyle(gd).display;\n",
       "        if (!display || display === 'none') {{\n",
       "            console.log([gd, 'removed!']);\n",
       "            Plotly.purge(gd);\n",
       "            observer.disconnect();\n",
       "        }}\n",
       "}});\n",
       "\n",
       "// Listen for the removal of the full notebook cells\n",
       "var notebookContainer = gd.closest('#notebook-container');\n",
       "if (notebookContainer) {{\n",
       "    x.observe(notebookContainer, {childList: true});\n",
       "}}\n",
       "\n",
       "// Listen for the clearing of the current output cell\n",
       "var outputEl = gd.closest('.output');\n",
       "if (outputEl) {{\n",
       "    x.observe(outputEl, {childList: true});\n",
       "}}\n",
       "\n",
       "                        })                };                });            </script>        </div>"
      ]
     },
     "metadata": {},
     "output_type": "display_data"
    }
   ],
   "source": [
    "# Filtrowanie partii, które dostały mandaty do Europarlamentu\n",
    "df_europarlament = df[df[\"MANDATY TAK NIE\"] == \"Tak\"].copy()\n",
    "df_europarlament[\"MANDATY ILOSC\"] = pd.to_numeric(df_europarlament[\"MANDATY ILOSC\"], errors='coerce')\n",
    "\n",
    "years = sorted(df_europarlament[\"ROK\"].unique())\n",
    "partie = df_europarlament[\"PARTIA\"].unique()\n",
    "\n",
    "# Kolory partii (spójne we wszystkich latach)\n",
    "colors = {\n",
    "    partia: f\"hsl({i * 360 / len(partie)}, 70%, 50%)\"\n",
    "    for i, partia in enumerate(partie)\n",
    "}\n",
    "\n",
    "# Inicjalizacja figury\n",
    "fig = go.Figure()\n",
    "initial_year = years[0]\n",
    "df_initial = df_europarlament[df_europarlament[\"ROK\"] == initial_year]\n",
    "\n",
    "fig.add_trace(go.Bar(\n",
    "    x=df_initial[\"PARTIA\"],\n",
    "    y=df_initial[\"MANDATY ILOSC\"],\n",
    "    marker_color=[colors[p] for p in df_initial[\"PARTIA\"]],\n",
    "    text=df_initial[\"MANDATY ILOSC\"],\n",
    "    textposition='outside',\n",
    "    name=str(initial_year)\n",
    "))\n",
    "\n",
    "# Ramki animacji i kroki suwaka\n",
    "frames = []\n",
    "steps = []\n",
    "\n",
    "for year in years:\n",
    "    df_year = df_europarlament[df_europarlament[\"ROK\"] == year]\n",
    "    partie_year = df_year[\"PARTIA\"].tolist()\n",
    "    y_values = df_year[\"MANDATY ILOSC\"].tolist()\n",
    "\n",
    "    frame = go.Frame(\n",
    "        data=[go.Bar(\n",
    "            x=partie_year,\n",
    "            y=y_values,\n",
    "            marker_color=[colors[p] for p in partie_year],\n",
    "            text=y_values,\n",
    "            textposition='outside'\n",
    "        )],\n",
    "        name=str(year)\n",
    "    )\n",
    "    frames.append(frame)\n",
    "\n",
    "    steps.append({\n",
    "        \"method\": \"animate\",\n",
    "        \"args\": [[str(year)], {\n",
    "            \"mode\": \"immediate\",\n",
    "            \"frame\": {\"duration\": 600, \"redraw\": True},\n",
    "            \"transition\": {\"duration\": 300}\n",
    "        }],\n",
    "        \"label\": str(year)\n",
    "    })\n",
    "\n",
    "fig.frames = frames\n",
    "\n",
    "# Layout wykresu\n",
    "fig.update_layout(\n",
    "    title=\"Polskie mandaty do Europarlamentu\",\n",
    "    xaxis_title=\"Partia\",\n",
    "    yaxis_title=\"Liczba mandatów\",\n",
    "    xaxis_tickangle=-45,\n",
    "    yaxis=dict(range=[0, df_europarlament[\"MANDATY ILOSC\"].max() + 5]),\n",
    "    sliders=[{\n",
    "        \"active\": 0,\n",
    "        \"pad\": {\"t\": 50},\n",
    "        \"steps\": steps\n",
    "    }],\n",
    "    updatemenus=[{\n",
    "        \"type\": \"buttons\",\n",
    "        \"buttons\": [\n",
    "            {\"label\": \"Start\", \"method\": \"animate\", \"args\": [None, {\n",
    "                \"frame\": {\"duration\": 1000, \"redraw\": True},\n",
    "                \"fromcurrent\": True,\n",
    "                \"transition\": {\"duration\": 300}\n",
    "            }]},\n",
    "            {\"label\": \"Stop\", \"method\": \"animate\", \"args\": [[None], {\n",
    "                \"mode\": \"immediate\",\n",
    "                \"frame\": {\"duration\": 0, \"redraw\": False},\n",
    "                \"transition\": {\"duration\": 0}\n",
    "            }]}\n",
    "        ]\n",
    "    }],\n",
    "    showlegend=False\n",
    ")\n",
    "\n",
    "fig.show()"
   ]
  },
  {
   "cell_type": "markdown",
   "metadata": {
    "editable": true,
    "slideshow": {
     "slide_type": "fragment"
    },
    "tags": []
   },
   "source": [
    "### Rekord posiadanych mandatów należy do Prawa i Sprawiedliwości w latach 2019-2024 (27 mandatów). Najmniej mandatów (3) miały: Socjaldemokracja Polska (2004), Polskie Stronnictwo Ludowe (2009), Wiosna (2019), Trzecia Droga i Lewica (2024). Najdłużej w Europarlamencie była partia: Platforma Obywatelska oraz Prawo i Sprawiedliwość bo aż 5 kadencji. W latach 2014-2019 liczba mandatów PO i PIS była równa i wynosiła po 19 mandatów. Najwięcej polskich partii w Europarlamencie było w latach 2004-2009 bo, aż 8. Za to najmniej w latach 2019-2024 bo tylko 3 partie."
   ]
  },
  {
   "cell_type": "code",
   "execution_count": 102,
   "metadata": {
    "editable": true,
    "jupyter": {
     "source_hidden": true
    },
    "slideshow": {
     "slide_type": "slide"
    },
    "tags": []
   },
   "outputs": [
    {
     "data": {
      "application/vnd.plotly.v1+json": {
       "config": {
        "plotlyServerURL": "https://plot.ly"
       },
       "data": [
        {
         "marker": {
          "color": [
           "hsl(0.0, 70%, 50%)",
           "hsl(25.714285714285715, 70%, 50%)",
           "hsl(51.42857142857143, 70%, 50%)",
           "hsl(77.14285714285714, 70%, 50%)",
           "hsl(102.85714285714286, 70%, 50%)",
           "hsl(128.57142857142858, 70%, 50%)",
           "hsl(154.28571428571428, 70%, 50%)",
           "hsl(180.0, 70%, 50%)"
          ]
         },
         "name": "2004",
         "text": [
          15.92,
          24.1,
          6.34,
          12.67,
          10.78,
          5.33,
          9.35,
          7.33
         ],
         "textposition": "outside",
         "type": "bar",
         "x": [
          "Liga Polskich Rodzin",
          "Platforma Obywatelska",
          "Polskie Stronnictwo Ludowe",
          "Prawo i Sprawiedliwość",
          "Samoobrona",
          "Socjaldemokracja Polska",
          "Sojusz Lewicy Demokratycznej - Unia Pracy",
          "Unia Wolności"
         ],
         "y": [
          15.92,
          24.1,
          6.34,
          12.67,
          10.78,
          5.33,
          9.35,
          7.33
         ]
        }
       ],
       "frames": [
        {
         "data": [
          {
           "marker": {
            "color": [
             "hsl(0.0, 70%, 50%)",
             "hsl(25.714285714285715, 70%, 50%)",
             "hsl(51.42857142857143, 70%, 50%)",
             "hsl(77.14285714285714, 70%, 50%)",
             "hsl(102.85714285714286, 70%, 50%)",
             "hsl(128.57142857142858, 70%, 50%)",
             "hsl(154.28571428571428, 70%, 50%)",
             "hsl(180.0, 70%, 50%)"
            ]
           },
           "text": [
            "15.92",
            "24.1",
            "6.34",
            "12.67",
            "10.78",
            "5.33",
            "9.35",
            "7.33"
           ],
           "textposition": "outside",
           "type": "bar",
           "x": [
            "Liga Polskich Rodzin",
            "Platforma Obywatelska",
            "Polskie Stronnictwo Ludowe",
            "Prawo i Sprawiedliwość",
            "Samoobrona",
            "Socjaldemokracja Polska",
            "Sojusz Lewicy Demokratycznej - Unia Pracy",
            "Unia Wolności"
           ],
           "y": [
            15.92,
            24.1,
            6.34,
            12.67,
            10.78,
            5.33,
            9.35,
            7.33
           ]
          }
         ],
         "name": "2004"
        },
        {
         "data": [
          {
           "marker": {
            "color": [
             "hsl(25.714285714285715, 70%, 50%)",
             "hsl(51.42857142857143, 70%, 50%)",
             "hsl(77.14285714285714, 70%, 50%)",
             "hsl(154.28571428571428, 70%, 50%)"
            ]
           },
           "text": [
            "44.43",
            "7.01",
            "27.4",
            "12.34"
           ],
           "textposition": "outside",
           "type": "bar",
           "x": [
            "Platforma Obywatelska",
            "Polskie Stronnictwo Ludowe",
            "Prawo i Sprawiedliwość",
            "Sojusz Lewicy Demokratycznej - Unia Pracy"
           ],
           "y": [
            44.43,
            7.01,
            27.4,
            12.34
           ]
          }
         ],
         "name": "2009"
        },
        {
         "data": [
          {
           "marker": {
            "color": [
             "hsl(205.71428571428572, 70%, 50%)",
             "hsl(25.714285714285715, 70%, 50%)",
             "hsl(51.42857142857143, 70%, 50%)",
             "hsl(77.14285714285714, 70%, 50%)",
             "hsl(154.28571428571428, 70%, 50%)"
            ]
           },
           "text": [
            "7.15",
            "32.13",
            "6.8",
            "31.78",
            "9.44"
           ],
           "textposition": "outside",
           "type": "bar",
           "x": [
            "Nowa Prawica",
            "Platforma Obywatelska",
            "Polskie Stronnictwo Ludowe",
            "Prawo i Sprawiedliwość",
            "Sojusz Lewicy Demokratycznej - Unia Pracy"
           ],
           "y": [
            7.15,
            32.13,
            6.8,
            31.78,
            9.44
           ]
          }
         ],
         "name": "2014"
        },
        {
         "data": [
          {
           "marker": {
            "color": [
             "hsl(231.42857142857142, 70%, 50%)",
             "hsl(77.14285714285714, 70%, 50%)",
             "hsl(257.14285714285717, 70%, 50%)"
            ]
           },
           "text": [
            "38.47",
            "45.38",
            "6.06"
           ],
           "textposition": "outside",
           "type": "bar",
           "x": [
            "Koalicja Obywatelska",
            "Prawo i Sprawiedliwość",
            "Wiosna"
           ],
           "y": [
            38.47,
            45.38,
            6.06
           ]
          }
         ],
         "name": "2019"
        },
        {
         "data": [
          {
           "marker": {
            "color": [
             "hsl(231.42857142857142, 70%, 50%)",
             "hsl(282.85714285714283, 70%, 50%)",
             "hsl(308.57142857142856, 70%, 50%)",
             "hsl(77.14285714285714, 70%, 50%)",
             "hsl(334.2857142857143, 70%, 50%)"
            ]
           },
           "text": [
            "37.06",
            "12.08",
            "6.3",
            "36.16",
            "6.91"
           ],
           "textposition": "outside",
           "type": "bar",
           "x": [
            "Koalicja Obywatelska",
            "Konfederacja",
            "Lewica",
            "Prawo i Sprawiedliwość",
            "Trzecia Droga"
           ],
           "y": [
            37.06,
            12.08,
            6.3,
            36.16,
            6.91
           ]
          }
         ],
         "name": "2024"
        }
       ],
       "layout": {
        "showlegend": false,
        "sliders": [
         {
          "active": 0,
          "pad": {
           "t": 50
          },
          "steps": [
           {
            "args": [
             [
              "2004"
             ],
             {
              "frame": {
               "duration": 500,
               "redraw": true
              },
              "mode": "immediate",
              "transition": {
               "duration": 300
              }
             }
            ],
            "label": "2004",
            "method": "animate"
           },
           {
            "args": [
             [
              "2009"
             ],
             {
              "frame": {
               "duration": 500,
               "redraw": true
              },
              "mode": "immediate",
              "transition": {
               "duration": 300
              }
             }
            ],
            "label": "2009",
            "method": "animate"
           },
           {
            "args": [
             [
              "2014"
             ],
             {
              "frame": {
               "duration": 500,
               "redraw": true
              },
              "mode": "immediate",
              "transition": {
               "duration": 300
              }
             }
            ],
            "label": "2014",
            "method": "animate"
           },
           {
            "args": [
             [
              "2019"
             ],
             {
              "frame": {
               "duration": 500,
               "redraw": true
              },
              "mode": "immediate",
              "transition": {
               "duration": 300
              }
             }
            ],
            "label": "2019",
            "method": "animate"
           },
           {
            "args": [
             [
              "2024"
             ],
             {
              "frame": {
               "duration": 500,
               "redraw": true
              },
              "mode": "immediate",
              "transition": {
               "duration": 300
              }
             }
            ],
            "label": "2024",
            "method": "animate"
           }
          ]
         }
        ],
        "template": {
         "data": {
          "bar": [
           {
            "error_x": {
             "color": "#2a3f5f"
            },
            "error_y": {
             "color": "#2a3f5f"
            },
            "marker": {
             "line": {
              "color": "#E5ECF6",
              "width": 0.5
             },
             "pattern": {
              "fillmode": "overlay",
              "size": 10,
              "solidity": 0.2
             }
            },
            "type": "bar"
           }
          ],
          "barpolar": [
           {
            "marker": {
             "line": {
              "color": "#E5ECF6",
              "width": 0.5
             },
             "pattern": {
              "fillmode": "overlay",
              "size": 10,
              "solidity": 0.2
             }
            },
            "type": "barpolar"
           }
          ],
          "carpet": [
           {
            "aaxis": {
             "endlinecolor": "#2a3f5f",
             "gridcolor": "white",
             "linecolor": "white",
             "minorgridcolor": "white",
             "startlinecolor": "#2a3f5f"
            },
            "baxis": {
             "endlinecolor": "#2a3f5f",
             "gridcolor": "white",
             "linecolor": "white",
             "minorgridcolor": "white",
             "startlinecolor": "#2a3f5f"
            },
            "type": "carpet"
           }
          ],
          "choropleth": [
           {
            "colorbar": {
             "outlinewidth": 0,
             "ticks": ""
            },
            "type": "choropleth"
           }
          ],
          "contour": [
           {
            "colorbar": {
             "outlinewidth": 0,
             "ticks": ""
            },
            "colorscale": [
             [
              0,
              "#0d0887"
             ],
             [
              0.1111111111111111,
              "#46039f"
             ],
             [
              0.2222222222222222,
              "#7201a8"
             ],
             [
              0.3333333333333333,
              "#9c179e"
             ],
             [
              0.4444444444444444,
              "#bd3786"
             ],
             [
              0.5555555555555556,
              "#d8576b"
             ],
             [
              0.6666666666666666,
              "#ed7953"
             ],
             [
              0.7777777777777778,
              "#fb9f3a"
             ],
             [
              0.8888888888888888,
              "#fdca26"
             ],
             [
              1,
              "#f0f921"
             ]
            ],
            "type": "contour"
           }
          ],
          "contourcarpet": [
           {
            "colorbar": {
             "outlinewidth": 0,
             "ticks": ""
            },
            "type": "contourcarpet"
           }
          ],
          "heatmap": [
           {
            "colorbar": {
             "outlinewidth": 0,
             "ticks": ""
            },
            "colorscale": [
             [
              0,
              "#0d0887"
             ],
             [
              0.1111111111111111,
              "#46039f"
             ],
             [
              0.2222222222222222,
              "#7201a8"
             ],
             [
              0.3333333333333333,
              "#9c179e"
             ],
             [
              0.4444444444444444,
              "#bd3786"
             ],
             [
              0.5555555555555556,
              "#d8576b"
             ],
             [
              0.6666666666666666,
              "#ed7953"
             ],
             [
              0.7777777777777778,
              "#fb9f3a"
             ],
             [
              0.8888888888888888,
              "#fdca26"
             ],
             [
              1,
              "#f0f921"
             ]
            ],
            "type": "heatmap"
           }
          ],
          "heatmapgl": [
           {
            "colorbar": {
             "outlinewidth": 0,
             "ticks": ""
            },
            "colorscale": [
             [
              0,
              "#0d0887"
             ],
             [
              0.1111111111111111,
              "#46039f"
             ],
             [
              0.2222222222222222,
              "#7201a8"
             ],
             [
              0.3333333333333333,
              "#9c179e"
             ],
             [
              0.4444444444444444,
              "#bd3786"
             ],
             [
              0.5555555555555556,
              "#d8576b"
             ],
             [
              0.6666666666666666,
              "#ed7953"
             ],
             [
              0.7777777777777778,
              "#fb9f3a"
             ],
             [
              0.8888888888888888,
              "#fdca26"
             ],
             [
              1,
              "#f0f921"
             ]
            ],
            "type": "heatmapgl"
           }
          ],
          "histogram": [
           {
            "marker": {
             "pattern": {
              "fillmode": "overlay",
              "size": 10,
              "solidity": 0.2
             }
            },
            "type": "histogram"
           }
          ],
          "histogram2d": [
           {
            "colorbar": {
             "outlinewidth": 0,
             "ticks": ""
            },
            "colorscale": [
             [
              0,
              "#0d0887"
             ],
             [
              0.1111111111111111,
              "#46039f"
             ],
             [
              0.2222222222222222,
              "#7201a8"
             ],
             [
              0.3333333333333333,
              "#9c179e"
             ],
             [
              0.4444444444444444,
              "#bd3786"
             ],
             [
              0.5555555555555556,
              "#d8576b"
             ],
             [
              0.6666666666666666,
              "#ed7953"
             ],
             [
              0.7777777777777778,
              "#fb9f3a"
             ],
             [
              0.8888888888888888,
              "#fdca26"
             ],
             [
              1,
              "#f0f921"
             ]
            ],
            "type": "histogram2d"
           }
          ],
          "histogram2dcontour": [
           {
            "colorbar": {
             "outlinewidth": 0,
             "ticks": ""
            },
            "colorscale": [
             [
              0,
              "#0d0887"
             ],
             [
              0.1111111111111111,
              "#46039f"
             ],
             [
              0.2222222222222222,
              "#7201a8"
             ],
             [
              0.3333333333333333,
              "#9c179e"
             ],
             [
              0.4444444444444444,
              "#bd3786"
             ],
             [
              0.5555555555555556,
              "#d8576b"
             ],
             [
              0.6666666666666666,
              "#ed7953"
             ],
             [
              0.7777777777777778,
              "#fb9f3a"
             ],
             [
              0.8888888888888888,
              "#fdca26"
             ],
             [
              1,
              "#f0f921"
             ]
            ],
            "type": "histogram2dcontour"
           }
          ],
          "mesh3d": [
           {
            "colorbar": {
             "outlinewidth": 0,
             "ticks": ""
            },
            "type": "mesh3d"
           }
          ],
          "parcoords": [
           {
            "line": {
             "colorbar": {
              "outlinewidth": 0,
              "ticks": ""
             }
            },
            "type": "parcoords"
           }
          ],
          "pie": [
           {
            "automargin": true,
            "type": "pie"
           }
          ],
          "scatter": [
           {
            "fillpattern": {
             "fillmode": "overlay",
             "size": 10,
             "solidity": 0.2
            },
            "type": "scatter"
           }
          ],
          "scatter3d": [
           {
            "line": {
             "colorbar": {
              "outlinewidth": 0,
              "ticks": ""
             }
            },
            "marker": {
             "colorbar": {
              "outlinewidth": 0,
              "ticks": ""
             }
            },
            "type": "scatter3d"
           }
          ],
          "scattercarpet": [
           {
            "marker": {
             "colorbar": {
              "outlinewidth": 0,
              "ticks": ""
             }
            },
            "type": "scattercarpet"
           }
          ],
          "scattergeo": [
           {
            "marker": {
             "colorbar": {
              "outlinewidth": 0,
              "ticks": ""
             }
            },
            "type": "scattergeo"
           }
          ],
          "scattergl": [
           {
            "marker": {
             "colorbar": {
              "outlinewidth": 0,
              "ticks": ""
             }
            },
            "type": "scattergl"
           }
          ],
          "scattermapbox": [
           {
            "marker": {
             "colorbar": {
              "outlinewidth": 0,
              "ticks": ""
             }
            },
            "type": "scattermapbox"
           }
          ],
          "scatterpolar": [
           {
            "marker": {
             "colorbar": {
              "outlinewidth": 0,
              "ticks": ""
             }
            },
            "type": "scatterpolar"
           }
          ],
          "scatterpolargl": [
           {
            "marker": {
             "colorbar": {
              "outlinewidth": 0,
              "ticks": ""
             }
            },
            "type": "scatterpolargl"
           }
          ],
          "scatterternary": [
           {
            "marker": {
             "colorbar": {
              "outlinewidth": 0,
              "ticks": ""
             }
            },
            "type": "scatterternary"
           }
          ],
          "surface": [
           {
            "colorbar": {
             "outlinewidth": 0,
             "ticks": ""
            },
            "colorscale": [
             [
              0,
              "#0d0887"
             ],
             [
              0.1111111111111111,
              "#46039f"
             ],
             [
              0.2222222222222222,
              "#7201a8"
             ],
             [
              0.3333333333333333,
              "#9c179e"
             ],
             [
              0.4444444444444444,
              "#bd3786"
             ],
             [
              0.5555555555555556,
              "#d8576b"
             ],
             [
              0.6666666666666666,
              "#ed7953"
             ],
             [
              0.7777777777777778,
              "#fb9f3a"
             ],
             [
              0.8888888888888888,
              "#fdca26"
             ],
             [
              1,
              "#f0f921"
             ]
            ],
            "type": "surface"
           }
          ],
          "table": [
           {
            "cells": {
             "fill": {
              "color": "#EBF0F8"
             },
             "line": {
              "color": "white"
             }
            },
            "header": {
             "fill": {
              "color": "#C8D4E3"
             },
             "line": {
              "color": "white"
             }
            },
            "type": "table"
           }
          ]
         },
         "layout": {
          "annotationdefaults": {
           "arrowcolor": "#2a3f5f",
           "arrowhead": 0,
           "arrowwidth": 1
          },
          "autotypenumbers": "strict",
          "coloraxis": {
           "colorbar": {
            "outlinewidth": 0,
            "ticks": ""
           }
          },
          "colorscale": {
           "diverging": [
            [
             0,
             "#8e0152"
            ],
            [
             0.1,
             "#c51b7d"
            ],
            [
             0.2,
             "#de77ae"
            ],
            [
             0.3,
             "#f1b6da"
            ],
            [
             0.4,
             "#fde0ef"
            ],
            [
             0.5,
             "#f7f7f7"
            ],
            [
             0.6,
             "#e6f5d0"
            ],
            [
             0.7,
             "#b8e186"
            ],
            [
             0.8,
             "#7fbc41"
            ],
            [
             0.9,
             "#4d9221"
            ],
            [
             1,
             "#276419"
            ]
           ],
           "sequential": [
            [
             0,
             "#0d0887"
            ],
            [
             0.1111111111111111,
             "#46039f"
            ],
            [
             0.2222222222222222,
             "#7201a8"
            ],
            [
             0.3333333333333333,
             "#9c179e"
            ],
            [
             0.4444444444444444,
             "#bd3786"
            ],
            [
             0.5555555555555556,
             "#d8576b"
            ],
            [
             0.6666666666666666,
             "#ed7953"
            ],
            [
             0.7777777777777778,
             "#fb9f3a"
            ],
            [
             0.8888888888888888,
             "#fdca26"
            ],
            [
             1,
             "#f0f921"
            ]
           ],
           "sequentialminus": [
            [
             0,
             "#0d0887"
            ],
            [
             0.1111111111111111,
             "#46039f"
            ],
            [
             0.2222222222222222,
             "#7201a8"
            ],
            [
             0.3333333333333333,
             "#9c179e"
            ],
            [
             0.4444444444444444,
             "#bd3786"
            ],
            [
             0.5555555555555556,
             "#d8576b"
            ],
            [
             0.6666666666666666,
             "#ed7953"
            ],
            [
             0.7777777777777778,
             "#fb9f3a"
            ],
            [
             0.8888888888888888,
             "#fdca26"
            ],
            [
             1,
             "#f0f921"
            ]
           ]
          },
          "colorway": [
           "#636efa",
           "#EF553B",
           "#00cc96",
           "#ab63fa",
           "#FFA15A",
           "#19d3f3",
           "#FF6692",
           "#B6E880",
           "#FF97FF",
           "#FECB52"
          ],
          "font": {
           "color": "#2a3f5f"
          },
          "geo": {
           "bgcolor": "white",
           "lakecolor": "white",
           "landcolor": "#E5ECF6",
           "showlakes": true,
           "showland": true,
           "subunitcolor": "white"
          },
          "hoverlabel": {
           "align": "left"
          },
          "hovermode": "closest",
          "mapbox": {
           "style": "light"
          },
          "paper_bgcolor": "white",
          "plot_bgcolor": "#E5ECF6",
          "polar": {
           "angularaxis": {
            "gridcolor": "white",
            "linecolor": "white",
            "ticks": ""
           },
           "bgcolor": "#E5ECF6",
           "radialaxis": {
            "gridcolor": "white",
            "linecolor": "white",
            "ticks": ""
           }
          },
          "scene": {
           "xaxis": {
            "backgroundcolor": "#E5ECF6",
            "gridcolor": "white",
            "gridwidth": 2,
            "linecolor": "white",
            "showbackground": true,
            "ticks": "",
            "zerolinecolor": "white"
           },
           "yaxis": {
            "backgroundcolor": "#E5ECF6",
            "gridcolor": "white",
            "gridwidth": 2,
            "linecolor": "white",
            "showbackground": true,
            "ticks": "",
            "zerolinecolor": "white"
           },
           "zaxis": {
            "backgroundcolor": "#E5ECF6",
            "gridcolor": "white",
            "gridwidth": 2,
            "linecolor": "white",
            "showbackground": true,
            "ticks": "",
            "zerolinecolor": "white"
           }
          },
          "shapedefaults": {
           "line": {
            "color": "#2a3f5f"
           }
          },
          "ternary": {
           "aaxis": {
            "gridcolor": "white",
            "linecolor": "white",
            "ticks": ""
           },
           "baxis": {
            "gridcolor": "white",
            "linecolor": "white",
            "ticks": ""
           },
           "bgcolor": "#E5ECF6",
           "caxis": {
            "gridcolor": "white",
            "linecolor": "white",
            "ticks": ""
           }
          },
          "title": {
           "x": 0.05
          },
          "xaxis": {
           "automargin": true,
           "gridcolor": "white",
           "linecolor": "white",
           "ticks": "",
           "title": {
            "standoff": 15
           },
           "zerolinecolor": "white",
           "zerolinewidth": 2
          },
          "yaxis": {
           "automargin": true,
           "gridcolor": "white",
           "linecolor": "white",
           "ticks": "",
           "title": {
            "standoff": 15
           },
           "zerolinecolor": "white",
           "zerolinewidth": 2
          }
         }
        },
        "title": {
         "text": "Poparcie partii w wyborach do Europarlamentu wg roku (Głosy %)"
        },
        "updatemenus": [
         {
          "buttons": [
           {
            "args": [
             null,
             {
              "frame": {
               "duration": 1000,
               "redraw": true
              },
              "fromcurrent": true,
              "transition": {
               "duration": 500
              }
             }
            ],
            "label": "Start",
            "method": "animate"
           },
           {
            "args": [
             [
              null
             ],
             {
              "frame": {
               "duration": 0,
               "redraw": false
              },
              "mode": "immediate",
              "transition": {
               "duration": 0
              }
             }
            ],
            "label": "Stop",
            "method": "animate"
           }
          ],
          "type": "buttons"
         }
        ],
        "xaxis": {
         "tickangle": -45,
         "title": {
          "text": "Partia"
         }
        },
        "yaxis": {
         "range": [
          0,
          50.38
         ],
         "title": {
          "text": "Głosy (%)"
         }
        }
       }
      },
      "image/png": "[encoded data removed]",
      "text/html": [
       "<div>                            <div id=\"46f0668e-5239-4b36-8db5-cf55419365ee\" class=\"plotly-graph-div\" style=\"height:525px; width:100%;\"></div>            <script type=\"text/javascript\">                require([\"plotly\"], function(Plotly) {                    window.PLOTLYENV=window.PLOTLYENV || {};                                    if (document.getElementById(\"46f0668e-5239-4b36-8db5-cf55419365ee\")) {                    Plotly.newPlot(                        \"46f0668e-5239-4b36-8db5-cf55419365ee\",                        [{\"marker\":{\"color\":[\"hsl(0.0, 70%, 50%)\",\"hsl(25.714285714285715, 70%, 50%)\",\"hsl(51.42857142857143, 70%, 50%)\",\"hsl(77.14285714285714, 70%, 50%)\",\"hsl(102.85714285714286, 70%, 50%)\",\"hsl(128.57142857142858, 70%, 50%)\",\"hsl(154.28571428571428, 70%, 50%)\",\"hsl(180.0, 70%, 50%)\"]},\"name\":\"2004\",\"text\":[15.92,24.1,6.34,12.67,10.78,5.33,9.35,7.33],\"textposition\":\"outside\",\"x\":[\"Liga Polskich Rodzin\",\"Platforma Obywatelska\",\"Polskie Stronnictwo Ludowe\",\"Prawo i Sprawiedliwość\",\"Samoobrona\",\"Socjaldemokracja Polska\",\"Sojusz Lewicy Demokratycznej - Unia Pracy\",\"Unia Wolności\"],\"y\":[15.92,24.1,6.34,12.67,10.78,5.33,9.35,7.33],\"type\":\"bar\"}],                        {\"template\":{\"data\":{\"histogram2dcontour\":[{\"type\":\"histogram2dcontour\",\"colorbar\":{\"outlinewidth\":0,\"ticks\":\"\"},\"colorscale\":[[0.0,\"#0d0887\"],[0.1111111111111111,\"#46039f\"],[0.2222222222222222,\"#7201a8\"],[0.3333333333333333,\"#9c179e\"],[0.4444444444444444,\"#bd3786\"],[0.5555555555555556,\"#d8576b\"],[0.6666666666666666,\"#ed7953\"],[0.7777777777777778,\"#fb9f3a\"],[0.8888888888888888,\"#fdca26\"],[1.0,\"#f0f921\"]]}],\"choropleth\":[{\"type\":\"choropleth\",\"colorbar\":{\"outlinewidth\":0,\"ticks\":\"\"}}],\"histogram2d\":[{\"type\":\"histogram2d\",\"colorbar\":{\"outlinewidth\":0,\"ticks\":\"\"},\"colorscale\":[[0.0,\"#0d0887\"],[0.1111111111111111,\"#46039f\"],[0.2222222222222222,\"#7201a8\"],[0.3333333333333333,\"#9c179e\"],[0.4444444444444444,\"#bd3786\"],[0.5555555555555556,\"#d8576b\"],[0.6666666666666666,\"#ed7953\"],[0.7777777777777778,\"#fb9f3a\"],[0.8888888888888888,\"#fdca26\"],[1.0,\"#f0f921\"]]}],\"heatmap\":[{\"type\":\"heatmap\",\"colorbar\":{\"outlinewidth\":0,\"ticks\":\"\"},\"colorscale\":[[0.0,\"#0d0887\"],[0.1111111111111111,\"#46039f\"],[0.2222222222222222,\"#7201a8\"],[0.3333333333333333,\"#9c179e\"],[0.4444444444444444,\"#bd3786\"],[0.5555555555555556,\"#d8576b\"],[0.6666666666666666,\"#ed7953\"],[0.7777777777777778,\"#fb9f3a\"],[0.8888888888888888,\"#fdca26\"],[1.0,\"#f0f921\"]]}],\"heatmapgl\":[{\"type\":\"heatmapgl\",\"colorbar\":{\"outlinewidth\":0,\"ticks\":\"\"},\"colorscale\":[[0.0,\"#0d0887\"],[0.1111111111111111,\"#46039f\"],[0.2222222222222222,\"#7201a8\"],[0.3333333333333333,\"#9c179e\"],[0.4444444444444444,\"#bd3786\"],[0.5555555555555556,\"#d8576b\"],[0.6666666666666666,\"#ed7953\"],[0.7777777777777778,\"#fb9f3a\"],[0.8888888888888888,\"#fdca26\"],[1.0,\"#f0f921\"]]}],\"contourcarpet\":[{\"type\":\"contourcarpet\",\"colorbar\":{\"outlinewidth\":0,\"ticks\":\"\"}}],\"contour\":[{\"type\":\"contour\",\"colorbar\":{\"outlinewidth\":0,\"ticks\":\"\"},\"colorscale\":[[0.0,\"#0d0887\"],[0.1111111111111111,\"#46039f\"],[0.2222222222222222,\"#7201a8\"],[0.3333333333333333,\"#9c179e\"],[0.4444444444444444,\"#bd3786\"],[0.5555555555555556,\"#d8576b\"],[0.6666666666666666,\"#ed7953\"],[0.7777777777777778,\"#fb9f3a\"],[0.8888888888888888,\"#fdca26\"],[1.0,\"#f0f921\"]]}],\"surface\":[{\"type\":\"surface\",\"colorbar\":{\"outlinewidth\":0,\"ticks\":\"\"},\"colorscale\":[[0.0,\"#0d0887\"],[0.1111111111111111,\"#46039f\"],[0.2222222222222222,\"#7201a8\"],[0.3333333333333333,\"#9c179e\"],[0.4444444444444444,\"#bd3786\"],[0.5555555555555556,\"#d8576b\"],[0.6666666666666666,\"#ed7953\"],[0.7777777777777778,\"#fb9f3a\"],[0.8888888888888888,\"#fdca26\"],[1.0,\"#f0f921\"]]}],\"mesh3d\":[{\"type\":\"mesh3d\",\"colorbar\":{\"outlinewidth\":0,\"ticks\":\"\"}}],\"scatter\":[{\"fillpattern\":{\"fillmode\":\"overlay\",\"size\":10,\"solidity\":0.2},\"type\":\"scatter\"}],\"parcoords\":[{\"type\":\"parcoords\",\"line\":{\"colorbar\":{\"outlinewidth\":0,\"ticks\":\"\"}}}],\"scatterpolargl\":[{\"type\":\"scatterpolargl\",\"marker\":{\"colorbar\":{\"outlinewidth\":0,\"ticks\":\"\"}}}],\"bar\":[{\"error_x\":{\"color\":\"#2a3f5f\"},\"error_y\":{\"color\":\"#2a3f5f\"},\"marker\":{\"line\":{\"color\":\"#E5ECF6\",\"width\":0.5},\"pattern\":{\"fillmode\":\"overlay\",\"size\":10,\"solidity\":0.2}},\"type\":\"bar\"}],\"scattergeo\":[{\"type\":\"scattergeo\",\"marker\":{\"colorbar\":{\"outlinewidth\":0,\"ticks\":\"\"}}}],\"scatterpolar\":[{\"type\":\"scatterpolar\",\"marker\":{\"colorbar\":{\"outlinewidth\":0,\"ticks\":\"\"}}}],\"histogram\":[{\"marker\":{\"pattern\":{\"fillmode\":\"overlay\",\"size\":10,\"solidity\":0.2}},\"type\":\"histogram\"}],\"scattergl\":[{\"type\":\"scattergl\",\"marker\":{\"colorbar\":{\"outlinewidth\":0,\"ticks\":\"\"}}}],\"scatter3d\":[{\"type\":\"scatter3d\",\"line\":{\"colorbar\":{\"outlinewidth\":0,\"ticks\":\"\"}},\"marker\":{\"colorbar\":{\"outlinewidth\":0,\"ticks\":\"\"}}}],\"scattermapbox\":[{\"type\":\"scattermapbox\",\"marker\":{\"colorbar\":{\"outlinewidth\":0,\"ticks\":\"\"}}}],\"scatterternary\":[{\"type\":\"scatterternary\",\"marker\":{\"colorbar\":{\"outlinewidth\":0,\"ticks\":\"\"}}}],\"scattercarpet\":[{\"type\":\"scattercarpet\",\"marker\":{\"colorbar\":{\"outlinewidth\":0,\"ticks\":\"\"}}}],\"carpet\":[{\"aaxis\":{\"endlinecolor\":\"#2a3f5f\",\"gridcolor\":\"white\",\"linecolor\":\"white\",\"minorgridcolor\":\"white\",\"startlinecolor\":\"#2a3f5f\"},\"baxis\":{\"endlinecolor\":\"#2a3f5f\",\"gridcolor\":\"white\",\"linecolor\":\"white\",\"minorgridcolor\":\"white\",\"startlinecolor\":\"#2a3f5f\"},\"type\":\"carpet\"}],\"table\":[{\"cells\":{\"fill\":{\"color\":\"#EBF0F8\"},\"line\":{\"color\":\"white\"}},\"header\":{\"fill\":{\"color\":\"#C8D4E3\"},\"line\":{\"color\":\"white\"}},\"type\":\"table\"}],\"barpolar\":[{\"marker\":{\"line\":{\"color\":\"#E5ECF6\",\"width\":0.5},\"pattern\":{\"fillmode\":\"overlay\",\"size\":10,\"solidity\":0.2}},\"type\":\"barpolar\"}],\"pie\":[{\"automargin\":true,\"type\":\"pie\"}]},\"layout\":{\"autotypenumbers\":\"strict\",\"colorway\":[\"#636efa\",\"#EF553B\",\"#00cc96\",\"#ab63fa\",\"#FFA15A\",\"#19d3f3\",\"#FF6692\",\"#B6E880\",\"#FF97FF\",\"#FECB52\"],\"font\":{\"color\":\"#2a3f5f\"},\"hovermode\":\"closest\",\"hoverlabel\":{\"align\":\"left\"},\"paper_bgcolor\":\"white\",\"plot_bgcolor\":\"#E5ECF6\",\"polar\":{\"bgcolor\":\"#E5ECF6\",\"angularaxis\":{\"gridcolor\":\"white\",\"linecolor\":\"white\",\"ticks\":\"\"},\"radialaxis\":{\"gridcolor\":\"white\",\"linecolor\":\"white\",\"ticks\":\"\"}},\"ternary\":{\"bgcolor\":\"#E5ECF6\",\"aaxis\":{\"gridcolor\":\"white\",\"linecolor\":\"white\",\"ticks\":\"\"},\"baxis\":{\"gridcolor\":\"white\",\"linecolor\":\"white\",\"ticks\":\"\"},\"caxis\":{\"gridcolor\":\"white\",\"linecolor\":\"white\",\"ticks\":\"\"}},\"coloraxis\":{\"colorbar\":{\"outlinewidth\":0,\"ticks\":\"\"}},\"colorscale\":{\"sequential\":[[0.0,\"#0d0887\"],[0.1111111111111111,\"#46039f\"],[0.2222222222222222,\"#7201a8\"],[0.3333333333333333,\"#9c179e\"],[0.4444444444444444,\"#bd3786\"],[0.5555555555555556,\"#d8576b\"],[0.6666666666666666,\"#ed7953\"],[0.7777777777777778,\"#fb9f3a\"],[0.8888888888888888,\"#fdca26\"],[1.0,\"#f0f921\"]],\"sequentialminus\":[[0.0,\"#0d0887\"],[0.1111111111111111,\"#46039f\"],[0.2222222222222222,\"#7201a8\"],[0.3333333333333333,\"#9c179e\"],[0.4444444444444444,\"#bd3786\"],[0.5555555555555556,\"#d8576b\"],[0.6666666666666666,\"#ed7953\"],[0.7777777777777778,\"#fb9f3a\"],[0.8888888888888888,\"#fdca26\"],[1.0,\"#f0f921\"]],\"diverging\":[[0,\"#8e0152\"],[0.1,\"#c51b7d\"],[0.2,\"#de77ae\"],[0.3,\"#f1b6da\"],[0.4,\"#fde0ef\"],[0.5,\"#f7f7f7\"],[0.6,\"#e6f5d0\"],[0.7,\"#b8e186\"],[0.8,\"#7fbc41\"],[0.9,\"#4d9221\"],[1,\"#276419\"]]},\"xaxis\":{\"gridcolor\":\"white\",\"linecolor\":\"white\",\"ticks\":\"\",\"title\":{\"standoff\":15},\"zerolinecolor\":\"white\",\"automargin\":true,\"zerolinewidth\":2},\"yaxis\":{\"gridcolor\":\"white\",\"linecolor\":\"white\",\"ticks\":\"\",\"title\":{\"standoff\":15},\"zerolinecolor\":\"white\",\"automargin\":true,\"zerolinewidth\":2},\"scene\":{\"xaxis\":{\"backgroundcolor\":\"#E5ECF6\",\"gridcolor\":\"white\",\"linecolor\":\"white\",\"showbackground\":true,\"ticks\":\"\",\"zerolinecolor\":\"white\",\"gridwidth\":2},\"yaxis\":{\"backgroundcolor\":\"#E5ECF6\",\"gridcolor\":\"white\",\"linecolor\":\"white\",\"showbackground\":true,\"ticks\":\"\",\"zerolinecolor\":\"white\",\"gridwidth\":2},\"zaxis\":{\"backgroundcolor\":\"#E5ECF6\",\"gridcolor\":\"white\",\"linecolor\":\"white\",\"showbackground\":true,\"ticks\":\"\",\"zerolinecolor\":\"white\",\"gridwidth\":2}},\"shapedefaults\":{\"line\":{\"color\":\"#2a3f5f\"}},\"annotationdefaults\":{\"arrowcolor\":\"#2a3f5f\",\"arrowhead\":0,\"arrowwidth\":1},\"geo\":{\"bgcolor\":\"white\",\"landcolor\":\"#E5ECF6\",\"subunitcolor\":\"white\",\"showland\":true,\"showlakes\":true,\"lakecolor\":\"white\"},\"title\":{\"x\":0.05},\"mapbox\":{\"style\":\"light\"}}},\"xaxis\":{\"title\":{\"text\":\"Partia\"},\"tickangle\":-45},\"yaxis\":{\"title\":{\"text\":\"Głosy (%)\"},\"range\":[0,50.38]},\"title\":{\"text\":\"Poparcie partii w wyborach do Europarlamentu wg roku (Głosy %)\"},\"sliders\":[{\"active\":0,\"pad\":{\"t\":50},\"steps\":[{\"args\":[[\"2004\"],{\"mode\":\"immediate\",\"frame\":{\"duration\":500,\"redraw\":true},\"transition\":{\"duration\":300}}],\"label\":\"2004\",\"method\":\"animate\"},{\"args\":[[\"2009\"],{\"mode\":\"immediate\",\"frame\":{\"duration\":500,\"redraw\":true},\"transition\":{\"duration\":300}}],\"label\":\"2009\",\"method\":\"animate\"},{\"args\":[[\"2014\"],{\"mode\":\"immediate\",\"frame\":{\"duration\":500,\"redraw\":true},\"transition\":{\"duration\":300}}],\"label\":\"2014\",\"method\":\"animate\"},{\"args\":[[\"2019\"],{\"mode\":\"immediate\",\"frame\":{\"duration\":500,\"redraw\":true},\"transition\":{\"duration\":300}}],\"label\":\"2019\",\"method\":\"animate\"},{\"args\":[[\"2024\"],{\"mode\":\"immediate\",\"frame\":{\"duration\":500,\"redraw\":true},\"transition\":{\"duration\":300}}],\"label\":\"2024\",\"method\":\"animate\"}]}],\"updatemenus\":[{\"buttons\":[{\"args\":[null,{\"frame\":{\"duration\":1000,\"redraw\":true},\"fromcurrent\":true,\"transition\":{\"duration\":500}}],\"label\":\"Start\",\"method\":\"animate\"},{\"args\":[[null],{\"frame\":{\"duration\":0,\"redraw\":false},\"mode\":\"immediate\",\"transition\":{\"duration\":0}}],\"label\":\"Stop\",\"method\":\"animate\"}],\"type\":\"buttons\"}],\"showlegend\":false},                        {\"responsive\": true}                    ).then(function(){\n",
       "                            Plotly.addFrames('46f0668e-5239-4b36-8db5-cf55419365ee', [{\"data\":[{\"marker\":{\"color\":[\"hsl(0.0, 70%, 50%)\",\"hsl(25.714285714285715, 70%, 50%)\",\"hsl(51.42857142857143, 70%, 50%)\",\"hsl(77.14285714285714, 70%, 50%)\",\"hsl(102.85714285714286, 70%, 50%)\",\"hsl(128.57142857142858, 70%, 50%)\",\"hsl(154.28571428571428, 70%, 50%)\",\"hsl(180.0, 70%, 50%)\"]},\"text\":[\"15.92\",\"24.1\",\"6.34\",\"12.67\",\"10.78\",\"5.33\",\"9.35\",\"7.33\"],\"textposition\":\"outside\",\"x\":[\"Liga Polskich Rodzin\",\"Platforma Obywatelska\",\"Polskie Stronnictwo Ludowe\",\"Prawo i Sprawiedliwość\",\"Samoobrona\",\"Socjaldemokracja Polska\",\"Sojusz Lewicy Demokratycznej - Unia Pracy\",\"Unia Wolności\"],\"y\":[15.92,24.1,6.34,12.67,10.78,5.33,9.35,7.33],\"type\":\"bar\"}],\"name\":\"2004\"},{\"data\":[{\"marker\":{\"color\":[\"hsl(25.714285714285715, 70%, 50%)\",\"hsl(51.42857142857143, 70%, 50%)\",\"hsl(77.14285714285714, 70%, 50%)\",\"hsl(154.28571428571428, 70%, 50%)\"]},\"text\":[\"44.43\",\"7.01\",\"27.4\",\"12.34\"],\"textposition\":\"outside\",\"x\":[\"Platforma Obywatelska\",\"Polskie Stronnictwo Ludowe\",\"Prawo i Sprawiedliwość\",\"Sojusz Lewicy Demokratycznej - Unia Pracy\"],\"y\":[44.43,7.01,27.4,12.34],\"type\":\"bar\"}],\"name\":\"2009\"},{\"data\":[{\"marker\":{\"color\":[\"hsl(205.71428571428572, 70%, 50%)\",\"hsl(25.714285714285715, 70%, 50%)\",\"hsl(51.42857142857143, 70%, 50%)\",\"hsl(77.14285714285714, 70%, 50%)\",\"hsl(154.28571428571428, 70%, 50%)\"]},\"text\":[\"7.15\",\"32.13\",\"6.8\",\"31.78\",\"9.44\"],\"textposition\":\"outside\",\"x\":[\"Nowa Prawica\",\"Platforma Obywatelska\",\"Polskie Stronnictwo Ludowe\",\"Prawo i Sprawiedliwość\",\"Sojusz Lewicy Demokratycznej - Unia Pracy\"],\"y\":[7.15,32.13,6.8,31.78,9.44],\"type\":\"bar\"}],\"name\":\"2014\"},{\"data\":[{\"marker\":{\"color\":[\"hsl(231.42857142857142, 70%, 50%)\",\"hsl(77.14285714285714, 70%, 50%)\",\"hsl(257.14285714285717, 70%, 50%)\"]},\"text\":[\"38.47\",\"45.38\",\"6.06\"],\"textposition\":\"outside\",\"x\":[\"Koalicja Obywatelska\",\"Prawo i Sprawiedliwość\",\"Wiosna\"],\"y\":[38.47,45.38,6.06],\"type\":\"bar\"}],\"name\":\"2019\"},{\"data\":[{\"marker\":{\"color\":[\"hsl(231.42857142857142, 70%, 50%)\",\"hsl(282.85714285714283, 70%, 50%)\",\"hsl(308.57142857142856, 70%, 50%)\",\"hsl(77.14285714285714, 70%, 50%)\",\"hsl(334.2857142857143, 70%, 50%)\"]},\"text\":[\"37.06\",\"12.08\",\"6.3\",\"36.16\",\"6.91\"],\"textposition\":\"outside\",\"x\":[\"Koalicja Obywatelska\",\"Konfederacja\",\"Lewica\",\"Prawo i Sprawiedliwość\",\"Trzecia Droga\"],\"y\":[37.06,12.08,6.3,36.16,6.91],\"type\":\"bar\"}],\"name\":\"2024\"}]);\n",
       "                        }).then(function(){\n",
       "                            \n",
       "var gd = document.getElementById('46f0668e-5239-4b36-8db5-cf55419365ee');\n",
       "var x = new MutationObserver(function (mutations, observer) {{\n",
       "        var display = window.getComputedStyle(gd).display;\n",
       "        if (!display || display === 'none') {{\n",
       "            console.log([gd, 'removed!']);\n",
       "            Plotly.purge(gd);\n",
       "            observer.disconnect();\n",
       "        }}\n",
       "}});\n",
       "\n",
       "// Listen for the removal of the full notebook cells\n",
       "var notebookContainer = gd.closest('#notebook-container');\n",
       "if (notebookContainer) {{\n",
       "    x.observe(notebookContainer, {childList: true});\n",
       "}}\n",
       "\n",
       "// Listen for the clearing of the current output cell\n",
       "var outputEl = gd.closest('.output');\n",
       "if (outputEl) {{\n",
       "    x.observe(outputEl, {childList: true});\n",
       "}}\n",
       "\n",
       "                        })                };                });            </script>        </div>"
      ]
     },
     "metadata": {},
     "output_type": "display_data"
    }
   ],
   "source": [
    "# Filtrowanie partii, które dostały się do Europarlamentu\n",
    "df_ep = df[df[\"MANDATY TAK NIE\"] == \"Tak\"].copy()\n",
    "\n",
    "# Konwersja procentów głosów na float\n",
    "df_ep[\"GLOSY (%)\"] = pd.to_numeric(df_ep[\"GLOSY (%)\"], errors='coerce')\n",
    "\n",
    "# Grupowanie (sumowanie poparcia w %, np. jeśli KO i PO osobno)\n",
    "df_ep = df_ep.groupby([\"ROK\", \"PARTIA\"], as_index=False)[\"GLOSY (%)\"].sum()\n",
    "\n",
    "# Lista unikalnych lat i partii\n",
    "years = sorted(df_ep[\"ROK\"].unique())\n",
    "partie = df_ep[\"PARTIA\"].unique()\n",
    "\n",
    "# Kolory dla partii (przypisane wg indeksu)\n",
    "colors = {\n",
    "    partia: f\"hsl({i * 360 / len(partie)}, 70%, 50%)\"\n",
    "    for i, partia in enumerate(partie)\n",
    "}\n",
    "\n",
    "# Inicjalizacja wykresu\n",
    "fig = go.Figure()\n",
    "\n",
    "# Początkowy rok\n",
    "initial_year = years[0]\n",
    "df_initial = df_ep[df_ep[\"ROK\"] == initial_year]\n",
    "\n",
    "fig.add_trace(go.Bar(\n",
    "    x=df_initial[\"PARTIA\"],\n",
    "    y=df_initial[\"GLOSY (%)\"],\n",
    "    marker_color=[colors[p] for p in df_initial[\"PARTIA\"]],\n",
    "    text=df_initial[\"GLOSY (%)\"].round(2),\n",
    "    textposition='outside',\n",
    "    name=str(initial_year)\n",
    "))\n",
    "\n",
    "# Ramki animacji i kroki suwaka\n",
    "frames = []\n",
    "steps = []\n",
    "\n",
    "for year in years:\n",
    "    df_year = df_ep[df_ep[\"ROK\"] == year]\n",
    "    partie_year = df_year[\"PARTIA\"].tolist()\n",
    "    y_values = df_year[\"GLOSY (%)\"].round(2).tolist()\n",
    "\n",
    "    frame = go.Frame(\n",
    "        data=[go.Bar(\n",
    "            x=partie_year,\n",
    "            y=y_values,\n",
    "            marker_color=[colors[p] for p in partie_year],\n",
    "            text=y_values,\n",
    "            textposition='outside'\n",
    "        )],\n",
    "        name=str(year)\n",
    "    )\n",
    "    frames.append(frame)\n",
    "\n",
    "    steps.append({\n",
    "        \"method\": \"animate\",\n",
    "        \"args\": [[str(year)], {\n",
    "            \"mode\": \"immediate\",\n",
    "            \"frame\": {\"duration\": 500, \"redraw\": True},\n",
    "            \"transition\": {\"duration\": 300}\n",
    "        }],\n",
    "        \"label\": str(year)\n",
    "    })\n",
    "\n",
    "# Dodanie ramek do figury\n",
    "fig.frames = frames\n",
    "\n",
    "# Layout\n",
    "fig.update_layout(\n",
    "    title=\"Poparcie partii w wyborach do Europarlamentu wg roku (Głosy %)\",\n",
    "    xaxis_title=\"Partia\",\n",
    "    yaxis_title=\"Głosy (%)\",\n",
    "    xaxis_tickangle=-45,\n",
    "    yaxis=dict(range=[0, df_ep[\"GLOSY (%)\"].max() + 5]),\n",
    "    sliders=[{\n",
    "        \"active\": 0,\n",
    "        \"pad\": {\"t\": 50},\n",
    "        \"steps\": steps\n",
    "    }],\n",
    "    updatemenus=[{\n",
    "        \"type\": \"buttons\",\n",
    "        \"buttons\": [\n",
    "            {\"label\": \"Start\", \"method\": \"animate\", \"args\": [None, {\n",
    "                \"frame\": {\"duration\": 1000, \"redraw\": True},\n",
    "                \"fromcurrent\": True,\n",
    "                \"transition\": {\"duration\": 500}\n",
    "            }]},\n",
    "            {\"label\": \"Stop\", \"method\": \"animate\", \"args\": [[None], {\n",
    "                \"frame\": {\"duration\": 0, \"redraw\": False},\n",
    "                \"mode\": \"immediate\",\n",
    "                \"transition\": {\"duration\": 0}\n",
    "            }]}\n",
    "        ]\n",
    "    }],\n",
    "    showlegend=False\n",
    ")\n",
    "\n",
    "fig.show()"
   ]
  },
  {
   "cell_type": "markdown",
   "metadata": {
    "editable": true,
    "slideshow": {
     "slide_type": "fragment"
    },
    "tags": []
   },
   "source": [
    "### Największe poparcie miało Prawo i Sprawiedliwość w roku 2019 (45,38%), a najmniejsze poparcie miał Socjaldemokracja Polska w 2004 roku (5,33%)."
   ]
  },
  {
   "cell_type": "code",
   "execution_count": 103,
   "metadata": {
    "editable": true,
    "jupyter": {
     "source_hidden": true
    },
    "slideshow": {
     "slide_type": "slide"
    },
    "tags": []
   },
   "outputs": [
    {
     "data": {
      "application/vnd.plotly.v1+json": {
       "config": {
        "plotlyServerURL": "https://plot.ly"
       },
       "data": [
        {
         "line": {
          "color": "green"
         },
         "mode": "lines+markers",
         "name": "Centroprawica",
         "type": "scatter",
         "x": [
          2004,
          2009,
          2014,
          2019,
          2024
         ],
         "y": [
          24.09518096380724,
          44.425557444255574,
          32.12678732126788,
          49.06509349065094,
          36.16
         ]
        },
        {
         "line": {
          "color": "black"
         },
         "mode": "lines+markers",
         "name": "Centrum",
         "type": "scatter",
         "x": [
          2004,
          2009,
          2014,
          2019,
          2024
         ],
         "y": [
          18.106378724255148,
          9.44905509449055,
          7.029297070292971,
          0.53994600539946,
          7.84
         ]
        },
        {
         "line": {
          "color": "red"
         },
         "mode": "lines+markers",
         "name": "Lewica",
         "type": "scatter",
         "x": [
          2004,
          2009,
          2014,
          2019,
          2024
         ],
         "y": [
          27.264547090581885,
          14.518548145185484,
          13.37866213378662,
          7.2992700729927,
          6.3
         ]
        },
        {
         "line": {
          "color": "blue"
         },
         "mode": "lines+markers",
         "name": "Prawica",
         "type": "scatter",
         "x": [
          2004,
          2009,
          2014,
          2019,
          2024
         ],
         "y": [
          30.53389322135573,
          31.606839316068395,
          47.46525347465253,
          4.62953704629537,
          12.64
         ]
        },
        {
         "line": {
          "color": "orange"
         },
         "mode": "lines+markers",
         "name": "Centrolewica",
         "type": "scatter",
         "x": [
          2004,
          2009,
          2014,
          2019,
          2024
         ],
         "y": [
          0,
          0,
          0,
          38.46615338466153,
          37.06
         ]
        }
       ],
       "layout": {
        "hovermode": "x unified",
        "template": {
         "data": {
          "bar": [
           {
            "error_x": {
             "color": "#2a3f5f"
            },
            "error_y": {
             "color": "#2a3f5f"
            },
            "marker": {
             "line": {
              "color": "#E5ECF6",
              "width": 0.5
             },
             "pattern": {
              "fillmode": "overlay",
              "size": 10,
              "solidity": 0.2
             }
            },
            "type": "bar"
           }
          ],
          "barpolar": [
           {
            "marker": {
             "line": {
              "color": "#E5ECF6",
              "width": 0.5
             },
             "pattern": {
              "fillmode": "overlay",
              "size": 10,
              "solidity": 0.2
             }
            },
            "type": "barpolar"
           }
          ],
          "carpet": [
           {
            "aaxis": {
             "endlinecolor": "#2a3f5f",
             "gridcolor": "white",
             "linecolor": "white",
             "minorgridcolor": "white",
             "startlinecolor": "#2a3f5f"
            },
            "baxis": {
             "endlinecolor": "#2a3f5f",
             "gridcolor": "white",
             "linecolor": "white",
             "minorgridcolor": "white",
             "startlinecolor": "#2a3f5f"
            },
            "type": "carpet"
           }
          ],
          "choropleth": [
           {
            "colorbar": {
             "outlinewidth": 0,
             "ticks": ""
            },
            "type": "choropleth"
           }
          ],
          "contour": [
           {
            "colorbar": {
             "outlinewidth": 0,
             "ticks": ""
            },
            "colorscale": [
             [
              0,
              "#0d0887"
             ],
             [
              0.1111111111111111,
              "#46039f"
             ],
             [
              0.2222222222222222,
              "#7201a8"
             ],
             [
              0.3333333333333333,
              "#9c179e"
             ],
             [
              0.4444444444444444,
              "#bd3786"
             ],
             [
              0.5555555555555556,
              "#d8576b"
             ],
             [
              0.6666666666666666,
              "#ed7953"
             ],
             [
              0.7777777777777778,
              "#fb9f3a"
             ],
             [
              0.8888888888888888,
              "#fdca26"
             ],
             [
              1,
              "#f0f921"
             ]
            ],
            "type": "contour"
           }
          ],
          "contourcarpet": [
           {
            "colorbar": {
             "outlinewidth": 0,
             "ticks": ""
            },
            "type": "contourcarpet"
           }
          ],
          "heatmap": [
           {
            "colorbar": {
             "outlinewidth": 0,
             "ticks": ""
            },
            "colorscale": [
             [
              0,
              "#0d0887"
             ],
             [
              0.1111111111111111,
              "#46039f"
             ],
             [
              0.2222222222222222,
              "#7201a8"
             ],
             [
              0.3333333333333333,
              "#9c179e"
             ],
             [
              0.4444444444444444,
              "#bd3786"
             ],
             [
              0.5555555555555556,
              "#d8576b"
             ],
             [
              0.6666666666666666,
              "#ed7953"
             ],
             [
              0.7777777777777778,
              "#fb9f3a"
             ],
             [
              0.8888888888888888,
              "#fdca26"
             ],
             [
              1,
              "#f0f921"
             ]
            ],
            "type": "heatmap"
           }
          ],
          "heatmapgl": [
           {
            "colorbar": {
             "outlinewidth": 0,
             "ticks": ""
            },
            "colorscale": [
             [
              0,
              "#0d0887"
             ],
             [
              0.1111111111111111,
              "#46039f"
             ],
             [
              0.2222222222222222,
              "#7201a8"
             ],
             [
              0.3333333333333333,
              "#9c179e"
             ],
             [
              0.4444444444444444,
              "#bd3786"
             ],
             [
              0.5555555555555556,
              "#d8576b"
             ],
             [
              0.6666666666666666,
              "#ed7953"
             ],
             [
              0.7777777777777778,
              "#fb9f3a"
             ],
             [
              0.8888888888888888,
              "#fdca26"
             ],
             [
              1,
              "#f0f921"
             ]
            ],
            "type": "heatmapgl"
           }
          ],
          "histogram": [
           {
            "marker": {
             "pattern": {
              "fillmode": "overlay",
              "size": 10,
              "solidity": 0.2
             }
            },
            "type": "histogram"
           }
          ],
          "histogram2d": [
           {
            "colorbar": {
             "outlinewidth": 0,
             "ticks": ""
            },
            "colorscale": [
             [
              0,
              "#0d0887"
             ],
             [
              0.1111111111111111,
              "#46039f"
             ],
             [
              0.2222222222222222,
              "#7201a8"
             ],
             [
              0.3333333333333333,
              "#9c179e"
             ],
             [
              0.4444444444444444,
              "#bd3786"
             ],
             [
              0.5555555555555556,
              "#d8576b"
             ],
             [
              0.6666666666666666,
              "#ed7953"
             ],
             [
              0.7777777777777778,
              "#fb9f3a"
             ],
             [
              0.8888888888888888,
              "#fdca26"
             ],
             [
              1,
              "#f0f921"
             ]
            ],
            "type": "histogram2d"
           }
          ],
          "histogram2dcontour": [
           {
            "colorbar": {
             "outlinewidth": 0,
             "ticks": ""
            },
            "colorscale": [
             [
              0,
              "#0d0887"
             ],
             [
              0.1111111111111111,
              "#46039f"
             ],
             [
              0.2222222222222222,
              "#7201a8"
             ],
             [
              0.3333333333333333,
              "#9c179e"
             ],
             [
              0.4444444444444444,
              "#bd3786"
             ],
             [
              0.5555555555555556,
              "#d8576b"
             ],
             [
              0.6666666666666666,
              "#ed7953"
             ],
             [
              0.7777777777777778,
              "#fb9f3a"
             ],
             [
              0.8888888888888888,
              "#fdca26"
             ],
             [
              1,
              "#f0f921"
             ]
            ],
            "type": "histogram2dcontour"
           }
          ],
          "mesh3d": [
           {
            "colorbar": {
             "outlinewidth": 0,
             "ticks": ""
            },
            "type": "mesh3d"
           }
          ],
          "parcoords": [
           {
            "line": {
             "colorbar": {
              "outlinewidth": 0,
              "ticks": ""
             }
            },
            "type": "parcoords"
           }
          ],
          "pie": [
           {
            "automargin": true,
            "type": "pie"
           }
          ],
          "scatter": [
           {
            "fillpattern": {
             "fillmode": "overlay",
             "size": 10,
             "solidity": 0.2
            },
            "type": "scatter"
           }
          ],
          "scatter3d": [
           {
            "line": {
             "colorbar": {
              "outlinewidth": 0,
              "ticks": ""
             }
            },
            "marker": {
             "colorbar": {
              "outlinewidth": 0,
              "ticks": ""
             }
            },
            "type": "scatter3d"
           }
          ],
          "scattercarpet": [
           {
            "marker": {
             "colorbar": {
              "outlinewidth": 0,
              "ticks": ""
             }
            },
            "type": "scattercarpet"
           }
          ],
          "scattergeo": [
           {
            "marker": {
             "colorbar": {
              "outlinewidth": 0,
              "ticks": ""
             }
            },
            "type": "scattergeo"
           }
          ],
          "scattergl": [
           {
            "marker": {
             "colorbar": {
              "outlinewidth": 0,
              "ticks": ""
             }
            },
            "type": "scattergl"
           }
          ],
          "scattermapbox": [
           {
            "marker": {
             "colorbar": {
              "outlinewidth": 0,
              "ticks": ""
             }
            },
            "type": "scattermapbox"
           }
          ],
          "scatterpolar": [
           {
            "marker": {
             "colorbar": {
              "outlinewidth": 0,
              "ticks": ""
             }
            },
            "type": "scatterpolar"
           }
          ],
          "scatterpolargl": [
           {
            "marker": {
             "colorbar": {
              "outlinewidth": 0,
              "ticks": ""
             }
            },
            "type": "scatterpolargl"
           }
          ],
          "scatterternary": [
           {
            "marker": {
             "colorbar": {
              "outlinewidth": 0,
              "ticks": ""
             }
            },
            "type": "scatterternary"
           }
          ],
          "surface": [
           {
            "colorbar": {
             "outlinewidth": 0,
             "ticks": ""
            },
            "colorscale": [
             [
              0,
              "#0d0887"
             ],
             [
              0.1111111111111111,
              "#46039f"
             ],
             [
              0.2222222222222222,
              "#7201a8"
             ],
             [
              0.3333333333333333,
              "#9c179e"
             ],
             [
              0.4444444444444444,
              "#bd3786"
             ],
             [
              0.5555555555555556,
              "#d8576b"
             ],
             [
              0.6666666666666666,
              "#ed7953"
             ],
             [
              0.7777777777777778,
              "#fb9f3a"
             ],
             [
              0.8888888888888888,
              "#fdca26"
             ],
             [
              1,
              "#f0f921"
             ]
            ],
            "type": "surface"
           }
          ],
          "table": [
           {
            "cells": {
             "fill": {
              "color": "#EBF0F8"
             },
             "line": {
              "color": "white"
             }
            },
            "header": {
             "fill": {
              "color": "#C8D4E3"
             },
             "line": {
              "color": "white"
             }
            },
            "type": "table"
           }
          ]
         },
         "layout": {
          "annotationdefaults": {
           "arrowcolor": "#2a3f5f",
           "arrowhead": 0,
           "arrowwidth": 1
          },
          "autotypenumbers": "strict",
          "coloraxis": {
           "colorbar": {
            "outlinewidth": 0,
            "ticks": ""
           }
          },
          "colorscale": {
           "diverging": [
            [
             0,
             "#8e0152"
            ],
            [
             0.1,
             "#c51b7d"
            ],
            [
             0.2,
             "#de77ae"
            ],
            [
             0.3,
             "#f1b6da"
            ],
            [
             0.4,
             "#fde0ef"
            ],
            [
             0.5,
             "#f7f7f7"
            ],
            [
             0.6,
             "#e6f5d0"
            ],
            [
             0.7,
             "#b8e186"
            ],
            [
             0.8,
             "#7fbc41"
            ],
            [
             0.9,
             "#4d9221"
            ],
            [
             1,
             "#276419"
            ]
           ],
           "sequential": [
            [
             0,
             "#0d0887"
            ],
            [
             0.1111111111111111,
             "#46039f"
            ],
            [
             0.2222222222222222,
             "#7201a8"
            ],
            [
             0.3333333333333333,
             "#9c179e"
            ],
            [
             0.4444444444444444,
             "#bd3786"
            ],
            [
             0.5555555555555556,
             "#d8576b"
            ],
            [
             0.6666666666666666,
             "#ed7953"
            ],
            [
             0.7777777777777778,
             "#fb9f3a"
            ],
            [
             0.8888888888888888,
             "#fdca26"
            ],
            [
             1,
             "#f0f921"
            ]
           ],
           "sequentialminus": [
            [
             0,
             "#0d0887"
            ],
            [
             0.1111111111111111,
             "#46039f"
            ],
            [
             0.2222222222222222,
             "#7201a8"
            ],
            [
             0.3333333333333333,
             "#9c179e"
            ],
            [
             0.4444444444444444,
             "#bd3786"
            ],
            [
             0.5555555555555556,
             "#d8576b"
            ],
            [
             0.6666666666666666,
             "#ed7953"
            ],
            [
             0.7777777777777778,
             "#fb9f3a"
            ],
            [
             0.8888888888888888,
             "#fdca26"
            ],
            [
             1,
             "#f0f921"
            ]
           ]
          },
          "colorway": [
           "#636efa",
           "#EF553B",
           "#00cc96",
           "#ab63fa",
           "#FFA15A",
           "#19d3f3",
           "#FF6692",
           "#B6E880",
           "#FF97FF",
           "#FECB52"
          ],
          "font": {
           "color": "#2a3f5f"
          },
          "geo": {
           "bgcolor": "white",
           "lakecolor": "white",
           "landcolor": "#E5ECF6",
           "showlakes": true,
           "showland": true,
           "subunitcolor": "white"
          },
          "hoverlabel": {
           "align": "left"
          },
          "hovermode": "closest",
          "mapbox": {
           "style": "light"
          },
          "paper_bgcolor": "white",
          "plot_bgcolor": "#E5ECF6",
          "polar": {
           "angularaxis": {
            "gridcolor": "white",
            "linecolor": "white",
            "ticks": ""
           },
           "bgcolor": "#E5ECF6",
           "radialaxis": {
            "gridcolor": "white",
            "linecolor": "white",
            "ticks": ""
           }
          },
          "scene": {
           "xaxis": {
            "backgroundcolor": "#E5ECF6",
            "gridcolor": "white",
            "gridwidth": 2,
            "linecolor": "white",
            "showbackground": true,
            "ticks": "",
            "zerolinecolor": "white"
           },
           "yaxis": {
            "backgroundcolor": "#E5ECF6",
            "gridcolor": "white",
            "gridwidth": 2,
            "linecolor": "white",
            "showbackground": true,
            "ticks": "",
            "zerolinecolor": "white"
           },
           "zaxis": {
            "backgroundcolor": "#E5ECF6",
            "gridcolor": "white",
            "gridwidth": 2,
            "linecolor": "white",
            "showbackground": true,
            "ticks": "",
            "zerolinecolor": "white"
           }
          },
          "shapedefaults": {
           "line": {
            "color": "#2a3f5f"
           }
          },
          "ternary": {
           "aaxis": {
            "gridcolor": "white",
            "linecolor": "white",
            "ticks": ""
           },
           "baxis": {
            "gridcolor": "white",
            "linecolor": "white",
            "ticks": ""
           },
           "bgcolor": "#E5ECF6",
           "caxis": {
            "gridcolor": "white",
            "linecolor": "white",
            "ticks": ""
           }
          },
          "title": {
           "x": 0.05
          },
          "xaxis": {
           "automargin": true,
           "gridcolor": "white",
           "linecolor": "white",
           "ticks": "",
           "title": {
            "standoff": 15
           },
           "zerolinecolor": "white",
           "zerolinewidth": 2
          },
          "yaxis": {
           "automargin": true,
           "gridcolor": "white",
           "linecolor": "white",
           "ticks": "",
           "title": {
            "standoff": 15
           },
           "zerolinecolor": "white",
           "zerolinewidth": 2
          }
         }
        },
        "title": {
         "text": "Udział procentowy kategorii poglądów partii na przestrzeni lat"
        },
        "xaxis": {
         "title": {
          "text": "Rok"
         }
        },
        "yaxis": {
         "range": [
          0,
          100
         ],
         "title": {
          "text": "Udział procentowy (%)"
         }
        }
       }
      },
      "image/png": "[encoded data removed]",
      "text/html": [
       "<div>                            <div id=\"fe901fa4-a34e-44e8-a817-94670a688f7b\" class=\"plotly-graph-div\" style=\"height:525px; width:100%;\"></div>            <script type=\"text/javascript\">                require([\"plotly\"], function(Plotly) {                    window.PLOTLYENV=window.PLOTLYENV || {};                                    if (document.getElementById(\"fe901fa4-a34e-44e8-a817-94670a688f7b\")) {                    Plotly.newPlot(                        \"fe901fa4-a34e-44e8-a817-94670a688f7b\",                        [{\"line\":{\"color\":\"green\"},\"mode\":\"lines+markers\",\"name\":\"Centroprawica\",\"x\":[2004,2009,2014,2019,2024],\"y\":[24.09518096380724,44.425557444255574,32.12678732126788,49.06509349065094,36.16],\"type\":\"scatter\"},{\"line\":{\"color\":\"black\"},\"mode\":\"lines+markers\",\"name\":\"Centrum\",\"x\":[2004,2009,2014,2019,2024],\"y\":[18.106378724255148,9.44905509449055,7.029297070292971,0.53994600539946,7.84],\"type\":\"scatter\"},{\"line\":{\"color\":\"red\"},\"mode\":\"lines+markers\",\"name\":\"Lewica\",\"x\":[2004,2009,2014,2019,2024],\"y\":[27.264547090581885,14.518548145185484,13.37866213378662,7.2992700729927,6.3],\"type\":\"scatter\"},{\"line\":{\"color\":\"blue\"},\"mode\":\"lines+markers\",\"name\":\"Prawica\",\"x\":[2004,2009,2014,2019,2024],\"y\":[30.53389322135573,31.606839316068395,47.46525347465253,4.62953704629537,12.64],\"type\":\"scatter\"},{\"line\":{\"color\":\"orange\"},\"mode\":\"lines+markers\",\"name\":\"Centrolewica\",\"x\":[2004,2009,2014,2019,2024],\"y\":[0,0,0,38.46615338466153,37.06],\"type\":\"scatter\"}],                        {\"template\":{\"data\":{\"histogram2dcontour\":[{\"type\":\"histogram2dcontour\",\"colorbar\":{\"outlinewidth\":0,\"ticks\":\"\"},\"colorscale\":[[0.0,\"#0d0887\"],[0.1111111111111111,\"#46039f\"],[0.2222222222222222,\"#7201a8\"],[0.3333333333333333,\"#9c179e\"],[0.4444444444444444,\"#bd3786\"],[0.5555555555555556,\"#d8576b\"],[0.6666666666666666,\"#ed7953\"],[0.7777777777777778,\"#fb9f3a\"],[0.8888888888888888,\"#fdca26\"],[1.0,\"#f0f921\"]]}],\"choropleth\":[{\"type\":\"choropleth\",\"colorbar\":{\"outlinewidth\":0,\"ticks\":\"\"}}],\"histogram2d\":[{\"type\":\"histogram2d\",\"colorbar\":{\"outlinewidth\":0,\"ticks\":\"\"},\"colorscale\":[[0.0,\"#0d0887\"],[0.1111111111111111,\"#46039f\"],[0.2222222222222222,\"#7201a8\"],[0.3333333333333333,\"#9c179e\"],[0.4444444444444444,\"#bd3786\"],[0.5555555555555556,\"#d8576b\"],[0.6666666666666666,\"#ed7953\"],[0.7777777777777778,\"#fb9f3a\"],[0.8888888888888888,\"#fdca26\"],[1.0,\"#f0f921\"]]}],\"heatmap\":[{\"type\":\"heatmap\",\"colorbar\":{\"outlinewidth\":0,\"ticks\":\"\"},\"colorscale\":[[0.0,\"#0d0887\"],[0.1111111111111111,\"#46039f\"],[0.2222222222222222,\"#7201a8\"],[0.3333333333333333,\"#9c179e\"],[0.4444444444444444,\"#bd3786\"],[0.5555555555555556,\"#d8576b\"],[0.6666666666666666,\"#ed7953\"],[0.7777777777777778,\"#fb9f3a\"],[0.8888888888888888,\"#fdca26\"],[1.0,\"#f0f921\"]]}],\"heatmapgl\":[{\"type\":\"heatmapgl\",\"colorbar\":{\"outlinewidth\":0,\"ticks\":\"\"},\"colorscale\":[[0.0,\"#0d0887\"],[0.1111111111111111,\"#46039f\"],[0.2222222222222222,\"#7201a8\"],[0.3333333333333333,\"#9c179e\"],[0.4444444444444444,\"#bd3786\"],[0.5555555555555556,\"#d8576b\"],[0.6666666666666666,\"#ed7953\"],[0.7777777777777778,\"#fb9f3a\"],[0.8888888888888888,\"#fdca26\"],[1.0,\"#f0f921\"]]}],\"contourcarpet\":[{\"type\":\"contourcarpet\",\"colorbar\":{\"outlinewidth\":0,\"ticks\":\"\"}}],\"contour\":[{\"type\":\"contour\",\"colorbar\":{\"outlinewidth\":0,\"ticks\":\"\"},\"colorscale\":[[0.0,\"#0d0887\"],[0.1111111111111111,\"#46039f\"],[0.2222222222222222,\"#7201a8\"],[0.3333333333333333,\"#9c179e\"],[0.4444444444444444,\"#bd3786\"],[0.5555555555555556,\"#d8576b\"],[0.6666666666666666,\"#ed7953\"],[0.7777777777777778,\"#fb9f3a\"],[0.8888888888888888,\"#fdca26\"],[1.0,\"#f0f921\"]]}],\"surface\":[{\"type\":\"surface\",\"colorbar\":{\"outlinewidth\":0,\"ticks\":\"\"},\"colorscale\":[[0.0,\"#0d0887\"],[0.1111111111111111,\"#46039f\"],[0.2222222222222222,\"#7201a8\"],[0.3333333333333333,\"#9c179e\"],[0.4444444444444444,\"#bd3786\"],[0.5555555555555556,\"#d8576b\"],[0.6666666666666666,\"#ed7953\"],[0.7777777777777778,\"#fb9f3a\"],[0.8888888888888888,\"#fdca26\"],[1.0,\"#f0f921\"]]}],\"mesh3d\":[{\"type\":\"mesh3d\",\"colorbar\":{\"outlinewidth\":0,\"ticks\":\"\"}}],\"scatter\":[{\"fillpattern\":{\"fillmode\":\"overlay\",\"size\":10,\"solidity\":0.2},\"type\":\"scatter\"}],\"parcoords\":[{\"type\":\"parcoords\",\"line\":{\"colorbar\":{\"outlinewidth\":0,\"ticks\":\"\"}}}],\"scatterpolargl\":[{\"type\":\"scatterpolargl\",\"marker\":{\"colorbar\":{\"outlinewidth\":0,\"ticks\":\"\"}}}],\"bar\":[{\"error_x\":{\"color\":\"#2a3f5f\"},\"error_y\":{\"color\":\"#2a3f5f\"},\"marker\":{\"line\":{\"color\":\"#E5ECF6\",\"width\":0.5},\"pattern\":{\"fillmode\":\"overlay\",\"size\":10,\"solidity\":0.2}},\"type\":\"bar\"}],\"scattergeo\":[{\"type\":\"scattergeo\",\"marker\":{\"colorbar\":{\"outlinewidth\":0,\"ticks\":\"\"}}}],\"scatterpolar\":[{\"type\":\"scatterpolar\",\"marker\":{\"colorbar\":{\"outlinewidth\":0,\"ticks\":\"\"}}}],\"histogram\":[{\"marker\":{\"pattern\":{\"fillmode\":\"overlay\",\"size\":10,\"solidity\":0.2}},\"type\":\"histogram\"}],\"scattergl\":[{\"type\":\"scattergl\",\"marker\":{\"colorbar\":{\"outlinewidth\":0,\"ticks\":\"\"}}}],\"scatter3d\":[{\"type\":\"scatter3d\",\"line\":{\"colorbar\":{\"outlinewidth\":0,\"ticks\":\"\"}},\"marker\":{\"colorbar\":{\"outlinewidth\":0,\"ticks\":\"\"}}}],\"scattermapbox\":[{\"type\":\"scattermapbox\",\"marker\":{\"colorbar\":{\"outlinewidth\":0,\"ticks\":\"\"}}}],\"scatterternary\":[{\"type\":\"scatterternary\",\"marker\":{\"colorbar\":{\"outlinewidth\":0,\"ticks\":\"\"}}}],\"scattercarpet\":[{\"type\":\"scattercarpet\",\"marker\":{\"colorbar\":{\"outlinewidth\":0,\"ticks\":\"\"}}}],\"carpet\":[{\"aaxis\":{\"endlinecolor\":\"#2a3f5f\",\"gridcolor\":\"white\",\"linecolor\":\"white\",\"minorgridcolor\":\"white\",\"startlinecolor\":\"#2a3f5f\"},\"baxis\":{\"endlinecolor\":\"#2a3f5f\",\"gridcolor\":\"white\",\"linecolor\":\"white\",\"minorgridcolor\":\"white\",\"startlinecolor\":\"#2a3f5f\"},\"type\":\"carpet\"}],\"table\":[{\"cells\":{\"fill\":{\"color\":\"#EBF0F8\"},\"line\":{\"color\":\"white\"}},\"header\":{\"fill\":{\"color\":\"#C8D4E3\"},\"line\":{\"color\":\"white\"}},\"type\":\"table\"}],\"barpolar\":[{\"marker\":{\"line\":{\"color\":\"#E5ECF6\",\"width\":0.5},\"pattern\":{\"fillmode\":\"overlay\",\"size\":10,\"solidity\":0.2}},\"type\":\"barpolar\"}],\"pie\":[{\"automargin\":true,\"type\":\"pie\"}]},\"layout\":{\"autotypenumbers\":\"strict\",\"colorway\":[\"#636efa\",\"#EF553B\",\"#00cc96\",\"#ab63fa\",\"#FFA15A\",\"#19d3f3\",\"#FF6692\",\"#B6E880\",\"#FF97FF\",\"#FECB52\"],\"font\":{\"color\":\"#2a3f5f\"},\"hovermode\":\"closest\",\"hoverlabel\":{\"align\":\"left\"},\"paper_bgcolor\":\"white\",\"plot_bgcolor\":\"#E5ECF6\",\"polar\":{\"bgcolor\":\"#E5ECF6\",\"angularaxis\":{\"gridcolor\":\"white\",\"linecolor\":\"white\",\"ticks\":\"\"},\"radialaxis\":{\"gridcolor\":\"white\",\"linecolor\":\"white\",\"ticks\":\"\"}},\"ternary\":{\"bgcolor\":\"#E5ECF6\",\"aaxis\":{\"gridcolor\":\"white\",\"linecolor\":\"white\",\"ticks\":\"\"},\"baxis\":{\"gridcolor\":\"white\",\"linecolor\":\"white\",\"ticks\":\"\"},\"caxis\":{\"gridcolor\":\"white\",\"linecolor\":\"white\",\"ticks\":\"\"}},\"coloraxis\":{\"colorbar\":{\"outlinewidth\":0,\"ticks\":\"\"}},\"colorscale\":{\"sequential\":[[0.0,\"#0d0887\"],[0.1111111111111111,\"#46039f\"],[0.2222222222222222,\"#7201a8\"],[0.3333333333333333,\"#9c179e\"],[0.4444444444444444,\"#bd3786\"],[0.5555555555555556,\"#d8576b\"],[0.6666666666666666,\"#ed7953\"],[0.7777777777777778,\"#fb9f3a\"],[0.8888888888888888,\"#fdca26\"],[1.0,\"#f0f921\"]],\"sequentialminus\":[[0.0,\"#0d0887\"],[0.1111111111111111,\"#46039f\"],[0.2222222222222222,\"#7201a8\"],[0.3333333333333333,\"#9c179e\"],[0.4444444444444444,\"#bd3786\"],[0.5555555555555556,\"#d8576b\"],[0.6666666666666666,\"#ed7953\"],[0.7777777777777778,\"#fb9f3a\"],[0.8888888888888888,\"#fdca26\"],[1.0,\"#f0f921\"]],\"diverging\":[[0,\"#8e0152\"],[0.1,\"#c51b7d\"],[0.2,\"#de77ae\"],[0.3,\"#f1b6da\"],[0.4,\"#fde0ef\"],[0.5,\"#f7f7f7\"],[0.6,\"#e6f5d0\"],[0.7,\"#b8e186\"],[0.8,\"#7fbc41\"],[0.9,\"#4d9221\"],[1,\"#276419\"]]},\"xaxis\":{\"gridcolor\":\"white\",\"linecolor\":\"white\",\"ticks\":\"\",\"title\":{\"standoff\":15},\"zerolinecolor\":\"white\",\"automargin\":true,\"zerolinewidth\":2},\"yaxis\":{\"gridcolor\":\"white\",\"linecolor\":\"white\",\"ticks\":\"\",\"title\":{\"standoff\":15},\"zerolinecolor\":\"white\",\"automargin\":true,\"zerolinewidth\":2},\"scene\":{\"xaxis\":{\"backgroundcolor\":\"#E5ECF6\",\"gridcolor\":\"white\",\"linecolor\":\"white\",\"showbackground\":true,\"ticks\":\"\",\"zerolinecolor\":\"white\",\"gridwidth\":2},\"yaxis\":{\"backgroundcolor\":\"#E5ECF6\",\"gridcolor\":\"white\",\"linecolor\":\"white\",\"showbackground\":true,\"ticks\":\"\",\"zerolinecolor\":\"white\",\"gridwidth\":2},\"zaxis\":{\"backgroundcolor\":\"#E5ECF6\",\"gridcolor\":\"white\",\"linecolor\":\"white\",\"showbackground\":true,\"ticks\":\"\",\"zerolinecolor\":\"white\",\"gridwidth\":2}},\"shapedefaults\":{\"line\":{\"color\":\"#2a3f5f\"}},\"annotationdefaults\":{\"arrowcolor\":\"#2a3f5f\",\"arrowhead\":0,\"arrowwidth\":1},\"geo\":{\"bgcolor\":\"white\",\"landcolor\":\"#E5ECF6\",\"subunitcolor\":\"white\",\"showland\":true,\"showlakes\":true,\"lakecolor\":\"white\"},\"title\":{\"x\":0.05},\"mapbox\":{\"style\":\"light\"}}},\"yaxis\":{\"title\":{\"text\":\"Udział procentowy (%)\"},\"range\":[0,100]},\"title\":{\"text\":\"Udział procentowy kategorii poglądów partii na przestrzeni lat\"},\"xaxis\":{\"title\":{\"text\":\"Rok\"}},\"hovermode\":\"x unified\"},                        {\"responsive\": true}                    ).then(function(){\n",
       "                            \n",
       "var gd = document.getElementById('fe901fa4-a34e-44e8-a817-94670a688f7b');\n",
       "var x = new MutationObserver(function (mutations, observer) {{\n",
       "        var display = window.getComputedStyle(gd).display;\n",
       "        if (!display || display === 'none') {{\n",
       "            console.log([gd, 'removed!']);\n",
       "            Plotly.purge(gd);\n",
       "            observer.disconnect();\n",
       "        }}\n",
       "}});\n",
       "\n",
       "// Listen for the removal of the full notebook cells\n",
       "var notebookContainer = gd.closest('#notebook-container');\n",
       "if (notebookContainer) {{\n",
       "    x.observe(notebookContainer, {childList: true});\n",
       "}}\n",
       "\n",
       "// Listen for the clearing of the current output cell\n",
       "var outputEl = gd.closest('.output');\n",
       "if (outputEl) {{\n",
       "    x.observe(outputEl, {childList: true});\n",
       "}}\n",
       "\n",
       "                        })                };                });            </script>        </div>"
      ]
     },
     "metadata": {},
     "output_type": "display_data"
    }
   ],
   "source": [
    "# Konwersja kolumny 'GLOSY (%)' do liczby (float)\n",
    "df[\"GLOSY (%)\"] = pd.to_numeric(df[\"GLOSY (%)\"], errors='coerce')\n",
    "\n",
    "# Grupujemy dane: suma procentowego poparcia wg roku i kategorii poglądów\n",
    "df_grouped = df.groupby([\"ROK\", \"POGLADY\"])[\"GLOSY (%)\"].sum().reset_index()\n",
    "\n",
    "# Suma poparcia w każdym roku (ok. 100%)\n",
    "rok_sumy = df_grouped.groupby(\"ROK\")[\"GLOSY (%)\"].sum().reset_index().rename(columns={\"GLOSY (%)\": \"SUMA_ROK\"})\n",
    "\n",
    "# Dołączamy sumy roczne\n",
    "df_grouped = df_grouped.merge(rok_sumy, on=\"ROK\")\n",
    "\n",
    "# Obliczamy udział procentowy danej kategorii w roku\n",
    "df_grouped[\"UDZIAL_PROC\"] = (df_grouped[\"GLOSY (%)\"] / df_grouped[\"SUMA_ROK\"]) * 100\n",
    "\n",
    "# Lista lat i kategorii poglądów\n",
    "years = sorted(df_grouped[\"ROK\"].unique())\n",
    "categories = df_grouped[\"POGLADY\"].unique()\n",
    "\n",
    "# Kolory (dostosuj do własnych kategorii)\n",
    "colors = {\n",
    "    \"Prawica\": \"blue\",\n",
    "    \"Centroprawica\": \"green\",\n",
    "    \"Centrum\": \"black\",\n",
    "    \"Centrolewica\": \"orange\",\n",
    "    \"Lewica\": \"red\"\n",
    "}\n",
    "\n",
    "# Tworzenie wykresu\n",
    "fig = go.Figure()\n",
    "\n",
    "for cat in categories:\n",
    "    y_values = []\n",
    "    for year in years:\n",
    "        val = df_grouped[(df_grouped[\"ROK\"] == year) & (df_grouped[\"POGLADY\"] == cat)][\"UDZIAL_PROC\"]\n",
    "        y_values.append(val.values[0] if not val.empty else 0)\n",
    "\n",
    "    fig.add_trace(go.Scatter(\n",
    "        x=years,\n",
    "        y=y_values,\n",
    "        mode='lines+markers',\n",
    "        name=cat,\n",
    "        line=dict(color=colors.get(cat, \"gray\"))\n",
    "    ))\n",
    "\n",
    "# Layout wykresu\n",
    "fig.update_layout(\n",
    "    title=\"Udział procentowy kategorii poglądów partii na przestrzeni lat\",\n",
    "    xaxis_title=\"Rok\",\n",
    "    yaxis_title=\"Udział procentowy (%)\",\n",
    "    yaxis=dict(range=[0, 100]),\n",
    "    hovermode=\"x unified\"\n",
    ")\n",
    "\n",
    "fig.show()"
   ]
  },
  {
   "cell_type": "markdown",
   "metadata": {
    "editable": true,
    "slideshow": {
     "slide_type": "fragment"
    },
    "tags": []
   },
   "source": [
    "### W 2019 roku centroprawica cieszyła się najwyższym - 49% - poparciem. Najgorsze poparcie miały poglądy centrolewicowe do 2014 roku (0%). Centrum w 2019 praktycznie nie istniało na scenie politycznej.\n",
    "### Najlepsze i najgorsze wyniki poszczególnych poglądów:\n",
    "##### - prawica: najlepszy: rok 2014 - 47,47%; najgorszy: rok 2019 - 4,63%\n",
    "##### - centroprawica: najlepszy: rok 2015 - 49,07%; najgorszy: rok 2004 - 24,10%\n",
    "##### - centrum: najlepszy: rok 2004 - 18,11%; najgorszy: rok 2019 - 0,54%\n",
    "##### - centrolewica: najlepszy: rok 2023 - 38,47%; najgorszy: do roku 2014 - 0%\n",
    "##### - lewica: najlepszy: rok 2004 - 27,26%; najgorszy: rok 2024 - 6,03%"
   ]
  },
  {
   "cell_type": "markdown",
   "metadata": {
    "editable": true,
    "slideshow": {
     "slide_type": "slide"
    },
    "tags": []
   },
   "source": [
    "# Sprawdzanie korelacji między zmiennymi"
   ]
  },
  {
   "cell_type": "code",
   "execution_count": 104,
   "metadata": {
    "editable": true,
    "jupyter": {
     "source_hidden": true
    },
    "slideshow": {
     "slide_type": "fragment"
    },
    "tags": []
   },
   "outputs": [
    {
     "data": {
      "image/png": "[encoded data removed]",
      "text/plain": [
       "<Figure size 500x400 with 2 Axes>"
      ]
     },
     "metadata": {},
     "output_type": "display_data"
    }
   ],
   "source": [
    "# Mapowanie 'POGLADY' na wartości numeryczne\n",
    "poglady_map = {\n",
    "    \"Prawica\": 4,\n",
    "    \"Centroprawica\": 3,\n",
    "    \"Centrum\": 2,\n",
    "    \"Centrolewica\": 1,\n",
    "    \"Lewica\": 0\n",
    "}\n",
    "df[\"POGLADY_NUM\"] = df[\"POGLADY\"].map(poglady_map)\n",
    "\n",
    "# Konwersja 'GLOSY (%)' na numeryczne\n",
    "df[\"GLOSY (%)\"] = pd.to_numeric(df[\"GLOSY (%)\"], errors='coerce')\n",
    "\n",
    "# Wybór kolumn do korelacji\n",
    "cols = [\"POGLADY_NUM\", \"GLOSY (%)\"]\n",
    "corr_df = df[cols].dropna()\n",
    "\n",
    "# Obliczenie macierzy korelacji\n",
    "corr_matrix = corr_df.corr()\n",
    "\n",
    "# Wizualizacja korelacji\n",
    "plt.figure(figsize=(5,4))\n",
    "sns.heatmap(\n",
    "    corr_matrix,\n",
    "    annot=True,\n",
    "    cmap=\"coolwarm\",\n",
    "    center=0,\n",
    "    fmt=\".2f\",\n",
    "    annot_kws={\"color\": \"black\"},\n",
    "    cbar_kws={\"shrink\": 0.8}\n",
    ")\n",
    "plt.title(\"Macierz korelacji: POGLADY i GLOSY (%)\")\n",
    "plt.show()"
   ]
  },
  {
   "cell_type": "code",
   "execution_count": 105,
   "metadata": {
    "editable": true,
    "jupyter": {
     "source_hidden": true
    },
    "slideshow": {
     "slide_type": "fragment"
    },
    "tags": []
   },
   "outputs": [
    {
     "data": {
      "image/png": "[encoded data removed]",
      "text/plain": [
       "<Figure size 400x300 with 2 Axes>"
      ]
     },
     "metadata": {},
     "output_type": "display_data"
    }
   ],
   "source": [
    "# Zamiana PARTIA na numeryczne kody\n",
    "df[\"PARTIA_NUM\"] = df[\"PARTIA\"].astype('category').cat.codes\n",
    "\n",
    "# Konwersja GLOSY (%) na liczby\n",
    "df[\"GLOSY (%)\"] = pd.to_numeric(df[\"GLOSY (%)\"], errors='coerce')\n",
    "\n",
    "# Wybieramy kolumny i usuwamy NaN\n",
    "corr_df = df[[\"PARTIA_NUM\", \"GLOSY (%)\"]].dropna()\n",
    "\n",
    "# Obliczamy korelację\n",
    "corr_matrix = corr_df.corr()\n",
    "\n",
    "# Rysujemy heatmapę\n",
    "plt.figure(figsize=(4,3))\n",
    "sns.heatmap(\n",
    "    corr_matrix,\n",
    "    annot=True,\n",
    "    cmap=\"coolwarm\",\n",
    "    center=0,\n",
    "    fmt=\".2f\",\n",
    "    annot_kws={\"color\": \"black\"},\n",
    "    cbar_kws={\"shrink\": 0.8}\n",
    ")\n",
    "plt.title(\"Macierz korelacji: PARTIA i GLOSY (%)\")\n",
    "plt.show()"
   ]
  },
  {
   "cell_type": "markdown",
   "metadata": {
    "editable": true,
    "slideshow": {
     "slide_type": "fragment"
    },
    "tags": []
   },
   "source": [
    "### Nie widać zależności ani między poglądami a głosami, ani między partią a procentami głosów."
   ]
  },
  {
   "cell_type": "code",
   "execution_count": 106,
   "metadata": {
    "editable": true,
    "jupyter": {
     "source_hidden": true
    },
    "slideshow": {
     "slide_type": "slide"
    },
    "tags": []
   },
   "outputs": [
    {
     "data": {
      "image/png": "[encoded data removed]",
      "text/plain": [
       "<Figure size 700x400 with 1 Axes>"
      ]
     },
     "metadata": {},
     "output_type": "display_data"
    }
   ],
   "source": [
    "# Kodowanie POGLADY i PARTIA\n",
    "le_poglady = LabelEncoder()\n",
    "df['POGLADY_NUM'] = le_poglady.fit_transform(df['POGLADY'].astype(str))\n",
    "\n",
    "le_partia = LabelEncoder()\n",
    "df['PARTIA_NUM'] = le_partia.fit_transform(df['PARTIA'].astype(str))\n",
    "\n",
    "# Tworzymy zmienną celu: 1 jeśli partia dostała się do Europarlamentu, 0 jeśli nie\n",
    "df['MANDATY_TAK_NIE_NUM'] = df['MANDATY TAK NIE'].apply(lambda x: 1 if x == 'Tak' else 0)\n",
    "\n",
    "# Wybieramy cechy i usuwamy wiersze z brakami\n",
    "X = df[['POGLADY_NUM', 'PARTIA_NUM']].dropna()\n",
    "y = df.loc[X.index, 'MANDATY_TAK_NIE_NUM']\n",
    "\n",
    "# Podział na zbiór treningowy i testowy\n",
    "X_train, X_test, y_train, y_test = train_test_split(X, y, test_size=0.3, random_state=42)\n",
    "\n",
    "# Trening drzewa decyzyjnego\n",
    "model_tree = DecisionTreeClassifier(max_depth=3, random_state=42)\n",
    "model_tree.fit(X_train, y_train)\n",
    "\n",
    "# Ważność cech\n",
    "importances = model_tree.feature_importances_\n",
    "features = X.columns\n",
    "indices = np.argsort(importances)[::-1]\n",
    "\n",
    "# Wizualizacja ważności cech\n",
    "plt.figure(figsize=(7,4))\n",
    "plt.title(\"Ważność cech wpływających na dostanie się do Europarlamentu\")\n",
    "plt.bar(range(len(importances)), importances[indices], color='lightblue', align='center')\n",
    "plt.xticks(range(len(importances)), features[indices], rotation=45, ha='right')\n",
    "plt.ylabel(\"Ważność\")\n",
    "plt.tight_layout()\n",
    "plt.show()"
   ]
  },
  {
   "cell_type": "markdown",
   "metadata": {
    "editable": true,
    "slideshow": {
     "slide_type": "fragment"
    },
    "tags": []
   },
   "source": [
    "### Na wykresie widać, że najważniejszą cechą, dostania się do Europarlamentu jest przynależność do określonej partii politycznej."
   ]
  },
  {
   "cell_type": "code",
   "execution_count": null,
   "metadata": {
    "editable": true,
    "slideshow": {
     "slide_type": ""
    },
    "tags": []
   },
   "outputs": [],
   "source": [
    "!jupyter nbconvert Europarlament_pl.ipynb --to html --no-input --no-prompt --output Europarlament.html > null 2>&1"
   ]
  }
 ],
 "metadata": {
  "kernelspec": {
   "display_name": "Python 3 (ipykernel)",
   "language": "python",
   "name": "python3"
  },
  "language_info": {
   "codemirror_mode": {
    "name": "ipython",
    "version": 3
   },
   "file_extension": ".py",
   "mimetype": "text/x-python",
   "name": "python",
   "nbconvert_exporter": "python",
   "pygments_lexer": "ipython3",
   "version": "3.11.11"
  }
 },
 "nbformat": 4,
 "nbformat_minor": 4
}
