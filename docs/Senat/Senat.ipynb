{
 "cells": [
  {
   "cell_type": "markdown",
   "metadata": {
    "editable": true,
    "slideshow": {
     "slide_type": "slide"
    },
    "tags": []
   },
   "source": [
    "## O Danych\n",
    "\n",
    "Zbiór danych zawiera informacje o wyborach do Senatu w III RP.\n",
    "\n",
    "Każdy wiersz w zbiorze danych reprezentuje daną partię polityczną\n",
    "\n",
    "\n",
    "\n",
    "Kolumny:\n",
    "* **ROK** - Rok wyborów\n",
    "* **PARTIA** - Partia\n",
    "* **SKROT** - Skrót partii w/w\n",
    "* **POGLADY** - Poglądy partii według kategorii: Prawica, Centroprawica, Centrum, Centrolewica, Lewica\n",
    "* **GLOSY** - Ile procent głosów otrzymała dana partia\n",
    "* **MANDATY** - Ilość mandatów w Parlamencie III RP"
   ]
  },
  {
   "cell_type": "code",
   "execution_count": 67,
   "metadata": {
    "editable": true,
    "jupyter": {
     "source_hidden": true
    },
    "slideshow": {
     "slide_type": "skip"
    },
    "tags": []
   },
   "outputs": [],
   "source": [
    "import pandas as pd\n",
    "import matplotlib.pyplot as plt\n",
    "import seaborn as sns\n",
    "import numpy as np\n",
    "import plotly.express as px\n",
    "import plotly.graph_objects as go\n",
    "import warnings\n",
    "warnings.simplefilter(action='ignore', category=FutureWarning)\n",
    "from sklearn.model_selection import train_test_split\n",
    "from sklearn.preprocessing import LabelEncoder\n",
    "from sklearn.linear_model import LogisticRegression\n",
    "from sklearn.tree import DecisionTreeClassifier"
   ]
  },
  {
   "cell_type": "markdown",
   "metadata": {
    "editable": true,
    "slideshow": {
     "slide_type": "slide"
    },
    "tags": []
   },
   "source": [
    "# Ogólny przegląd danych"
   ]
  },
  {
   "cell_type": "code",
   "execution_count": 68,
   "metadata": {
    "editable": true,
    "jupyter": {
     "source_hidden": true
    },
    "slideshow": {
     "slide_type": "skip"
    },
    "tags": []
   },
   "outputs": [
    {
     "data": {
      "text/html": [
       "<div>\n",
       "<style scoped>\n",
       "    .dataframe tbody tr th:only-of-type {\n",
       "        vertical-align: middle;\n",
       "    }\n",
       "\n",
       "    .dataframe tbody tr th {\n",
       "        vertical-align: top;\n",
       "    }\n",
       "\n",
       "    .dataframe thead th {\n",
       "        text-align: right;\n",
       "    }\n",
       "</style>\n",
       "<table border=\"1\" class=\"dataframe\">\n",
       "  <thead>\n",
       "    <tr style=\"text-align: right;\">\n",
       "      <th></th>\n",
       "      <th>ROK</th>\n",
       "      <th>PARTIA</th>\n",
       "      <th>SKROT</th>\n",
       "      <th>POGLADY</th>\n",
       "      <th>GŁOSY</th>\n",
       "      <th>MANDATY</th>\n",
       "    </tr>\n",
       "  </thead>\n",
       "  <tbody>\n",
       "    <tr>\n",
       "      <th>0</th>\n",
       "      <td>1991</td>\n",
       "      <td>Unia Demokratyczna</td>\n",
       "      <td>UD</td>\n",
       "      <td>Centrolewica</td>\n",
       "      <td>16,42%</td>\n",
       "      <td>21</td>\n",
       "    </tr>\n",
       "    <tr>\n",
       "      <th>1</th>\n",
       "      <td>1991</td>\n",
       "      <td>Niezależny Samorzšdny Zwišzek Zawodowy \"Solida...</td>\n",
       "      <td>NaN</td>\n",
       "      <td>Centrum</td>\n",
       "      <td>9,68%</td>\n",
       "      <td>11</td>\n",
       "    </tr>\n",
       "    <tr>\n",
       "      <th>2</th>\n",
       "      <td>1991</td>\n",
       "      <td>Porozumienie Obywatelskie Centrum</td>\n",
       "      <td>NaN</td>\n",
       "      <td>Centroprawica</td>\n",
       "      <td>9,04%</td>\n",
       "      <td>9</td>\n",
       "    </tr>\n",
       "    <tr>\n",
       "      <th>3</th>\n",
       "      <td>1991</td>\n",
       "      <td>Wyborcza Akcja Katolicka</td>\n",
       "      <td>NaN</td>\n",
       "      <td>Prawica</td>\n",
       "      <td>8,78%</td>\n",
       "      <td>9</td>\n",
       "    </tr>\n",
       "    <tr>\n",
       "      <th>4</th>\n",
       "      <td>1991</td>\n",
       "      <td>Polskie Stronnictwo Ludowe</td>\n",
       "      <td>PSL</td>\n",
       "      <td>Centroprawica</td>\n",
       "      <td>7,50%</td>\n",
       "      <td>8</td>\n",
       "    </tr>\n",
       "    <tr>\n",
       "      <th>...</th>\n",
       "      <td>...</td>\n",
       "      <td>...</td>\n",
       "      <td>...</td>\n",
       "      <td>...</td>\n",
       "      <td>...</td>\n",
       "      <td>...</td>\n",
       "    </tr>\n",
       "    <tr>\n",
       "      <th>201</th>\n",
       "      <td>2023</td>\n",
       "      <td>Ruch Dobrobytu i Pokoju</td>\n",
       "      <td>NaN</td>\n",
       "      <td>Centrolewica</td>\n",
       "      <td>0,10%</td>\n",
       "      <td>Nie</td>\n",
       "    </tr>\n",
       "    <tr>\n",
       "      <th>202</th>\n",
       "      <td>2023</td>\n",
       "      <td>Ruch Naprawy Polski</td>\n",
       "      <td>RNP</td>\n",
       "      <td>Prawica</td>\n",
       "      <td>0,07%</td>\n",
       "      <td>Nie</td>\n",
       "    </tr>\n",
       "    <tr>\n",
       "      <th>203</th>\n",
       "      <td>2023</td>\n",
       "      <td>Zjednoczeni</td>\n",
       "      <td>NaN</td>\n",
       "      <td>Prawica</td>\n",
       "      <td>0,06%</td>\n",
       "      <td>Nie</td>\n",
       "    </tr>\n",
       "    <tr>\n",
       "      <th>204</th>\n",
       "      <td>2023</td>\n",
       "      <td>Normalny Kraj</td>\n",
       "      <td>NaN</td>\n",
       "      <td>Prawica</td>\n",
       "      <td>0,01%</td>\n",
       "      <td>Nie</td>\n",
       "    </tr>\n",
       "    <tr>\n",
       "      <th>205</th>\n",
       "      <td>2023</td>\n",
       "      <td>Inne</td>\n",
       "      <td>NaN</td>\n",
       "      <td>NaN</td>\n",
       "      <td>2,05%</td>\n",
       "      <td>Nie</td>\n",
       "    </tr>\n",
       "  </tbody>\n",
       "</table>\n",
       "<p>206 rows × 6 columns</p>\n",
       "</div>"
      ],
      "text/plain": [
       "      ROK                                             PARTIA SKROT  \\\n",
       "0    1991                                 Unia Demokratyczna    UD   \n",
       "1    1991  Niezależny Samorzšdny Zwišzek Zawodowy \"Solida...   NaN   \n",
       "2    1991                  Porozumienie Obywatelskie Centrum   NaN   \n",
       "3    1991                           Wyborcza Akcja Katolicka   NaN   \n",
       "4    1991                         Polskie Stronnictwo Ludowe   PSL   \n",
       "..    ...                                                ...   ...   \n",
       "201  2023                            Ruch Dobrobytu i Pokoju   NaN   \n",
       "202  2023                                Ruch Naprawy Polski   RNP   \n",
       "203  2023                                        Zjednoczeni   NaN   \n",
       "204  2023                                      Normalny Kraj   NaN   \n",
       "205  2023                                               Inne   NaN   \n",
       "\n",
       "           POGLADY   GŁOSY MANDATY  \n",
       "0     Centrolewica  16,42%      21  \n",
       "1          Centrum   9,68%      11  \n",
       "2    Centroprawica   9,04%       9  \n",
       "3          Prawica   8,78%       9  \n",
       "4    Centroprawica   7,50%       8  \n",
       "..             ...     ...     ...  \n",
       "201   Centrolewica   0,10%     Nie  \n",
       "202        Prawica   0,07%     Nie  \n",
       "203        Prawica   0,06%    Nie   \n",
       "204        Prawica   0,01%     Nie  \n",
       "205            NaN   2,05%    Nie   \n",
       "\n",
       "[206 rows x 6 columns]"
      ]
     },
     "execution_count": 68,
     "metadata": {},
     "output_type": "execute_result"
    }
   ],
   "source": [
    "df = pd.read_csv('Senat.csv', sep=';', encoding='iso-8859-2', engine='python')\n",
    "df = df.applymap(lambda x: x.replace('\\x9c', 'ś') if isinstance(x, str) else x)\n",
    "df"
   ]
  },
  {
   "cell_type": "markdown",
   "metadata": {
    "editable": true,
    "slideshow": {
     "slide_type": "skip"
    },
    "tags": []
   },
   "source": [
    "#### Widzimy że plik został wczytany, ale bez polskich znaków, zaraz to zmienię"
   ]
  },
  {
   "cell_type": "code",
   "execution_count": 69,
   "metadata": {
    "editable": true,
    "jupyter": {
     "source_hidden": true
    },
    "slideshow": {
     "slide_type": "skip"
    },
    "tags": []
   },
   "outputs": [
    {
     "data": {
      "text/html": [
       "<div>\n",
       "<style scoped>\n",
       "    .dataframe tbody tr th:only-of-type {\n",
       "        vertical-align: middle;\n",
       "    }\n",
       "\n",
       "    .dataframe tbody tr th {\n",
       "        vertical-align: top;\n",
       "    }\n",
       "\n",
       "    .dataframe thead th {\n",
       "        text-align: right;\n",
       "    }\n",
       "</style>\n",
       "<table border=\"1\" class=\"dataframe\">\n",
       "  <thead>\n",
       "    <tr style=\"text-align: right;\">\n",
       "      <th></th>\n",
       "      <th>ROK</th>\n",
       "      <th>PARTIA</th>\n",
       "      <th>SKROT</th>\n",
       "      <th>POGLADY</th>\n",
       "      <th>GŁOSY</th>\n",
       "      <th>MANDATY</th>\n",
       "    </tr>\n",
       "  </thead>\n",
       "  <tbody>\n",
       "    <tr>\n",
       "      <th>0</th>\n",
       "      <td>1991</td>\n",
       "      <td>Unia Demokratyczna</td>\n",
       "      <td>UD</td>\n",
       "      <td>Centrolewica</td>\n",
       "      <td>16,42%</td>\n",
       "      <td>21</td>\n",
       "    </tr>\n",
       "    <tr>\n",
       "      <th>1</th>\n",
       "      <td>1991</td>\n",
       "      <td>Niezależny Samorzšdny Zwišzek Zawodowy \"Solida...</td>\n",
       "      <td>NaN</td>\n",
       "      <td>Centrum</td>\n",
       "      <td>9,68%</td>\n",
       "      <td>11</td>\n",
       "    </tr>\n",
       "    <tr>\n",
       "      <th>2</th>\n",
       "      <td>1991</td>\n",
       "      <td>Porozumienie Obywatelskie Centrum</td>\n",
       "      <td>NaN</td>\n",
       "      <td>Centroprawica</td>\n",
       "      <td>9,04%</td>\n",
       "      <td>9</td>\n",
       "    </tr>\n",
       "    <tr>\n",
       "      <th>3</th>\n",
       "      <td>1991</td>\n",
       "      <td>Wyborcza Akcja Katolicka</td>\n",
       "      <td>NaN</td>\n",
       "      <td>Prawica</td>\n",
       "      <td>8,78%</td>\n",
       "      <td>9</td>\n",
       "    </tr>\n",
       "    <tr>\n",
       "      <th>4</th>\n",
       "      <td>1991</td>\n",
       "      <td>Polskie Stronnictwo Ludowe</td>\n",
       "      <td>PSL</td>\n",
       "      <td>Centroprawica</td>\n",
       "      <td>7,50%</td>\n",
       "      <td>8</td>\n",
       "    </tr>\n",
       "    <tr>\n",
       "      <th>...</th>\n",
       "      <td>...</td>\n",
       "      <td>...</td>\n",
       "      <td>...</td>\n",
       "      <td>...</td>\n",
       "      <td>...</td>\n",
       "      <td>...</td>\n",
       "    </tr>\n",
       "    <tr>\n",
       "      <th>201</th>\n",
       "      <td>2023</td>\n",
       "      <td>Ruch Dobrobytu i Pokoju</td>\n",
       "      <td>NaN</td>\n",
       "      <td>Centrolewica</td>\n",
       "      <td>0,10%</td>\n",
       "      <td>Nie</td>\n",
       "    </tr>\n",
       "    <tr>\n",
       "      <th>202</th>\n",
       "      <td>2023</td>\n",
       "      <td>Ruch Naprawy Polski</td>\n",
       "      <td>RNP</td>\n",
       "      <td>Prawica</td>\n",
       "      <td>0,07%</td>\n",
       "      <td>Nie</td>\n",
       "    </tr>\n",
       "    <tr>\n",
       "      <th>203</th>\n",
       "      <td>2023</td>\n",
       "      <td>Zjednoczeni</td>\n",
       "      <td>NaN</td>\n",
       "      <td>Prawica</td>\n",
       "      <td>0,06%</td>\n",
       "      <td>Nie</td>\n",
       "    </tr>\n",
       "    <tr>\n",
       "      <th>204</th>\n",
       "      <td>2023</td>\n",
       "      <td>Normalny Kraj</td>\n",
       "      <td>NaN</td>\n",
       "      <td>Prawica</td>\n",
       "      <td>0,01%</td>\n",
       "      <td>Nie</td>\n",
       "    </tr>\n",
       "    <tr>\n",
       "      <th>205</th>\n",
       "      <td>2023</td>\n",
       "      <td>Inne</td>\n",
       "      <td>NaN</td>\n",
       "      <td>NaN</td>\n",
       "      <td>2,05%</td>\n",
       "      <td>Nie</td>\n",
       "    </tr>\n",
       "  </tbody>\n",
       "</table>\n",
       "<p>206 rows × 6 columns</p>\n",
       "</div>"
      ],
      "text/plain": [
       "      ROK                                             PARTIA SKROT  \\\n",
       "0    1991                                 Unia Demokratyczna    UD   \n",
       "1    1991  Niezależny Samorzšdny Zwišzek Zawodowy \"Solida...   NaN   \n",
       "2    1991                  Porozumienie Obywatelskie Centrum   NaN   \n",
       "3    1991                           Wyborcza Akcja Katolicka   NaN   \n",
       "4    1991                         Polskie Stronnictwo Ludowe   PSL   \n",
       "..    ...                                                ...   ...   \n",
       "201  2023                            Ruch Dobrobytu i Pokoju   NaN   \n",
       "202  2023                                Ruch Naprawy Polski   RNP   \n",
       "203  2023                                        Zjednoczeni   NaN   \n",
       "204  2023                                      Normalny Kraj   NaN   \n",
       "205  2023                                               Inne   NaN   \n",
       "\n",
       "           POGLADY   GŁOSY MANDATY  \n",
       "0     Centrolewica  16,42%      21  \n",
       "1          Centrum   9,68%      11  \n",
       "2    Centroprawica   9,04%       9  \n",
       "3          Prawica   8,78%       9  \n",
       "4    Centroprawica   7,50%       8  \n",
       "..             ...     ...     ...  \n",
       "201   Centrolewica   0,10%     Nie  \n",
       "202        Prawica   0,07%     Nie  \n",
       "203        Prawica   0,06%    Nie   \n",
       "204        Prawica   0,01%     Nie  \n",
       "205            NaN   2,05%    Nie   \n",
       "\n",
       "[206 rows x 6 columns]"
      ]
     },
     "execution_count": 69,
     "metadata": {},
     "output_type": "execute_result"
    }
   ],
   "source": [
    "df = df.replace({\n",
    "    'ě': 'ż',\n",
    "    '÷': 'ł',\n",
    "    '': 'ś',\n",
    "    '': 'ę',\n",
    "    '': 'ś',\n",
    "    'Ž': 'ż',\n",
    "    '': 'ń',\n",
    "    'ô': 'ó',\n",
    "    '': 'ó',\n",
    "    'ô': 'ę',\n",
    "}, regex=True)\n",
    "df"
   ]
  },
  {
   "cell_type": "code",
   "execution_count": 70,
   "metadata": {
    "jupyter": {
     "source_hidden": true
    }
   },
   "outputs": [],
   "source": [
    "df.loc[df['PARTIA'] == 'Prawo i Sprawiedliwo', 'PARTIA'] = 'Prawo i Sprawiedliwość'"
   ]
  },
  {
   "cell_type": "markdown",
   "metadata": {
    "editable": true,
    "slideshow": {
     "slide_type": "fragment"
    },
    "tags": []
   },
   "source": [
    "### 5 losowych wartości"
   ]
  },
  {
   "cell_type": "code",
   "execution_count": 71,
   "metadata": {
    "editable": true,
    "jupyter": {
     "source_hidden": true
    },
    "slideshow": {
     "slide_type": "fragment"
    },
    "tags": []
   },
   "outputs": [
    {
     "data": {
      "text/html": [
       "<div>\n",
       "<style scoped>\n",
       "    .dataframe tbody tr th:only-of-type {\n",
       "        vertical-align: middle;\n",
       "    }\n",
       "\n",
       "    .dataframe tbody tr th {\n",
       "        vertical-align: top;\n",
       "    }\n",
       "\n",
       "    .dataframe thead th {\n",
       "        text-align: right;\n",
       "    }\n",
       "</style>\n",
       "<table border=\"1\" class=\"dataframe\">\n",
       "  <thead>\n",
       "    <tr style=\"text-align: right;\">\n",
       "      <th></th>\n",
       "      <th>ROK</th>\n",
       "      <th>PARTIA</th>\n",
       "      <th>SKROT</th>\n",
       "      <th>POGLADY</th>\n",
       "      <th>GŁOSY</th>\n",
       "      <th>MANDATY</th>\n",
       "    </tr>\n",
       "  </thead>\n",
       "  <tbody>\n",
       "    <tr>\n",
       "      <th>14</th>\n",
       "      <td>1991</td>\n",
       "      <td>Konfederacja Komitetów Obywatelskich</td>\n",
       "      <td>NaN</td>\n",
       "      <td>Centroprawica</td>\n",
       "      <td>0,40%</td>\n",
       "      <td>1</td>\n",
       "    </tr>\n",
       "    <tr>\n",
       "      <th>167</th>\n",
       "      <td>2019</td>\n",
       "      <td>Prawo i Sprawiedliwość</td>\n",
       "      <td>PIS</td>\n",
       "      <td>Centroprawica</td>\n",
       "      <td>44,56%</td>\n",
       "      <td>48</td>\n",
       "    </tr>\n",
       "    <tr>\n",
       "      <th>138</th>\n",
       "      <td>2011</td>\n",
       "      <td>Cimoszewicz do Senatu</td>\n",
       "      <td>NaN</td>\n",
       "      <td>Lewica</td>\n",
       "      <td>0,27%</td>\n",
       "      <td>1</td>\n",
       "    </tr>\n",
       "    <tr>\n",
       "      <th>131</th>\n",
       "      <td>2007</td>\n",
       "      <td>Inne</td>\n",
       "      <td>NaN</td>\n",
       "      <td>NaN</td>\n",
       "      <td>3,10%</td>\n",
       "      <td>Nie</td>\n",
       "    </tr>\n",
       "    <tr>\n",
       "      <th>68</th>\n",
       "      <td>1997</td>\n",
       "      <td>Ruch Obudowy Polski</td>\n",
       "      <td>ROP</td>\n",
       "      <td>Prawica</td>\n",
       "      <td>9,84%</td>\n",
       "      <td>5</td>\n",
       "    </tr>\n",
       "  </tbody>\n",
       "</table>\n",
       "</div>"
      ],
      "text/plain": [
       "      ROK                                PARTIA SKROT        POGLADY   GŁOSY  \\\n",
       "14   1991  Konfederacja Komitetów Obywatelskich   NaN  Centroprawica   0,40%   \n",
       "167  2019                Prawo i Sprawiedliwość   PIS  Centroprawica  44,56%   \n",
       "138  2011                 Cimoszewicz do Senatu   NaN         Lewica   0,27%   \n",
       "131  2007                                  Inne   NaN            NaN   3,10%   \n",
       "68   1997                   Ruch Obudowy Polski   ROP        Prawica   9,84%   \n",
       "\n",
       "    MANDATY  \n",
       "14        1  \n",
       "167      48  \n",
       "138       1  \n",
       "131     Nie  \n",
       "68        5  "
      ]
     },
     "execution_count": 71,
     "metadata": {},
     "output_type": "execute_result"
    }
   ],
   "source": [
    "df. sample (5)"
   ]
  },
  {
   "cell_type": "markdown",
   "metadata": {
    "editable": true,
    "slideshow": {
     "slide_type": "fragment"
    },
    "tags": []
   },
   "source": [
    "### 5 pierwszych wartości"
   ]
  },
  {
   "cell_type": "code",
   "execution_count": 72,
   "metadata": {
    "editable": true,
    "jupyter": {
     "source_hidden": true
    },
    "slideshow": {
     "slide_type": "fragment"
    },
    "tags": []
   },
   "outputs": [
    {
     "data": {
      "text/html": [
       "<div>\n",
       "<style scoped>\n",
       "    .dataframe tbody tr th:only-of-type {\n",
       "        vertical-align: middle;\n",
       "    }\n",
       "\n",
       "    .dataframe tbody tr th {\n",
       "        vertical-align: top;\n",
       "    }\n",
       "\n",
       "    .dataframe thead th {\n",
       "        text-align: right;\n",
       "    }\n",
       "</style>\n",
       "<table border=\"1\" class=\"dataframe\">\n",
       "  <thead>\n",
       "    <tr style=\"text-align: right;\">\n",
       "      <th></th>\n",
       "      <th>ROK</th>\n",
       "      <th>PARTIA</th>\n",
       "      <th>SKROT</th>\n",
       "      <th>POGLADY</th>\n",
       "      <th>GŁOSY</th>\n",
       "      <th>MANDATY</th>\n",
       "    </tr>\n",
       "  </thead>\n",
       "  <tbody>\n",
       "    <tr>\n",
       "      <th>0</th>\n",
       "      <td>1991</td>\n",
       "      <td>Unia Demokratyczna</td>\n",
       "      <td>UD</td>\n",
       "      <td>Centrolewica</td>\n",
       "      <td>16,42%</td>\n",
       "      <td>21</td>\n",
       "    </tr>\n",
       "    <tr>\n",
       "      <th>1</th>\n",
       "      <td>1991</td>\n",
       "      <td>Niezależny Samorzšdny Zwišzek Zawodowy \"Solida...</td>\n",
       "      <td>NaN</td>\n",
       "      <td>Centrum</td>\n",
       "      <td>9,68%</td>\n",
       "      <td>11</td>\n",
       "    </tr>\n",
       "    <tr>\n",
       "      <th>2</th>\n",
       "      <td>1991</td>\n",
       "      <td>Porozumienie Obywatelskie Centrum</td>\n",
       "      <td>NaN</td>\n",
       "      <td>Centroprawica</td>\n",
       "      <td>9,04%</td>\n",
       "      <td>9</td>\n",
       "    </tr>\n",
       "    <tr>\n",
       "      <th>3</th>\n",
       "      <td>1991</td>\n",
       "      <td>Wyborcza Akcja Katolicka</td>\n",
       "      <td>NaN</td>\n",
       "      <td>Prawica</td>\n",
       "      <td>8,78%</td>\n",
       "      <td>9</td>\n",
       "    </tr>\n",
       "    <tr>\n",
       "      <th>4</th>\n",
       "      <td>1991</td>\n",
       "      <td>Polskie Stronnictwo Ludowe</td>\n",
       "      <td>PSL</td>\n",
       "      <td>Centroprawica</td>\n",
       "      <td>7,50%</td>\n",
       "      <td>8</td>\n",
       "    </tr>\n",
       "  </tbody>\n",
       "</table>\n",
       "</div>"
      ],
      "text/plain": [
       "    ROK                                             PARTIA SKROT  \\\n",
       "0  1991                                 Unia Demokratyczna    UD   \n",
       "1  1991  Niezależny Samorzšdny Zwišzek Zawodowy \"Solida...   NaN   \n",
       "2  1991                  Porozumienie Obywatelskie Centrum   NaN   \n",
       "3  1991                           Wyborcza Akcja Katolicka   NaN   \n",
       "4  1991                         Polskie Stronnictwo Ludowe   PSL   \n",
       "\n",
       "         POGLADY   GŁOSY MANDATY  \n",
       "0   Centrolewica  16,42%      21  \n",
       "1        Centrum   9,68%      11  \n",
       "2  Centroprawica   9,04%       9  \n",
       "3        Prawica   8,78%       9  \n",
       "4  Centroprawica   7,50%       8  "
      ]
     },
     "execution_count": 72,
     "metadata": {},
     "output_type": "execute_result"
    }
   ],
   "source": [
    "df. head (5)"
   ]
  },
  {
   "cell_type": "markdown",
   "metadata": {
    "editable": true,
    "slideshow": {
     "slide_type": "fragment"
    },
    "tags": []
   },
   "source": [
    "### 5 ostatnich wartości"
   ]
  },
  {
   "cell_type": "code",
   "execution_count": 73,
   "metadata": {
    "editable": true,
    "jupyter": {
     "source_hidden": true
    },
    "slideshow": {
     "slide_type": "fragment"
    },
    "tags": []
   },
   "outputs": [
    {
     "data": {
      "text/html": [
       "<div>\n",
       "<style scoped>\n",
       "    .dataframe tbody tr th:only-of-type {\n",
       "        vertical-align: middle;\n",
       "    }\n",
       "\n",
       "    .dataframe tbody tr th {\n",
       "        vertical-align: top;\n",
       "    }\n",
       "\n",
       "    .dataframe thead th {\n",
       "        text-align: right;\n",
       "    }\n",
       "</style>\n",
       "<table border=\"1\" class=\"dataframe\">\n",
       "  <thead>\n",
       "    <tr style=\"text-align: right;\">\n",
       "      <th></th>\n",
       "      <th>ROK</th>\n",
       "      <th>PARTIA</th>\n",
       "      <th>SKROT</th>\n",
       "      <th>POGLADY</th>\n",
       "      <th>GŁOSY</th>\n",
       "      <th>MANDATY</th>\n",
       "    </tr>\n",
       "  </thead>\n",
       "  <tbody>\n",
       "    <tr>\n",
       "      <th>201</th>\n",
       "      <td>2023</td>\n",
       "      <td>Ruch Dobrobytu i Pokoju</td>\n",
       "      <td>NaN</td>\n",
       "      <td>Centrolewica</td>\n",
       "      <td>0,10%</td>\n",
       "      <td>Nie</td>\n",
       "    </tr>\n",
       "    <tr>\n",
       "      <th>202</th>\n",
       "      <td>2023</td>\n",
       "      <td>Ruch Naprawy Polski</td>\n",
       "      <td>RNP</td>\n",
       "      <td>Prawica</td>\n",
       "      <td>0,07%</td>\n",
       "      <td>Nie</td>\n",
       "    </tr>\n",
       "    <tr>\n",
       "      <th>203</th>\n",
       "      <td>2023</td>\n",
       "      <td>Zjednoczeni</td>\n",
       "      <td>NaN</td>\n",
       "      <td>Prawica</td>\n",
       "      <td>0,06%</td>\n",
       "      <td>Nie</td>\n",
       "    </tr>\n",
       "    <tr>\n",
       "      <th>204</th>\n",
       "      <td>2023</td>\n",
       "      <td>Normalny Kraj</td>\n",
       "      <td>NaN</td>\n",
       "      <td>Prawica</td>\n",
       "      <td>0,01%</td>\n",
       "      <td>Nie</td>\n",
       "    </tr>\n",
       "    <tr>\n",
       "      <th>205</th>\n",
       "      <td>2023</td>\n",
       "      <td>Inne</td>\n",
       "      <td>NaN</td>\n",
       "      <td>NaN</td>\n",
       "      <td>2,05%</td>\n",
       "      <td>Nie</td>\n",
       "    </tr>\n",
       "  </tbody>\n",
       "</table>\n",
       "</div>"
      ],
      "text/plain": [
       "      ROK                   PARTIA SKROT       POGLADY  GŁOSY MANDATY\n",
       "201  2023  Ruch Dobrobytu i Pokoju   NaN  Centrolewica  0,10%     Nie\n",
       "202  2023      Ruch Naprawy Polski   RNP       Prawica  0,07%     Nie\n",
       "203  2023              Zjednoczeni   NaN       Prawica  0,06%    Nie \n",
       "204  2023            Normalny Kraj   NaN       Prawica  0,01%     Nie\n",
       "205  2023                     Inne   NaN           NaN  2,05%    Nie "
      ]
     },
     "execution_count": 73,
     "metadata": {},
     "output_type": "execute_result"
    }
   ],
   "source": [
    "df.tail(5)"
   ]
  },
  {
   "cell_type": "markdown",
   "metadata": {
    "editable": true,
    "slideshow": {
     "slide_type": "skip"
    },
    "tags": []
   },
   "source": [
    "### Aby potem było prościej w pokazywaniu wykresów, rozbiję kolumnę MANDATY na MANDATY TAK NIE i MANDATY ILOSC, a także GLOSY zamienię procenty na lczby i nazwę tę kolumnę GLOSY (%)."
   ]
  },
  {
   "cell_type": "code",
   "execution_count": 74,
   "metadata": {
    "editable": true,
    "slideshow": {
     "slide_type": ""
    },
    "tags": []
   },
   "outputs": [],
   "source": [
    "df['GLOSY (%)'] = df['GŁOSY'].str.replace(',', '.').str.replace('%', '').astype(float)"
   ]
  },
  {
   "cell_type": "code",
   "execution_count": 75,
   "metadata": {
    "editable": true,
    "jupyter": {
     "source_hidden": true
    },
    "slideshow": {
     "slide_type": "skip"
    },
    "tags": []
   },
   "outputs": [
    {
     "data": {
      "text/html": [
       "<div>\n",
       "<style scoped>\n",
       "    .dataframe tbody tr th:only-of-type {\n",
       "        vertical-align: middle;\n",
       "    }\n",
       "\n",
       "    .dataframe tbody tr th {\n",
       "        vertical-align: top;\n",
       "    }\n",
       "\n",
       "    .dataframe thead th {\n",
       "        text-align: right;\n",
       "    }\n",
       "</style>\n",
       "<table border=\"1\" class=\"dataframe\">\n",
       "  <thead>\n",
       "    <tr style=\"text-align: right;\">\n",
       "      <th></th>\n",
       "      <th>ROK</th>\n",
       "      <th>PARTIA</th>\n",
       "      <th>SKROT</th>\n",
       "      <th>POGLADY</th>\n",
       "      <th>GŁOSY</th>\n",
       "      <th>MANDATY</th>\n",
       "      <th>GLOSY (%)</th>\n",
       "      <th>MANDATY ILOSC</th>\n",
       "      <th>MANDATY TAK NIE</th>\n",
       "    </tr>\n",
       "  </thead>\n",
       "  <tbody>\n",
       "    <tr>\n",
       "      <th>0</th>\n",
       "      <td>1991</td>\n",
       "      <td>Unia Demokratyczna</td>\n",
       "      <td>UD</td>\n",
       "      <td>Centrolewica</td>\n",
       "      <td>16,42%</td>\n",
       "      <td>21</td>\n",
       "      <td>16.42</td>\n",
       "      <td>21</td>\n",
       "      <td>True</td>\n",
       "    </tr>\n",
       "    <tr>\n",
       "      <th>1</th>\n",
       "      <td>1991</td>\n",
       "      <td>Niezależny Samorzšdny Zwišzek Zawodowy \"Solida...</td>\n",
       "      <td>NaN</td>\n",
       "      <td>Centrum</td>\n",
       "      <td>9,68%</td>\n",
       "      <td>11</td>\n",
       "      <td>9.68</td>\n",
       "      <td>11</td>\n",
       "      <td>True</td>\n",
       "    </tr>\n",
       "    <tr>\n",
       "      <th>2</th>\n",
       "      <td>1991</td>\n",
       "      <td>Porozumienie Obywatelskie Centrum</td>\n",
       "      <td>NaN</td>\n",
       "      <td>Centroprawica</td>\n",
       "      <td>9,04%</td>\n",
       "      <td>9</td>\n",
       "      <td>9.04</td>\n",
       "      <td>9</td>\n",
       "      <td>True</td>\n",
       "    </tr>\n",
       "    <tr>\n",
       "      <th>3</th>\n",
       "      <td>1991</td>\n",
       "      <td>Wyborcza Akcja Katolicka</td>\n",
       "      <td>NaN</td>\n",
       "      <td>Prawica</td>\n",
       "      <td>8,78%</td>\n",
       "      <td>9</td>\n",
       "      <td>8.78</td>\n",
       "      <td>9</td>\n",
       "      <td>True</td>\n",
       "    </tr>\n",
       "    <tr>\n",
       "      <th>4</th>\n",
       "      <td>1991</td>\n",
       "      <td>Polskie Stronnictwo Ludowe</td>\n",
       "      <td>PSL</td>\n",
       "      <td>Centroprawica</td>\n",
       "      <td>7,50%</td>\n",
       "      <td>8</td>\n",
       "      <td>7.50</td>\n",
       "      <td>8</td>\n",
       "      <td>True</td>\n",
       "    </tr>\n",
       "    <tr>\n",
       "      <th>...</th>\n",
       "      <td>...</td>\n",
       "      <td>...</td>\n",
       "      <td>...</td>\n",
       "      <td>...</td>\n",
       "      <td>...</td>\n",
       "      <td>...</td>\n",
       "      <td>...</td>\n",
       "      <td>...</td>\n",
       "      <td>...</td>\n",
       "    </tr>\n",
       "    <tr>\n",
       "      <th>201</th>\n",
       "      <td>2023</td>\n",
       "      <td>Ruch Dobrobytu i Pokoju</td>\n",
       "      <td>NaN</td>\n",
       "      <td>Centrolewica</td>\n",
       "      <td>0,10%</td>\n",
       "      <td>Nie</td>\n",
       "      <td>0.10</td>\n",
       "      <td>Nie</td>\n",
       "      <td>False</td>\n",
       "    </tr>\n",
       "    <tr>\n",
       "      <th>202</th>\n",
       "      <td>2023</td>\n",
       "      <td>Ruch Naprawy Polski</td>\n",
       "      <td>RNP</td>\n",
       "      <td>Prawica</td>\n",
       "      <td>0,07%</td>\n",
       "      <td>Nie</td>\n",
       "      <td>0.07</td>\n",
       "      <td>Nie</td>\n",
       "      <td>False</td>\n",
       "    </tr>\n",
       "    <tr>\n",
       "      <th>203</th>\n",
       "      <td>2023</td>\n",
       "      <td>Zjednoczeni</td>\n",
       "      <td>NaN</td>\n",
       "      <td>Prawica</td>\n",
       "      <td>0,06%</td>\n",
       "      <td>Nie</td>\n",
       "      <td>0.06</td>\n",
       "      <td>Nie</td>\n",
       "      <td>True</td>\n",
       "    </tr>\n",
       "    <tr>\n",
       "      <th>204</th>\n",
       "      <td>2023</td>\n",
       "      <td>Normalny Kraj</td>\n",
       "      <td>NaN</td>\n",
       "      <td>Prawica</td>\n",
       "      <td>0,01%</td>\n",
       "      <td>Nie</td>\n",
       "      <td>0.01</td>\n",
       "      <td>Nie</td>\n",
       "      <td>False</td>\n",
       "    </tr>\n",
       "    <tr>\n",
       "      <th>205</th>\n",
       "      <td>2023</td>\n",
       "      <td>Inne</td>\n",
       "      <td>NaN</td>\n",
       "      <td>NaN</td>\n",
       "      <td>2,05%</td>\n",
       "      <td>Nie</td>\n",
       "      <td>2.05</td>\n",
       "      <td>Nie</td>\n",
       "      <td>True</td>\n",
       "    </tr>\n",
       "  </tbody>\n",
       "</table>\n",
       "<p>206 rows × 9 columns</p>\n",
       "</div>"
      ],
      "text/plain": [
       "      ROK                                             PARTIA SKROT  \\\n",
       "0    1991                                 Unia Demokratyczna    UD   \n",
       "1    1991  Niezależny Samorzšdny Zwišzek Zawodowy \"Solida...   NaN   \n",
       "2    1991                  Porozumienie Obywatelskie Centrum   NaN   \n",
       "3    1991                           Wyborcza Akcja Katolicka   NaN   \n",
       "4    1991                         Polskie Stronnictwo Ludowe   PSL   \n",
       "..    ...                                                ...   ...   \n",
       "201  2023                            Ruch Dobrobytu i Pokoju   NaN   \n",
       "202  2023                                Ruch Naprawy Polski   RNP   \n",
       "203  2023                                        Zjednoczeni   NaN   \n",
       "204  2023                                      Normalny Kraj   NaN   \n",
       "205  2023                                               Inne   NaN   \n",
       "\n",
       "           POGLADY   GŁOSY MANDATY  GLOSY (%) MANDATY ILOSC  MANDATY TAK NIE  \n",
       "0     Centrolewica  16,42%      21      16.42            21             True  \n",
       "1          Centrum   9,68%      11       9.68            11             True  \n",
       "2    Centroprawica   9,04%       9       9.04             9             True  \n",
       "3          Prawica   8,78%       9       8.78             9             True  \n",
       "4    Centroprawica   7,50%       8       7.50             8             True  \n",
       "..             ...     ...     ...        ...           ...              ...  \n",
       "201   Centrolewica   0,10%     Nie       0.10           Nie            False  \n",
       "202        Prawica   0,07%     Nie       0.07           Nie            False  \n",
       "203        Prawica   0,06%    Nie        0.06          Nie              True  \n",
       "204        Prawica   0,01%     Nie       0.01           Nie            False  \n",
       "205            NaN   2,05%    Nie        2.05          Nie              True  \n",
       "\n",
       "[206 rows x 9 columns]"
      ]
     },
     "execution_count": 75,
     "metadata": {},
     "output_type": "execute_result"
    }
   ],
   "source": [
    "# Kopia oryginalnej kolumny\n",
    "df['MANDATY ILOSC'] = df['MANDATY'].copy()\n",
    "\n",
    "# Dodaję kolumnę logiczną: Czy partia była w Sejmie?\n",
    "df['MANDATY TAK NIE'] = df['MANDATY'].apply(lambda x: x != 'Nie' and pd.notnull(x))\n",
    "df"
   ]
  },
  {
   "cell_type": "markdown",
   "metadata": {
    "editable": true,
    "slideshow": {
     "slide_type": "skip"
    },
    "tags": []
   },
   "source": [
    "### Widzimy że kolumny GLOSY i MANDATY są nie potrzebne więc je usuwamy i zmienimy kolejność kolumn, przy okazji usunę także \"Inne\"  ze względu na to że jest to zbiór kilkudziesięciu innych komitetów wyborczych, które miały poparcie bliskie 0%."
   ]
  },
  {
   "cell_type": "code",
   "execution_count": 76,
   "metadata": {
    "jupyter": {
     "source_hidden": true
    }
   },
   "outputs": [],
   "source": [
    "df = df.drop(columns=['GŁOSY', 'MANDATY'])\n",
    "df = df[df['PARTIA'] != 'Inne']"
   ]
  },
  {
   "cell_type": "code",
   "execution_count": 77,
   "metadata": {
    "editable": true,
    "jupyter": {
     "source_hidden": true
    },
    "scrolled": true,
    "slideshow": {
     "slide_type": "skip"
    },
    "tags": []
   },
   "outputs": [
    {
     "data": {
      "text/html": [
       "<div>\n",
       "<style scoped>\n",
       "    .dataframe tbody tr th:only-of-type {\n",
       "        vertical-align: middle;\n",
       "    }\n",
       "\n",
       "    .dataframe tbody tr th {\n",
       "        vertical-align: top;\n",
       "    }\n",
       "\n",
       "    .dataframe thead th {\n",
       "        text-align: right;\n",
       "    }\n",
       "</style>\n",
       "<table border=\"1\" class=\"dataframe\">\n",
       "  <thead>\n",
       "    <tr style=\"text-align: right;\">\n",
       "      <th></th>\n",
       "      <th>ROK</th>\n",
       "      <th>PARTIA</th>\n",
       "      <th>SKROT</th>\n",
       "      <th>POGLADY</th>\n",
       "      <th>GLOSY (%)</th>\n",
       "      <th>MANDATY TAK NIE</th>\n",
       "      <th>MANDATY ILOSC</th>\n",
       "    </tr>\n",
       "  </thead>\n",
       "  <tbody>\n",
       "    <tr>\n",
       "      <th>0</th>\n",
       "      <td>1991</td>\n",
       "      <td>Unia Demokratyczna</td>\n",
       "      <td>UD</td>\n",
       "      <td>Centrolewica</td>\n",
       "      <td>16.42</td>\n",
       "      <td>Tak</td>\n",
       "      <td>21</td>\n",
       "    </tr>\n",
       "    <tr>\n",
       "      <th>1</th>\n",
       "      <td>1991</td>\n",
       "      <td>Niezależny Samorzšdny Zwišzek Zawodowy \"Solida...</td>\n",
       "      <td>-</td>\n",
       "      <td>Centrum</td>\n",
       "      <td>9.68</td>\n",
       "      <td>Tak</td>\n",
       "      <td>11</td>\n",
       "    </tr>\n",
       "    <tr>\n",
       "      <th>2</th>\n",
       "      <td>1991</td>\n",
       "      <td>Porozumienie Obywatelskie Centrum</td>\n",
       "      <td>-</td>\n",
       "      <td>Centroprawica</td>\n",
       "      <td>9.04</td>\n",
       "      <td>Tak</td>\n",
       "      <td>9</td>\n",
       "    </tr>\n",
       "    <tr>\n",
       "      <th>3</th>\n",
       "      <td>1991</td>\n",
       "      <td>Wyborcza Akcja Katolicka</td>\n",
       "      <td>-</td>\n",
       "      <td>Prawica</td>\n",
       "      <td>8.78</td>\n",
       "      <td>Tak</td>\n",
       "      <td>9</td>\n",
       "    </tr>\n",
       "    <tr>\n",
       "      <th>4</th>\n",
       "      <td>1991</td>\n",
       "      <td>Polskie Stronnictwo Ludowe</td>\n",
       "      <td>PSL</td>\n",
       "      <td>Centroprawica</td>\n",
       "      <td>7.50</td>\n",
       "      <td>Tak</td>\n",
       "      <td>8</td>\n",
       "    </tr>\n",
       "    <tr>\n",
       "      <th>...</th>\n",
       "      <td>...</td>\n",
       "      <td>...</td>\n",
       "      <td>...</td>\n",
       "      <td>...</td>\n",
       "      <td>...</td>\n",
       "      <td>...</td>\n",
       "      <td>...</td>\n",
       "    </tr>\n",
       "    <tr>\n",
       "      <th>200</th>\n",
       "      <td>2023</td>\n",
       "      <td>Zwišzek Słowiański</td>\n",
       "      <td>ZS</td>\n",
       "      <td>Prawica</td>\n",
       "      <td>0.12</td>\n",
       "      <td>Tak</td>\n",
       "      <td>Nie</td>\n",
       "    </tr>\n",
       "    <tr>\n",
       "      <th>201</th>\n",
       "      <td>2023</td>\n",
       "      <td>Ruch Dobrobytu i Pokoju</td>\n",
       "      <td>-</td>\n",
       "      <td>Centrolewica</td>\n",
       "      <td>0.10</td>\n",
       "      <td>Nie</td>\n",
       "      <td>Nie</td>\n",
       "    </tr>\n",
       "    <tr>\n",
       "      <th>202</th>\n",
       "      <td>2023</td>\n",
       "      <td>Ruch Naprawy Polski</td>\n",
       "      <td>RNP</td>\n",
       "      <td>Prawica</td>\n",
       "      <td>0.07</td>\n",
       "      <td>Nie</td>\n",
       "      <td>Nie</td>\n",
       "    </tr>\n",
       "    <tr>\n",
       "      <th>203</th>\n",
       "      <td>2023</td>\n",
       "      <td>Zjednoczeni</td>\n",
       "      <td>-</td>\n",
       "      <td>Prawica</td>\n",
       "      <td>0.06</td>\n",
       "      <td>Tak</td>\n",
       "      <td>Nie</td>\n",
       "    </tr>\n",
       "    <tr>\n",
       "      <th>204</th>\n",
       "      <td>2023</td>\n",
       "      <td>Normalny Kraj</td>\n",
       "      <td>-</td>\n",
       "      <td>Prawica</td>\n",
       "      <td>0.01</td>\n",
       "      <td>Nie</td>\n",
       "      <td>Nie</td>\n",
       "    </tr>\n",
       "  </tbody>\n",
       "</table>\n",
       "<p>196 rows × 7 columns</p>\n",
       "</div>"
      ],
      "text/plain": [
       "      ROK                                             PARTIA SKROT  \\\n",
       "0    1991                                 Unia Demokratyczna    UD   \n",
       "1    1991  Niezależny Samorzšdny Zwišzek Zawodowy \"Solida...     -   \n",
       "2    1991                  Porozumienie Obywatelskie Centrum     -   \n",
       "3    1991                           Wyborcza Akcja Katolicka     -   \n",
       "4    1991                         Polskie Stronnictwo Ludowe   PSL   \n",
       "..    ...                                                ...   ...   \n",
       "200  2023                                 Zwišzek Słowiański    ZS   \n",
       "201  2023                            Ruch Dobrobytu i Pokoju     -   \n",
       "202  2023                                Ruch Naprawy Polski   RNP   \n",
       "203  2023                                        Zjednoczeni     -   \n",
       "204  2023                                      Normalny Kraj     -   \n",
       "\n",
       "           POGLADY  GLOSY (%) MANDATY TAK NIE MANDATY ILOSC  \n",
       "0     Centrolewica      16.42             Tak            21  \n",
       "1          Centrum       9.68             Tak            11  \n",
       "2    Centroprawica       9.04             Tak             9  \n",
       "3          Prawica       8.78             Tak             9  \n",
       "4    Centroprawica       7.50             Tak             8  \n",
       "..             ...        ...             ...           ...  \n",
       "200        Prawica       0.12             Tak          Nie   \n",
       "201   Centrolewica       0.10             Nie           Nie  \n",
       "202        Prawica       0.07             Nie           Nie  \n",
       "203        Prawica       0.06             Tak          Nie   \n",
       "204        Prawica       0.01             Nie           Nie  \n",
       "\n",
       "[196 rows x 7 columns]"
      ]
     },
     "execution_count": 77,
     "metadata": {},
     "output_type": "execute_result"
    }
   ],
   "source": [
    "# Zmieńmy kolejność kolumn\n",
    "df = df[['ROK','PARTIA','SKROT', 'POGLADY', 'GLOSY (%)', 'MANDATY TAK NIE', 'MANDATY ILOSC']]\n",
    "\n",
    "# Jeśłi kolumna SKROT jest pusta do zostawmy \"-\"\n",
    "df['SKROT'] = df['SKROT'].fillna('-')\n",
    "\n",
    "# Zamieńmy w kolumnie MANDATY TAK NIE True na Tak, a False na Nie\n",
    "df['MANDATY TAK NIE'] = df['MANDATY TAK NIE'].map({True: 'Tak', False: 'Nie'})\n",
    "\n",
    "# Pozbyjmy się pustych miejsc w kolmnie POGLADY\n",
    "df['POGLADY'] = df['POGLADY'].fillna('brak')\n",
    "\n",
    "df"
   ]
  },
  {
   "cell_type": "markdown",
   "metadata": {
    "editable": true,
    "slideshow": {
     "slide_type": "skip"
    },
    "tags": []
   },
   "source": [
    "### Przyjrzyjmy się ogólnym informacjom o Date Frame"
   ]
  },
  {
   "cell_type": "code",
   "execution_count": 78,
   "metadata": {
    "editable": true,
    "jupyter": {
     "source_hidden": true
    },
    "slideshow": {
     "slide_type": "skip"
    },
    "tags": []
   },
   "outputs": [
    {
     "name": "stdout",
     "output_type": "stream",
     "text": [
      "<class 'pandas.core.frame.DataFrame'>\n",
      "Int64Index: 196 entries, 0 to 204\n",
      "Data columns (total 7 columns):\n",
      " #   Column           Non-Null Count  Dtype  \n",
      "---  ------           --------------  -----  \n",
      " 0   ROK              196 non-null    int64  \n",
      " 1   PARTIA           196 non-null    object \n",
      " 2   SKROT            196 non-null    object \n",
      " 3   POGLADY          196 non-null    object \n",
      " 4   GLOSY (%)        196 non-null    float64\n",
      " 5   MANDATY TAK NIE  196 non-null    object \n",
      " 6   MANDATY ILOSC    196 non-null    object \n",
      "dtypes: float64(1), int64(1), object(5)\n",
      "memory usage: 12.2+ KB\n"
     ]
    }
   ],
   "source": [
    "df.info()"
   ]
  },
  {
   "cell_type": "markdown",
   "metadata": {
    "editable": true,
    "slideshow": {
     "slide_type": "skip"
    },
    "tags": []
   },
   "source": [
    "# Analiza brakujących wartości"
   ]
  },
  {
   "cell_type": "code",
   "execution_count": 79,
   "metadata": {
    "editable": true,
    "jupyter": {
     "source_hidden": true
    },
    "slideshow": {
     "slide_type": "skip"
    },
    "tags": []
   },
   "outputs": [
    {
     "data": {
      "text/plain": [
       "ROK                0\n",
       "PARTIA             0\n",
       "SKROT              0\n",
       "POGLADY            0\n",
       "GLOSY (%)          0\n",
       "MANDATY TAK NIE    0\n",
       "MANDATY ILOSC      0\n",
       "dtype: int64"
      ]
     },
     "execution_count": 79,
     "metadata": {},
     "output_type": "execute_result"
    }
   ],
   "source": [
    "df.isnull().sum()"
   ]
  },
  {
   "cell_type": "markdown",
   "metadata": {
    "editable": true,
    "slideshow": {
     "slide_type": "skip"
    },
    "tags": []
   },
   "source": [
    "##### Nie ma brakujących wartości"
   ]
  },
  {
   "cell_type": "markdown",
   "metadata": {
    "editable": true,
    "slideshow": {
     "slide_type": "slide"
    },
    "tags": []
   },
   "source": [
    "# Analiza pojedynczych zmiennych"
   ]
  },
  {
   "cell_type": "code",
   "execution_count": 80,
   "metadata": {
    "editable": true,
    "slideshow": {
     "slide_type": "skip"
    },
    "tags": []
   },
   "outputs": [
    {
     "data": {
      "text/plain": [
       "(1991, 2023)"
      ]
     },
     "execution_count": 80,
     "metadata": {},
     "output_type": "execute_result"
    }
   ],
   "source": [
    "df['ROK'].min(), df['ROK'].max()"
   ]
  },
  {
   "cell_type": "markdown",
   "metadata": {
    "editable": true,
    "slideshow": {
     "slide_type": "fragment"
    },
    "tags": []
   },
   "source": [
    "##### Pierwszym rokiem badania jest 1991 czyli pierwsze w pełni wolne wybory, a ostatnim 2023"
   ]
  },
  {
   "cell_type": "code",
   "execution_count": 81,
   "metadata": {
    "editable": true,
    "jupyter": {
     "source_hidden": true
    },
    "slideshow": {
     "slide_type": "fragment"
    },
    "tags": []
   },
   "outputs": [
    {
     "data": {
      "text/plain": [
       "Mniejszość Niemiecka            10\n",
       "Polskie Stronnictwo Ludowe       9\n",
       "Prawo i Sprawiedliwość           6\n",
       "Sojusz Lewicy Demokratycznej     6\n",
       "Samoobrona                       6\n",
       "Name: PARTIA, dtype: int64"
      ]
     },
     "execution_count": 81,
     "metadata": {},
     "output_type": "execute_result"
    }
   ],
   "source": [
    "df['PARTIA'].value_counts(dropna=False).head()"
   ]
  },
  {
   "cell_type": "markdown",
   "metadata": {
    "editable": true,
    "slideshow": {
     "slide_type": "fragment"
    },
    "tags": []
   },
   "source": [
    "##### Najwięcej bo 10 razy Mniejszość Niemiecka startowała do polskiego Senatu."
   ]
  },
  {
   "cell_type": "code",
   "execution_count": 82,
   "metadata": {
    "editable": true,
    "jupyter": {
     "source_hidden": true
    },
    "slideshow": {
     "slide_type": "fragment"
    },
    "tags": []
   },
   "outputs": [
    {
     "data": {
      "text/plain": [
       "Centroprawica    56\n",
       "Centrum          42\n",
       "Prawica          41\n",
       "Lewica           36\n",
       "Centrolewica     21\n",
       "Name: POGLADY, dtype: int64"
      ]
     },
     "execution_count": 82,
     "metadata": {},
     "output_type": "execute_result"
    }
   ],
   "source": [
    "df['POGLADY'].value_counts(dropna=False)"
   ]
  },
  {
   "cell_type": "markdown",
   "metadata": {
    "editable": true,
    "slideshow": {
     "slide_type": "fragment"
    },
    "tags": []
   },
   "source": [
    "##### Najwięcej partii bo aż 56 miało poglądy centroprawicowe, na drugim miejscu są partie o poglądach centrum(42), podium zamykają partie o poglądach prawicowych (41)."
   ]
  },
  {
   "cell_type": "markdown",
   "metadata": {
    "editable": true,
    "slideshow": {
     "slide_type": "slide"
    },
    "tags": []
   },
   "source": [
    "### Przyjrzyjmy się partiom, które dostały się do Senatu."
   ]
  },
  {
   "cell_type": "code",
   "execution_count": 84,
   "metadata": {
    "editable": true,
    "jupyter": {
     "source_hidden": true
    },
    "slideshow": {
     "slide_type": "fragment"
    },
    "tags": []
   },
   "outputs": [
    {
     "data": {
      "application/vnd.plotly.v1+json": {
       "config": {
        "plotlyServerURL": "https://plot.ly"
       },
       "data": [
        {
         "marker": {
          "color": [
           "hsl(0.0, 70%, 50%)",
           "hsl(4.675324675324675, 70%, 50%)",
           "hsl(9.35064935064935, 70%, 50%)",
           "hsl(14.025974025974026, 70%, 50%)",
           "hsl(18.7012987012987, 70%, 50%)",
           "hsl(23.376623376623378, 70%, 50%)",
           "hsl(28.051948051948052, 70%, 50%)",
           "hsl(32.72727272727273, 70%, 50%)",
           "hsl(37.4025974025974, 70%, 50%)",
           "hsl(42.077922077922075, 70%, 50%)",
           "hsl(46.753246753246756, 70%, 50%)",
           "hsl(51.42857142857143, 70%, 50%)",
           "hsl(56.103896103896105, 70%, 50%)",
           "hsl(60.77922077922078, 70%, 50%)",
           "hsl(65.45454545454545, 70%, 50%)",
           "hsl(70.12987012987013, 70%, 50%)",
           "hsl(74.8051948051948, 70%, 50%)",
           "hsl(79.48051948051948, 70%, 50%)",
           "hsl(84.15584415584415, 70%, 50%)",
           "hsl(88.83116883116882, 70%, 50%)",
           "hsl(93.50649350649351, 70%, 50%)",
           "hsl(98.18181818181819, 70%, 50%)",
           "hsl(102.85714285714286, 70%, 50%)",
           "hsl(107.53246753246754, 70%, 50%)",
           "hsl(112.20779220779221, 70%, 50%)",
           "hsl(116.88311688311688, 70%, 50%)",
           "hsl(121.55844155844156, 70%, 50%)",
           "hsl(126.23376623376623, 70%, 50%)"
          ]
         },
         "name": "1991",
         "text": [
          21,
          11,
          9,
          9,
          8,
          7,
          6,
          4,
          4,
          3,
          1,
          1,
          1,
          1,
          1,
          1,
          1,
          1,
          1,
          1,
          1,
          1,
          1,
          1,
          1,
          1,
          1,
          1
         ],
         "textposition": "outside",
         "type": "bar",
         "x": [
          "Unia Demokratyczna",
          "Niezależny Samorzšdny Zwišzek Zawodowy \"Solidarność\"",
          "Porozumienie Obywatelskie Centrum",
          "Wyborcza Akcja Katolicka",
          "Polskie Stronnictwo Ludowe",
          "Porozumienie Ludowe",
          "Kongres Liberalno-Demokratyczny",
          "Sojusz Lewicy Demokratycznej",
          "Konfederacja Polski Niepodległej",
          "Partia Chrześcijańskich Demokratów",
          "Chrześcijańska Demokracja",
          "Zrzeszenie Kaszubsko-Pomorskie",
          "Inicjatywa na rzecz Łodzi",
          "Ludowe Porozumienie Wyborcze Piast",
          "Konfederacja Komitetów Obywatelskich",
          "Mniejszość Niemiecka",
          "Stronnictwo Narodowo-Demokratyczne",
          "Zbigniew Romaszewski",
          "Regionalne Forum Wyborcze",
          "Klub Inteligencji Katolickiej",
          "Krzysztof Horodecki",
          "Henryk Stokłosa",
          "Jerzy Madej",
          "Niezależny",
          "Unia Wielkopolan",
          "\"Kandydat Niezależny\"",
          "Komitet Obywatelski \"Solidarność\"",
          "Regionowi i Polsce"
         ],
         "y": [
          21,
          11,
          9,
          9,
          8,
          7,
          6,
          4,
          4,
          3,
          1,
          1,
          1,
          1,
          1,
          1,
          1,
          1,
          1,
          1,
          1,
          1,
          1,
          1,
          1,
          1,
          1,
          1
         ]
        }
       ],
       "frames": [
        {
         "data": [
          {
           "marker": {
            "color": [
             "hsl(0.0, 70%, 50%)",
             "hsl(4.675324675324675, 70%, 50%)",
             "hsl(9.35064935064935, 70%, 50%)",
             "hsl(14.025974025974026, 70%, 50%)",
             "hsl(18.7012987012987, 70%, 50%)",
             "hsl(23.376623376623378, 70%, 50%)",
             "hsl(28.051948051948052, 70%, 50%)",
             "hsl(32.72727272727273, 70%, 50%)",
             "hsl(37.4025974025974, 70%, 50%)",
             "hsl(42.077922077922075, 70%, 50%)",
             "hsl(46.753246753246756, 70%, 50%)",
             "hsl(51.42857142857143, 70%, 50%)",
             "hsl(56.103896103896105, 70%, 50%)",
             "hsl(60.77922077922078, 70%, 50%)",
             "hsl(65.45454545454545, 70%, 50%)",
             "hsl(70.12987012987013, 70%, 50%)",
             "hsl(74.8051948051948, 70%, 50%)",
             "hsl(79.48051948051948, 70%, 50%)",
             "hsl(84.15584415584415, 70%, 50%)",
             "hsl(88.83116883116882, 70%, 50%)",
             "hsl(93.50649350649351, 70%, 50%)",
             "hsl(98.18181818181819, 70%, 50%)",
             "hsl(102.85714285714286, 70%, 50%)",
             "hsl(107.53246753246754, 70%, 50%)",
             "hsl(112.20779220779221, 70%, 50%)",
             "hsl(116.88311688311688, 70%, 50%)",
             "hsl(121.55844155844156, 70%, 50%)",
             "hsl(126.23376623376623, 70%, 50%)"
            ]
           },
           "text": [
            21,
            11,
            9,
            9,
            8,
            7,
            6,
            4,
            4,
            3,
            1,
            1,
            1,
            1,
            1,
            1,
            1,
            1,
            1,
            1,
            1,
            1,
            1,
            1,
            1,
            1,
            1,
            1
           ],
           "textposition": "outside",
           "type": "bar",
           "x": [
            "Unia Demokratyczna",
            "Niezależny Samorzšdny Zwišzek Zawodowy \"Solidarność\"",
            "Porozumienie Obywatelskie Centrum",
            "Wyborcza Akcja Katolicka",
            "Polskie Stronnictwo Ludowe",
            "Porozumienie Ludowe",
            "Kongres Liberalno-Demokratyczny",
            "Sojusz Lewicy Demokratycznej",
            "Konfederacja Polski Niepodległej",
            "Partia Chrześcijańskich Demokratów",
            "Chrześcijańska Demokracja",
            "Zrzeszenie Kaszubsko-Pomorskie",
            "Inicjatywa na rzecz Łodzi",
            "Ludowe Porozumienie Wyborcze Piast",
            "Konfederacja Komitetów Obywatelskich",
            "Mniejszość Niemiecka",
            "Stronnictwo Narodowo-Demokratyczne",
            "Zbigniew Romaszewski",
            "Regionalne Forum Wyborcze",
            "Klub Inteligencji Katolickiej",
            "Krzysztof Horodecki",
            "Henryk Stokłosa",
            "Jerzy Madej",
            "Niezależny",
            "Unia Wielkopolan",
            "\"Kandydat Niezależny\"",
            "Komitet Obywatelski \"Solidarność\"",
            "Regionowi i Polsce"
           ],
           "y": [
            21,
            11,
            9,
            9,
            8,
            7,
            6,
            4,
            4,
            3,
            1,
            1,
            1,
            1,
            1,
            1,
            1,
            1,
            1,
            1,
            1,
            1,
            1,
            1,
            1,
            1,
            1,
            1
           ]
          }
         ],
         "name": "1991"
        },
        {
         "data": [
          {
           "marker": {
            "color": [
             "hsl(32.72727272727273, 70%, 50%)",
             "hsl(18.7012987012987, 70%, 50%)",
             "hsl(4.675324675324675, 70%, 50%)",
             "hsl(0.0, 70%, 50%)",
             "hsl(130.9090909090909, 70%, 50%)",
             "hsl(135.58441558441558, 70%, 50%)",
             "hsl(28.051948051948052, 70%, 50%)",
             "hsl(140.25974025974025, 70%, 50%)",
             "hsl(144.93506493506493, 70%, 50%)",
             "hsl(70.12987012987013, 70%, 50%)",
             "hsl(149.6103896103896, 70%, 50%)",
             "hsl(154.28571428571428, 70%, 50%)",
             "hsl(98.18181818181819, 70%, 50%)",
             "hsl(158.96103896103895, 70%, 50%)",
             "hsl(163.63636363636363, 70%, 50%)",
             "hsl(102.85714285714286, 70%, 50%)"
            ]
           },
           "text": [
            37,
            36,
            9,
            4,
            2,
            2,
            1,
            1,
            1,
            1,
            1,
            1,
            1,
            1,
            1,
            1
           ],
           "textposition": "outside",
           "type": "bar",
           "x": [
            "Sojusz Lewicy Demokratycznej",
            "Polskie Stronnictwo Ludowe",
            "Niezależny Samorzšdny Zwišzek Zawodowy \"Solidarność\"",
            "Unia Demokratyczna",
            "Bezpartyjny Blok Wspierania Reform",
            "Unia Pracy",
            "Kongres Liberalno-Demokratyczny",
            "\"Zjednoczenie Polskie\"",
            "Polskie Stronnictwo Ludowe - Porozumienie Ludowe",
            "Mniejszość Niemiecka",
            "Aleksander Gawronik",
            "Klub Inteligencji Katolickiej w Białymstoku oraz Stowarzyszenie Rodzin Katolickich Archidiecezji Białostockiej",
            "Henryk Stokłosa",
            "SOLSKA",
            "Niezależny Samorzšdowy Zwišzek Zawodowy  Rolników Indywidualnych \"Solidarność\"",
            "Jerzy Madej"
           ],
           "y": [
            37,
            36,
            9,
            4,
            2,
            2,
            1,
            1,
            1,
            1,
            1,
            1,
            1,
            1,
            1,
            1
           ]
          }
         ],
         "name": "1995"
        },
        {
         "data": [
          {
           "marker": {
            "color": [
             "hsl(168.3116883116883, 70%, 50%)",
             "hsl(32.72727272727273, 70%, 50%)",
             "hsl(172.98701298701297, 70%, 50%)",
             "hsl(177.66233766233765, 70%, 50%)",
             "hsl(18.7012987012987, 70%, 50%)",
             "hsl(182.33766233766235, 70%, 50%)",
             "hsl(187.01298701298703, 70%, 50%)",
             "hsl(191.6883116883117, 70%, 50%)",
             "hsl(98.18181818181819, 70%, 50%)",
             "hsl(196.36363636363637, 70%, 50%)"
            ]
           },
           "text": [
            51,
            28,
            8,
            5,
            3,
            1,
            1,
            1,
            1,
            1
           ],
           "textposition": "outside",
           "type": "bar",
           "x": [
            "Akcja Wyborcza Solidarność",
            "Sojusz Lewicy Demokratycznej",
            "Unia Wolności",
            "Ruch Obudowy Polski",
            "Polskie Stronnictwo Ludowe",
            "Bogdan Zdrojewski",
            "Profesor Leon Kieres",
            "Marian Jurczyk",
            "Henryk Stokłosa",
            "Jadwiga Stokarska"
           ],
           "y": [
            51,
            28,
            8,
            5,
            3,
            1,
            1,
            1,
            1,
            1
           ]
          }
         ],
         "name": "1997"
        },
        {
         "data": [
          {
           "marker": {
            "color": [
             "hsl(201.03896103896105, 70%, 50%)",
             "hsl(205.71428571428572, 70%, 50%)",
             "hsl(18.7012987012987, 70%, 50%)",
             "hsl(210.3896103896104, 70%, 50%)",
             "hsl(215.06493506493507, 70%, 50%)",
             "hsl(219.74025974025975, 70%, 50%)",
             "hsl(98.18181818181819, 70%, 50%)"
            ]
           },
           "text": [
            75,
            15,
            4,
            2,
            2,
            1,
            1
           ],
           "textposition": "outside",
           "type": "bar",
           "x": [
            "Sojusz Lewicy Demokratycznej - Unia Pracy",
            "Blok Senat 2001",
            "Polskie Stronnictwo Ludowe",
            "Samoobrona",
            "Liga Polskich Rodzin",
            "Lech Kaczyński",
            "Henryk Stokłosa"
           ],
           "y": [
            75,
            15,
            4,
            2,
            2,
            1,
            1
           ]
          }
         ],
         "name": "2001"
        },
        {
         "data": [
          {
           "marker": {
            "color": [
             "hsl(224.41558441558442, 70%, 50%)",
             "hsl(229.0909090909091, 70%, 50%)",
             "hsl(215.06493506493507, 70%, 50%)",
             "hsl(210.3896103896104, 70%, 50%)",
             "hsl(18.7012987012987, 70%, 50%)",
             "hsl(233.76623376623377, 70%, 50%)",
             "hsl(238.44155844155844, 70%, 50%)",
             "hsl(243.11688311688312, 70%, 50%)",
             "hsl(247.7922077922078, 70%, 50%)",
             "hsl(252.46753246753246, 70%, 50%)"
            ]
           },
           "text": [
            49,
            34,
            7,
            3,
            2,
            1,
            1,
            1,
            1,
            1
           ],
           "textposition": "outside",
           "type": "bar",
           "x": [
            "Prawo i Sprawiedliwość",
            "Platforma Obywatelska",
            "Liga Polskich Rodzin",
            "Samoobrona",
            "Polskie Stronnictwo Ludowe",
            "Maciej Płażyński",
            "Kazimierz Julian Kutz",
            "Bogdan Borusewicz",
            "Nowy Senat 2005",
            "Marian Miłek"
           ],
           "y": [
            49,
            34,
            7,
            3,
            2,
            1,
            1,
            1,
            1,
            1
           ]
          }
         ],
         "name": "2005"
        },
        {
         "data": [
          {
           "marker": {
            "color": [
             "hsl(229.0909090909091, 70%, 50%)",
             "hsl(224.41558441558442, 70%, 50%)",
             "hsl(257.14285714285717, 70%, 50%)"
            ]
           },
           "text": [
            60,
            39,
            1
           ],
           "textposition": "outside",
           "type": "bar",
           "x": [
            "Platforma Obywatelska",
            "Prawo i Sprawiedliwość",
            "Cimosiewicz do Senatu"
           ],
           "y": [
            60,
            39,
            1
           ]
          }
         ],
         "name": "2007"
        },
        {
         "data": [
          {
           "marker": {
            "color": [
             "hsl(229.0909090909091, 70%, 50%)",
             "hsl(224.41558441558442, 70%, 50%)",
             "hsl(18.7012987012987, 70%, 50%)",
             "hsl(261.8181818181818, 70%, 50%)",
             "hsl(266.4935064935065, 70%, 50%)",
             "hsl(271.16883116883116, 70%, 50%)",
             "hsl(275.84415584415586, 70%, 50%)"
            ]
           },
           "text": [
            63,
            31,
            2,
            1,
            1,
            1,
            1
           ],
           "textposition": "outside",
           "type": "bar",
           "x": [
            "Platforma Obywatelska",
            "Prawo i Sprawiedliwość",
            "Polskie Stronnictwo Ludowe",
            "Rafał Dutkiewicz",
            "Marek Borowski",
            "Kaziemierz Kutz",
            "Cimoszewicz do Senatu"
           ],
           "y": [
            63,
            31,
            2,
            1,
            1,
            1,
            1
           ]
          }
         ],
         "name": "2011"
        },
        {
         "data": [
          {
           "marker": {
            "color": [
             "hsl(224.41558441558442, 70%, 50%)",
             "hsl(229.0909090909091, 70%, 50%)",
             "hsl(18.7012987012987, 70%, 50%)",
             "hsl(266.4935064935065, 70%, 50%)",
             "hsl(280.5194805194805, 70%, 50%)",
             "hsl(285.1948051948052, 70%, 50%)",
             "hsl(289.87012987012986, 70%, 50%)"
            ]
           },
           "text": [
            61,
            34,
            1,
            1,
            1,
            1,
            1
           ],
           "textposition": "outside",
           "type": "bar",
           "x": [
            "Prawo i Sprawiedliwość",
            "Platforma Obywatelska",
            "Polskie Stronnictwo Ludowe",
            "Marek Borowski",
            "Jarosław Obremski",
            "Lidia Staroń",
            "Grzegorz Bierecki"
           ],
           "y": [
            61,
            34,
            1,
            1,
            1,
            1,
            1
           ]
          }
         ],
         "name": "2015"
        },
        {
         "data": [
          {
           "marker": {
            "color": [
             "hsl(224.41558441558442, 70%, 50%)",
             "hsl(229.0909090909091, 70%, 50%)",
             "hsl(18.7012987012987, 70%, 50%)",
             "hsl(32.72727272727273, 70%, 50%)",
             "hsl(285.1948051948052, 70%, 50%)",
             "hsl(294.54545454545456, 70%, 50%)",
             "hsl(299.2207792207792, 70%, 50%)",
             "hsl(303.8961038961039, 70%, 50%)"
            ]
           },
           "text": [
            48,
            43,
            3,
            2,
            1,
            1,
            1,
            1
           ],
           "textposition": "outside",
           "type": "bar",
           "x": [
            "Prawo i Sprawiedliwość",
            "Platforma Obywatelska",
            "Polskie Stronnictwo Ludowe",
            "Sojusz Lewicy Demokratycznej",
            "Lidia Staroń",
            "Krzysztof Kwiatkowski",
            "Wadim Tyszkiewicz",
            "Demokracja Obywatelska"
           ],
           "y": [
            48,
            43,
            3,
            2,
            1,
            1,
            1,
            1
           ]
          }
         ],
         "name": "2019"
        },
        {
         "data": [
          {
           "marker": {
            "color": [
             "hsl(308.57142857142856, 70%, 50%)",
             "hsl(224.41558441558442, 70%, 50%)",
             "hsl(313.24675324675326, 70%, 50%)",
             "hsl(317.9220779220779, 70%, 50%)",
             "hsl(322.5974025974026, 70%, 50%)",
             "hsl(294.54545454545456, 70%, 50%)",
             "hsl(299.2207792207792, 70%, 50%)",
             "hsl(327.27272727272725, 70%, 50%)",
             "hsl(331.94805194805195, 70%, 50%)",
             "hsl(336.6233766233766, 70%, 50%)",
             "hsl(341.2987012987013, 70%, 50%)",
             "hsl(345.97402597402595, 70%, 50%)",
             "hsl(350.64935064935065, 70%, 50%)",
             "hsl(355.3246753246753, 70%, 50%)"
            ]
           },
           "text": [
            41,
            34,
            11,
            9,
            1,
            1,
            1,
            1,
            1,
            null,
            null,
            null,
            null,
            null
           ],
           "textposition": "outside",
           "type": "bar",
           "x": [
            "Koalicja Obywatelska",
            "Prawo i Sprawiedliwość",
            "Trzecia Droga",
            "Nowa Lewica",
            "Zygmunt Frankiewicz",
            "Krzysztof Kwiatkowski",
            "Wadim Tyszkiewicz",
            "Andrzej Dziuba",
            "Józef Zajšc",
            "Nowa Demokracja - Tak ",
            "Zjednoczenie Chrześcijańskich Rodzin",
            "Porozumienie Obywatelskie",
            "Zwišzek Słowiański",
            "Zjednoczeni"
           ],
           "y": [
            41,
            34,
            11,
            9,
            1,
            1,
            1,
            1,
            1,
            null,
            null,
            null,
            null,
            null
           ]
          }
         ],
         "name": "2023"
        }
       ],
       "layout": {
        "showlegend": false,
        "sliders": [
         {
          "active": 0,
          "pad": {
           "t": 50
          },
          "steps": [
           {
            "args": [
             [
              "1991"
             ],
             {
              "frame": {
               "duration": 500,
               "redraw": true
              },
              "mode": "immediate",
              "transition": {
               "duration": 300
              }
             }
            ],
            "label": "1991",
            "method": "animate"
           },
           {
            "args": [
             [
              "1995"
             ],
             {
              "frame": {
               "duration": 500,
               "redraw": true
              },
              "mode": "immediate",
              "transition": {
               "duration": 300
              }
             }
            ],
            "label": "1995",
            "method": "animate"
           },
           {
            "args": [
             [
              "1997"
             ],
             {
              "frame": {
               "duration": 500,
               "redraw": true
              },
              "mode": "immediate",
              "transition": {
               "duration": 300
              }
             }
            ],
            "label": "1997",
            "method": "animate"
           },
           {
            "args": [
             [
              "2001"
             ],
             {
              "frame": {
               "duration": 500,
               "redraw": true
              },
              "mode": "immediate",
              "transition": {
               "duration": 300
              }
             }
            ],
            "label": "2001",
            "method": "animate"
           },
           {
            "args": [
             [
              "2005"
             ],
             {
              "frame": {
               "duration": 500,
               "redraw": true
              },
              "mode": "immediate",
              "transition": {
               "duration": 300
              }
             }
            ],
            "label": "2005",
            "method": "animate"
           },
           {
            "args": [
             [
              "2007"
             ],
             {
              "frame": {
               "duration": 500,
               "redraw": true
              },
              "mode": "immediate",
              "transition": {
               "duration": 300
              }
             }
            ],
            "label": "2007",
            "method": "animate"
           },
           {
            "args": [
             [
              "2011"
             ],
             {
              "frame": {
               "duration": 500,
               "redraw": true
              },
              "mode": "immediate",
              "transition": {
               "duration": 300
              }
             }
            ],
            "label": "2011",
            "method": "animate"
           },
           {
            "args": [
             [
              "2015"
             ],
             {
              "frame": {
               "duration": 500,
               "redraw": true
              },
              "mode": "immediate",
              "transition": {
               "duration": 300
              }
             }
            ],
            "label": "2015",
            "method": "animate"
           },
           {
            "args": [
             [
              "2019"
             ],
             {
              "frame": {
               "duration": 500,
               "redraw": true
              },
              "mode": "immediate",
              "transition": {
               "duration": 300
              }
             }
            ],
            "label": "2019",
            "method": "animate"
           },
           {
            "args": [
             [
              "2023"
             ],
             {
              "frame": {
               "duration": 500,
               "redraw": true
              },
              "mode": "immediate",
              "transition": {
               "duration": 300
              }
             }
            ],
            "label": "2023",
            "method": "animate"
           }
          ]
         }
        ],
        "template": {
         "data": {
          "bar": [
           {
            "error_x": {
             "color": "#2a3f5f"
            },
            "error_y": {
             "color": "#2a3f5f"
            },
            "marker": {
             "line": {
              "color": "#E5ECF6",
              "width": 0.5
             },
             "pattern": {
              "fillmode": "overlay",
              "size": 10,
              "solidity": 0.2
             }
            },
            "type": "bar"
           }
          ],
          "barpolar": [
           {
            "marker": {
             "line": {
              "color": "#E5ECF6",
              "width": 0.5
             },
             "pattern": {
              "fillmode": "overlay",
              "size": 10,
              "solidity": 0.2
             }
            },
            "type": "barpolar"
           }
          ],
          "carpet": [
           {
            "aaxis": {
             "endlinecolor": "#2a3f5f",
             "gridcolor": "white",
             "linecolor": "white",
             "minorgridcolor": "white",
             "startlinecolor": "#2a3f5f"
            },
            "baxis": {
             "endlinecolor": "#2a3f5f",
             "gridcolor": "white",
             "linecolor": "white",
             "minorgridcolor": "white",
             "startlinecolor": "#2a3f5f"
            },
            "type": "carpet"
           }
          ],
          "choropleth": [
           {
            "colorbar": {
             "outlinewidth": 0,
             "ticks": ""
            },
            "type": "choropleth"
           }
          ],
          "contour": [
           {
            "colorbar": {
             "outlinewidth": 0,
             "ticks": ""
            },
            "colorscale": [
             [
              0,
              "#0d0887"
             ],
             [
              0.1111111111111111,
              "#46039f"
             ],
             [
              0.2222222222222222,
              "#7201a8"
             ],
             [
              0.3333333333333333,
              "#9c179e"
             ],
             [
              0.4444444444444444,
              "#bd3786"
             ],
             [
              0.5555555555555556,
              "#d8576b"
             ],
             [
              0.6666666666666666,
              "#ed7953"
             ],
             [
              0.7777777777777778,
              "#fb9f3a"
             ],
             [
              0.8888888888888888,
              "#fdca26"
             ],
             [
              1,
              "#f0f921"
             ]
            ],
            "type": "contour"
           }
          ],
          "contourcarpet": [
           {
            "colorbar": {
             "outlinewidth": 0,
             "ticks": ""
            },
            "type": "contourcarpet"
           }
          ],
          "heatmap": [
           {
            "colorbar": {
             "outlinewidth": 0,
             "ticks": ""
            },
            "colorscale": [
             [
              0,
              "#0d0887"
             ],
             [
              0.1111111111111111,
              "#46039f"
             ],
             [
              0.2222222222222222,
              "#7201a8"
             ],
             [
              0.3333333333333333,
              "#9c179e"
             ],
             [
              0.4444444444444444,
              "#bd3786"
             ],
             [
              0.5555555555555556,
              "#d8576b"
             ],
             [
              0.6666666666666666,
              "#ed7953"
             ],
             [
              0.7777777777777778,
              "#fb9f3a"
             ],
             [
              0.8888888888888888,
              "#fdca26"
             ],
             [
              1,
              "#f0f921"
             ]
            ],
            "type": "heatmap"
           }
          ],
          "heatmapgl": [
           {
            "colorbar": {
             "outlinewidth": 0,
             "ticks": ""
            },
            "colorscale": [
             [
              0,
              "#0d0887"
             ],
             [
              0.1111111111111111,
              "#46039f"
             ],
             [
              0.2222222222222222,
              "#7201a8"
             ],
             [
              0.3333333333333333,
              "#9c179e"
             ],
             [
              0.4444444444444444,
              "#bd3786"
             ],
             [
              0.5555555555555556,
              "#d8576b"
             ],
             [
              0.6666666666666666,
              "#ed7953"
             ],
             [
              0.7777777777777778,
              "#fb9f3a"
             ],
             [
              0.8888888888888888,
              "#fdca26"
             ],
             [
              1,
              "#f0f921"
             ]
            ],
            "type": "heatmapgl"
           }
          ],
          "histogram": [
           {
            "marker": {
             "pattern": {
              "fillmode": "overlay",
              "size": 10,
              "solidity": 0.2
             }
            },
            "type": "histogram"
           }
          ],
          "histogram2d": [
           {
            "colorbar": {
             "outlinewidth": 0,
             "ticks": ""
            },
            "colorscale": [
             [
              0,
              "#0d0887"
             ],
             [
              0.1111111111111111,
              "#46039f"
             ],
             [
              0.2222222222222222,
              "#7201a8"
             ],
             [
              0.3333333333333333,
              "#9c179e"
             ],
             [
              0.4444444444444444,
              "#bd3786"
             ],
             [
              0.5555555555555556,
              "#d8576b"
             ],
             [
              0.6666666666666666,
              "#ed7953"
             ],
             [
              0.7777777777777778,
              "#fb9f3a"
             ],
             [
              0.8888888888888888,
              "#fdca26"
             ],
             [
              1,
              "#f0f921"
             ]
            ],
            "type": "histogram2d"
           }
          ],
          "histogram2dcontour": [
           {
            "colorbar": {
             "outlinewidth": 0,
             "ticks": ""
            },
            "colorscale": [
             [
              0,
              "#0d0887"
             ],
             [
              0.1111111111111111,
              "#46039f"
             ],
             [
              0.2222222222222222,
              "#7201a8"
             ],
             [
              0.3333333333333333,
              "#9c179e"
             ],
             [
              0.4444444444444444,
              "#bd3786"
             ],
             [
              0.5555555555555556,
              "#d8576b"
             ],
             [
              0.6666666666666666,
              "#ed7953"
             ],
             [
              0.7777777777777778,
              "#fb9f3a"
             ],
             [
              0.8888888888888888,
              "#fdca26"
             ],
             [
              1,
              "#f0f921"
             ]
            ],
            "type": "histogram2dcontour"
           }
          ],
          "mesh3d": [
           {
            "colorbar": {
             "outlinewidth": 0,
             "ticks": ""
            },
            "type": "mesh3d"
           }
          ],
          "parcoords": [
           {
            "line": {
             "colorbar": {
              "outlinewidth": 0,
              "ticks": ""
             }
            },
            "type": "parcoords"
           }
          ],
          "pie": [
           {
            "automargin": true,
            "type": "pie"
           }
          ],
          "scatter": [
           {
            "fillpattern": {
             "fillmode": "overlay",
             "size": 10,
             "solidity": 0.2
            },
            "type": "scatter"
           }
          ],
          "scatter3d": [
           {
            "line": {
             "colorbar": {
              "outlinewidth": 0,
              "ticks": ""
             }
            },
            "marker": {
             "colorbar": {
              "outlinewidth": 0,
              "ticks": ""
             }
            },
            "type": "scatter3d"
           }
          ],
          "scattercarpet": [
           {
            "marker": {
             "colorbar": {
              "outlinewidth": 0,
              "ticks": ""
             }
            },
            "type": "scattercarpet"
           }
          ],
          "scattergeo": [
           {
            "marker": {
             "colorbar": {
              "outlinewidth": 0,
              "ticks": ""
             }
            },
            "type": "scattergeo"
           }
          ],
          "scattergl": [
           {
            "marker": {
             "colorbar": {
              "outlinewidth": 0,
              "ticks": ""
             }
            },
            "type": "scattergl"
           }
          ],
          "scattermapbox": [
           {
            "marker": {
             "colorbar": {
              "outlinewidth": 0,
              "ticks": ""
             }
            },
            "type": "scattermapbox"
           }
          ],
          "scatterpolar": [
           {
            "marker": {
             "colorbar": {
              "outlinewidth": 0,
              "ticks": ""
             }
            },
            "type": "scatterpolar"
           }
          ],
          "scatterpolargl": [
           {
            "marker": {
             "colorbar": {
              "outlinewidth": 0,
              "ticks": ""
             }
            },
            "type": "scatterpolargl"
           }
          ],
          "scatterternary": [
           {
            "marker": {
             "colorbar": {
              "outlinewidth": 0,
              "ticks": ""
             }
            },
            "type": "scatterternary"
           }
          ],
          "surface": [
           {
            "colorbar": {
             "outlinewidth": 0,
             "ticks": ""
            },
            "colorscale": [
             [
              0,
              "#0d0887"
             ],
             [
              0.1111111111111111,
              "#46039f"
             ],
             [
              0.2222222222222222,
              "#7201a8"
             ],
             [
              0.3333333333333333,
              "#9c179e"
             ],
             [
              0.4444444444444444,
              "#bd3786"
             ],
             [
              0.5555555555555556,
              "#d8576b"
             ],
             [
              0.6666666666666666,
              "#ed7953"
             ],
             [
              0.7777777777777778,
              "#fb9f3a"
             ],
             [
              0.8888888888888888,
              "#fdca26"
             ],
             [
              1,
              "#f0f921"
             ]
            ],
            "type": "surface"
           }
          ],
          "table": [
           {
            "cells": {
             "fill": {
              "color": "#EBF0F8"
             },
             "line": {
              "color": "white"
             }
            },
            "header": {
             "fill": {
              "color": "#C8D4E3"
             },
             "line": {
              "color": "white"
             }
            },
            "type": "table"
           }
          ]
         },
         "layout": {
          "annotationdefaults": {
           "arrowcolor": "#2a3f5f",
           "arrowhead": 0,
           "arrowwidth": 1
          },
          "autotypenumbers": "strict",
          "coloraxis": {
           "colorbar": {
            "outlinewidth": 0,
            "ticks": ""
           }
          },
          "colorscale": {
           "diverging": [
            [
             0,
             "#8e0152"
            ],
            [
             0.1,
             "#c51b7d"
            ],
            [
             0.2,
             "#de77ae"
            ],
            [
             0.3,
             "#f1b6da"
            ],
            [
             0.4,
             "#fde0ef"
            ],
            [
             0.5,
             "#f7f7f7"
            ],
            [
             0.6,
             "#e6f5d0"
            ],
            [
             0.7,
             "#b8e186"
            ],
            [
             0.8,
             "#7fbc41"
            ],
            [
             0.9,
             "#4d9221"
            ],
            [
             1,
             "#276419"
            ]
           ],
           "sequential": [
            [
             0,
             "#0d0887"
            ],
            [
             0.1111111111111111,
             "#46039f"
            ],
            [
             0.2222222222222222,
             "#7201a8"
            ],
            [
             0.3333333333333333,
             "#9c179e"
            ],
            [
             0.4444444444444444,
             "#bd3786"
            ],
            [
             0.5555555555555556,
             "#d8576b"
            ],
            [
             0.6666666666666666,
             "#ed7953"
            ],
            [
             0.7777777777777778,
             "#fb9f3a"
            ],
            [
             0.8888888888888888,
             "#fdca26"
            ],
            [
             1,
             "#f0f921"
            ]
           ],
           "sequentialminus": [
            [
             0,
             "#0d0887"
            ],
            [
             0.1111111111111111,
             "#46039f"
            ],
            [
             0.2222222222222222,
             "#7201a8"
            ],
            [
             0.3333333333333333,
             "#9c179e"
            ],
            [
             0.4444444444444444,
             "#bd3786"
            ],
            [
             0.5555555555555556,
             "#d8576b"
            ],
            [
             0.6666666666666666,
             "#ed7953"
            ],
            [
             0.7777777777777778,
             "#fb9f3a"
            ],
            [
             0.8888888888888888,
             "#fdca26"
            ],
            [
             1,
             "#f0f921"
            ]
           ]
          },
          "colorway": [
           "#636efa",
           "#EF553B",
           "#00cc96",
           "#ab63fa",
           "#FFA15A",
           "#19d3f3",
           "#FF6692",
           "#B6E880",
           "#FF97FF",
           "#FECB52"
          ],
          "font": {
           "color": "#2a3f5f"
          },
          "geo": {
           "bgcolor": "white",
           "lakecolor": "white",
           "landcolor": "#E5ECF6",
           "showlakes": true,
           "showland": true,
           "subunitcolor": "white"
          },
          "hoverlabel": {
           "align": "left"
          },
          "hovermode": "closest",
          "mapbox": {
           "style": "light"
          },
          "paper_bgcolor": "white",
          "plot_bgcolor": "#E5ECF6",
          "polar": {
           "angularaxis": {
            "gridcolor": "white",
            "linecolor": "white",
            "ticks": ""
           },
           "bgcolor": "#E5ECF6",
           "radialaxis": {
            "gridcolor": "white",
            "linecolor": "white",
            "ticks": ""
           }
          },
          "scene": {
           "xaxis": {
            "backgroundcolor": "#E5ECF6",
            "gridcolor": "white",
            "gridwidth": 2,
            "linecolor": "white",
            "showbackground": true,
            "ticks": "",
            "zerolinecolor": "white"
           },
           "yaxis": {
            "backgroundcolor": "#E5ECF6",
            "gridcolor": "white",
            "gridwidth": 2,
            "linecolor": "white",
            "showbackground": true,
            "ticks": "",
            "zerolinecolor": "white"
           },
           "zaxis": {
            "backgroundcolor": "#E5ECF6",
            "gridcolor": "white",
            "gridwidth": 2,
            "linecolor": "white",
            "showbackground": true,
            "ticks": "",
            "zerolinecolor": "white"
           }
          },
          "shapedefaults": {
           "line": {
            "color": "#2a3f5f"
           }
          },
          "ternary": {
           "aaxis": {
            "gridcolor": "white",
            "linecolor": "white",
            "ticks": ""
           },
           "baxis": {
            "gridcolor": "white",
            "linecolor": "white",
            "ticks": ""
           },
           "bgcolor": "#E5ECF6",
           "caxis": {
            "gridcolor": "white",
            "linecolor": "white",
            "ticks": ""
           }
          },
          "title": {
           "x": 0.05
          },
          "xaxis": {
           "automargin": true,
           "gridcolor": "white",
           "linecolor": "white",
           "ticks": "",
           "title": {
            "standoff": 15
           },
           "zerolinecolor": "white",
           "zerolinewidth": 2
          },
          "yaxis": {
           "automargin": true,
           "gridcolor": "white",
           "linecolor": "white",
           "ticks": "",
           "title": {
            "standoff": 15
           },
           "zerolinecolor": "white",
           "zerolinewidth": 2
          }
         }
        },
        "title": {
         "text": "Liczba mandatów dla partii w Senatu wg roku"
        },
        "updatemenus": [
         {
          "buttons": [
           {
            "args": [
             null,
             {
              "frame": {
               "duration": 1000,
               "redraw": true
              },
              "fromcurrent": true,
              "transition": {
               "duration": 500
              }
             }
            ],
            "label": "Start",
            "method": "animate"
           },
           {
            "args": [
             [
              null
             ],
             {
              "frame": {
               "duration": 0,
               "redraw": false
              },
              "mode": "immediate",
              "transition": {
               "duration": 0
              }
             }
            ],
            "label": "Stop",
            "method": "animate"
           }
          ],
          "type": "buttons"
         }
        ],
        "xaxis": {
         "tickangle": -45,
         "title": {
          "text": "Partia"
         }
        },
        "yaxis": {
         "range": [
          0,
          85
         ],
         "title": {
          "text": "Liczba mandatów"
         }
        }
       }
      },
      "image/png": "[encoded data removed]",
      "text/html": [
       "<div>                            <div id=\"92e966c7-e8c0-4e1d-bf24-b044a4e536bf\" class=\"plotly-graph-div\" style=\"height:525px; width:100%;\"></div>            <script type=\"text/javascript\">                require([\"plotly\"], function(Plotly) {                    window.PLOTLYENV=window.PLOTLYENV || {};                                    if (document.getElementById(\"92e966c7-e8c0-4e1d-bf24-b044a4e536bf\")) {                    Plotly.newPlot(                        \"92e966c7-e8c0-4e1d-bf24-b044a4e536bf\",                        [{\"marker\":{\"color\":[\"hsl(0.0, 70%, 50%)\",\"hsl(4.675324675324675, 70%, 50%)\",\"hsl(9.35064935064935, 70%, 50%)\",\"hsl(14.025974025974026, 70%, 50%)\",\"hsl(18.7012987012987, 70%, 50%)\",\"hsl(23.376623376623378, 70%, 50%)\",\"hsl(28.051948051948052, 70%, 50%)\",\"hsl(32.72727272727273, 70%, 50%)\",\"hsl(37.4025974025974, 70%, 50%)\",\"hsl(42.077922077922075, 70%, 50%)\",\"hsl(46.753246753246756, 70%, 50%)\",\"hsl(51.42857142857143, 70%, 50%)\",\"hsl(56.103896103896105, 70%, 50%)\",\"hsl(60.77922077922078, 70%, 50%)\",\"hsl(65.45454545454545, 70%, 50%)\",\"hsl(70.12987012987013, 70%, 50%)\",\"hsl(74.8051948051948, 70%, 50%)\",\"hsl(79.48051948051948, 70%, 50%)\",\"hsl(84.15584415584415, 70%, 50%)\",\"hsl(88.83116883116882, 70%, 50%)\",\"hsl(93.50649350649351, 70%, 50%)\",\"hsl(98.18181818181819, 70%, 50%)\",\"hsl(102.85714285714286, 70%, 50%)\",\"hsl(107.53246753246754, 70%, 50%)\",\"hsl(112.20779220779221, 70%, 50%)\",\"hsl(116.88311688311688, 70%, 50%)\",\"hsl(121.55844155844156, 70%, 50%)\",\"hsl(126.23376623376623, 70%, 50%)\"]},\"name\":\"1991\",\"text\":[21.0,11.0,9.0,9.0,8.0,7.0,6.0,4.0,4.0,3.0,1.0,1.0,1.0,1.0,1.0,1.0,1.0,1.0,1.0,1.0,1.0,1.0,1.0,1.0,1.0,1.0,1.0,1.0],\"textposition\":\"outside\",\"x\":[\"Unia Demokratyczna\",\"Niezależny Samorzšdny Zwišzek Zawodowy \\\"Solidarność\\\"\",\"Porozumienie Obywatelskie Centrum\",\"Wyborcza Akcja Katolicka\",\"Polskie Stronnictwo Ludowe\",\"Porozumienie Ludowe\",\"Kongres Liberalno-Demokratyczny\",\"Sojusz Lewicy Demokratycznej\",\"Konfederacja Polski Niepodległej\",\"Partia Chrześcijańskich Demokratów\",\"Chrześcijańska Demokracja\",\"Zrzeszenie Kaszubsko-Pomorskie\",\"Inicjatywa na rzecz Łodzi\",\"Ludowe Porozumienie Wyborcze Piast\",\"Konfederacja Komitetów Obywatelskich\",\"Mniejszość Niemiecka\",\"Stronnictwo Narodowo-Demokratyczne\",\"Zbigniew Romaszewski\",\"Regionalne Forum Wyborcze\",\"Klub Inteligencji Katolickiej\",\"Krzysztof Horodecki\",\"Henryk Stokłosa\",\"Jerzy Madej\",\"Niezależny\",\"Unia Wielkopolan\",\"\\\"Kandydat Niezależny\\\"\",\"Komitet Obywatelski \\\"Solidarność\\\"\",\"Regionowi i Polsce\"],\"y\":[21.0,11.0,9.0,9.0,8.0,7.0,6.0,4.0,4.0,3.0,1.0,1.0,1.0,1.0,1.0,1.0,1.0,1.0,1.0,1.0,1.0,1.0,1.0,1.0,1.0,1.0,1.0,1.0],\"type\":\"bar\"}],                        {\"template\":{\"data\":{\"histogram2dcontour\":[{\"type\":\"histogram2dcontour\",\"colorbar\":{\"outlinewidth\":0,\"ticks\":\"\"},\"colorscale\":[[0.0,\"#0d0887\"],[0.1111111111111111,\"#46039f\"],[0.2222222222222222,\"#7201a8\"],[0.3333333333333333,\"#9c179e\"],[0.4444444444444444,\"#bd3786\"],[0.5555555555555556,\"#d8576b\"],[0.6666666666666666,\"#ed7953\"],[0.7777777777777778,\"#fb9f3a\"],[0.8888888888888888,\"#fdca26\"],[1.0,\"#f0f921\"]]}],\"choropleth\":[{\"type\":\"choropleth\",\"colorbar\":{\"outlinewidth\":0,\"ticks\":\"\"}}],\"histogram2d\":[{\"type\":\"histogram2d\",\"colorbar\":{\"outlinewidth\":0,\"ticks\":\"\"},\"colorscale\":[[0.0,\"#0d0887\"],[0.1111111111111111,\"#46039f\"],[0.2222222222222222,\"#7201a8\"],[0.3333333333333333,\"#9c179e\"],[0.4444444444444444,\"#bd3786\"],[0.5555555555555556,\"#d8576b\"],[0.6666666666666666,\"#ed7953\"],[0.7777777777777778,\"#fb9f3a\"],[0.8888888888888888,\"#fdca26\"],[1.0,\"#f0f921\"]]}],\"heatmap\":[{\"type\":\"heatmap\",\"colorbar\":{\"outlinewidth\":0,\"ticks\":\"\"},\"colorscale\":[[0.0,\"#0d0887\"],[0.1111111111111111,\"#46039f\"],[0.2222222222222222,\"#7201a8\"],[0.3333333333333333,\"#9c179e\"],[0.4444444444444444,\"#bd3786\"],[0.5555555555555556,\"#d8576b\"],[0.6666666666666666,\"#ed7953\"],[0.7777777777777778,\"#fb9f3a\"],[0.8888888888888888,\"#fdca26\"],[1.0,\"#f0f921\"]]}],\"heatmapgl\":[{\"type\":\"heatmapgl\",\"colorbar\":{\"outlinewidth\":0,\"ticks\":\"\"},\"colorscale\":[[0.0,\"#0d0887\"],[0.1111111111111111,\"#46039f\"],[0.2222222222222222,\"#7201a8\"],[0.3333333333333333,\"#9c179e\"],[0.4444444444444444,\"#bd3786\"],[0.5555555555555556,\"#d8576b\"],[0.6666666666666666,\"#ed7953\"],[0.7777777777777778,\"#fb9f3a\"],[0.8888888888888888,\"#fdca26\"],[1.0,\"#f0f921\"]]}],\"contourcarpet\":[{\"type\":\"contourcarpet\",\"colorbar\":{\"outlinewidth\":0,\"ticks\":\"\"}}],\"contour\":[{\"type\":\"contour\",\"colorbar\":{\"outlinewidth\":0,\"ticks\":\"\"},\"colorscale\":[[0.0,\"#0d0887\"],[0.1111111111111111,\"#46039f\"],[0.2222222222222222,\"#7201a8\"],[0.3333333333333333,\"#9c179e\"],[0.4444444444444444,\"#bd3786\"],[0.5555555555555556,\"#d8576b\"],[0.6666666666666666,\"#ed7953\"],[0.7777777777777778,\"#fb9f3a\"],[0.8888888888888888,\"#fdca26\"],[1.0,\"#f0f921\"]]}],\"surface\":[{\"type\":\"surface\",\"colorbar\":{\"outlinewidth\":0,\"ticks\":\"\"},\"colorscale\":[[0.0,\"#0d0887\"],[0.1111111111111111,\"#46039f\"],[0.2222222222222222,\"#7201a8\"],[0.3333333333333333,\"#9c179e\"],[0.4444444444444444,\"#bd3786\"],[0.5555555555555556,\"#d8576b\"],[0.6666666666666666,\"#ed7953\"],[0.7777777777777778,\"#fb9f3a\"],[0.8888888888888888,\"#fdca26\"],[1.0,\"#f0f921\"]]}],\"mesh3d\":[{\"type\":\"mesh3d\",\"colorbar\":{\"outlinewidth\":0,\"ticks\":\"\"}}],\"scatter\":[{\"fillpattern\":{\"fillmode\":\"overlay\",\"size\":10,\"solidity\":0.2},\"type\":\"scatter\"}],\"parcoords\":[{\"type\":\"parcoords\",\"line\":{\"colorbar\":{\"outlinewidth\":0,\"ticks\":\"\"}}}],\"scatterpolargl\":[{\"type\":\"scatterpolargl\",\"marker\":{\"colorbar\":{\"outlinewidth\":0,\"ticks\":\"\"}}}],\"bar\":[{\"error_x\":{\"color\":\"#2a3f5f\"},\"error_y\":{\"color\":\"#2a3f5f\"},\"marker\":{\"line\":{\"color\":\"#E5ECF6\",\"width\":0.5},\"pattern\":{\"fillmode\":\"overlay\",\"size\":10,\"solidity\":0.2}},\"type\":\"bar\"}],\"scattergeo\":[{\"type\":\"scattergeo\",\"marker\":{\"colorbar\":{\"outlinewidth\":0,\"ticks\":\"\"}}}],\"scatterpolar\":[{\"type\":\"scatterpolar\",\"marker\":{\"colorbar\":{\"outlinewidth\":0,\"ticks\":\"\"}}}],\"histogram\":[{\"marker\":{\"pattern\":{\"fillmode\":\"overlay\",\"size\":10,\"solidity\":0.2}},\"type\":\"histogram\"}],\"scattergl\":[{\"type\":\"scattergl\",\"marker\":{\"colorbar\":{\"outlinewidth\":0,\"ticks\":\"\"}}}],\"scatter3d\":[{\"type\":\"scatter3d\",\"line\":{\"colorbar\":{\"outlinewidth\":0,\"ticks\":\"\"}},\"marker\":{\"colorbar\":{\"outlinewidth\":0,\"ticks\":\"\"}}}],\"scattermapbox\":[{\"type\":\"scattermapbox\",\"marker\":{\"colorbar\":{\"outlinewidth\":0,\"ticks\":\"\"}}}],\"scatterternary\":[{\"type\":\"scatterternary\",\"marker\":{\"colorbar\":{\"outlinewidth\":0,\"ticks\":\"\"}}}],\"scattercarpet\":[{\"type\":\"scattercarpet\",\"marker\":{\"colorbar\":{\"outlinewidth\":0,\"ticks\":\"\"}}}],\"carpet\":[{\"aaxis\":{\"endlinecolor\":\"#2a3f5f\",\"gridcolor\":\"white\",\"linecolor\":\"white\",\"minorgridcolor\":\"white\",\"startlinecolor\":\"#2a3f5f\"},\"baxis\":{\"endlinecolor\":\"#2a3f5f\",\"gridcolor\":\"white\",\"linecolor\":\"white\",\"minorgridcolor\":\"white\",\"startlinecolor\":\"#2a3f5f\"},\"type\":\"carpet\"}],\"table\":[{\"cells\":{\"fill\":{\"color\":\"#EBF0F8\"},\"line\":{\"color\":\"white\"}},\"header\":{\"fill\":{\"color\":\"#C8D4E3\"},\"line\":{\"color\":\"white\"}},\"type\":\"table\"}],\"barpolar\":[{\"marker\":{\"line\":{\"color\":\"#E5ECF6\",\"width\":0.5},\"pattern\":{\"fillmode\":\"overlay\",\"size\":10,\"solidity\":0.2}},\"type\":\"barpolar\"}],\"pie\":[{\"automargin\":true,\"type\":\"pie\"}]},\"layout\":{\"autotypenumbers\":\"strict\",\"colorway\":[\"#636efa\",\"#EF553B\",\"#00cc96\",\"#ab63fa\",\"#FFA15A\",\"#19d3f3\",\"#FF6692\",\"#B6E880\",\"#FF97FF\",\"#FECB52\"],\"font\":{\"color\":\"#2a3f5f\"},\"hovermode\":\"closest\",\"hoverlabel\":{\"align\":\"left\"},\"paper_bgcolor\":\"white\",\"plot_bgcolor\":\"#E5ECF6\",\"polar\":{\"bgcolor\":\"#E5ECF6\",\"angularaxis\":{\"gridcolor\":\"white\",\"linecolor\":\"white\",\"ticks\":\"\"},\"radialaxis\":{\"gridcolor\":\"white\",\"linecolor\":\"white\",\"ticks\":\"\"}},\"ternary\":{\"bgcolor\":\"#E5ECF6\",\"aaxis\":{\"gridcolor\":\"white\",\"linecolor\":\"white\",\"ticks\":\"\"},\"baxis\":{\"gridcolor\":\"white\",\"linecolor\":\"white\",\"ticks\":\"\"},\"caxis\":{\"gridcolor\":\"white\",\"linecolor\":\"white\",\"ticks\":\"\"}},\"coloraxis\":{\"colorbar\":{\"outlinewidth\":0,\"ticks\":\"\"}},\"colorscale\":{\"sequential\":[[0.0,\"#0d0887\"],[0.1111111111111111,\"#46039f\"],[0.2222222222222222,\"#7201a8\"],[0.3333333333333333,\"#9c179e\"],[0.4444444444444444,\"#bd3786\"],[0.5555555555555556,\"#d8576b\"],[0.6666666666666666,\"#ed7953\"],[0.7777777777777778,\"#fb9f3a\"],[0.8888888888888888,\"#fdca26\"],[1.0,\"#f0f921\"]],\"sequentialminus\":[[0.0,\"#0d0887\"],[0.1111111111111111,\"#46039f\"],[0.2222222222222222,\"#7201a8\"],[0.3333333333333333,\"#9c179e\"],[0.4444444444444444,\"#bd3786\"],[0.5555555555555556,\"#d8576b\"],[0.6666666666666666,\"#ed7953\"],[0.7777777777777778,\"#fb9f3a\"],[0.8888888888888888,\"#fdca26\"],[1.0,\"#f0f921\"]],\"diverging\":[[0,\"#8e0152\"],[0.1,\"#c51b7d\"],[0.2,\"#de77ae\"],[0.3,\"#f1b6da\"],[0.4,\"#fde0ef\"],[0.5,\"#f7f7f7\"],[0.6,\"#e6f5d0\"],[0.7,\"#b8e186\"],[0.8,\"#7fbc41\"],[0.9,\"#4d9221\"],[1,\"#276419\"]]},\"xaxis\":{\"gridcolor\":\"white\",\"linecolor\":\"white\",\"ticks\":\"\",\"title\":{\"standoff\":15},\"zerolinecolor\":\"white\",\"automargin\":true,\"zerolinewidth\":2},\"yaxis\":{\"gridcolor\":\"white\",\"linecolor\":\"white\",\"ticks\":\"\",\"title\":{\"standoff\":15},\"zerolinecolor\":\"white\",\"automargin\":true,\"zerolinewidth\":2},\"scene\":{\"xaxis\":{\"backgroundcolor\":\"#E5ECF6\",\"gridcolor\":\"white\",\"linecolor\":\"white\",\"showbackground\":true,\"ticks\":\"\",\"zerolinecolor\":\"white\",\"gridwidth\":2},\"yaxis\":{\"backgroundcolor\":\"#E5ECF6\",\"gridcolor\":\"white\",\"linecolor\":\"white\",\"showbackground\":true,\"ticks\":\"\",\"zerolinecolor\":\"white\",\"gridwidth\":2},\"zaxis\":{\"backgroundcolor\":\"#E5ECF6\",\"gridcolor\":\"white\",\"linecolor\":\"white\",\"showbackground\":true,\"ticks\":\"\",\"zerolinecolor\":\"white\",\"gridwidth\":2}},\"shapedefaults\":{\"line\":{\"color\":\"#2a3f5f\"}},\"annotationdefaults\":{\"arrowcolor\":\"#2a3f5f\",\"arrowhead\":0,\"arrowwidth\":1},\"geo\":{\"bgcolor\":\"white\",\"landcolor\":\"#E5ECF6\",\"subunitcolor\":\"white\",\"showland\":true,\"showlakes\":true,\"lakecolor\":\"white\"},\"title\":{\"x\":0.05},\"mapbox\":{\"style\":\"light\"}}},\"xaxis\":{\"title\":{\"text\":\"Partia\"},\"tickangle\":-45},\"yaxis\":{\"title\":{\"text\":\"Liczba mandatów\"},\"range\":[0,85.0]},\"title\":{\"text\":\"Liczba mandatów dla partii w Senatu wg roku\"},\"sliders\":[{\"active\":0,\"pad\":{\"t\":50},\"steps\":[{\"args\":[[\"1991\"],{\"mode\":\"immediate\",\"frame\":{\"duration\":500,\"redraw\":true},\"transition\":{\"duration\":300}}],\"label\":\"1991\",\"method\":\"animate\"},{\"args\":[[\"1995\"],{\"mode\":\"immediate\",\"frame\":{\"duration\":500,\"redraw\":true},\"transition\":{\"duration\":300}}],\"label\":\"1995\",\"method\":\"animate\"},{\"args\":[[\"1997\"],{\"mode\":\"immediate\",\"frame\":{\"duration\":500,\"redraw\":true},\"transition\":{\"duration\":300}}],\"label\":\"1997\",\"method\":\"animate\"},{\"args\":[[\"2001\"],{\"mode\":\"immediate\",\"frame\":{\"duration\":500,\"redraw\":true},\"transition\":{\"duration\":300}}],\"label\":\"2001\",\"method\":\"animate\"},{\"args\":[[\"2005\"],{\"mode\":\"immediate\",\"frame\":{\"duration\":500,\"redraw\":true},\"transition\":{\"duration\":300}}],\"label\":\"2005\",\"method\":\"animate\"},{\"args\":[[\"2007\"],{\"mode\":\"immediate\",\"frame\":{\"duration\":500,\"redraw\":true},\"transition\":{\"duration\":300}}],\"label\":\"2007\",\"method\":\"animate\"},{\"args\":[[\"2011\"],{\"mode\":\"immediate\",\"frame\":{\"duration\":500,\"redraw\":true},\"transition\":{\"duration\":300}}],\"label\":\"2011\",\"method\":\"animate\"},{\"args\":[[\"2015\"],{\"mode\":\"immediate\",\"frame\":{\"duration\":500,\"redraw\":true},\"transition\":{\"duration\":300}}],\"label\":\"2015\",\"method\":\"animate\"},{\"args\":[[\"2019\"],{\"mode\":\"immediate\",\"frame\":{\"duration\":500,\"redraw\":true},\"transition\":{\"duration\":300}}],\"label\":\"2019\",\"method\":\"animate\"},{\"args\":[[\"2023\"],{\"mode\":\"immediate\",\"frame\":{\"duration\":500,\"redraw\":true},\"transition\":{\"duration\":300}}],\"label\":\"2023\",\"method\":\"animate\"}]}],\"updatemenus\":[{\"buttons\":[{\"args\":[null,{\"frame\":{\"duration\":1000,\"redraw\":true},\"fromcurrent\":true,\"transition\":{\"duration\":500}}],\"label\":\"Start\",\"method\":\"animate\"},{\"args\":[[null],{\"frame\":{\"duration\":0,\"redraw\":false},\"mode\":\"immediate\",\"transition\":{\"duration\":0}}],\"label\":\"Stop\",\"method\":\"animate\"}],\"type\":\"buttons\"}],\"showlegend\":false},                        {\"responsive\": true}                    ).then(function(){\n",
       "                            Plotly.addFrames('92e966c7-e8c0-4e1d-bf24-b044a4e536bf', [{\"data\":[{\"marker\":{\"color\":[\"hsl(0.0, 70%, 50%)\",\"hsl(4.675324675324675, 70%, 50%)\",\"hsl(9.35064935064935, 70%, 50%)\",\"hsl(14.025974025974026, 70%, 50%)\",\"hsl(18.7012987012987, 70%, 50%)\",\"hsl(23.376623376623378, 70%, 50%)\",\"hsl(28.051948051948052, 70%, 50%)\",\"hsl(32.72727272727273, 70%, 50%)\",\"hsl(37.4025974025974, 70%, 50%)\",\"hsl(42.077922077922075, 70%, 50%)\",\"hsl(46.753246753246756, 70%, 50%)\",\"hsl(51.42857142857143, 70%, 50%)\",\"hsl(56.103896103896105, 70%, 50%)\",\"hsl(60.77922077922078, 70%, 50%)\",\"hsl(65.45454545454545, 70%, 50%)\",\"hsl(70.12987012987013, 70%, 50%)\",\"hsl(74.8051948051948, 70%, 50%)\",\"hsl(79.48051948051948, 70%, 50%)\",\"hsl(84.15584415584415, 70%, 50%)\",\"hsl(88.83116883116882, 70%, 50%)\",\"hsl(93.50649350649351, 70%, 50%)\",\"hsl(98.18181818181819, 70%, 50%)\",\"hsl(102.85714285714286, 70%, 50%)\",\"hsl(107.53246753246754, 70%, 50%)\",\"hsl(112.20779220779221, 70%, 50%)\",\"hsl(116.88311688311688, 70%, 50%)\",\"hsl(121.55844155844156, 70%, 50%)\",\"hsl(126.23376623376623, 70%, 50%)\"]},\"text\":[21.0,11.0,9.0,9.0,8.0,7.0,6.0,4.0,4.0,3.0,1.0,1.0,1.0,1.0,1.0,1.0,1.0,1.0,1.0,1.0,1.0,1.0,1.0,1.0,1.0,1.0,1.0,1.0],\"textposition\":\"outside\",\"x\":[\"Unia Demokratyczna\",\"Niezależny Samorzšdny Zwišzek Zawodowy \\\"Solidarność\\\"\",\"Porozumienie Obywatelskie Centrum\",\"Wyborcza Akcja Katolicka\",\"Polskie Stronnictwo Ludowe\",\"Porozumienie Ludowe\",\"Kongres Liberalno-Demokratyczny\",\"Sojusz Lewicy Demokratycznej\",\"Konfederacja Polski Niepodległej\",\"Partia Chrześcijańskich Demokratów\",\"Chrześcijańska Demokracja\",\"Zrzeszenie Kaszubsko-Pomorskie\",\"Inicjatywa na rzecz Łodzi\",\"Ludowe Porozumienie Wyborcze Piast\",\"Konfederacja Komitetów Obywatelskich\",\"Mniejszość Niemiecka\",\"Stronnictwo Narodowo-Demokratyczne\",\"Zbigniew Romaszewski\",\"Regionalne Forum Wyborcze\",\"Klub Inteligencji Katolickiej\",\"Krzysztof Horodecki\",\"Henryk Stokłosa\",\"Jerzy Madej\",\"Niezależny\",\"Unia Wielkopolan\",\"\\\"Kandydat Niezależny\\\"\",\"Komitet Obywatelski \\\"Solidarność\\\"\",\"Regionowi i Polsce\"],\"y\":[21.0,11.0,9.0,9.0,8.0,7.0,6.0,4.0,4.0,3.0,1.0,1.0,1.0,1.0,1.0,1.0,1.0,1.0,1.0,1.0,1.0,1.0,1.0,1.0,1.0,1.0,1.0,1.0],\"type\":\"bar\"}],\"name\":\"1991\"},{\"data\":[{\"marker\":{\"color\":[\"hsl(32.72727272727273, 70%, 50%)\",\"hsl(18.7012987012987, 70%, 50%)\",\"hsl(4.675324675324675, 70%, 50%)\",\"hsl(0.0, 70%, 50%)\",\"hsl(130.9090909090909, 70%, 50%)\",\"hsl(135.58441558441558, 70%, 50%)\",\"hsl(28.051948051948052, 70%, 50%)\",\"hsl(140.25974025974025, 70%, 50%)\",\"hsl(144.93506493506493, 70%, 50%)\",\"hsl(70.12987012987013, 70%, 50%)\",\"hsl(149.6103896103896, 70%, 50%)\",\"hsl(154.28571428571428, 70%, 50%)\",\"hsl(98.18181818181819, 70%, 50%)\",\"hsl(158.96103896103895, 70%, 50%)\",\"hsl(163.63636363636363, 70%, 50%)\",\"hsl(102.85714285714286, 70%, 50%)\"]},\"text\":[37.0,36.0,9.0,4.0,2.0,2.0,1.0,1.0,1.0,1.0,1.0,1.0,1.0,1.0,1.0,1.0],\"textposition\":\"outside\",\"x\":[\"Sojusz Lewicy Demokratycznej\",\"Polskie Stronnictwo Ludowe\",\"Niezależny Samorzšdny Zwišzek Zawodowy \\\"Solidarność\\\"\",\"Unia Demokratyczna\",\"Bezpartyjny Blok Wspierania Reform\",\"Unia Pracy\",\"Kongres Liberalno-Demokratyczny\",\"\\\"Zjednoczenie Polskie\\\"\",\"Polskie Stronnictwo Ludowe - Porozumienie Ludowe\",\"Mniejszość Niemiecka\",\"Aleksander Gawronik\",\"Klub Inteligencji Katolickiej w Białymstoku oraz Stowarzyszenie Rodzin Katolickich Archidiecezji Białostockiej\",\"Henryk Stokłosa\",\"SOLSKA\",\"Niezależny Samorzšdowy Zwišzek Zawodowy  Rolników Indywidualnych \\\"Solidarność\\\"\",\"Jerzy Madej\"],\"y\":[37.0,36.0,9.0,4.0,2.0,2.0,1.0,1.0,1.0,1.0,1.0,1.0,1.0,1.0,1.0,1.0],\"type\":\"bar\"}],\"name\":\"1995\"},{\"data\":[{\"marker\":{\"color\":[\"hsl(168.3116883116883, 70%, 50%)\",\"hsl(32.72727272727273, 70%, 50%)\",\"hsl(172.98701298701297, 70%, 50%)\",\"hsl(177.66233766233765, 70%, 50%)\",\"hsl(18.7012987012987, 70%, 50%)\",\"hsl(182.33766233766235, 70%, 50%)\",\"hsl(187.01298701298703, 70%, 50%)\",\"hsl(191.6883116883117, 70%, 50%)\",\"hsl(98.18181818181819, 70%, 50%)\",\"hsl(196.36363636363637, 70%, 50%)\"]},\"text\":[51.0,28.0,8.0,5.0,3.0,1.0,1.0,1.0,1.0,1.0],\"textposition\":\"outside\",\"x\":[\"Akcja Wyborcza Solidarność\",\"Sojusz Lewicy Demokratycznej\",\"Unia Wolności\",\"Ruch Obudowy Polski\",\"Polskie Stronnictwo Ludowe\",\"Bogdan Zdrojewski\",\"Profesor Leon Kieres\",\"Marian Jurczyk\",\"Henryk Stokłosa\",\"Jadwiga Stokarska\"],\"y\":[51.0,28.0,8.0,5.0,3.0,1.0,1.0,1.0,1.0,1.0],\"type\":\"bar\"}],\"name\":\"1997\"},{\"data\":[{\"marker\":{\"color\":[\"hsl(201.03896103896105, 70%, 50%)\",\"hsl(205.71428571428572, 70%, 50%)\",\"hsl(18.7012987012987, 70%, 50%)\",\"hsl(210.3896103896104, 70%, 50%)\",\"hsl(215.06493506493507, 70%, 50%)\",\"hsl(219.74025974025975, 70%, 50%)\",\"hsl(98.18181818181819, 70%, 50%)\"]},\"text\":[75.0,15.0,4.0,2.0,2.0,1.0,1.0],\"textposition\":\"outside\",\"x\":[\"Sojusz Lewicy Demokratycznej - Unia Pracy\",\"Blok Senat 2001\",\"Polskie Stronnictwo Ludowe\",\"Samoobrona\",\"Liga Polskich Rodzin\",\"Lech Kaczyński\",\"Henryk Stokłosa\"],\"y\":[75.0,15.0,4.0,2.0,2.0,1.0,1.0],\"type\":\"bar\"}],\"name\":\"2001\"},{\"data\":[{\"marker\":{\"color\":[\"hsl(224.41558441558442, 70%, 50%)\",\"hsl(229.0909090909091, 70%, 50%)\",\"hsl(215.06493506493507, 70%, 50%)\",\"hsl(210.3896103896104, 70%, 50%)\",\"hsl(18.7012987012987, 70%, 50%)\",\"hsl(233.76623376623377, 70%, 50%)\",\"hsl(238.44155844155844, 70%, 50%)\",\"hsl(243.11688311688312, 70%, 50%)\",\"hsl(247.7922077922078, 70%, 50%)\",\"hsl(252.46753246753246, 70%, 50%)\"]},\"text\":[49.0,34.0,7.0,3.0,2.0,1.0,1.0,1.0,1.0,1.0],\"textposition\":\"outside\",\"x\":[\"Prawo i Sprawiedliwość\",\"Platforma Obywatelska\",\"Liga Polskich Rodzin\",\"Samoobrona\",\"Polskie Stronnictwo Ludowe\",\"Maciej Płażyński\",\"Kazimierz Julian Kutz\",\"Bogdan Borusewicz\",\"Nowy Senat 2005\",\"Marian Miłek\"],\"y\":[49.0,34.0,7.0,3.0,2.0,1.0,1.0,1.0,1.0,1.0],\"type\":\"bar\"}],\"name\":\"2005\"},{\"data\":[{\"marker\":{\"color\":[\"hsl(229.0909090909091, 70%, 50%)\",\"hsl(224.41558441558442, 70%, 50%)\",\"hsl(257.14285714285717, 70%, 50%)\"]},\"text\":[60.0,39.0,1.0],\"textposition\":\"outside\",\"x\":[\"Platforma Obywatelska\",\"Prawo i Sprawiedliwość\",\"Cimosiewicz do Senatu\"],\"y\":[60.0,39.0,1.0],\"type\":\"bar\"}],\"name\":\"2007\"},{\"data\":[{\"marker\":{\"color\":[\"hsl(229.0909090909091, 70%, 50%)\",\"hsl(224.41558441558442, 70%, 50%)\",\"hsl(18.7012987012987, 70%, 50%)\",\"hsl(261.8181818181818, 70%, 50%)\",\"hsl(266.4935064935065, 70%, 50%)\",\"hsl(271.16883116883116, 70%, 50%)\",\"hsl(275.84415584415586, 70%, 50%)\"]},\"text\":[63.0,31.0,2.0,1.0,1.0,1.0,1.0],\"textposition\":\"outside\",\"x\":[\"Platforma Obywatelska\",\"Prawo i Sprawiedliwość\",\"Polskie Stronnictwo Ludowe\",\"Rafał Dutkiewicz\",\"Marek Borowski\",\"Kaziemierz Kutz\",\"Cimoszewicz do Senatu\"],\"y\":[63.0,31.0,2.0,1.0,1.0,1.0,1.0],\"type\":\"bar\"}],\"name\":\"2011\"},{\"data\":[{\"marker\":{\"color\":[\"hsl(224.41558441558442, 70%, 50%)\",\"hsl(229.0909090909091, 70%, 50%)\",\"hsl(18.7012987012987, 70%, 50%)\",\"hsl(266.4935064935065, 70%, 50%)\",\"hsl(280.5194805194805, 70%, 50%)\",\"hsl(285.1948051948052, 70%, 50%)\",\"hsl(289.87012987012986, 70%, 50%)\"]},\"text\":[61.0,34.0,1.0,1.0,1.0,1.0,1.0],\"textposition\":\"outside\",\"x\":[\"Prawo i Sprawiedliwość\",\"Platforma Obywatelska\",\"Polskie Stronnictwo Ludowe\",\"Marek Borowski\",\"Jarosław Obremski\",\"Lidia Staroń\",\"Grzegorz Bierecki\"],\"y\":[61.0,34.0,1.0,1.0,1.0,1.0,1.0],\"type\":\"bar\"}],\"name\":\"2015\"},{\"data\":[{\"marker\":{\"color\":[\"hsl(224.41558441558442, 70%, 50%)\",\"hsl(229.0909090909091, 70%, 50%)\",\"hsl(18.7012987012987, 70%, 50%)\",\"hsl(32.72727272727273, 70%, 50%)\",\"hsl(285.1948051948052, 70%, 50%)\",\"hsl(294.54545454545456, 70%, 50%)\",\"hsl(299.2207792207792, 70%, 50%)\",\"hsl(303.8961038961039, 70%, 50%)\"]},\"text\":[48.0,43.0,3.0,2.0,1.0,1.0,1.0,1.0],\"textposition\":\"outside\",\"x\":[\"Prawo i Sprawiedliwość\",\"Platforma Obywatelska\",\"Polskie Stronnictwo Ludowe\",\"Sojusz Lewicy Demokratycznej\",\"Lidia Staroń\",\"Krzysztof Kwiatkowski\",\"Wadim Tyszkiewicz\",\"Demokracja Obywatelska\"],\"y\":[48.0,43.0,3.0,2.0,1.0,1.0,1.0,1.0],\"type\":\"bar\"}],\"name\":\"2019\"},{\"data\":[{\"marker\":{\"color\":[\"hsl(308.57142857142856, 70%, 50%)\",\"hsl(224.41558441558442, 70%, 50%)\",\"hsl(313.24675324675326, 70%, 50%)\",\"hsl(317.9220779220779, 70%, 50%)\",\"hsl(322.5974025974026, 70%, 50%)\",\"hsl(294.54545454545456, 70%, 50%)\",\"hsl(299.2207792207792, 70%, 50%)\",\"hsl(327.27272727272725, 70%, 50%)\",\"hsl(331.94805194805195, 70%, 50%)\",\"hsl(336.6233766233766, 70%, 50%)\",\"hsl(341.2987012987013, 70%, 50%)\",\"hsl(345.97402597402595, 70%, 50%)\",\"hsl(350.64935064935065, 70%, 50%)\",\"hsl(355.3246753246753, 70%, 50%)\"]},\"text\":[41.0,34.0,11.0,9.0,1.0,1.0,1.0,1.0,1.0,null,null,null,null,null],\"textposition\":\"outside\",\"x\":[\"Koalicja Obywatelska\",\"Prawo i Sprawiedliwość\",\"Trzecia Droga\",\"Nowa Lewica\",\"Zygmunt Frankiewicz\",\"Krzysztof Kwiatkowski\",\"Wadim Tyszkiewicz\",\"Andrzej Dziuba\",\"Józef Zajšc\",\"Nowa Demokracja - Tak \",\"Zjednoczenie Chrześcijańskich Rodzin\",\"Porozumienie Obywatelskie\",\"Zwišzek Słowiański\",\"Zjednoczeni\"],\"y\":[41.0,34.0,11.0,9.0,1.0,1.0,1.0,1.0,1.0,null,null,null,null,null],\"type\":\"bar\"}],\"name\":\"2023\"}]);\n",
       "                        }).then(function(){\n",
       "                            \n",
       "var gd = document.getElementById('92e966c7-e8c0-4e1d-bf24-b044a4e536bf');\n",
       "var x = new MutationObserver(function (mutations, observer) {{\n",
       "        var display = window.getComputedStyle(gd).display;\n",
       "        if (!display || display === 'none') {{\n",
       "            console.log([gd, 'removed!']);\n",
       "            Plotly.purge(gd);\n",
       "            observer.disconnect();\n",
       "        }}\n",
       "}});\n",
       "\n",
       "// Listen for the removal of the full notebook cells\n",
       "var notebookContainer = gd.closest('#notebook-container');\n",
       "if (notebookContainer) {{\n",
       "    x.observe(notebookContainer, {childList: true});\n",
       "}}\n",
       "\n",
       "// Listen for the clearing of the current output cell\n",
       "var outputEl = gd.closest('.output');\n",
       "if (outputEl) {{\n",
       "    x.observe(outputEl, {childList: true});\n",
       "}}\n",
       "\n",
       "                        })                };                });            </script>        </div>"
      ]
     },
     "metadata": {},
     "output_type": "display_data"
    }
   ],
   "source": [
    "# Filtrowanie partii, które dostały się do Sejmu\n",
    "df_sejm = df[df[\"MANDATY TAK NIE\"] == \"Tak\"].copy()\n",
    "\n",
    "# Konwersja kolumny 'MANDATY ILOSC' na liczby (int lub float)\n",
    "df_sejm[\"MANDATY ILOSC\"] = pd.to_numeric(df_sejm[\"MANDATY ILOSC\"], errors='coerce')\n",
    "\n",
    "# Lista unikalnych lat i partii\n",
    "years = sorted(df_sejm[\"ROK\"].unique())\n",
    "partie = df_sejm[\"PARTIA\"].unique()\n",
    "\n",
    "# Kolory dla partii (opcjonalnie — przypisane ręcznie lub losowo)\n",
    "colors = {\n",
    "    partia: f\"hsl({i * 360 / len(partie)}, 70%, 50%)\"\n",
    "    for i, partia in enumerate(partie)\n",
    "}\n",
    "\n",
    "# Inicjalizacja figury\n",
    "fig = go.Figure()\n",
    "\n",
    "# Dodanie pierwszego roku jako domyślnego widoku\n",
    "initial_year = years[0]\n",
    "df_initial = df_sejm[df_sejm[\"ROK\"] == initial_year]\n",
    "\n",
    "fig.add_trace(go.Bar(\n",
    "    x=df_initial[\"PARTIA\"],\n",
    "    y=df_initial[\"MANDATY ILOSC\"],\n",
    "    marker_color=[colors[p] for p in df_initial[\"PARTIA\"]],\n",
    "    text=df_initial[\"MANDATY ILOSC\"],\n",
    "    textposition='outside',\n",
    "    name=str(initial_year)\n",
    "))\n",
    "\n",
    "# Przygotowanie ramek animacji\n",
    "frames = []\n",
    "steps = []\n",
    "\n",
    "for year in years:\n",
    "    df_year = df_sejm[df_sejm[\"ROK\"] == year]\n",
    "    frame = go.Frame(\n",
    "        data=[go.Bar(\n",
    "            x=df_year[\"PARTIA\"],\n",
    "            y=df_year[\"MANDATY ILOSC\"],\n",
    "            marker_color=[colors[p] for p in df_year[\"PARTIA\"]],\n",
    "            text=df_year[\"MANDATY ILOSC\"],\n",
    "            textposition='outside'\n",
    "        )],\n",
    "        name=str(year)\n",
    "    )\n",
    "    frames.append(frame)\n",
    "\n",
    "    step = dict(\n",
    "        method=\"animate\",\n",
    "        args=[[str(year)], {\n",
    "            \"mode\": \"immediate\",\n",
    "            \"frame\": {\"duration\": 500, \"redraw\": True},\n",
    "            \"transition\": {\"duration\": 300}\n",
    "        }],\n",
    "        label=str(year)\n",
    "    )\n",
    "    steps.append(step)\n",
    "\n",
    "# Dodanie ramek animacji do figury\n",
    "fig.frames = frames\n",
    "\n",
    "# Layout wykresu\n",
    "fig.update_layout(\n",
    "    title=\"Liczba mandatów dla partii w Senatu wg roku\",\n",
    "    xaxis_title=\"Partia\",\n",
    "    yaxis_title=\"Liczba mandatów\",\n",
    "    xaxis_tickangle=-45,\n",
    "    yaxis=dict(range=[0, df_sejm[\"MANDATY ILOSC\"].max() + 10]),\n",
    "    sliders=[{\n",
    "        \"active\": 0,\n",
    "        \"pad\": {\"t\": 50},\n",
    "        \"steps\": steps\n",
    "    }],\n",
    "    updatemenus=[{\n",
    "        \"type\": \"buttons\",\n",
    "        \"buttons\": [\n",
    "            {\"label\": \"Start\", \"method\": \"animate\", \"args\": [None, {\n",
    "                \"frame\": {\"duration\": 1000, \"redraw\": True},\n",
    "                \"fromcurrent\": True,\n",
    "                \"transition\": {\"duration\": 500}\n",
    "            }]},\n",
    "            {\"label\": \"Stop\", \"method\": \"animate\", \"args\": [[None], {\n",
    "                \"frame\": {\"duration\": 0, \"redraw\": False},\n",
    "                \"mode\": \"immediate\",\n",
    "                \"transition\": {\"duration\": 0}\n",
    "            }]}\n",
    "        ]\n",
    "    }],\n",
    "    showlegend=False\n",
    ")\n",
    "\n",
    "fig.show()"
   ]
  },
  {
   "cell_type": "markdown",
   "metadata": {
    "editable": true,
    "slideshow": {
     "slide_type": "fragment"
    },
    "tags": []
   },
   "source": [
    "### Rekord posiadanych mandatów należy do SLD-UP w latach 2001-2005 (75 mandatów). Najdłużej w Senacie była partia: Polskie Stronnictwo Ludowe bo aż 8 kadencji. Od 2001 roku w Senacie obecne są dwie największe partie polityczne: Platforma Obywatelska oraz Prawo i Sprawiedliwość. Najwięcej partii było w Senacie w latach 1991-1993 bo aż 28 partii i koitetów wyborczych. A najmniej w 2007-2011 (3 partii/komitety). Od 2007 do 2023 roku w Senacie rządziły praktycznie tylko dwie partie: PO oraz PIS. "
   ]
  },
  {
   "cell_type": "code",
   "execution_count": 88,
   "metadata": {
    "editable": true,
    "jupyter": {
     "source_hidden": true
    },
    "slideshow": {
     "slide_type": "slide"
    },
    "tags": []
   },
   "outputs": [
    {
     "data": {
      "application/vnd.plotly.v1+json": {
       "config": {
        "plotlyServerURL": "https://plot.ly"
       },
       "data": [
        {
         "marker": {
          "color": [
           "hsl(0.0, 70%, 50%)",
           "hsl(4.675324675324675, 70%, 50%)",
           "hsl(9.35064935064935, 70%, 50%)",
           "hsl(14.025974025974026, 70%, 50%)",
           "hsl(18.7012987012987, 70%, 50%)",
           "hsl(23.376623376623378, 70%, 50%)",
           "hsl(28.051948051948052, 70%, 50%)",
           "hsl(32.72727272727273, 70%, 50%)",
           "hsl(37.4025974025974, 70%, 50%)",
           "hsl(42.077922077922075, 70%, 50%)",
           "hsl(46.753246753246756, 70%, 50%)",
           "hsl(51.42857142857143, 70%, 50%)",
           "hsl(56.103896103896105, 70%, 50%)",
           "hsl(60.77922077922078, 70%, 50%)",
           "hsl(65.45454545454545, 70%, 50%)",
           "hsl(70.12987012987013, 70%, 50%)",
           "hsl(74.8051948051948, 70%, 50%)",
           "hsl(79.48051948051948, 70%, 50%)",
           "hsl(84.15584415584415, 70%, 50%)",
           "hsl(88.83116883116882, 70%, 50%)",
           "hsl(93.50649350649351, 70%, 50%)",
           "hsl(98.18181818181819, 70%, 50%)",
           "hsl(102.85714285714286, 70%, 50%)",
           "hsl(107.53246753246754, 70%, 50%)",
           "hsl(112.20779220779221, 70%, 50%)",
           "hsl(116.88311688311688, 70%, 50%)",
           "hsl(121.55844155844156, 70%, 50%)",
           "hsl(126.23376623376623, 70%, 50%)"
          ]
         },
         "name": "1991",
         "text": [
          16.42,
          9.68,
          9.04,
          8.78,
          7.5,
          3.87,
          6.53,
          10.61,
          4.67,
          2.22,
          1.17,
          0.68,
          0.5,
          0.4,
          0.4,
          0.36,
          0.31,
          0.28,
          0.27,
          0.26,
          0.23,
          0.2,
          0.19,
          0.17,
          0.16,
          0.15,
          0.1,
          0.09
         ],
         "textposition": "outside",
         "type": "bar",
         "x": [
          "Unia Demokratyczna",
          "Niezależny Samorzšdny Zwišzek Zawodowy \"Solidarność\"",
          "Porozumienie Obywatelskie Centrum",
          "Wyborcza Akcja Katolicka",
          "Polskie Stronnictwo Ludowe",
          "Porozumienie Ludowe",
          "Kongres Liberalno-Demokratyczny",
          "Sojusz Lewicy Demokratycznej",
          "Konfederacja Polski Niepodległej",
          "Partia Chrześcijańskich Demokratów",
          "Chrześcijańska Demokracja",
          "Zrzeszenie Kaszubsko-Pomorskie",
          "Inicjatywa na rzecz Łodzi",
          "Ludowe Porozumienie Wyborcze Piast",
          "Konfederacja Komitetów Obywatelskich",
          "Mniejszość Niemiecka",
          "Stronnictwo Narodowo-Demokratyczne",
          "Zbigniew Romaszewski",
          "Regionalne Forum Wyborcze",
          "Klub Inteligencji Katolickiej",
          "Krzysztof Horodecki",
          "Henryk Stokłosa",
          "Jerzy Madej",
          "Niezależny",
          "Unia Wielkopolan",
          "\"Kandydat Niezależny\"",
          "Komitet Obywatelski \"Solidarność\"",
          "Regionowi i Polsce"
         ],
         "y": [
          16.42,
          9.68,
          9.04,
          8.78,
          7.5,
          3.87,
          6.53,
          10.61,
          4.67,
          2.22,
          1.17,
          0.68,
          0.5,
          0.4,
          0.4,
          0.36,
          0.31,
          0.28,
          0.27,
          0.26,
          0.23,
          0.2,
          0.19,
          0.17,
          0.16,
          0.15,
          0.1,
          0.09
         ]
        }
       ],
       "frames": [
        {
         "data": [
          {
           "marker": {
            "color": [
             "hsl(0.0, 70%, 50%)",
             "hsl(4.675324675324675, 70%, 50%)",
             "hsl(9.35064935064935, 70%, 50%)",
             "hsl(14.025974025974026, 70%, 50%)",
             "hsl(18.7012987012987, 70%, 50%)",
             "hsl(23.376623376623378, 70%, 50%)",
             "hsl(28.051948051948052, 70%, 50%)",
             "hsl(32.72727272727273, 70%, 50%)",
             "hsl(37.4025974025974, 70%, 50%)",
             "hsl(42.077922077922075, 70%, 50%)",
             "hsl(46.753246753246756, 70%, 50%)",
             "hsl(51.42857142857143, 70%, 50%)",
             "hsl(56.103896103896105, 70%, 50%)",
             "hsl(60.77922077922078, 70%, 50%)",
             "hsl(65.45454545454545, 70%, 50%)",
             "hsl(70.12987012987013, 70%, 50%)",
             "hsl(74.8051948051948, 70%, 50%)",
             "hsl(79.48051948051948, 70%, 50%)",
             "hsl(84.15584415584415, 70%, 50%)",
             "hsl(88.83116883116882, 70%, 50%)",
             "hsl(93.50649350649351, 70%, 50%)",
             "hsl(98.18181818181819, 70%, 50%)",
             "hsl(102.85714285714286, 70%, 50%)",
             "hsl(107.53246753246754, 70%, 50%)",
             "hsl(112.20779220779221, 70%, 50%)",
             "hsl(116.88311688311688, 70%, 50%)",
             "hsl(121.55844155844156, 70%, 50%)",
             "hsl(126.23376623376623, 70%, 50%)"
            ]
           },
           "text": [
            16.42,
            9.68,
            9.04,
            8.78,
            7.5,
            3.87,
            6.53,
            10.61,
            4.67,
            2.22,
            1.17,
            0.68,
            0.5,
            0.4,
            0.4,
            0.36,
            0.31,
            0.28,
            0.27,
            0.26,
            0.23,
            0.2,
            0.19,
            0.17,
            0.16,
            0.15,
            0.1,
            0.09
           ],
           "textposition": "outside",
           "type": "bar",
           "x": [
            "Unia Demokratyczna",
            "Niezależny Samorzšdny Zwišzek Zawodowy \"Solidarność\"",
            "Porozumienie Obywatelskie Centrum",
            "Wyborcza Akcja Katolicka",
            "Polskie Stronnictwo Ludowe",
            "Porozumienie Ludowe",
            "Kongres Liberalno-Demokratyczny",
            "Sojusz Lewicy Demokratycznej",
            "Konfederacja Polski Niepodległej",
            "Partia Chrześcijańskich Demokratów",
            "Chrześcijańska Demokracja",
            "Zrzeszenie Kaszubsko-Pomorskie",
            "Inicjatywa na rzecz Łodzi",
            "Ludowe Porozumienie Wyborcze Piast",
            "Konfederacja Komitetów Obywatelskich",
            "Mniejszość Niemiecka",
            "Stronnictwo Narodowo-Demokratyczne",
            "Zbigniew Romaszewski",
            "Regionalne Forum Wyborcze",
            "Klub Inteligencji Katolickiej",
            "Krzysztof Horodecki",
            "Henryk Stokłosa",
            "Jerzy Madej",
            "Niezależny",
            "Unia Wielkopolan",
            "\"Kandydat Niezależny\"",
            "Komitet Obywatelski \"Solidarność\"",
            "Regionowi i Polsce"
           ],
           "y": [
            16.42,
            9.68,
            9.04,
            8.78,
            7.5,
            3.87,
            6.53,
            10.61,
            4.67,
            2.22,
            1.17,
            0.68,
            0.5,
            0.4,
            0.4,
            0.36,
            0.31,
            0.28,
            0.27,
            0.26,
            0.23,
            0.2,
            0.19,
            0.17,
            0.16,
            0.15,
            0.1,
            0.09
           ]
          }
         ],
         "name": "1991"
        },
        {
         "data": [
          {
           "marker": {
            "color": [
             "hsl(32.72727272727273, 70%, 50%)",
             "hsl(18.7012987012987, 70%, 50%)",
             "hsl(4.675324675324675, 70%, 50%)",
             "hsl(0.0, 70%, 50%)",
             "hsl(130.9090909090909, 70%, 50%)",
             "hsl(135.58441558441558, 70%, 50%)",
             "hsl(28.051948051948052, 70%, 50%)",
             "hsl(140.25974025974025, 70%, 50%)",
             "hsl(144.93506493506493, 70%, 50%)",
             "hsl(70.12987012987013, 70%, 50%)",
             "hsl(149.6103896103896, 70%, 50%)",
             "hsl(154.28571428571428, 70%, 50%)",
             "hsl(98.18181818181819, 70%, 50%)",
             "hsl(158.96103896103895, 70%, 50%)",
             "hsl(163.63636363636363, 70%, 50%)",
             "hsl(102.85714285714286, 70%, 50%)"
            ]
           },
           "text": [
            18.45,
            11.74,
            9.29,
            11.12,
            8.04,
            4.11,
            4.09,
            2.23,
            1.05,
            0.46,
            0.45,
            0.37,
            0.31,
            0.28,
            0.22,
            0.16
           ],
           "textposition": "outside",
           "type": "bar",
           "x": [
            "Sojusz Lewicy Demokratycznej",
            "Polskie Stronnictwo Ludowe",
            "Niezależny Samorzšdny Zwišzek Zawodowy \"Solidarność\"",
            "Unia Demokratyczna",
            "Bezpartyjny Blok Wspierania Reform",
            "Unia Pracy",
            "Kongres Liberalno-Demokratyczny",
            "\"Zjednoczenie Polskie\"",
            "Polskie Stronnictwo Ludowe - Porozumienie Ludowe",
            "Mniejszość Niemiecka",
            "Aleksander Gawronik",
            "Klub Inteligencji Katolickiej w Białymstoku oraz Stowarzyszenie Rodzin Katolickich Archidiecezji Białostockiej",
            "Henryk Stokłosa",
            "SOLSKA",
            "Niezależny Samorzšdowy Zwišzek Zawodowy  Rolników Indywidualnych \"Solidarność\"",
            "Jerzy Madej"
           ],
           "y": [
            18.45,
            11.74,
            9.29,
            11.12,
            8.04,
            4.11,
            4.09,
            2.23,
            1.05,
            0.46,
            0.45,
            0.37,
            0.31,
            0.28,
            0.22,
            0.16
           ]
          }
         ],
         "name": "1995"
        },
        {
         "data": [
          {
           "marker": {
            "color": [
             "hsl(168.3116883116883, 70%, 50%)",
             "hsl(32.72727272727273, 70%, 50%)",
             "hsl(172.98701298701297, 70%, 50%)",
             "hsl(177.66233766233765, 70%, 50%)",
             "hsl(18.7012987012987, 70%, 50%)",
             "hsl(182.33766233766235, 70%, 50%)",
             "hsl(187.01298701298703, 70%, 50%)",
             "hsl(191.6883116883117, 70%, 50%)",
             "hsl(98.18181818181819, 70%, 50%)",
             "hsl(196.36363636363637, 70%, 50%)"
            ]
           },
           "text": [
            25.26,
            23.54,
            11.2,
            9.84,
            6.96,
            0.93,
            0.53,
            0.48,
            0.22,
            0.12
           ],
           "textposition": "outside",
           "type": "bar",
           "x": [
            "Akcja Wyborcza Solidarność",
            "Sojusz Lewicy Demokratycznej",
            "Unia Wolności",
            "Ruch Obudowy Polski",
            "Polskie Stronnictwo Ludowe",
            "Bogdan Zdrojewski",
            "Profesor Leon Kieres",
            "Marian Jurczyk",
            "Henryk Stokłosa",
            "Jadwiga Stokarska"
           ],
           "y": [
            25.26,
            23.54,
            11.2,
            9.84,
            6.96,
            0.93,
            0.53,
            0.48,
            0.22,
            0.12
           ]
          }
         ],
         "name": "1997"
        },
        {
         "data": [
          {
           "marker": {
            "color": [
             "hsl(201.03896103896105, 70%, 50%)",
             "hsl(205.71428571428572, 70%, 50%)",
             "hsl(18.7012987012987, 70%, 50%)",
             "hsl(210.3896103896104, 70%, 50%)",
             "hsl(215.06493506493507, 70%, 50%)",
             "hsl(219.74025974025975, 70%, 50%)",
             "hsl(98.18181818181819, 70%, 50%)"
            ]
           },
           "text": [
            38.91,
            24.42,
            13.21,
            4.28,
            4.05,
            0.53,
            0.42
           ],
           "textposition": "outside",
           "type": "bar",
           "x": [
            "Sojusz Lewicy Demokratycznej - Unia Pracy",
            "Blok Senat 2001",
            "Polskie Stronnictwo Ludowe",
            "Samoobrona",
            "Liga Polskich Rodzin",
            "Lech Kaczyński",
            "Henryk Stokłosa"
           ],
           "y": [
            38.91,
            24.42,
            13.21,
            4.28,
            4.05,
            0.53,
            0.42
           ]
          }
         ],
         "name": "2001"
        },
        {
         "data": [
          {
           "marker": {
            "color": [
             "hsl(224.41558441558442, 70%, 50%)",
             "hsl(229.0909090909091, 70%, 50%)",
             "hsl(215.06493506493507, 70%, 50%)",
             "hsl(210.3896103896104, 70%, 50%)",
             "hsl(18.7012987012987, 70%, 50%)",
             "hsl(233.76623376623377, 70%, 50%)",
             "hsl(238.44155844155844, 70%, 50%)",
             "hsl(243.11688311688312, 70%, 50%)",
             "hsl(247.7922077922078, 70%, 50%)",
             "hsl(252.46753246753246, 70%, 50%)"
            ]
           },
           "text": [
            20.76,
            16.88,
            12.37,
            8.34,
            5.85,
            0.62,
            0.46,
            0.42,
            0.19,
            0.19
           ],
           "textposition": "outside",
           "type": "bar",
           "x": [
            "Prawo i Sprawiedliwość",
            "Platforma Obywatelska",
            "Liga Polskich Rodzin",
            "Samoobrona",
            "Polskie Stronnictwo Ludowe",
            "Maciej Płażyński",
            "Kazimierz Julian Kutz",
            "Bogdan Borusewicz",
            "Nowy Senat 2005",
            "Marian Miłek"
           ],
           "y": [
            20.76,
            16.88,
            12.37,
            8.34,
            5.85,
            0.62,
            0.46,
            0.42,
            0.19,
            0.19
           ]
          }
         ],
         "name": "2005"
        },
        {
         "data": [
          {
           "marker": {
            "color": [
             "hsl(229.0909090909091, 70%, 50%)",
             "hsl(224.41558441558442, 70%, 50%)",
             "hsl(257.14285714285717, 70%, 50%)"
            ]
           },
           "text": [
            39.14,
            31.38,
            0.54
           ],
           "textposition": "outside",
           "type": "bar",
           "x": [
            "Platforma Obywatelska",
            "Prawo i Sprawiedliwość",
            "Cimosiewicz do Senatu"
           ],
           "y": [
            39.14,
            31.38,
            0.54
           ]
          }
         ],
         "name": "2007"
        },
        {
         "data": [
          {
           "marker": {
            "color": [
             "hsl(229.0909090909091, 70%, 50%)",
             "hsl(224.41558441558442, 70%, 50%)",
             "hsl(18.7012987012987, 70%, 50%)",
             "hsl(261.8181818181818, 70%, 50%)",
             "hsl(266.4935064935065, 70%, 50%)",
             "hsl(271.16883116883116, 70%, 50%)",
             "hsl(275.84415584415586, 70%, 50%)"
            ]
           },
           "text": [
            36.6,
            26.94,
            9.38,
            1.8,
            0.72,
            0.56,
            0.27
           ],
           "textposition": "outside",
           "type": "bar",
           "x": [
            "Platforma Obywatelska",
            "Prawo i Sprawiedliwość",
            "Polskie Stronnictwo Ludowe",
            "Rafał Dutkiewicz",
            "Marek Borowski",
            "Kaziemierz Kutz",
            "Cimoszewicz do Senatu"
           ],
           "y": [
            36.6,
            26.94,
            9.38,
            1.8,
            0.72,
            0.56,
            0.27
           ]
          }
         ],
         "name": "2011"
        },
        {
         "data": [
          {
           "marker": {
            "color": [
             "hsl(224.41558441558442, 70%, 50%)",
             "hsl(229.0909090909091, 70%, 50%)",
             "hsl(18.7012987012987, 70%, 50%)",
             "hsl(266.4935064935065, 70%, 50%)",
             "hsl(280.5194805194805, 70%, 50%)",
             "hsl(285.1948051948052, 70%, 50%)",
             "hsl(289.87012987012986, 70%, 50%)"
            ]
           },
           "text": [
            39.99,
            28.85,
            7.4,
            0.83,
            0.6,
            0.43,
            0.29
           ],
           "textposition": "outside",
           "type": "bar",
           "x": [
            "Prawo i Sprawiedliwość",
            "Platforma Obywatelska",
            "Polskie Stronnictwo Ludowe",
            "Marek Borowski",
            "Jarosław Obremski",
            "Lidia Staroń",
            "Grzegorz Bierecki"
           ],
           "y": [
            39.99,
            28.85,
            7.4,
            0.83,
            0.6,
            0.43,
            0.29
           ]
          }
         ],
         "name": "2015"
        },
        {
         "data": [
          {
           "marker": {
            "color": [
             "hsl(224.41558441558442, 70%, 50%)",
             "hsl(229.0909090909091, 70%, 50%)",
             "hsl(18.7012987012987, 70%, 50%)",
             "hsl(32.72727272727273, 70%, 50%)",
             "hsl(285.1948051948052, 70%, 50%)",
             "hsl(294.54545454545456, 70%, 50%)",
             "hsl(299.2207792207792, 70%, 50%)",
             "hsl(303.8961038961039, 70%, 50%)"
            ]
           },
           "text": [
            44.56,
            35.66,
            5.72,
            2.28,
            0.58,
            0.44,
            0.35,
            0.25
           ],
           "textposition": "outside",
           "type": "bar",
           "x": [
            "Prawo i Sprawiedliwość",
            "Platforma Obywatelska",
            "Polskie Stronnictwo Ludowe",
            "Sojusz Lewicy Demokratycznej",
            "Lidia Staroń",
            "Krzysztof Kwiatkowski",
            "Wadim Tyszkiewicz",
            "Demokracja Obywatelska"
           ],
           "y": [
            44.56,
            35.66,
            5.72,
            2.28,
            0.58,
            0.44,
            0.35,
            0.25
           ]
          }
         ],
         "name": "2019"
        },
        {
         "data": [
          {
           "marker": {
            "color": [
             "hsl(308.57142857142856, 70%, 50%)",
             "hsl(224.41558441558442, 70%, 50%)",
             "hsl(313.24675324675326, 70%, 50%)",
             "hsl(317.9220779220779, 70%, 50%)",
             "hsl(322.5974025974026, 70%, 50%)",
             "hsl(294.54545454545456, 70%, 50%)",
             "hsl(299.2207792207792, 70%, 50%)",
             "hsl(327.27272727272725, 70%, 50%)",
             "hsl(331.94805194805195, 70%, 50%)",
             "hsl(336.6233766233766, 70%, 50%)",
             "hsl(341.2987012987013, 70%, 50%)",
             "hsl(345.97402597402595, 70%, 50%)",
             "hsl(350.64935064935065, 70%, 50%)",
             "hsl(355.3246753246753, 70%, 50%)"
            ]
           },
           "text": [
            28.91,
            34.81,
            11.5,
            5.29,
            0.73,
            0.65,
            0.46,
            0.38,
            0.24,
            0.45,
            0.24,
            0.19,
            0.12,
            0.06
           ],
           "textposition": "outside",
           "type": "bar",
           "x": [
            "Koalicja Obywatelska",
            "Prawo i Sprawiedliwość",
            "Trzecia Droga",
            "Nowa Lewica",
            "Zygmunt Frankiewicz",
            "Krzysztof Kwiatkowski",
            "Wadim Tyszkiewicz",
            "Andrzej Dziuba",
            "Józef Zajšc",
            "Nowa Demokracja - Tak ",
            "Zjednoczenie Chrześcijańskich Rodzin",
            "Porozumienie Obywatelskie",
            "Zwišzek Słowiański",
            "Zjednoczeni"
           ],
           "y": [
            28.91,
            34.81,
            11.5,
            5.29,
            0.73,
            0.65,
            0.46,
            0.38,
            0.24,
            0.45,
            0.24,
            0.19,
            0.12,
            0.06
           ]
          }
         ],
         "name": "2023"
        }
       ],
       "layout": {
        "showlegend": false,
        "sliders": [
         {
          "active": 0,
          "pad": {
           "t": 50
          },
          "steps": [
           {
            "args": [
             [
              "1991"
             ],
             {
              "frame": {
               "duration": 500,
               "redraw": true
              },
              "mode": "immediate",
              "transition": {
               "duration": 300
              }
             }
            ],
            "label": "1991",
            "method": "animate"
           },
           {
            "args": [
             [
              "1995"
             ],
             {
              "frame": {
               "duration": 500,
               "redraw": true
              },
              "mode": "immediate",
              "transition": {
               "duration": 300
              }
             }
            ],
            "label": "1995",
            "method": "animate"
           },
           {
            "args": [
             [
              "1997"
             ],
             {
              "frame": {
               "duration": 500,
               "redraw": true
              },
              "mode": "immediate",
              "transition": {
               "duration": 300
              }
             }
            ],
            "label": "1997",
            "method": "animate"
           },
           {
            "args": [
             [
              "2001"
             ],
             {
              "frame": {
               "duration": 500,
               "redraw": true
              },
              "mode": "immediate",
              "transition": {
               "duration": 300
              }
             }
            ],
            "label": "2001",
            "method": "animate"
           },
           {
            "args": [
             [
              "2005"
             ],
             {
              "frame": {
               "duration": 500,
               "redraw": true
              },
              "mode": "immediate",
              "transition": {
               "duration": 300
              }
             }
            ],
            "label": "2005",
            "method": "animate"
           },
           {
            "args": [
             [
              "2007"
             ],
             {
              "frame": {
               "duration": 500,
               "redraw": true
              },
              "mode": "immediate",
              "transition": {
               "duration": 300
              }
             }
            ],
            "label": "2007",
            "method": "animate"
           },
           {
            "args": [
             [
              "2011"
             ],
             {
              "frame": {
               "duration": 500,
               "redraw": true
              },
              "mode": "immediate",
              "transition": {
               "duration": 300
              }
             }
            ],
            "label": "2011",
            "method": "animate"
           },
           {
            "args": [
             [
              "2015"
             ],
             {
              "frame": {
               "duration": 500,
               "redraw": true
              },
              "mode": "immediate",
              "transition": {
               "duration": 300
              }
             }
            ],
            "label": "2015",
            "method": "animate"
           },
           {
            "args": [
             [
              "2019"
             ],
             {
              "frame": {
               "duration": 500,
               "redraw": true
              },
              "mode": "immediate",
              "transition": {
               "duration": 300
              }
             }
            ],
            "label": "2019",
            "method": "animate"
           },
           {
            "args": [
             [
              "2023"
             ],
             {
              "frame": {
               "duration": 500,
               "redraw": true
              },
              "mode": "immediate",
              "transition": {
               "duration": 300
              }
             }
            ],
            "label": "2023",
            "method": "animate"
           }
          ]
         }
        ],
        "template": {
         "data": {
          "bar": [
           {
            "error_x": {
             "color": "#2a3f5f"
            },
            "error_y": {
             "color": "#2a3f5f"
            },
            "marker": {
             "line": {
              "color": "#E5ECF6",
              "width": 0.5
             },
             "pattern": {
              "fillmode": "overlay",
              "size": 10,
              "solidity": 0.2
             }
            },
            "type": "bar"
           }
          ],
          "barpolar": [
           {
            "marker": {
             "line": {
              "color": "#E5ECF6",
              "width": 0.5
             },
             "pattern": {
              "fillmode": "overlay",
              "size": 10,
              "solidity": 0.2
             }
            },
            "type": "barpolar"
           }
          ],
          "carpet": [
           {
            "aaxis": {
             "endlinecolor": "#2a3f5f",
             "gridcolor": "white",
             "linecolor": "white",
             "minorgridcolor": "white",
             "startlinecolor": "#2a3f5f"
            },
            "baxis": {
             "endlinecolor": "#2a3f5f",
             "gridcolor": "white",
             "linecolor": "white",
             "minorgridcolor": "white",
             "startlinecolor": "#2a3f5f"
            },
            "type": "carpet"
           }
          ],
          "choropleth": [
           {
            "colorbar": {
             "outlinewidth": 0,
             "ticks": ""
            },
            "type": "choropleth"
           }
          ],
          "contour": [
           {
            "colorbar": {
             "outlinewidth": 0,
             "ticks": ""
            },
            "colorscale": [
             [
              0,
              "#0d0887"
             ],
             [
              0.1111111111111111,
              "#46039f"
             ],
             [
              0.2222222222222222,
              "#7201a8"
             ],
             [
              0.3333333333333333,
              "#9c179e"
             ],
             [
              0.4444444444444444,
              "#bd3786"
             ],
             [
              0.5555555555555556,
              "#d8576b"
             ],
             [
              0.6666666666666666,
              "#ed7953"
             ],
             [
              0.7777777777777778,
              "#fb9f3a"
             ],
             [
              0.8888888888888888,
              "#fdca26"
             ],
             [
              1,
              "#f0f921"
             ]
            ],
            "type": "contour"
           }
          ],
          "contourcarpet": [
           {
            "colorbar": {
             "outlinewidth": 0,
             "ticks": ""
            },
            "type": "contourcarpet"
           }
          ],
          "heatmap": [
           {
            "colorbar": {
             "outlinewidth": 0,
             "ticks": ""
            },
            "colorscale": [
             [
              0,
              "#0d0887"
             ],
             [
              0.1111111111111111,
              "#46039f"
             ],
             [
              0.2222222222222222,
              "#7201a8"
             ],
             [
              0.3333333333333333,
              "#9c179e"
             ],
             [
              0.4444444444444444,
              "#bd3786"
             ],
             [
              0.5555555555555556,
              "#d8576b"
             ],
             [
              0.6666666666666666,
              "#ed7953"
             ],
             [
              0.7777777777777778,
              "#fb9f3a"
             ],
             [
              0.8888888888888888,
              "#fdca26"
             ],
             [
              1,
              "#f0f921"
             ]
            ],
            "type": "heatmap"
           }
          ],
          "heatmapgl": [
           {
            "colorbar": {
             "outlinewidth": 0,
             "ticks": ""
            },
            "colorscale": [
             [
              0,
              "#0d0887"
             ],
             [
              0.1111111111111111,
              "#46039f"
             ],
             [
              0.2222222222222222,
              "#7201a8"
             ],
             [
              0.3333333333333333,
              "#9c179e"
             ],
             [
              0.4444444444444444,
              "#bd3786"
             ],
             [
              0.5555555555555556,
              "#d8576b"
             ],
             [
              0.6666666666666666,
              "#ed7953"
             ],
             [
              0.7777777777777778,
              "#fb9f3a"
             ],
             [
              0.8888888888888888,
              "#fdca26"
             ],
             [
              1,
              "#f0f921"
             ]
            ],
            "type": "heatmapgl"
           }
          ],
          "histogram": [
           {
            "marker": {
             "pattern": {
              "fillmode": "overlay",
              "size": 10,
              "solidity": 0.2
             }
            },
            "type": "histogram"
           }
          ],
          "histogram2d": [
           {
            "colorbar": {
             "outlinewidth": 0,
             "ticks": ""
            },
            "colorscale": [
             [
              0,
              "#0d0887"
             ],
             [
              0.1111111111111111,
              "#46039f"
             ],
             [
              0.2222222222222222,
              "#7201a8"
             ],
             [
              0.3333333333333333,
              "#9c179e"
             ],
             [
              0.4444444444444444,
              "#bd3786"
             ],
             [
              0.5555555555555556,
              "#d8576b"
             ],
             [
              0.6666666666666666,
              "#ed7953"
             ],
             [
              0.7777777777777778,
              "#fb9f3a"
             ],
             [
              0.8888888888888888,
              "#fdca26"
             ],
             [
              1,
              "#f0f921"
             ]
            ],
            "type": "histogram2d"
           }
          ],
          "histogram2dcontour": [
           {
            "colorbar": {
             "outlinewidth": 0,
             "ticks": ""
            },
            "colorscale": [
             [
              0,
              "#0d0887"
             ],
             [
              0.1111111111111111,
              "#46039f"
             ],
             [
              0.2222222222222222,
              "#7201a8"
             ],
             [
              0.3333333333333333,
              "#9c179e"
             ],
             [
              0.4444444444444444,
              "#bd3786"
             ],
             [
              0.5555555555555556,
              "#d8576b"
             ],
             [
              0.6666666666666666,
              "#ed7953"
             ],
             [
              0.7777777777777778,
              "#fb9f3a"
             ],
             [
              0.8888888888888888,
              "#fdca26"
             ],
             [
              1,
              "#f0f921"
             ]
            ],
            "type": "histogram2dcontour"
           }
          ],
          "mesh3d": [
           {
            "colorbar": {
             "outlinewidth": 0,
             "ticks": ""
            },
            "type": "mesh3d"
           }
          ],
          "parcoords": [
           {
            "line": {
             "colorbar": {
              "outlinewidth": 0,
              "ticks": ""
             }
            },
            "type": "parcoords"
           }
          ],
          "pie": [
           {
            "automargin": true,
            "type": "pie"
           }
          ],
          "scatter": [
           {
            "fillpattern": {
             "fillmode": "overlay",
             "size": 10,
             "solidity": 0.2
            },
            "type": "scatter"
           }
          ],
          "scatter3d": [
           {
            "line": {
             "colorbar": {
              "outlinewidth": 0,
              "ticks": ""
             }
            },
            "marker": {
             "colorbar": {
              "outlinewidth": 0,
              "ticks": ""
             }
            },
            "type": "scatter3d"
           }
          ],
          "scattercarpet": [
           {
            "marker": {
             "colorbar": {
              "outlinewidth": 0,
              "ticks": ""
             }
            },
            "type": "scattercarpet"
           }
          ],
          "scattergeo": [
           {
            "marker": {
             "colorbar": {
              "outlinewidth": 0,
              "ticks": ""
             }
            },
            "type": "scattergeo"
           }
          ],
          "scattergl": [
           {
            "marker": {
             "colorbar": {
              "outlinewidth": 0,
              "ticks": ""
             }
            },
            "type": "scattergl"
           }
          ],
          "scattermapbox": [
           {
            "marker": {
             "colorbar": {
              "outlinewidth": 0,
              "ticks": ""
             }
            },
            "type": "scattermapbox"
           }
          ],
          "scatterpolar": [
           {
            "marker": {
             "colorbar": {
              "outlinewidth": 0,
              "ticks": ""
             }
            },
            "type": "scatterpolar"
           }
          ],
          "scatterpolargl": [
           {
            "marker": {
             "colorbar": {
              "outlinewidth": 0,
              "ticks": ""
             }
            },
            "type": "scatterpolargl"
           }
          ],
          "scatterternary": [
           {
            "marker": {
             "colorbar": {
              "outlinewidth": 0,
              "ticks": ""
             }
            },
            "type": "scatterternary"
           }
          ],
          "surface": [
           {
            "colorbar": {
             "outlinewidth": 0,
             "ticks": ""
            },
            "colorscale": [
             [
              0,
              "#0d0887"
             ],
             [
              0.1111111111111111,
              "#46039f"
             ],
             [
              0.2222222222222222,
              "#7201a8"
             ],
             [
              0.3333333333333333,
              "#9c179e"
             ],
             [
              0.4444444444444444,
              "#bd3786"
             ],
             [
              0.5555555555555556,
              "#d8576b"
             ],
             [
              0.6666666666666666,
              "#ed7953"
             ],
             [
              0.7777777777777778,
              "#fb9f3a"
             ],
             [
              0.8888888888888888,
              "#fdca26"
             ],
             [
              1,
              "#f0f921"
             ]
            ],
            "type": "surface"
           }
          ],
          "table": [
           {
            "cells": {
             "fill": {
              "color": "#EBF0F8"
             },
             "line": {
              "color": "white"
             }
            },
            "header": {
             "fill": {
              "color": "#C8D4E3"
             },
             "line": {
              "color": "white"
             }
            },
            "type": "table"
           }
          ]
         },
         "layout": {
          "annotationdefaults": {
           "arrowcolor": "#2a3f5f",
           "arrowhead": 0,
           "arrowwidth": 1
          },
          "autotypenumbers": "strict",
          "coloraxis": {
           "colorbar": {
            "outlinewidth": 0,
            "ticks": ""
           }
          },
          "colorscale": {
           "diverging": [
            [
             0,
             "#8e0152"
            ],
            [
             0.1,
             "#c51b7d"
            ],
            [
             0.2,
             "#de77ae"
            ],
            [
             0.3,
             "#f1b6da"
            ],
            [
             0.4,
             "#fde0ef"
            ],
            [
             0.5,
             "#f7f7f7"
            ],
            [
             0.6,
             "#e6f5d0"
            ],
            [
             0.7,
             "#b8e186"
            ],
            [
             0.8,
             "#7fbc41"
            ],
            [
             0.9,
             "#4d9221"
            ],
            [
             1,
             "#276419"
            ]
           ],
           "sequential": [
            [
             0,
             "#0d0887"
            ],
            [
             0.1111111111111111,
             "#46039f"
            ],
            [
             0.2222222222222222,
             "#7201a8"
            ],
            [
             0.3333333333333333,
             "#9c179e"
            ],
            [
             0.4444444444444444,
             "#bd3786"
            ],
            [
             0.5555555555555556,
             "#d8576b"
            ],
            [
             0.6666666666666666,
             "#ed7953"
            ],
            [
             0.7777777777777778,
             "#fb9f3a"
            ],
            [
             0.8888888888888888,
             "#fdca26"
            ],
            [
             1,
             "#f0f921"
            ]
           ],
           "sequentialminus": [
            [
             0,
             "#0d0887"
            ],
            [
             0.1111111111111111,
             "#46039f"
            ],
            [
             0.2222222222222222,
             "#7201a8"
            ],
            [
             0.3333333333333333,
             "#9c179e"
            ],
            [
             0.4444444444444444,
             "#bd3786"
            ],
            [
             0.5555555555555556,
             "#d8576b"
            ],
            [
             0.6666666666666666,
             "#ed7953"
            ],
            [
             0.7777777777777778,
             "#fb9f3a"
            ],
            [
             0.8888888888888888,
             "#fdca26"
            ],
            [
             1,
             "#f0f921"
            ]
           ]
          },
          "colorway": [
           "#636efa",
           "#EF553B",
           "#00cc96",
           "#ab63fa",
           "#FFA15A",
           "#19d3f3",
           "#FF6692",
           "#B6E880",
           "#FF97FF",
           "#FECB52"
          ],
          "font": {
           "color": "#2a3f5f"
          },
          "geo": {
           "bgcolor": "white",
           "lakecolor": "white",
           "landcolor": "#E5ECF6",
           "showlakes": true,
           "showland": true,
           "subunitcolor": "white"
          },
          "hoverlabel": {
           "align": "left"
          },
          "hovermode": "closest",
          "mapbox": {
           "style": "light"
          },
          "paper_bgcolor": "white",
          "plot_bgcolor": "#E5ECF6",
          "polar": {
           "angularaxis": {
            "gridcolor": "white",
            "linecolor": "white",
            "ticks": ""
           },
           "bgcolor": "#E5ECF6",
           "radialaxis": {
            "gridcolor": "white",
            "linecolor": "white",
            "ticks": ""
           }
          },
          "scene": {
           "xaxis": {
            "backgroundcolor": "#E5ECF6",
            "gridcolor": "white",
            "gridwidth": 2,
            "linecolor": "white",
            "showbackground": true,
            "ticks": "",
            "zerolinecolor": "white"
           },
           "yaxis": {
            "backgroundcolor": "#E5ECF6",
            "gridcolor": "white",
            "gridwidth": 2,
            "linecolor": "white",
            "showbackground": true,
            "ticks": "",
            "zerolinecolor": "white"
           },
           "zaxis": {
            "backgroundcolor": "#E5ECF6",
            "gridcolor": "white",
            "gridwidth": 2,
            "linecolor": "white",
            "showbackground": true,
            "ticks": "",
            "zerolinecolor": "white"
           }
          },
          "shapedefaults": {
           "line": {
            "color": "#2a3f5f"
           }
          },
          "ternary": {
           "aaxis": {
            "gridcolor": "white",
            "linecolor": "white",
            "ticks": ""
           },
           "baxis": {
            "gridcolor": "white",
            "linecolor": "white",
            "ticks": ""
           },
           "bgcolor": "#E5ECF6",
           "caxis": {
            "gridcolor": "white",
            "linecolor": "white",
            "ticks": ""
           }
          },
          "title": {
           "x": 0.05
          },
          "xaxis": {
           "automargin": true,
           "gridcolor": "white",
           "linecolor": "white",
           "ticks": "",
           "title": {
            "standoff": 15
           },
           "zerolinecolor": "white",
           "zerolinewidth": 2
          },
          "yaxis": {
           "automargin": true,
           "gridcolor": "white",
           "linecolor": "white",
           "ticks": "",
           "title": {
            "standoff": 15
           },
           "zerolinecolor": "white",
           "zerolinewidth": 2
          }
         }
        },
        "title": {
         "text": "Poparcie partii w Senacie wg roku (GŁOSY %)"
        },
        "updatemenus": [
         {
          "buttons": [
           {
            "args": [
             null,
             {
              "frame": {
               "duration": 1000,
               "redraw": true
              },
              "fromcurrent": true,
              "transition": {
               "duration": 500
              }
             }
            ],
            "label": "Start",
            "method": "animate"
           },
           {
            "args": [
             [
              null
             ],
             {
              "frame": {
               "duration": 0,
               "redraw": false
              },
              "mode": "immediate",
              "transition": {
               "duration": 0
              }
             }
            ],
            "label": "Stop",
            "method": "animate"
           }
          ],
          "type": "buttons"
         }
        ],
        "xaxis": {
         "tickangle": -45,
         "title": {
          "text": "Partia"
         }
        },
        "yaxis": {
         "range": [
          0,
          49.56
         ],
         "title": {
          "text": "Głosy (%)"
         }
        }
       }
      },
      "image/png": "[encoded data removed]",
      "text/html": [
       "<div>                            <div id=\"8cbc8459-4f2e-4935-981d-4ebefae46848\" class=\"plotly-graph-div\" style=\"height:525px; width:100%;\"></div>            <script type=\"text/javascript\">                require([\"plotly\"], function(Plotly) {                    window.PLOTLYENV=window.PLOTLYENV || {};                                    if (document.getElementById(\"8cbc8459-4f2e-4935-981d-4ebefae46848\")) {                    Plotly.newPlot(                        \"8cbc8459-4f2e-4935-981d-4ebefae46848\",                        [{\"marker\":{\"color\":[\"hsl(0.0, 70%, 50%)\",\"hsl(4.675324675324675, 70%, 50%)\",\"hsl(9.35064935064935, 70%, 50%)\",\"hsl(14.025974025974026, 70%, 50%)\",\"hsl(18.7012987012987, 70%, 50%)\",\"hsl(23.376623376623378, 70%, 50%)\",\"hsl(28.051948051948052, 70%, 50%)\",\"hsl(32.72727272727273, 70%, 50%)\",\"hsl(37.4025974025974, 70%, 50%)\",\"hsl(42.077922077922075, 70%, 50%)\",\"hsl(46.753246753246756, 70%, 50%)\",\"hsl(51.42857142857143, 70%, 50%)\",\"hsl(56.103896103896105, 70%, 50%)\",\"hsl(60.77922077922078, 70%, 50%)\",\"hsl(65.45454545454545, 70%, 50%)\",\"hsl(70.12987012987013, 70%, 50%)\",\"hsl(74.8051948051948, 70%, 50%)\",\"hsl(79.48051948051948, 70%, 50%)\",\"hsl(84.15584415584415, 70%, 50%)\",\"hsl(88.83116883116882, 70%, 50%)\",\"hsl(93.50649350649351, 70%, 50%)\",\"hsl(98.18181818181819, 70%, 50%)\",\"hsl(102.85714285714286, 70%, 50%)\",\"hsl(107.53246753246754, 70%, 50%)\",\"hsl(112.20779220779221, 70%, 50%)\",\"hsl(116.88311688311688, 70%, 50%)\",\"hsl(121.55844155844156, 70%, 50%)\",\"hsl(126.23376623376623, 70%, 50%)\"]},\"name\":\"1991\",\"text\":[16.42,9.68,9.04,8.78,7.5,3.87,6.53,10.61,4.67,2.22,1.17,0.68,0.5,0.4,0.4,0.36,0.31,0.28,0.27,0.26,0.23,0.2,0.19,0.17,0.16,0.15,0.1,0.09],\"textposition\":\"outside\",\"x\":[\"Unia Demokratyczna\",\"Niezależny Samorzšdny Zwišzek Zawodowy \\\"Solidarność\\\"\",\"Porozumienie Obywatelskie Centrum\",\"Wyborcza Akcja Katolicka\",\"Polskie Stronnictwo Ludowe\",\"Porozumienie Ludowe\",\"Kongres Liberalno-Demokratyczny\",\"Sojusz Lewicy Demokratycznej\",\"Konfederacja Polski Niepodległej\",\"Partia Chrześcijańskich Demokratów\",\"Chrześcijańska Demokracja\",\"Zrzeszenie Kaszubsko-Pomorskie\",\"Inicjatywa na rzecz Łodzi\",\"Ludowe Porozumienie Wyborcze Piast\",\"Konfederacja Komitetów Obywatelskich\",\"Mniejszość Niemiecka\",\"Stronnictwo Narodowo-Demokratyczne\",\"Zbigniew Romaszewski\",\"Regionalne Forum Wyborcze\",\"Klub Inteligencji Katolickiej\",\"Krzysztof Horodecki\",\"Henryk Stokłosa\",\"Jerzy Madej\",\"Niezależny\",\"Unia Wielkopolan\",\"\\\"Kandydat Niezależny\\\"\",\"Komitet Obywatelski \\\"Solidarność\\\"\",\"Regionowi i Polsce\"],\"y\":[16.42,9.68,9.04,8.78,7.5,3.87,6.53,10.61,4.67,2.22,1.17,0.68,0.5,0.4,0.4,0.36,0.31,0.28,0.27,0.26,0.23,0.2,0.19,0.17,0.16,0.15,0.1,0.09],\"type\":\"bar\"}],                        {\"template\":{\"data\":{\"histogram2dcontour\":[{\"type\":\"histogram2dcontour\",\"colorbar\":{\"outlinewidth\":0,\"ticks\":\"\"},\"colorscale\":[[0.0,\"#0d0887\"],[0.1111111111111111,\"#46039f\"],[0.2222222222222222,\"#7201a8\"],[0.3333333333333333,\"#9c179e\"],[0.4444444444444444,\"#bd3786\"],[0.5555555555555556,\"#d8576b\"],[0.6666666666666666,\"#ed7953\"],[0.7777777777777778,\"#fb9f3a\"],[0.8888888888888888,\"#fdca26\"],[1.0,\"#f0f921\"]]}],\"choropleth\":[{\"type\":\"choropleth\",\"colorbar\":{\"outlinewidth\":0,\"ticks\":\"\"}}],\"histogram2d\":[{\"type\":\"histogram2d\",\"colorbar\":{\"outlinewidth\":0,\"ticks\":\"\"},\"colorscale\":[[0.0,\"#0d0887\"],[0.1111111111111111,\"#46039f\"],[0.2222222222222222,\"#7201a8\"],[0.3333333333333333,\"#9c179e\"],[0.4444444444444444,\"#bd3786\"],[0.5555555555555556,\"#d8576b\"],[0.6666666666666666,\"#ed7953\"],[0.7777777777777778,\"#fb9f3a\"],[0.8888888888888888,\"#fdca26\"],[1.0,\"#f0f921\"]]}],\"heatmap\":[{\"type\":\"heatmap\",\"colorbar\":{\"outlinewidth\":0,\"ticks\":\"\"},\"colorscale\":[[0.0,\"#0d0887\"],[0.1111111111111111,\"#46039f\"],[0.2222222222222222,\"#7201a8\"],[0.3333333333333333,\"#9c179e\"],[0.4444444444444444,\"#bd3786\"],[0.5555555555555556,\"#d8576b\"],[0.6666666666666666,\"#ed7953\"],[0.7777777777777778,\"#fb9f3a\"],[0.8888888888888888,\"#fdca26\"],[1.0,\"#f0f921\"]]}],\"heatmapgl\":[{\"type\":\"heatmapgl\",\"colorbar\":{\"outlinewidth\":0,\"ticks\":\"\"},\"colorscale\":[[0.0,\"#0d0887\"],[0.1111111111111111,\"#46039f\"],[0.2222222222222222,\"#7201a8\"],[0.3333333333333333,\"#9c179e\"],[0.4444444444444444,\"#bd3786\"],[0.5555555555555556,\"#d8576b\"],[0.6666666666666666,\"#ed7953\"],[0.7777777777777778,\"#fb9f3a\"],[0.8888888888888888,\"#fdca26\"],[1.0,\"#f0f921\"]]}],\"contourcarpet\":[{\"type\":\"contourcarpet\",\"colorbar\":{\"outlinewidth\":0,\"ticks\":\"\"}}],\"contour\":[{\"type\":\"contour\",\"colorbar\":{\"outlinewidth\":0,\"ticks\":\"\"},\"colorscale\":[[0.0,\"#0d0887\"],[0.1111111111111111,\"#46039f\"],[0.2222222222222222,\"#7201a8\"],[0.3333333333333333,\"#9c179e\"],[0.4444444444444444,\"#bd3786\"],[0.5555555555555556,\"#d8576b\"],[0.6666666666666666,\"#ed7953\"],[0.7777777777777778,\"#fb9f3a\"],[0.8888888888888888,\"#fdca26\"],[1.0,\"#f0f921\"]]}],\"surface\":[{\"type\":\"surface\",\"colorbar\":{\"outlinewidth\":0,\"ticks\":\"\"},\"colorscale\":[[0.0,\"#0d0887\"],[0.1111111111111111,\"#46039f\"],[0.2222222222222222,\"#7201a8\"],[0.3333333333333333,\"#9c179e\"],[0.4444444444444444,\"#bd3786\"],[0.5555555555555556,\"#d8576b\"],[0.6666666666666666,\"#ed7953\"],[0.7777777777777778,\"#fb9f3a\"],[0.8888888888888888,\"#fdca26\"],[1.0,\"#f0f921\"]]}],\"mesh3d\":[{\"type\":\"mesh3d\",\"colorbar\":{\"outlinewidth\":0,\"ticks\":\"\"}}],\"scatter\":[{\"fillpattern\":{\"fillmode\":\"overlay\",\"size\":10,\"solidity\":0.2},\"type\":\"scatter\"}],\"parcoords\":[{\"type\":\"parcoords\",\"line\":{\"colorbar\":{\"outlinewidth\":0,\"ticks\":\"\"}}}],\"scatterpolargl\":[{\"type\":\"scatterpolargl\",\"marker\":{\"colorbar\":{\"outlinewidth\":0,\"ticks\":\"\"}}}],\"bar\":[{\"error_x\":{\"color\":\"#2a3f5f\"},\"error_y\":{\"color\":\"#2a3f5f\"},\"marker\":{\"line\":{\"color\":\"#E5ECF6\",\"width\":0.5},\"pattern\":{\"fillmode\":\"overlay\",\"size\":10,\"solidity\":0.2}},\"type\":\"bar\"}],\"scattergeo\":[{\"type\":\"scattergeo\",\"marker\":{\"colorbar\":{\"outlinewidth\":0,\"ticks\":\"\"}}}],\"scatterpolar\":[{\"type\":\"scatterpolar\",\"marker\":{\"colorbar\":{\"outlinewidth\":0,\"ticks\":\"\"}}}],\"histogram\":[{\"marker\":{\"pattern\":{\"fillmode\":\"overlay\",\"size\":10,\"solidity\":0.2}},\"type\":\"histogram\"}],\"scattergl\":[{\"type\":\"scattergl\",\"marker\":{\"colorbar\":{\"outlinewidth\":0,\"ticks\":\"\"}}}],\"scatter3d\":[{\"type\":\"scatter3d\",\"line\":{\"colorbar\":{\"outlinewidth\":0,\"ticks\":\"\"}},\"marker\":{\"colorbar\":{\"outlinewidth\":0,\"ticks\":\"\"}}}],\"scattermapbox\":[{\"type\":\"scattermapbox\",\"marker\":{\"colorbar\":{\"outlinewidth\":0,\"ticks\":\"\"}}}],\"scatterternary\":[{\"type\":\"scatterternary\",\"marker\":{\"colorbar\":{\"outlinewidth\":0,\"ticks\":\"\"}}}],\"scattercarpet\":[{\"type\":\"scattercarpet\",\"marker\":{\"colorbar\":{\"outlinewidth\":0,\"ticks\":\"\"}}}],\"carpet\":[{\"aaxis\":{\"endlinecolor\":\"#2a3f5f\",\"gridcolor\":\"white\",\"linecolor\":\"white\",\"minorgridcolor\":\"white\",\"startlinecolor\":\"#2a3f5f\"},\"baxis\":{\"endlinecolor\":\"#2a3f5f\",\"gridcolor\":\"white\",\"linecolor\":\"white\",\"minorgridcolor\":\"white\",\"startlinecolor\":\"#2a3f5f\"},\"type\":\"carpet\"}],\"table\":[{\"cells\":{\"fill\":{\"color\":\"#EBF0F8\"},\"line\":{\"color\":\"white\"}},\"header\":{\"fill\":{\"color\":\"#C8D4E3\"},\"line\":{\"color\":\"white\"}},\"type\":\"table\"}],\"barpolar\":[{\"marker\":{\"line\":{\"color\":\"#E5ECF6\",\"width\":0.5},\"pattern\":{\"fillmode\":\"overlay\",\"size\":10,\"solidity\":0.2}},\"type\":\"barpolar\"}],\"pie\":[{\"automargin\":true,\"type\":\"pie\"}]},\"layout\":{\"autotypenumbers\":\"strict\",\"colorway\":[\"#636efa\",\"#EF553B\",\"#00cc96\",\"#ab63fa\",\"#FFA15A\",\"#19d3f3\",\"#FF6692\",\"#B6E880\",\"#FF97FF\",\"#FECB52\"],\"font\":{\"color\":\"#2a3f5f\"},\"hovermode\":\"closest\",\"hoverlabel\":{\"align\":\"left\"},\"paper_bgcolor\":\"white\",\"plot_bgcolor\":\"#E5ECF6\",\"polar\":{\"bgcolor\":\"#E5ECF6\",\"angularaxis\":{\"gridcolor\":\"white\",\"linecolor\":\"white\",\"ticks\":\"\"},\"radialaxis\":{\"gridcolor\":\"white\",\"linecolor\":\"white\",\"ticks\":\"\"}},\"ternary\":{\"bgcolor\":\"#E5ECF6\",\"aaxis\":{\"gridcolor\":\"white\",\"linecolor\":\"white\",\"ticks\":\"\"},\"baxis\":{\"gridcolor\":\"white\",\"linecolor\":\"white\",\"ticks\":\"\"},\"caxis\":{\"gridcolor\":\"white\",\"linecolor\":\"white\",\"ticks\":\"\"}},\"coloraxis\":{\"colorbar\":{\"outlinewidth\":0,\"ticks\":\"\"}},\"colorscale\":{\"sequential\":[[0.0,\"#0d0887\"],[0.1111111111111111,\"#46039f\"],[0.2222222222222222,\"#7201a8\"],[0.3333333333333333,\"#9c179e\"],[0.4444444444444444,\"#bd3786\"],[0.5555555555555556,\"#d8576b\"],[0.6666666666666666,\"#ed7953\"],[0.7777777777777778,\"#fb9f3a\"],[0.8888888888888888,\"#fdca26\"],[1.0,\"#f0f921\"]],\"sequentialminus\":[[0.0,\"#0d0887\"],[0.1111111111111111,\"#46039f\"],[0.2222222222222222,\"#7201a8\"],[0.3333333333333333,\"#9c179e\"],[0.4444444444444444,\"#bd3786\"],[0.5555555555555556,\"#d8576b\"],[0.6666666666666666,\"#ed7953\"],[0.7777777777777778,\"#fb9f3a\"],[0.8888888888888888,\"#fdca26\"],[1.0,\"#f0f921\"]],\"diverging\":[[0,\"#8e0152\"],[0.1,\"#c51b7d\"],[0.2,\"#de77ae\"],[0.3,\"#f1b6da\"],[0.4,\"#fde0ef\"],[0.5,\"#f7f7f7\"],[0.6,\"#e6f5d0\"],[0.7,\"#b8e186\"],[0.8,\"#7fbc41\"],[0.9,\"#4d9221\"],[1,\"#276419\"]]},\"xaxis\":{\"gridcolor\":\"white\",\"linecolor\":\"white\",\"ticks\":\"\",\"title\":{\"standoff\":15},\"zerolinecolor\":\"white\",\"automargin\":true,\"zerolinewidth\":2},\"yaxis\":{\"gridcolor\":\"white\",\"linecolor\":\"white\",\"ticks\":\"\",\"title\":{\"standoff\":15},\"zerolinecolor\":\"white\",\"automargin\":true,\"zerolinewidth\":2},\"scene\":{\"xaxis\":{\"backgroundcolor\":\"#E5ECF6\",\"gridcolor\":\"white\",\"linecolor\":\"white\",\"showbackground\":true,\"ticks\":\"\",\"zerolinecolor\":\"white\",\"gridwidth\":2},\"yaxis\":{\"backgroundcolor\":\"#E5ECF6\",\"gridcolor\":\"white\",\"linecolor\":\"white\",\"showbackground\":true,\"ticks\":\"\",\"zerolinecolor\":\"white\",\"gridwidth\":2},\"zaxis\":{\"backgroundcolor\":\"#E5ECF6\",\"gridcolor\":\"white\",\"linecolor\":\"white\",\"showbackground\":true,\"ticks\":\"\",\"zerolinecolor\":\"white\",\"gridwidth\":2}},\"shapedefaults\":{\"line\":{\"color\":\"#2a3f5f\"}},\"annotationdefaults\":{\"arrowcolor\":\"#2a3f5f\",\"arrowhead\":0,\"arrowwidth\":1},\"geo\":{\"bgcolor\":\"white\",\"landcolor\":\"#E5ECF6\",\"subunitcolor\":\"white\",\"showland\":true,\"showlakes\":true,\"lakecolor\":\"white\"},\"title\":{\"x\":0.05},\"mapbox\":{\"style\":\"light\"}}},\"xaxis\":{\"title\":{\"text\":\"Partia\"},\"tickangle\":-45},\"yaxis\":{\"title\":{\"text\":\"Głosy (%)\"},\"range\":[0,49.56]},\"title\":{\"text\":\"Poparcie partii w Senacie wg roku (GŁOSY %)\"},\"sliders\":[{\"active\":0,\"pad\":{\"t\":50},\"steps\":[{\"args\":[[\"1991\"],{\"mode\":\"immediate\",\"frame\":{\"duration\":500,\"redraw\":true},\"transition\":{\"duration\":300}}],\"label\":\"1991\",\"method\":\"animate\"},{\"args\":[[\"1995\"],{\"mode\":\"immediate\",\"frame\":{\"duration\":500,\"redraw\":true},\"transition\":{\"duration\":300}}],\"label\":\"1995\",\"method\":\"animate\"},{\"args\":[[\"1997\"],{\"mode\":\"immediate\",\"frame\":{\"duration\":500,\"redraw\":true},\"transition\":{\"duration\":300}}],\"label\":\"1997\",\"method\":\"animate\"},{\"args\":[[\"2001\"],{\"mode\":\"immediate\",\"frame\":{\"duration\":500,\"redraw\":true},\"transition\":{\"duration\":300}}],\"label\":\"2001\",\"method\":\"animate\"},{\"args\":[[\"2005\"],{\"mode\":\"immediate\",\"frame\":{\"duration\":500,\"redraw\":true},\"transition\":{\"duration\":300}}],\"label\":\"2005\",\"method\":\"animate\"},{\"args\":[[\"2007\"],{\"mode\":\"immediate\",\"frame\":{\"duration\":500,\"redraw\":true},\"transition\":{\"duration\":300}}],\"label\":\"2007\",\"method\":\"animate\"},{\"args\":[[\"2011\"],{\"mode\":\"immediate\",\"frame\":{\"duration\":500,\"redraw\":true},\"transition\":{\"duration\":300}}],\"label\":\"2011\",\"method\":\"animate\"},{\"args\":[[\"2015\"],{\"mode\":\"immediate\",\"frame\":{\"duration\":500,\"redraw\":true},\"transition\":{\"duration\":300}}],\"label\":\"2015\",\"method\":\"animate\"},{\"args\":[[\"2019\"],{\"mode\":\"immediate\",\"frame\":{\"duration\":500,\"redraw\":true},\"transition\":{\"duration\":300}}],\"label\":\"2019\",\"method\":\"animate\"},{\"args\":[[\"2023\"],{\"mode\":\"immediate\",\"frame\":{\"duration\":500,\"redraw\":true},\"transition\":{\"duration\":300}}],\"label\":\"2023\",\"method\":\"animate\"}]}],\"updatemenus\":[{\"buttons\":[{\"args\":[null,{\"frame\":{\"duration\":1000,\"redraw\":true},\"fromcurrent\":true,\"transition\":{\"duration\":500}}],\"label\":\"Start\",\"method\":\"animate\"},{\"args\":[[null],{\"frame\":{\"duration\":0,\"redraw\":false},\"mode\":\"immediate\",\"transition\":{\"duration\":0}}],\"label\":\"Stop\",\"method\":\"animate\"}],\"type\":\"buttons\"}],\"showlegend\":false},                        {\"responsive\": true}                    ).then(function(){\n",
       "                            Plotly.addFrames('8cbc8459-4f2e-4935-981d-4ebefae46848', [{\"data\":[{\"marker\":{\"color\":[\"hsl(0.0, 70%, 50%)\",\"hsl(4.675324675324675, 70%, 50%)\",\"hsl(9.35064935064935, 70%, 50%)\",\"hsl(14.025974025974026, 70%, 50%)\",\"hsl(18.7012987012987, 70%, 50%)\",\"hsl(23.376623376623378, 70%, 50%)\",\"hsl(28.051948051948052, 70%, 50%)\",\"hsl(32.72727272727273, 70%, 50%)\",\"hsl(37.4025974025974, 70%, 50%)\",\"hsl(42.077922077922075, 70%, 50%)\",\"hsl(46.753246753246756, 70%, 50%)\",\"hsl(51.42857142857143, 70%, 50%)\",\"hsl(56.103896103896105, 70%, 50%)\",\"hsl(60.77922077922078, 70%, 50%)\",\"hsl(65.45454545454545, 70%, 50%)\",\"hsl(70.12987012987013, 70%, 50%)\",\"hsl(74.8051948051948, 70%, 50%)\",\"hsl(79.48051948051948, 70%, 50%)\",\"hsl(84.15584415584415, 70%, 50%)\",\"hsl(88.83116883116882, 70%, 50%)\",\"hsl(93.50649350649351, 70%, 50%)\",\"hsl(98.18181818181819, 70%, 50%)\",\"hsl(102.85714285714286, 70%, 50%)\",\"hsl(107.53246753246754, 70%, 50%)\",\"hsl(112.20779220779221, 70%, 50%)\",\"hsl(116.88311688311688, 70%, 50%)\",\"hsl(121.55844155844156, 70%, 50%)\",\"hsl(126.23376623376623, 70%, 50%)\"]},\"text\":[16.42,9.68,9.04,8.78,7.5,3.87,6.53,10.61,4.67,2.22,1.17,0.68,0.5,0.4,0.4,0.36,0.31,0.28,0.27,0.26,0.23,0.2,0.19,0.17,0.16,0.15,0.1,0.09],\"textposition\":\"outside\",\"x\":[\"Unia Demokratyczna\",\"Niezależny Samorzšdny Zwišzek Zawodowy \\\"Solidarność\\\"\",\"Porozumienie Obywatelskie Centrum\",\"Wyborcza Akcja Katolicka\",\"Polskie Stronnictwo Ludowe\",\"Porozumienie Ludowe\",\"Kongres Liberalno-Demokratyczny\",\"Sojusz Lewicy Demokratycznej\",\"Konfederacja Polski Niepodległej\",\"Partia Chrześcijańskich Demokratów\",\"Chrześcijańska Demokracja\",\"Zrzeszenie Kaszubsko-Pomorskie\",\"Inicjatywa na rzecz Łodzi\",\"Ludowe Porozumienie Wyborcze Piast\",\"Konfederacja Komitetów Obywatelskich\",\"Mniejszość Niemiecka\",\"Stronnictwo Narodowo-Demokratyczne\",\"Zbigniew Romaszewski\",\"Regionalne Forum Wyborcze\",\"Klub Inteligencji Katolickiej\",\"Krzysztof Horodecki\",\"Henryk Stokłosa\",\"Jerzy Madej\",\"Niezależny\",\"Unia Wielkopolan\",\"\\\"Kandydat Niezależny\\\"\",\"Komitet Obywatelski \\\"Solidarność\\\"\",\"Regionowi i Polsce\"],\"y\":[16.42,9.68,9.04,8.78,7.5,3.87,6.53,10.61,4.67,2.22,1.17,0.68,0.5,0.4,0.4,0.36,0.31,0.28,0.27,0.26,0.23,0.2,0.19,0.17,0.16,0.15,0.1,0.09],\"type\":\"bar\"}],\"name\":\"1991\"},{\"data\":[{\"marker\":{\"color\":[\"hsl(32.72727272727273, 70%, 50%)\",\"hsl(18.7012987012987, 70%, 50%)\",\"hsl(4.675324675324675, 70%, 50%)\",\"hsl(0.0, 70%, 50%)\",\"hsl(130.9090909090909, 70%, 50%)\",\"hsl(135.58441558441558, 70%, 50%)\",\"hsl(28.051948051948052, 70%, 50%)\",\"hsl(140.25974025974025, 70%, 50%)\",\"hsl(144.93506493506493, 70%, 50%)\",\"hsl(70.12987012987013, 70%, 50%)\",\"hsl(149.6103896103896, 70%, 50%)\",\"hsl(154.28571428571428, 70%, 50%)\",\"hsl(98.18181818181819, 70%, 50%)\",\"hsl(158.96103896103895, 70%, 50%)\",\"hsl(163.63636363636363, 70%, 50%)\",\"hsl(102.85714285714286, 70%, 50%)\"]},\"text\":[18.45,11.74,9.29,11.12,8.04,4.11,4.09,2.23,1.05,0.46,0.45,0.37,0.31,0.28,0.22,0.16],\"textposition\":\"outside\",\"x\":[\"Sojusz Lewicy Demokratycznej\",\"Polskie Stronnictwo Ludowe\",\"Niezależny Samorzšdny Zwišzek Zawodowy \\\"Solidarność\\\"\",\"Unia Demokratyczna\",\"Bezpartyjny Blok Wspierania Reform\",\"Unia Pracy\",\"Kongres Liberalno-Demokratyczny\",\"\\\"Zjednoczenie Polskie\\\"\",\"Polskie Stronnictwo Ludowe - Porozumienie Ludowe\",\"Mniejszość Niemiecka\",\"Aleksander Gawronik\",\"Klub Inteligencji Katolickiej w Białymstoku oraz Stowarzyszenie Rodzin Katolickich Archidiecezji Białostockiej\",\"Henryk Stokłosa\",\"SOLSKA\",\"Niezależny Samorzšdowy Zwišzek Zawodowy  Rolników Indywidualnych \\\"Solidarność\\\"\",\"Jerzy Madej\"],\"y\":[18.45,11.74,9.29,11.12,8.04,4.11,4.09,2.23,1.05,0.46,0.45,0.37,0.31,0.28,0.22,0.16],\"type\":\"bar\"}],\"name\":\"1995\"},{\"data\":[{\"marker\":{\"color\":[\"hsl(168.3116883116883, 70%, 50%)\",\"hsl(32.72727272727273, 70%, 50%)\",\"hsl(172.98701298701297, 70%, 50%)\",\"hsl(177.66233766233765, 70%, 50%)\",\"hsl(18.7012987012987, 70%, 50%)\",\"hsl(182.33766233766235, 70%, 50%)\",\"hsl(187.01298701298703, 70%, 50%)\",\"hsl(191.6883116883117, 70%, 50%)\",\"hsl(98.18181818181819, 70%, 50%)\",\"hsl(196.36363636363637, 70%, 50%)\"]},\"text\":[25.26,23.54,11.2,9.84,6.96,0.93,0.53,0.48,0.22,0.12],\"textposition\":\"outside\",\"x\":[\"Akcja Wyborcza Solidarność\",\"Sojusz Lewicy Demokratycznej\",\"Unia Wolności\",\"Ruch Obudowy Polski\",\"Polskie Stronnictwo Ludowe\",\"Bogdan Zdrojewski\",\"Profesor Leon Kieres\",\"Marian Jurczyk\",\"Henryk Stokłosa\",\"Jadwiga Stokarska\"],\"y\":[25.26,23.54,11.2,9.84,6.96,0.93,0.53,0.48,0.22,0.12],\"type\":\"bar\"}],\"name\":\"1997\"},{\"data\":[{\"marker\":{\"color\":[\"hsl(201.03896103896105, 70%, 50%)\",\"hsl(205.71428571428572, 70%, 50%)\",\"hsl(18.7012987012987, 70%, 50%)\",\"hsl(210.3896103896104, 70%, 50%)\",\"hsl(215.06493506493507, 70%, 50%)\",\"hsl(219.74025974025975, 70%, 50%)\",\"hsl(98.18181818181819, 70%, 50%)\"]},\"text\":[38.91,24.42,13.21,4.28,4.05,0.53,0.42],\"textposition\":\"outside\",\"x\":[\"Sojusz Lewicy Demokratycznej - Unia Pracy\",\"Blok Senat 2001\",\"Polskie Stronnictwo Ludowe\",\"Samoobrona\",\"Liga Polskich Rodzin\",\"Lech Kaczyński\",\"Henryk Stokłosa\"],\"y\":[38.91,24.42,13.21,4.28,4.05,0.53,0.42],\"type\":\"bar\"}],\"name\":\"2001\"},{\"data\":[{\"marker\":{\"color\":[\"hsl(224.41558441558442, 70%, 50%)\",\"hsl(229.0909090909091, 70%, 50%)\",\"hsl(215.06493506493507, 70%, 50%)\",\"hsl(210.3896103896104, 70%, 50%)\",\"hsl(18.7012987012987, 70%, 50%)\",\"hsl(233.76623376623377, 70%, 50%)\",\"hsl(238.44155844155844, 70%, 50%)\",\"hsl(243.11688311688312, 70%, 50%)\",\"hsl(247.7922077922078, 70%, 50%)\",\"hsl(252.46753246753246, 70%, 50%)\"]},\"text\":[20.76,16.88,12.37,8.34,5.85,0.62,0.46,0.42,0.19,0.19],\"textposition\":\"outside\",\"x\":[\"Prawo i Sprawiedliwość\",\"Platforma Obywatelska\",\"Liga Polskich Rodzin\",\"Samoobrona\",\"Polskie Stronnictwo Ludowe\",\"Maciej Płażyński\",\"Kazimierz Julian Kutz\",\"Bogdan Borusewicz\",\"Nowy Senat 2005\",\"Marian Miłek\"],\"y\":[20.76,16.88,12.37,8.34,5.85,0.62,0.46,0.42,0.19,0.19],\"type\":\"bar\"}],\"name\":\"2005\"},{\"data\":[{\"marker\":{\"color\":[\"hsl(229.0909090909091, 70%, 50%)\",\"hsl(224.41558441558442, 70%, 50%)\",\"hsl(257.14285714285717, 70%, 50%)\"]},\"text\":[39.14,31.38,0.54],\"textposition\":\"outside\",\"x\":[\"Platforma Obywatelska\",\"Prawo i Sprawiedliwość\",\"Cimosiewicz do Senatu\"],\"y\":[39.14,31.38,0.54],\"type\":\"bar\"}],\"name\":\"2007\"},{\"data\":[{\"marker\":{\"color\":[\"hsl(229.0909090909091, 70%, 50%)\",\"hsl(224.41558441558442, 70%, 50%)\",\"hsl(18.7012987012987, 70%, 50%)\",\"hsl(261.8181818181818, 70%, 50%)\",\"hsl(266.4935064935065, 70%, 50%)\",\"hsl(271.16883116883116, 70%, 50%)\",\"hsl(275.84415584415586, 70%, 50%)\"]},\"text\":[36.6,26.94,9.38,1.8,0.72,0.56,0.27],\"textposition\":\"outside\",\"x\":[\"Platforma Obywatelska\",\"Prawo i Sprawiedliwość\",\"Polskie Stronnictwo Ludowe\",\"Rafał Dutkiewicz\",\"Marek Borowski\",\"Kaziemierz Kutz\",\"Cimoszewicz do Senatu\"],\"y\":[36.6,26.94,9.38,1.8,0.72,0.56,0.27],\"type\":\"bar\"}],\"name\":\"2011\"},{\"data\":[{\"marker\":{\"color\":[\"hsl(224.41558441558442, 70%, 50%)\",\"hsl(229.0909090909091, 70%, 50%)\",\"hsl(18.7012987012987, 70%, 50%)\",\"hsl(266.4935064935065, 70%, 50%)\",\"hsl(280.5194805194805, 70%, 50%)\",\"hsl(285.1948051948052, 70%, 50%)\",\"hsl(289.87012987012986, 70%, 50%)\"]},\"text\":[39.99,28.85,7.4,0.83,0.6,0.43,0.29],\"textposition\":\"outside\",\"x\":[\"Prawo i Sprawiedliwość\",\"Platforma Obywatelska\",\"Polskie Stronnictwo Ludowe\",\"Marek Borowski\",\"Jarosław Obremski\",\"Lidia Staroń\",\"Grzegorz Bierecki\"],\"y\":[39.99,28.85,7.4,0.83,0.6,0.43,0.29],\"type\":\"bar\"}],\"name\":\"2015\"},{\"data\":[{\"marker\":{\"color\":[\"hsl(224.41558441558442, 70%, 50%)\",\"hsl(229.0909090909091, 70%, 50%)\",\"hsl(18.7012987012987, 70%, 50%)\",\"hsl(32.72727272727273, 70%, 50%)\",\"hsl(285.1948051948052, 70%, 50%)\",\"hsl(294.54545454545456, 70%, 50%)\",\"hsl(299.2207792207792, 70%, 50%)\",\"hsl(303.8961038961039, 70%, 50%)\"]},\"text\":[44.56,35.66,5.72,2.28,0.58,0.44,0.35,0.25],\"textposition\":\"outside\",\"x\":[\"Prawo i Sprawiedliwość\",\"Platforma Obywatelska\",\"Polskie Stronnictwo Ludowe\",\"Sojusz Lewicy Demokratycznej\",\"Lidia Staroń\",\"Krzysztof Kwiatkowski\",\"Wadim Tyszkiewicz\",\"Demokracja Obywatelska\"],\"y\":[44.56,35.66,5.72,2.28,0.58,0.44,0.35,0.25],\"type\":\"bar\"}],\"name\":\"2019\"},{\"data\":[{\"marker\":{\"color\":[\"hsl(308.57142857142856, 70%, 50%)\",\"hsl(224.41558441558442, 70%, 50%)\",\"hsl(313.24675324675326, 70%, 50%)\",\"hsl(317.9220779220779, 70%, 50%)\",\"hsl(322.5974025974026, 70%, 50%)\",\"hsl(294.54545454545456, 70%, 50%)\",\"hsl(299.2207792207792, 70%, 50%)\",\"hsl(327.27272727272725, 70%, 50%)\",\"hsl(331.94805194805195, 70%, 50%)\",\"hsl(336.6233766233766, 70%, 50%)\",\"hsl(341.2987012987013, 70%, 50%)\",\"hsl(345.97402597402595, 70%, 50%)\",\"hsl(350.64935064935065, 70%, 50%)\",\"hsl(355.3246753246753, 70%, 50%)\"]},\"text\":[28.91,34.81,11.5,5.29,0.73,0.65,0.46,0.38,0.24,0.45,0.24,0.19,0.12,0.06],\"textposition\":\"outside\",\"x\":[\"Koalicja Obywatelska\",\"Prawo i Sprawiedliwość\",\"Trzecia Droga\",\"Nowa Lewica\",\"Zygmunt Frankiewicz\",\"Krzysztof Kwiatkowski\",\"Wadim Tyszkiewicz\",\"Andrzej Dziuba\",\"Józef Zajšc\",\"Nowa Demokracja - Tak \",\"Zjednoczenie Chrześcijańskich Rodzin\",\"Porozumienie Obywatelskie\",\"Zwišzek Słowiański\",\"Zjednoczeni\"],\"y\":[28.91,34.81,11.5,5.29,0.73,0.65,0.46,0.38,0.24,0.45,0.24,0.19,0.12,0.06],\"type\":\"bar\"}],\"name\":\"2023\"}]);\n",
       "                        }).then(function(){\n",
       "                            \n",
       "var gd = document.getElementById('8cbc8459-4f2e-4935-981d-4ebefae46848');\n",
       "var x = new MutationObserver(function (mutations, observer) {{\n",
       "        var display = window.getComputedStyle(gd).display;\n",
       "        if (!display || display === 'none') {{\n",
       "            console.log([gd, 'removed!']);\n",
       "            Plotly.purge(gd);\n",
       "            observer.disconnect();\n",
       "        }}\n",
       "}});\n",
       "\n",
       "// Listen for the removal of the full notebook cells\n",
       "var notebookContainer = gd.closest('#notebook-container');\n",
       "if (notebookContainer) {{\n",
       "    x.observe(notebookContainer, {childList: true});\n",
       "}}\n",
       "\n",
       "// Listen for the clearing of the current output cell\n",
       "var outputEl = gd.closest('.output');\n",
       "if (outputEl) {{\n",
       "    x.observe(outputEl, {childList: true});\n",
       "}}\n",
       "\n",
       "                        })                };                });            </script>        </div>"
      ]
     },
     "metadata": {},
     "output_type": "display_data"
    }
   ],
   "source": [
    "# Filtrowanie partii, które dostały się do Senatu\n",
    "df_sejm = df[df[\"MANDATY TAK NIE\"] == \"Tak\"].copy()\n",
    "\n",
    "# Konwersja kolumny 'GLOSY (%)' na liczby (float)\n",
    "df_sejm[\"GLOSY (%)\"] = pd.to_numeric(df_sejm[\"GLOSY (%)\"], errors='coerce')\n",
    "\n",
    "# Lista unikalnych lat i partii\n",
    "years = sorted(df_sejm[\"ROK\"].unique())\n",
    "partie = df_sejm[\"PARTIA\"].unique()\n",
    "\n",
    "# Kolory dla partii (przypisane na podstawie indeksu)\n",
    "colors = {\n",
    "    partia: f\"hsl({i * 360 / len(partie)}, 70%, 50%)\"\n",
    "    for i, partia in enumerate(partie)\n",
    "}\n",
    "\n",
    "# Inicjalizacja wykresu\n",
    "fig = go.Figure()\n",
    "\n",
    "# Dodanie pierwszego roku jako domyślnego widoku\n",
    "initial_year = years[0]\n",
    "df_initial = df_sejm[df_sejm[\"ROK\"] == initial_year]\n",
    "\n",
    "fig.add_trace(go.Bar(\n",
    "    x=df_initial[\"PARTIA\"],\n",
    "    y=df_initial[\"GLOSY (%)\"],\n",
    "    marker_color=[colors[p] for p in df_initial[\"PARTIA\"]],\n",
    "    text=df_initial[\"GLOSY (%)\"].round(2),\n",
    "    textposition='outside',\n",
    "    name=str(initial_year)\n",
    "))\n",
    "\n",
    "# Przygotowanie ramek animacji\n",
    "frames = []\n",
    "steps = []\n",
    "\n",
    "for year in years:\n",
    "    df_year = df_sejm[df_sejm[\"ROK\"] == year]\n",
    "    frame = go.Frame(\n",
    "        data=[go.Bar(\n",
    "            x=df_year[\"PARTIA\"],\n",
    "            y=df_year[\"GLOSY (%)\"],\n",
    "            marker_color=[colors[p] for p in df_year[\"PARTIA\"]],\n",
    "            text=df_year[\"GLOSY (%)\"].round(2),\n",
    "            textposition='outside'\n",
    "        )],\n",
    "        name=str(year)\n",
    "    )\n",
    "    frames.append(frame)\n",
    "\n",
    "    step = dict(\n",
    "        method=\"animate\",\n",
    "        args=[[str(year)], {\n",
    "            \"mode\": \"immediate\",\n",
    "            \"frame\": {\"duration\": 500, \"redraw\": True},\n",
    "            \"transition\": {\"duration\": 300}\n",
    "        }],\n",
    "        label=str(year)\n",
    "    )\n",
    "    steps.append(step)\n",
    "\n",
    "# Dodanie ramek animacji do figury\n",
    "fig.frames = frames\n",
    "\n",
    "# Layout wykresu\n",
    "fig.update_layout(\n",
    "    title=\"Poparcie partii w Senacie wg roku (GŁOSY %)\",\n",
    "    xaxis_title=\"Partia\",\n",
    "    yaxis_title=\"Głosy (%)\",\n",
    "    xaxis_tickangle=-45,\n",
    "    yaxis=dict(range=[0, df_sejm[\"GLOSY (%)\"].max() + 5]),\n",
    "    sliders=[{\n",
    "        \"active\": 0,\n",
    "        \"pad\": {\"t\": 50},\n",
    "        \"steps\": steps\n",
    "    }],\n",
    "    updatemenus=[{\n",
    "        \"type\": \"buttons\",\n",
    "        \"buttons\": [\n",
    "            {\"label\": \"Start\", \"method\": \"animate\", \"args\": [None, {\n",
    "                \"frame\": {\"duration\": 1000, \"redraw\": True},\n",
    "                \"fromcurrent\": True,\n",
    "                \"transition\": {\"duration\": 500}\n",
    "            }]},\n",
    "            {\"label\": \"Stop\", \"method\": \"animate\", \"args\": [[None], {\n",
    "                \"frame\": {\"duration\": 0, \"redraw\": False},\n",
    "                \"mode\": \"immediate\",\n",
    "                \"transition\": {\"duration\": 0}\n",
    "            }]}\n",
    "        ]\n",
    "    }],\n",
    "    showlegend=False\n",
    ")\n",
    "\n",
    "fig.show()"
   ]
  },
  {
   "cell_type": "markdown",
   "metadata": {
    "editable": true,
    "slideshow": {
     "slide_type": "fragment"
    },
    "tags": []
   },
   "source": [
    "### Największe poparcie miało Prawo i Sprawiedliwość w roku 2019 (44,56%), a najmniejsze poparcie miała partia Zjednoczeni w 1991 roku (0,06%)"
   ]
  },
  {
   "cell_type": "code",
   "execution_count": 89,
   "metadata": {
    "editable": true,
    "jupyter": {
     "source_hidden": true
    },
    "slideshow": {
     "slide_type": "slide"
    },
    "tags": []
   },
   "outputs": [
    {
     "data": {
      "application/vnd.plotly.v1+json": {
       "config": {
        "plotlyServerURL": "https://plot.ly"
       },
       "data": [
        {
         "line": {
          "color": "orange"
         },
         "mode": "lines+markers",
         "name": "Centrolewica",
         "type": "scatter",
         "x": [
          1991,
          1995,
          1997,
          2001,
          2005,
          2007,
          2011,
          2015,
          2019,
          2023
         ],
         "y": [
          19.997826323225738,
          11.056975241125585,
          12.42373821408763,
          0,
          23.13921242373821,
          0,
          0.6365806524951688,
          32.64513264513265,
          39.530374838431705,
          31.768098033158275
         ]
        },
        {
         "line": {
          "color": "green"
         },
         "mode": "lines+markers",
         "name": "Centroprawica",
         "type": "scatter",
         "x": [
          1991,
          1995,
          1997,
          2001,
          2005,
          2007,
          2011,
          2015,
          2019,
          2023
         ],
         "y": [
          34.724486468862075,
          26.8071989658944,
          37.63727121464226,
          15.709534368070956,
          31.75818080976151,
          81.86603364640315,
          75.12788450608161,
          50.90465090465091,
          50.58164584230936,
          41.95242508495521
         ]
        },
        {
         "line": {
          "color": "black"
         },
         "mode": "lines+markers",
         "name": "Centrum",
         "type": "scatter",
         "x": [
          1991,
          1995,
          1997,
          2001,
          2005,
          2007,
          2011,
          2015,
          2019,
          2023
         ],
         "y": [
          14.465818932724703,
          11.414934871233966,
          3.00610094287299,
          27.638580931263867,
          0.7099278979478646,
          0.33027144184126334,
          10.935546208934865,
          8.513708513708513,
          6.451960361912969,
          12.614560807331893
         ]
        },
        {
         "line": {
          "color": "red"
         },
         "mode": "lines+markers",
         "name": "Lewica",
         "type": "scatter",
         "x": [
          1991,
          1995,
          1997,
          2001,
          2005,
          2007,
          2011,
          2015,
          2019,
          2023
         ],
         "y": [
          13.791979132702966,
          37.0090484239833,
          33.64392678868552,
          49.645232815964526,
          26.222961730449253,
          16.874806481577046,
          12.083664885756507,
          5.483405483405484,
          2.4558380008616973,
          5.4474307486355675
         ]
        },
        {
         "line": {
          "color": "blue"
         },
         "mode": "lines+markers",
         "name": "Prawica",
         "type": "scatter",
         "x": [
          1991,
          1995,
          1997,
          2001,
          2005,
          2007,
          2011,
          2015,
          2019,
          2023
         ],
         "y": [
          17.019889142484512,
          13.711842497762753,
          13.28896283971159,
          7.006651884700667,
          18.16971713810316,
          0.9288884301785532,
          1.21632374673184,
          2.453102453102453,
          0.9801809564842741,
          8.217485325919062
         ]
        }
       ],
       "layout": {
        "hovermode": "x unified",
        "template": {
         "data": {
          "bar": [
           {
            "error_x": {
             "color": "#2a3f5f"
            },
            "error_y": {
             "color": "#2a3f5f"
            },
            "marker": {
             "line": {
              "color": "#E5ECF6",
              "width": 0.5
             },
             "pattern": {
              "fillmode": "overlay",
              "size": 10,
              "solidity": 0.2
             }
            },
            "type": "bar"
           }
          ],
          "barpolar": [
           {
            "marker": {
             "line": {
              "color": "#E5ECF6",
              "width": 0.5
             },
             "pattern": {
              "fillmode": "overlay",
              "size": 10,
              "solidity": 0.2
             }
            },
            "type": "barpolar"
           }
          ],
          "carpet": [
           {
            "aaxis": {
             "endlinecolor": "#2a3f5f",
             "gridcolor": "white",
             "linecolor": "white",
             "minorgridcolor": "white",
             "startlinecolor": "#2a3f5f"
            },
            "baxis": {
             "endlinecolor": "#2a3f5f",
             "gridcolor": "white",
             "linecolor": "white",
             "minorgridcolor": "white",
             "startlinecolor": "#2a3f5f"
            },
            "type": "carpet"
           }
          ],
          "choropleth": [
           {
            "colorbar": {
             "outlinewidth": 0,
             "ticks": ""
            },
            "type": "choropleth"
           }
          ],
          "contour": [
           {
            "colorbar": {
             "outlinewidth": 0,
             "ticks": ""
            },
            "colorscale": [
             [
              0,
              "#0d0887"
             ],
             [
              0.1111111111111111,
              "#46039f"
             ],
             [
              0.2222222222222222,
              "#7201a8"
             ],
             [
              0.3333333333333333,
              "#9c179e"
             ],
             [
              0.4444444444444444,
              "#bd3786"
             ],
             [
              0.5555555555555556,
              "#d8576b"
             ],
             [
              0.6666666666666666,
              "#ed7953"
             ],
             [
              0.7777777777777778,
              "#fb9f3a"
             ],
             [
              0.8888888888888888,
              "#fdca26"
             ],
             [
              1,
              "#f0f921"
             ]
            ],
            "type": "contour"
           }
          ],
          "contourcarpet": [
           {
            "colorbar": {
             "outlinewidth": 0,
             "ticks": ""
            },
            "type": "contourcarpet"
           }
          ],
          "heatmap": [
           {
            "colorbar": {
             "outlinewidth": 0,
             "ticks": ""
            },
            "colorscale": [
             [
              0,
              "#0d0887"
             ],
             [
              0.1111111111111111,
              "#46039f"
             ],
             [
              0.2222222222222222,
              "#7201a8"
             ],
             [
              0.3333333333333333,
              "#9c179e"
             ],
             [
              0.4444444444444444,
              "#bd3786"
             ],
             [
              0.5555555555555556,
              "#d8576b"
             ],
             [
              0.6666666666666666,
              "#ed7953"
             ],
             [
              0.7777777777777778,
              "#fb9f3a"
             ],
             [
              0.8888888888888888,
              "#fdca26"
             ],
             [
              1,
              "#f0f921"
             ]
            ],
            "type": "heatmap"
           }
          ],
          "heatmapgl": [
           {
            "colorbar": {
             "outlinewidth": 0,
             "ticks": ""
            },
            "colorscale": [
             [
              0,
              "#0d0887"
             ],
             [
              0.1111111111111111,
              "#46039f"
             ],
             [
              0.2222222222222222,
              "#7201a8"
             ],
             [
              0.3333333333333333,
              "#9c179e"
             ],
             [
              0.4444444444444444,
              "#bd3786"
             ],
             [
              0.5555555555555556,
              "#d8576b"
             ],
             [
              0.6666666666666666,
              "#ed7953"
             ],
             [
              0.7777777777777778,
              "#fb9f3a"
             ],
             [
              0.8888888888888888,
              "#fdca26"
             ],
             [
              1,
              "#f0f921"
             ]
            ],
            "type": "heatmapgl"
           }
          ],
          "histogram": [
           {
            "marker": {
             "pattern": {
              "fillmode": "overlay",
              "size": 10,
              "solidity": 0.2
             }
            },
            "type": "histogram"
           }
          ],
          "histogram2d": [
           {
            "colorbar": {
             "outlinewidth": 0,
             "ticks": ""
            },
            "colorscale": [
             [
              0,
              "#0d0887"
             ],
             [
              0.1111111111111111,
              "#46039f"
             ],
             [
              0.2222222222222222,
              "#7201a8"
             ],
             [
              0.3333333333333333,
              "#9c179e"
             ],
             [
              0.4444444444444444,
              "#bd3786"
             ],
             [
              0.5555555555555556,
              "#d8576b"
             ],
             [
              0.6666666666666666,
              "#ed7953"
             ],
             [
              0.7777777777777778,
              "#fb9f3a"
             ],
             [
              0.8888888888888888,
              "#fdca26"
             ],
             [
              1,
              "#f0f921"
             ]
            ],
            "type": "histogram2d"
           }
          ],
          "histogram2dcontour": [
           {
            "colorbar": {
             "outlinewidth": 0,
             "ticks": ""
            },
            "colorscale": [
             [
              0,
              "#0d0887"
             ],
             [
              0.1111111111111111,
              "#46039f"
             ],
             [
              0.2222222222222222,
              "#7201a8"
             ],
             [
              0.3333333333333333,
              "#9c179e"
             ],
             [
              0.4444444444444444,
              "#bd3786"
             ],
             [
              0.5555555555555556,
              "#d8576b"
             ],
             [
              0.6666666666666666,
              "#ed7953"
             ],
             [
              0.7777777777777778,
              "#fb9f3a"
             ],
             [
              0.8888888888888888,
              "#fdca26"
             ],
             [
              1,
              "#f0f921"
             ]
            ],
            "type": "histogram2dcontour"
           }
          ],
          "mesh3d": [
           {
            "colorbar": {
             "outlinewidth": 0,
             "ticks": ""
            },
            "type": "mesh3d"
           }
          ],
          "parcoords": [
           {
            "line": {
             "colorbar": {
              "outlinewidth": 0,
              "ticks": ""
             }
            },
            "type": "parcoords"
           }
          ],
          "pie": [
           {
            "automargin": true,
            "type": "pie"
           }
          ],
          "scatter": [
           {
            "fillpattern": {
             "fillmode": "overlay",
             "size": 10,
             "solidity": 0.2
            },
            "type": "scatter"
           }
          ],
          "scatter3d": [
           {
            "line": {
             "colorbar": {
              "outlinewidth": 0,
              "ticks": ""
             }
            },
            "marker": {
             "colorbar": {
              "outlinewidth": 0,
              "ticks": ""
             }
            },
            "type": "scatter3d"
           }
          ],
          "scattercarpet": [
           {
            "marker": {
             "colorbar": {
              "outlinewidth": 0,
              "ticks": ""
             }
            },
            "type": "scattercarpet"
           }
          ],
          "scattergeo": [
           {
            "marker": {
             "colorbar": {
              "outlinewidth": 0,
              "ticks": ""
             }
            },
            "type": "scattergeo"
           }
          ],
          "scattergl": [
           {
            "marker": {
             "colorbar": {
              "outlinewidth": 0,
              "ticks": ""
             }
            },
            "type": "scattergl"
           }
          ],
          "scattermapbox": [
           {
            "marker": {
             "colorbar": {
              "outlinewidth": 0,
              "ticks": ""
             }
            },
            "type": "scattermapbox"
           }
          ],
          "scatterpolar": [
           {
            "marker": {
             "colorbar": {
              "outlinewidth": 0,
              "ticks": ""
             }
            },
            "type": "scatterpolar"
           }
          ],
          "scatterpolargl": [
           {
            "marker": {
             "colorbar": {
              "outlinewidth": 0,
              "ticks": ""
             }
            },
            "type": "scatterpolargl"
           }
          ],
          "scatterternary": [
           {
            "marker": {
             "colorbar": {
              "outlinewidth": 0,
              "ticks": ""
             }
            },
            "type": "scatterternary"
           }
          ],
          "surface": [
           {
            "colorbar": {
             "outlinewidth": 0,
             "ticks": ""
            },
            "colorscale": [
             [
              0,
              "#0d0887"
             ],
             [
              0.1111111111111111,
              "#46039f"
             ],
             [
              0.2222222222222222,
              "#7201a8"
             ],
             [
              0.3333333333333333,
              "#9c179e"
             ],
             [
              0.4444444444444444,
              "#bd3786"
             ],
             [
              0.5555555555555556,
              "#d8576b"
             ],
             [
              0.6666666666666666,
              "#ed7953"
             ],
             [
              0.7777777777777778,
              "#fb9f3a"
             ],
             [
              0.8888888888888888,
              "#fdca26"
             ],
             [
              1,
              "#f0f921"
             ]
            ],
            "type": "surface"
           }
          ],
          "table": [
           {
            "cells": {
             "fill": {
              "color": "#EBF0F8"
             },
             "line": {
              "color": "white"
             }
            },
            "header": {
             "fill": {
              "color": "#C8D4E3"
             },
             "line": {
              "color": "white"
             }
            },
            "type": "table"
           }
          ]
         },
         "layout": {
          "annotationdefaults": {
           "arrowcolor": "#2a3f5f",
           "arrowhead": 0,
           "arrowwidth": 1
          },
          "autotypenumbers": "strict",
          "coloraxis": {
           "colorbar": {
            "outlinewidth": 0,
            "ticks": ""
           }
          },
          "colorscale": {
           "diverging": [
            [
             0,
             "#8e0152"
            ],
            [
             0.1,
             "#c51b7d"
            ],
            [
             0.2,
             "#de77ae"
            ],
            [
             0.3,
             "#f1b6da"
            ],
            [
             0.4,
             "#fde0ef"
            ],
            [
             0.5,
             "#f7f7f7"
            ],
            [
             0.6,
             "#e6f5d0"
            ],
            [
             0.7,
             "#b8e186"
            ],
            [
             0.8,
             "#7fbc41"
            ],
            [
             0.9,
             "#4d9221"
            ],
            [
             1,
             "#276419"
            ]
           ],
           "sequential": [
            [
             0,
             "#0d0887"
            ],
            [
             0.1111111111111111,
             "#46039f"
            ],
            [
             0.2222222222222222,
             "#7201a8"
            ],
            [
             0.3333333333333333,
             "#9c179e"
            ],
            [
             0.4444444444444444,
             "#bd3786"
            ],
            [
             0.5555555555555556,
             "#d8576b"
            ],
            [
             0.6666666666666666,
             "#ed7953"
            ],
            [
             0.7777777777777778,
             "#fb9f3a"
            ],
            [
             0.8888888888888888,
             "#fdca26"
            ],
            [
             1,
             "#f0f921"
            ]
           ],
           "sequentialminus": [
            [
             0,
             "#0d0887"
            ],
            [
             0.1111111111111111,
             "#46039f"
            ],
            [
             0.2222222222222222,
             "#7201a8"
            ],
            [
             0.3333333333333333,
             "#9c179e"
            ],
            [
             0.4444444444444444,
             "#bd3786"
            ],
            [
             0.5555555555555556,
             "#d8576b"
            ],
            [
             0.6666666666666666,
             "#ed7953"
            ],
            [
             0.7777777777777778,
             "#fb9f3a"
            ],
            [
             0.8888888888888888,
             "#fdca26"
            ],
            [
             1,
             "#f0f921"
            ]
           ]
          },
          "colorway": [
           "#636efa",
           "#EF553B",
           "#00cc96",
           "#ab63fa",
           "#FFA15A",
           "#19d3f3",
           "#FF6692",
           "#B6E880",
           "#FF97FF",
           "#FECB52"
          ],
          "font": {
           "color": "#2a3f5f"
          },
          "geo": {
           "bgcolor": "white",
           "lakecolor": "white",
           "landcolor": "#E5ECF6",
           "showlakes": true,
           "showland": true,
           "subunitcolor": "white"
          },
          "hoverlabel": {
           "align": "left"
          },
          "hovermode": "closest",
          "mapbox": {
           "style": "light"
          },
          "paper_bgcolor": "white",
          "plot_bgcolor": "#E5ECF6",
          "polar": {
           "angularaxis": {
            "gridcolor": "white",
            "linecolor": "white",
            "ticks": ""
           },
           "bgcolor": "#E5ECF6",
           "radialaxis": {
            "gridcolor": "white",
            "linecolor": "white",
            "ticks": ""
           }
          },
          "scene": {
           "xaxis": {
            "backgroundcolor": "#E5ECF6",
            "gridcolor": "white",
            "gridwidth": 2,
            "linecolor": "white",
            "showbackground": true,
            "ticks": "",
            "zerolinecolor": "white"
           },
           "yaxis": {
            "backgroundcolor": "#E5ECF6",
            "gridcolor": "white",
            "gridwidth": 2,
            "linecolor": "white",
            "showbackground": true,
            "ticks": "",
            "zerolinecolor": "white"
           },
           "zaxis": {
            "backgroundcolor": "#E5ECF6",
            "gridcolor": "white",
            "gridwidth": 2,
            "linecolor": "white",
            "showbackground": true,
            "ticks": "",
            "zerolinecolor": "white"
           }
          },
          "shapedefaults": {
           "line": {
            "color": "#2a3f5f"
           }
          },
          "ternary": {
           "aaxis": {
            "gridcolor": "white",
            "linecolor": "white",
            "ticks": ""
           },
           "baxis": {
            "gridcolor": "white",
            "linecolor": "white",
            "ticks": ""
           },
           "bgcolor": "#E5ECF6",
           "caxis": {
            "gridcolor": "white",
            "linecolor": "white",
            "ticks": ""
           }
          },
          "title": {
           "x": 0.05
          },
          "xaxis": {
           "automargin": true,
           "gridcolor": "white",
           "linecolor": "white",
           "ticks": "",
           "title": {
            "standoff": 15
           },
           "zerolinecolor": "white",
           "zerolinewidth": 2
          },
          "yaxis": {
           "automargin": true,
           "gridcolor": "white",
           "linecolor": "white",
           "ticks": "",
           "title": {
            "standoff": 15
           },
           "zerolinecolor": "white",
           "zerolinewidth": 2
          }
         }
        },
        "title": {
         "text": "Udział procentowy kategorii poglądów partii na przestrzeni lat"
        },
        "xaxis": {
         "title": {
          "text": "Rok"
         }
        },
        "yaxis": {
         "range": [
          0,
          100
         ],
         "title": {
          "text": "Udział procentowy (%)"
         }
        }
       }
      },
      "image/png": "[encoded data removed]",
      "text/html": [
       "<div>                            <div id=\"bcc03ed8-d081-43e3-b440-05f21a7d4404\" class=\"plotly-graph-div\" style=\"height:525px; width:100%;\"></div>            <script type=\"text/javascript\">                require([\"plotly\"], function(Plotly) {                    window.PLOTLYENV=window.PLOTLYENV || {};                                    if (document.getElementById(\"bcc03ed8-d081-43e3-b440-05f21a7d4404\")) {                    Plotly.newPlot(                        \"bcc03ed8-d081-43e3-b440-05f21a7d4404\",                        [{\"line\":{\"color\":\"orange\"},\"mode\":\"lines+markers\",\"name\":\"Centrolewica\",\"x\":[1991,1995,1997,2001,2005,2007,2011,2015,2019,2023],\"y\":[19.997826323225738,11.056975241125585,12.42373821408763,0,23.13921242373821,0,0.6365806524951688,32.64513264513265,39.530374838431705,31.768098033158275],\"type\":\"scatter\"},{\"line\":{\"color\":\"green\"},\"mode\":\"lines+markers\",\"name\":\"Centroprawica\",\"x\":[1991,1995,1997,2001,2005,2007,2011,2015,2019,2023],\"y\":[34.724486468862075,26.8071989658944,37.63727121464226,15.709534368070956,31.75818080976151,81.86603364640315,75.12788450608161,50.90465090465091,50.58164584230936,41.95242508495521],\"type\":\"scatter\"},{\"line\":{\"color\":\"black\"},\"mode\":\"lines+markers\",\"name\":\"Centrum\",\"x\":[1991,1995,1997,2001,2005,2007,2011,2015,2019,2023],\"y\":[14.465818932724703,11.414934871233966,3.00610094287299,27.638580931263867,0.7099278979478646,0.33027144184126334,10.935546208934865,8.513708513708513,6.451960361912969,12.614560807331893],\"type\":\"scatter\"},{\"line\":{\"color\":\"red\"},\"mode\":\"lines+markers\",\"name\":\"Lewica\",\"x\":[1991,1995,1997,2001,2005,2007,2011,2015,2019,2023],\"y\":[13.791979132702966,37.0090484239833,33.64392678868552,49.645232815964526,26.222961730449253,16.874806481577046,12.083664885756507,5.483405483405484,2.4558380008616973,5.4474307486355675],\"type\":\"scatter\"},{\"line\":{\"color\":\"blue\"},\"mode\":\"lines+markers\",\"name\":\"Prawica\",\"x\":[1991,1995,1997,2001,2005,2007,2011,2015,2019,2023],\"y\":[17.019889142484512,13.711842497762753,13.28896283971159,7.006651884700667,18.16971713810316,0.9288884301785532,1.21632374673184,2.453102453102453,0.9801809564842741,8.217485325919062],\"type\":\"scatter\"}],                        {\"template\":{\"data\":{\"histogram2dcontour\":[{\"type\":\"histogram2dcontour\",\"colorbar\":{\"outlinewidth\":0,\"ticks\":\"\"},\"colorscale\":[[0.0,\"#0d0887\"],[0.1111111111111111,\"#46039f\"],[0.2222222222222222,\"#7201a8\"],[0.3333333333333333,\"#9c179e\"],[0.4444444444444444,\"#bd3786\"],[0.5555555555555556,\"#d8576b\"],[0.6666666666666666,\"#ed7953\"],[0.7777777777777778,\"#fb9f3a\"],[0.8888888888888888,\"#fdca26\"],[1.0,\"#f0f921\"]]}],\"choropleth\":[{\"type\":\"choropleth\",\"colorbar\":{\"outlinewidth\":0,\"ticks\":\"\"}}],\"histogram2d\":[{\"type\":\"histogram2d\",\"colorbar\":{\"outlinewidth\":0,\"ticks\":\"\"},\"colorscale\":[[0.0,\"#0d0887\"],[0.1111111111111111,\"#46039f\"],[0.2222222222222222,\"#7201a8\"],[0.3333333333333333,\"#9c179e\"],[0.4444444444444444,\"#bd3786\"],[0.5555555555555556,\"#d8576b\"],[0.6666666666666666,\"#ed7953\"],[0.7777777777777778,\"#fb9f3a\"],[0.8888888888888888,\"#fdca26\"],[1.0,\"#f0f921\"]]}],\"heatmap\":[{\"type\":\"heatmap\",\"colorbar\":{\"outlinewidth\":0,\"ticks\":\"\"},\"colorscale\":[[0.0,\"#0d0887\"],[0.1111111111111111,\"#46039f\"],[0.2222222222222222,\"#7201a8\"],[0.3333333333333333,\"#9c179e\"],[0.4444444444444444,\"#bd3786\"],[0.5555555555555556,\"#d8576b\"],[0.6666666666666666,\"#ed7953\"],[0.7777777777777778,\"#fb9f3a\"],[0.8888888888888888,\"#fdca26\"],[1.0,\"#f0f921\"]]}],\"heatmapgl\":[{\"type\":\"heatmapgl\",\"colorbar\":{\"outlinewidth\":0,\"ticks\":\"\"},\"colorscale\":[[0.0,\"#0d0887\"],[0.1111111111111111,\"#46039f\"],[0.2222222222222222,\"#7201a8\"],[0.3333333333333333,\"#9c179e\"],[0.4444444444444444,\"#bd3786\"],[0.5555555555555556,\"#d8576b\"],[0.6666666666666666,\"#ed7953\"],[0.7777777777777778,\"#fb9f3a\"],[0.8888888888888888,\"#fdca26\"],[1.0,\"#f0f921\"]]}],\"contourcarpet\":[{\"type\":\"contourcarpet\",\"colorbar\":{\"outlinewidth\":0,\"ticks\":\"\"}}],\"contour\":[{\"type\":\"contour\",\"colorbar\":{\"outlinewidth\":0,\"ticks\":\"\"},\"colorscale\":[[0.0,\"#0d0887\"],[0.1111111111111111,\"#46039f\"],[0.2222222222222222,\"#7201a8\"],[0.3333333333333333,\"#9c179e\"],[0.4444444444444444,\"#bd3786\"],[0.5555555555555556,\"#d8576b\"],[0.6666666666666666,\"#ed7953\"],[0.7777777777777778,\"#fb9f3a\"],[0.8888888888888888,\"#fdca26\"],[1.0,\"#f0f921\"]]}],\"surface\":[{\"type\":\"surface\",\"colorbar\":{\"outlinewidth\":0,\"ticks\":\"\"},\"colorscale\":[[0.0,\"#0d0887\"],[0.1111111111111111,\"#46039f\"],[0.2222222222222222,\"#7201a8\"],[0.3333333333333333,\"#9c179e\"],[0.4444444444444444,\"#bd3786\"],[0.5555555555555556,\"#d8576b\"],[0.6666666666666666,\"#ed7953\"],[0.7777777777777778,\"#fb9f3a\"],[0.8888888888888888,\"#fdca26\"],[1.0,\"#f0f921\"]]}],\"mesh3d\":[{\"type\":\"mesh3d\",\"colorbar\":{\"outlinewidth\":0,\"ticks\":\"\"}}],\"scatter\":[{\"fillpattern\":{\"fillmode\":\"overlay\",\"size\":10,\"solidity\":0.2},\"type\":\"scatter\"}],\"parcoords\":[{\"type\":\"parcoords\",\"line\":{\"colorbar\":{\"outlinewidth\":0,\"ticks\":\"\"}}}],\"scatterpolargl\":[{\"type\":\"scatterpolargl\",\"marker\":{\"colorbar\":{\"outlinewidth\":0,\"ticks\":\"\"}}}],\"bar\":[{\"error_x\":{\"color\":\"#2a3f5f\"},\"error_y\":{\"color\":\"#2a3f5f\"},\"marker\":{\"line\":{\"color\":\"#E5ECF6\",\"width\":0.5},\"pattern\":{\"fillmode\":\"overlay\",\"size\":10,\"solidity\":0.2}},\"type\":\"bar\"}],\"scattergeo\":[{\"type\":\"scattergeo\",\"marker\":{\"colorbar\":{\"outlinewidth\":0,\"ticks\":\"\"}}}],\"scatterpolar\":[{\"type\":\"scatterpolar\",\"marker\":{\"colorbar\":{\"outlinewidth\":0,\"ticks\":\"\"}}}],\"histogram\":[{\"marker\":{\"pattern\":{\"fillmode\":\"overlay\",\"size\":10,\"solidity\":0.2}},\"type\":\"histogram\"}],\"scattergl\":[{\"type\":\"scattergl\",\"marker\":{\"colorbar\":{\"outlinewidth\":0,\"ticks\":\"\"}}}],\"scatter3d\":[{\"type\":\"scatter3d\",\"line\":{\"colorbar\":{\"outlinewidth\":0,\"ticks\":\"\"}},\"marker\":{\"colorbar\":{\"outlinewidth\":0,\"ticks\":\"\"}}}],\"scattermapbox\":[{\"type\":\"scattermapbox\",\"marker\":{\"colorbar\":{\"outlinewidth\":0,\"ticks\":\"\"}}}],\"scatterternary\":[{\"type\":\"scatterternary\",\"marker\":{\"colorbar\":{\"outlinewidth\":0,\"ticks\":\"\"}}}],\"scattercarpet\":[{\"type\":\"scattercarpet\",\"marker\":{\"colorbar\":{\"outlinewidth\":0,\"ticks\":\"\"}}}],\"carpet\":[{\"aaxis\":{\"endlinecolor\":\"#2a3f5f\",\"gridcolor\":\"white\",\"linecolor\":\"white\",\"minorgridcolor\":\"white\",\"startlinecolor\":\"#2a3f5f\"},\"baxis\":{\"endlinecolor\":\"#2a3f5f\",\"gridcolor\":\"white\",\"linecolor\":\"white\",\"minorgridcolor\":\"white\",\"startlinecolor\":\"#2a3f5f\"},\"type\":\"carpet\"}],\"table\":[{\"cells\":{\"fill\":{\"color\":\"#EBF0F8\"},\"line\":{\"color\":\"white\"}},\"header\":{\"fill\":{\"color\":\"#C8D4E3\"},\"line\":{\"color\":\"white\"}},\"type\":\"table\"}],\"barpolar\":[{\"marker\":{\"line\":{\"color\":\"#E5ECF6\",\"width\":0.5},\"pattern\":{\"fillmode\":\"overlay\",\"size\":10,\"solidity\":0.2}},\"type\":\"barpolar\"}],\"pie\":[{\"automargin\":true,\"type\":\"pie\"}]},\"layout\":{\"autotypenumbers\":\"strict\",\"colorway\":[\"#636efa\",\"#EF553B\",\"#00cc96\",\"#ab63fa\",\"#FFA15A\",\"#19d3f3\",\"#FF6692\",\"#B6E880\",\"#FF97FF\",\"#FECB52\"],\"font\":{\"color\":\"#2a3f5f\"},\"hovermode\":\"closest\",\"hoverlabel\":{\"align\":\"left\"},\"paper_bgcolor\":\"white\",\"plot_bgcolor\":\"#E5ECF6\",\"polar\":{\"bgcolor\":\"#E5ECF6\",\"angularaxis\":{\"gridcolor\":\"white\",\"linecolor\":\"white\",\"ticks\":\"\"},\"radialaxis\":{\"gridcolor\":\"white\",\"linecolor\":\"white\",\"ticks\":\"\"}},\"ternary\":{\"bgcolor\":\"#E5ECF6\",\"aaxis\":{\"gridcolor\":\"white\",\"linecolor\":\"white\",\"ticks\":\"\"},\"baxis\":{\"gridcolor\":\"white\",\"linecolor\":\"white\",\"ticks\":\"\"},\"caxis\":{\"gridcolor\":\"white\",\"linecolor\":\"white\",\"ticks\":\"\"}},\"coloraxis\":{\"colorbar\":{\"outlinewidth\":0,\"ticks\":\"\"}},\"colorscale\":{\"sequential\":[[0.0,\"#0d0887\"],[0.1111111111111111,\"#46039f\"],[0.2222222222222222,\"#7201a8\"],[0.3333333333333333,\"#9c179e\"],[0.4444444444444444,\"#bd3786\"],[0.5555555555555556,\"#d8576b\"],[0.6666666666666666,\"#ed7953\"],[0.7777777777777778,\"#fb9f3a\"],[0.8888888888888888,\"#fdca26\"],[1.0,\"#f0f921\"]],\"sequentialminus\":[[0.0,\"#0d0887\"],[0.1111111111111111,\"#46039f\"],[0.2222222222222222,\"#7201a8\"],[0.3333333333333333,\"#9c179e\"],[0.4444444444444444,\"#bd3786\"],[0.5555555555555556,\"#d8576b\"],[0.6666666666666666,\"#ed7953\"],[0.7777777777777778,\"#fb9f3a\"],[0.8888888888888888,\"#fdca26\"],[1.0,\"#f0f921\"]],\"diverging\":[[0,\"#8e0152\"],[0.1,\"#c51b7d\"],[0.2,\"#de77ae\"],[0.3,\"#f1b6da\"],[0.4,\"#fde0ef\"],[0.5,\"#f7f7f7\"],[0.6,\"#e6f5d0\"],[0.7,\"#b8e186\"],[0.8,\"#7fbc41\"],[0.9,\"#4d9221\"],[1,\"#276419\"]]},\"xaxis\":{\"gridcolor\":\"white\",\"linecolor\":\"white\",\"ticks\":\"\",\"title\":{\"standoff\":15},\"zerolinecolor\":\"white\",\"automargin\":true,\"zerolinewidth\":2},\"yaxis\":{\"gridcolor\":\"white\",\"linecolor\":\"white\",\"ticks\":\"\",\"title\":{\"standoff\":15},\"zerolinecolor\":\"white\",\"automargin\":true,\"zerolinewidth\":2},\"scene\":{\"xaxis\":{\"backgroundcolor\":\"#E5ECF6\",\"gridcolor\":\"white\",\"linecolor\":\"white\",\"showbackground\":true,\"ticks\":\"\",\"zerolinecolor\":\"white\",\"gridwidth\":2},\"yaxis\":{\"backgroundcolor\":\"#E5ECF6\",\"gridcolor\":\"white\",\"linecolor\":\"white\",\"showbackground\":true,\"ticks\":\"\",\"zerolinecolor\":\"white\",\"gridwidth\":2},\"zaxis\":{\"backgroundcolor\":\"#E5ECF6\",\"gridcolor\":\"white\",\"linecolor\":\"white\",\"showbackground\":true,\"ticks\":\"\",\"zerolinecolor\":\"white\",\"gridwidth\":2}},\"shapedefaults\":{\"line\":{\"color\":\"#2a3f5f\"}},\"annotationdefaults\":{\"arrowcolor\":\"#2a3f5f\",\"arrowhead\":0,\"arrowwidth\":1},\"geo\":{\"bgcolor\":\"white\",\"landcolor\":\"#E5ECF6\",\"subunitcolor\":\"white\",\"showland\":true,\"showlakes\":true,\"lakecolor\":\"white\"},\"title\":{\"x\":0.05},\"mapbox\":{\"style\":\"light\"}}},\"yaxis\":{\"title\":{\"text\":\"Udział procentowy (%)\"},\"range\":[0,100]},\"title\":{\"text\":\"Udział procentowy kategorii poglądów partii na przestrzeni lat\"},\"xaxis\":{\"title\":{\"text\":\"Rok\"}},\"hovermode\":\"x unified\"},                        {\"responsive\": true}                    ).then(function(){\n",
       "                            \n",
       "var gd = document.getElementById('bcc03ed8-d081-43e3-b440-05f21a7d4404');\n",
       "var x = new MutationObserver(function (mutations, observer) {{\n",
       "        var display = window.getComputedStyle(gd).display;\n",
       "        if (!display || display === 'none') {{\n",
       "            console.log([gd, 'removed!']);\n",
       "            Plotly.purge(gd);\n",
       "            observer.disconnect();\n",
       "        }}\n",
       "}});\n",
       "\n",
       "// Listen for the removal of the full notebook cells\n",
       "var notebookContainer = gd.closest('#notebook-container');\n",
       "if (notebookContainer) {{\n",
       "    x.observe(notebookContainer, {childList: true});\n",
       "}}\n",
       "\n",
       "// Listen for the clearing of the current output cell\n",
       "var outputEl = gd.closest('.output');\n",
       "if (outputEl) {{\n",
       "    x.observe(outputEl, {childList: true});\n",
       "}}\n",
       "\n",
       "                        })                };                });            </script>        </div>"
      ]
     },
     "metadata": {},
     "output_type": "display_data"
    }
   ],
   "source": [
    "# Konwersja kolumny 'GLOSY (%)' do liczby (float)\n",
    "df[\"GLOSY (%)\"] = pd.to_numeric(df[\"GLOSY (%)\"], errors='coerce')\n",
    "\n",
    "# Grupujemy dane: suma procentowego poparcia (GLOSY (%)) wg roku i kategorii poglądów\n",
    "df_grouped = df.groupby([\"ROK\", \"POGLADY\"])[\"GLOSY (%)\"].sum().reset_index()\n",
    "\n",
    "# Suma procentowego poparcia w każdym roku (powinna być około 100)\n",
    "rok_sumy = df_grouped.groupby(\"ROK\")[\"GLOSY (%)\"].sum().reset_index().rename(columns={\"GLOSY (%)\": \"SUMA_ROK\"})\n",
    "\n",
    "# Dołączamy sumę do df_grouped\n",
    "df_grouped = df_grouped.merge(rok_sumy, on=\"ROK\")\n",
    "\n",
    "# Obliczamy udział procentowy danej kategorii w roku (normalizacja)\n",
    "df_grouped[\"UDZIAL_PROC\"] = (df_grouped[\"GLOSY (%)\"] / df_grouped[\"SUMA_ROK\"]) * 100\n",
    "\n",
    "# Listy lat i kategorii poglądów\n",
    "years = sorted(df_grouped[\"ROK\"].unique())\n",
    "categories = df_grouped[\"POGLADY\"].unique()\n",
    "\n",
    "# Kolory dla kategorii (możesz zmienić według upodobań)\n",
    "colors = {\n",
    "    \"Prawica\": \"blue\",\n",
    "    \"Centroprawica\": \"green\",\n",
    "    \"Centrum\": \"black\",\n",
    "    \"Centrolewica\": \"orange\",\n",
    "    \"Lewica\": \"red\"\n",
    "}\n",
    "\n",
    "# Tworzymy wykres liniowy\n",
    "fig = go.Figure()\n",
    "\n",
    "for cat in categories:\n",
    "    y_values = []\n",
    "    for year in years:\n",
    "        val = df_grouped[(df_grouped[\"ROK\"] == year) & (df_grouped[\"POGLADY\"] == cat)][\"UDZIAL_PROC\"]\n",
    "        y_values.append(val.values[0] if not val.empty else 0)\n",
    "\n",
    "    fig.add_trace(go.Scatter(\n",
    "        x=years,\n",
    "        y=y_values,\n",
    "        mode='lines+markers',\n",
    "        name=cat,\n",
    "        line=dict(color=colors.get(cat, \"gray\"))\n",
    "    ))\n",
    "\n",
    "# Layout wykresu\n",
    "fig.update_layout(\n",
    "    title=\"Udział procentowy kategorii poglądów partii na przestrzeni lat\",\n",
    "    xaxis_title=\"Rok\",\n",
    "    yaxis_title=\"Udział procentowy (%)\",\n",
    "    yaxis=dict(range=[0, 100]),\n",
    "    hovermode=\"x unified\"\n",
    ")\n",
    "\n",
    "fig.show()"
   ]
  },
  {
   "cell_type": "markdown",
   "metadata": {
    "editable": true,
    "slideshow": {
     "slide_type": "fragment"
    },
    "tags": []
   },
   "source": [
    "### W 2007 roku centroprawica cieszyła się najwyższym - 81,87% - poparciem. Najgorsze poparcie miały poglądy centrolewicowe w 2001 i 2007 roku (0%). Prawica od 2007 do 2019 praktycznie nie istniała na scenie politycznej, podobnie jak centrum od 2005 do 2007.\n",
    "### Najlepsze i najgorsze wyniki poszczególnych poglądów:\n",
    "##### - prawica: najlepszy: rok 1991 - 17,02%; najgorszy: rok 2007 - 0,93%\n",
    "##### - centroprawica: najlepszy: rok 2007 - 81,87%; najgorszy: rok 2001 - 15,71%\n",
    "##### - centrum: najlepszy: rok 2001 - 27,64%; najgorszy: rok 2007 - 0,33%\n",
    "##### - centrolewica: najlepszy: rok 2019 - 39,53%; najgorszy: rok 2001 - 0%\n",
    "##### - lewica: najlepszy: rok 2001 - 49,65%; najgorszy: rok 2019 - 2,46%"
   ]
  },
  {
   "cell_type": "markdown",
   "metadata": {
    "editable": true,
    "slideshow": {
     "slide_type": "slide"
    },
    "tags": []
   },
   "source": [
    "# Sprawdzanie korelacji między zmiennymi"
   ]
  },
  {
   "cell_type": "code",
   "execution_count": 90,
   "metadata": {
    "editable": true,
    "jupyter": {
     "source_hidden": true
    },
    "slideshow": {
     "slide_type": "fragment"
    },
    "tags": []
   },
   "outputs": [
    {
     "data": {
      "image/png": "[encoded data removed]",
      "text/plain": [
       "<Figure size 500x400 with 2 Axes>"
      ]
     },
     "metadata": {},
     "output_type": "display_data"
    }
   ],
   "source": [
    "# Mapowanie 'POGLADY' na wartości numeryczne\n",
    "poglady_map = {\n",
    "    \"Prawica\": 4,\n",
    "    \"Centroprawica\": 3,\n",
    "    \"Centrum\": 2,\n",
    "    \"Centrolewica\": 1,\n",
    "    \"Lewica\": 0\n",
    "}\n",
    "df[\"POGLADY_NUM\"] = df[\"POGLADY\"].map(poglady_map)\n",
    "\n",
    "# Konwersja 'GLOSY (%)' na numeryczne\n",
    "df[\"GLOSY (%)\"] = pd.to_numeric(df[\"GLOSY (%)\"], errors='coerce')\n",
    "\n",
    "# Wybór kolumn do korelacji\n",
    "cols = [\"POGLADY_NUM\", \"GLOSY (%)\"]\n",
    "corr_df = df[cols].dropna()\n",
    "\n",
    "# Obliczenie macierzy korelacji\n",
    "corr_matrix = corr_df.corr()\n",
    "\n",
    "# Wizualizacja korelacji\n",
    "plt.figure(figsize=(5,4))\n",
    "sns.heatmap(\n",
    "    corr_matrix,\n",
    "    annot=True,\n",
    "    cmap=\"coolwarm\",\n",
    "    center=0,\n",
    "    fmt=\".2f\",\n",
    "    annot_kws={\"color\": \"black\"},\n",
    "    cbar_kws={\"shrink\": 0.8}\n",
    ")\n",
    "plt.title(\"Macierz korelacji: POGLADY i GLOSY (%)\")\n",
    "plt.show()"
   ]
  },
  {
   "cell_type": "code",
   "execution_count": 91,
   "metadata": {
    "editable": true,
    "jupyter": {
     "source_hidden": true
    },
    "slideshow": {
     "slide_type": "fragment"
    },
    "tags": []
   },
   "outputs": [
    {
     "data": {
      "image/png": "[encoded data removed]",
      "text/plain": [
       "<Figure size 400x300 with 2 Axes>"
      ]
     },
     "metadata": {},
     "output_type": "display_data"
    }
   ],
   "source": [
    "# Zamiana PARTIA na numeryczne kody\n",
    "df[\"PARTIA_NUM\"] = df[\"PARTIA\"].astype('category').cat.codes\n",
    "\n",
    "# Konwersja GLOSY (%) na liczby\n",
    "df[\"GLOSY (%)\"] = pd.to_numeric(df[\"GLOSY (%)\"], errors='coerce')\n",
    "\n",
    "# Wybieramy kolumny i usuwamy NaN\n",
    "corr_df = df[[\"PARTIA_NUM\", \"GLOSY (%)\"]].dropna()\n",
    "\n",
    "# Obliczamy korelację\n",
    "corr_matrix = corr_df.corr()\n",
    "\n",
    "# Rysujemy heatmapę\n",
    "plt.figure(figsize=(4,3))\n",
    "sns.heatmap(\n",
    "    corr_matrix,\n",
    "    annot=True,\n",
    "    cmap=\"coolwarm\",\n",
    "    center=0,\n",
    "    fmt=\".2f\",\n",
    "    annot_kws={\"color\": \"black\"},\n",
    "    cbar_kws={\"shrink\": 0.8}\n",
    ")\n",
    "plt.title(\"Macierz korelacji: PARTIA i GLOSY (%)\")\n",
    "plt.show()"
   ]
  },
  {
   "cell_type": "markdown",
   "metadata": {
    "editable": true,
    "slideshow": {
     "slide_type": "fragment"
    },
    "tags": []
   },
   "source": [
    "### Nie widać zależności ani między poglądami a głosami, ani między partią a procentami głosów."
   ]
  },
  {
   "cell_type": "code",
   "execution_count": 92,
   "metadata": {
    "editable": true,
    "jupyter": {
     "source_hidden": true
    },
    "slideshow": {
     "slide_type": "slide"
    },
    "tags": []
   },
   "outputs": [
    {
     "data": {
      "image/png": "[encoded data removed]",
      "text/plain": [
       "<Figure size 700x400 with 1 Axes>"
      ]
     },
     "metadata": {},
     "output_type": "display_data"
    }
   ],
   "source": [
    "# Kodowanie POGLADY i PARTIA\n",
    "le_poglady = LabelEncoder()\n",
    "df['POGLADY_NUM'] = le_poglady.fit_transform(df['POGLADY'].astype(str))\n",
    "\n",
    "le_partia = LabelEncoder()\n",
    "df['PARTIA_NUM'] = le_partia.fit_transform(df['PARTIA'].astype(str))\n",
    "\n",
    "# Tworzymy zmienną celu: 1 jeśli partia dostała się do Sejmu, 0 jeśli nie\n",
    "df['MANDATY_TAK_NIE_NUM'] = df['MANDATY TAK NIE'].apply(lambda x: 1 if x == 'Tak' else 0)\n",
    "\n",
    "# Wybieramy cechy i usuwamy wiersze z brakami\n",
    "X = df[['POGLADY_NUM', 'PARTIA_NUM']].dropna()\n",
    "y = df.loc[X.index, 'MANDATY_TAK_NIE_NUM']\n",
    "\n",
    "# Podział na train/test\n",
    "X_train, X_test, y_train, y_test = train_test_split(X, y, test_size=0.3, random_state=42)\n",
    "\n",
    "# Trening drzewa decyzyjnego\n",
    "model_tree = DecisionTreeClassifier(max_depth=3, random_state=42)\n",
    "model_tree.fit(X_train, y_train)\n",
    "\n",
    "# Ważność cech\n",
    "importances = model_tree.feature_importances_\n",
    "features = X.columns\n",
    "indices = np.argsort(importances)[::-1]\n",
    "\n",
    "plt.figure(figsize=(7,4))\n",
    "plt.title(\"Ważność cech wpływających na dostanie się do Sejmu\")\n",
    "plt.bar(range(len(importances)), importances[indices], color='lightblue', align='center')\n",
    "plt.xticks(range(len(importances)), features[indices], rotation=45, ha='right')\n",
    "plt.ylabel(\"Ważność\")\n",
    "plt.tight_layout()\n",
    "plt.show()"
   ]
  },
  {
   "cell_type": "markdown",
   "metadata": {
    "editable": true,
    "slideshow": {
     "slide_type": "fragment"
    },
    "tags": []
   },
   "source": [
    "### Na wykresie widać, że najważniejszą cechą, dostania się do Senatu są poglądy."
   ]
  },
  {
   "cell_type": "code",
   "execution_count": 1,
   "metadata": {
    "editable": true,
    "slideshow": {
     "slide_type": "skip"
    },
    "tags": []
   },
   "outputs": [],
   "source": [
    "!jupyter nbconvert Senat.ipynb --to html --no-input --no-prompt --output Senat.html > null 2>&1"
   ]
  }
 ],
 "metadata": {
  "kernelspec": {
   "display_name": "Python 3 (ipykernel)",
   "language": "python",
   "name": "python3"
  },
  "language_info": {
   "codemirror_mode": {
    "name": "ipython",
    "version": 3
   },
   "file_extension": ".py",
   "mimetype": "text/x-python",
   "name": "python",
   "nbconvert_exporter": "python",
   "pygments_lexer": "ipython3",
   "version": "3.11.11"
  }
 },
 "nbformat": 4,
 "nbformat_minor": 4
}
